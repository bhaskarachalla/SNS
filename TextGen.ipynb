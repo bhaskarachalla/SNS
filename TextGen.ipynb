{
 "cells": [
  {
   "cell_type": "code",
   "execution_count": 17,
   "metadata": {},
   "outputs": [],
   "source": [
    "from transformers import GPT2LMHeadModel, GPT2Tokenizer\n",
    "import torch"
   ]
  },
  {
   "cell_type": "code",
   "execution_count": null,
   "metadata": {},
   "outputs": [],
   "source": [
    "tokenizer = GPT2Tokenizer.from_pretrained('gpt2')\n",
    "model = GPT2LMHeadModel.from_pretrained('gpt2')\n",
    "\n",
    "# Set the model to evaluation mode\n",
    "model.eval()"
   ]
  },
  {
   "cell_type": "code",
   "execution_count": 19,
   "metadata": {},
   "outputs": [],
   "source": [
    "# Function to calculate perplexity as a proxy for a GLUE-like score\n",
    "def calculate_perplexity(text, model, tokenizer):\n",
    "    tokens = tokenizer.encode(text, return_tensors='pt')\n",
    "    with torch.no_grad():\n",
    "        outputs = model(tokens, labels=tokens)\n",
    "        loss = outputs.loss\n",
    "        perplexity = torch.exp(loss).item()\n",
    "    return perplexity"
   ]
  },
  {
   "cell_type": "code",
   "execution_count": 20,
   "metadata": {},
   "outputs": [],
   "source": [
    "# Text generation function\n",
    "def generate_text(prompt, model, tokenizer, max_length=54):\n",
    "    generated = tokenizer.encode(prompt, return_tensors='pt')\n",
    "\n",
    "    model.eval()\n",
    "    with torch.no_grad():\n",
    "        for _ in range(max_length):\n",
    "            outputs = model(generated)\n",
    "            next_token_logits = outputs.logits[:, -1, :]\n",
    "            next_token = torch.argmax(next_token_logits, dim=-1)\n",
    "            generated = torch.cat((generated, next_token.unsqueeze(0)), dim=1)\n",
    "            if next_token == tokenizer.eos_token_id:\n",
    "                break\n",
    "\n",
    "    generated_text = tokenizer.decode(generated[0], skip_special_tokens=True)\n",
    "    \n",
    "    # Calculate a \"GLUE-like\" score based on perplexity\n",
    "    glue_like_score = calculate_perplexity(generated_text, model, tokenizer)\n",
    "    \n",
    "    return generated_text, glue_like_score"
   ]
  },
  {
   "cell_type": "code",
   "execution_count": 21,
   "metadata": {},
   "outputs": [
    {
     "name": "stdout",
     "output_type": "stream",
     "text": [
      "Generated text: ('The quick brown fox was about six months of age when he was attacked by a group of wolves. He was taken to the hospital where he was treated for a broken jaw and a broken leg.\\n\\nThe fox was taken to the hospital where he was treated for a broken jaw and a broken leg.\\n\\n', 5.307563304901123)\n",
      "GLUE-like score (perplexity): 5.307563304901123\n"
     ]
    }
   ],
   "source": [
    "prompt = \"The quick brown fox was about six months of\"\n",
    "generated_text = generate_text(prompt, model, tokenizer)\n",
    "print(f\"Generated text: {generated_text}\")\n",
    "print(f\"GLUE-like score (perplexity): {glue_like_score}\")"
   ]
  },
  {
   "cell_type": "markdown",
   "metadata": {},
   "source": [
    "Perplexity is a measure of how well a probability distribution or probability model predicts a sample.Perplexity is always a positive number, and in practice, it often ranges from 1 (perfect model) to infinity. A perplexity score of 1 would mean the model predicted the text perfectly (100% confidence in every prediction).So, here the score is 5.3 which is a good performance score for a model."
   ]
  }
 ],
 "metadata": {
  "kernelspec": {
   "display_name": "Python 3",
   "language": "python",
   "name": "python3"
  },
  "language_info": {
   "codemirror_mode": {
    "name": "ipython",
    "version": 3
   },
   "file_extension": ".py",
   "mimetype": "text/x-python",
   "name": "python",
   "nbconvert_exporter": "python",
   "pygments_lexer": "ipython3",
   "version": "3.12.2"
  }
 },
 "nbformat": 4,
 "nbformat_minor": 2
}
