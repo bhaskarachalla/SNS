{
 "cells": [
  {
   "cell_type": "code",
   "execution_count": null,
   "metadata": {},
   "outputs": [],
   "source": [
    "!pip install nltk"
   ]
  },
  {
   "cell_type": "code",
   "execution_count": 44,
   "metadata": {},
   "outputs": [],
   "source": [
    "from transformers import AutoTokenizer, AutoModelForQuestionAnswering\n",
    "import torch\n",
    "from nltk.translate.bleu_score import sentence_bleu\n"
   ]
  },
  {
   "cell_type": "code",
   "execution_count": 45,
   "metadata": {},
   "outputs": [
    {
     "name": "stderr",
     "output_type": "stream",
     "text": [
      "Some weights of the model checkpoint at bert-large-uncased-whole-word-masking-finetuned-squad were not used when initializing BertForQuestionAnswering: ['bert.pooler.dense.bias', 'bert.pooler.dense.weight']\n",
      "- This IS expected if you are initializing BertForQuestionAnswering from the checkpoint of a model trained on another task or with another architecture (e.g. initializing a BertForSequenceClassification model from a BertForPreTraining model).\n",
      "- This IS NOT expected if you are initializing BertForQuestionAnswering from the checkpoint of a model that you expect to be exactly identical (initializing a BertForSequenceClassification model from a BertForSequenceClassification model).\n"
     ]
    }
   ],
   "source": [
    "# Load the pre-trained model and tokenizer\n",
    "model_name = \"bert-large-uncased-whole-word-masking-finetuned-squad\"\n",
    "tokenizer = AutoTokenizer.from_pretrained(model_name)\n",
    "model = AutoModelForQuestionAnswering.from_pretrained(model_name)"
   ]
  },
  {
   "cell_type": "code",
   "execution_count": 46,
   "metadata": {},
   "outputs": [],
   "source": [
    "def calculate_bleu_score(prediction, ground_truth):\n",
    "    # Tokenize the prediction and ground truth for BLEU scoring\n",
    "    pred_tokens = prediction.split()\n",
    "    gt_tokens = ground_truth.split()\n",
    "    \n",
    "    # Reference is a list of lists of tokens\n",
    "    references = [gt_tokens]\n",
    "    \n",
    "    # Calculate BLEU score\n",
    "    score = sentence_bleu(references, pred_tokens)\n",
    "    return score"
   ]
  },
  {
   "cell_type": "code",
   "execution_count": 36,
   "metadata": {},
   "outputs": [],
   "source": [
    "def answer_question(question, context, ground_truth=None):\n",
    "    # Tokenize input question and context\n",
    "    inputs = tokenizer.encode_plus(question, context, add_special_tokens=True, return_tensors=\"pt\")\n",
    "\n",
    "    # Get input ids and attention mask\n",
    "    input_ids = inputs[\"input_ids\"].tolist()[0]\n",
    "\n",
    "    # Get the model's output\n",
    "    outputs = model(**inputs)\n",
    "    answer_start_scores = outputs.start_logits\n",
    "    answer_end_scores = outputs.end_logits\n",
    "\n",
    "    # Get the most likely beginning and end of answer with the argmax of the score\n",
    "    answer_start = torch.argmax(answer_start_scores)\n",
    "    answer_end = torch.argmax(answer_end_scores) + 1\n",
    "\n",
    "    # Convert tokens to the answer\n",
    "    answer = tokenizer.convert_tokens_to_string(tokenizer.convert_ids_to_tokens(input_ids[answer_start:answer_end]))\n",
    "\n",
    "    # Calculate BLEU score\n",
    "    if ground_truth:\n",
    "        bleu_score = calculate_bleu_score(answer, ground_truth)\n",
    "        return answer, bleu_score\n",
    "    else:\n",
    "        return answer"
   ]
  },
  {
   "cell_type": "code",
   "execution_count": 47,
   "metadata": {},
   "outputs": [],
   "source": [
    "# Define a context and a question\n",
    "context = \"\"\"\n",
    "The Transformers library by Hugging Face provides general-purpose architectures for Natural Language Understanding (NLU) and Natural Language Generation (NLG) with pretrained models in over 100 languages.\n",
    "These models can be used on a variety of tasks, including text classification, information extraction, question answering, summarization, translation, and text generation.\n",
    "\"\"\""
   ]
  },
  {
   "cell_type": "markdown",
   "metadata": {},
   "source": [
    "**Direct Prompting**:"
   ]
  },
  {
   "cell_type": "code",
   "execution_count": 57,
   "metadata": {},
   "outputs": [
    {
     "name": "stdout",
     "output_type": "stream",
     "text": [
      "Question: What does the Transformers library provide?\n",
      "Answer: general - purpose architectures for natural language understanding ( nlu ) and natural language generation ( nlg )\n",
      "BLEU_SCORE:0\n"
     ]
    }
   ],
   "source": [
    "context = \"\"\"\n",
    "The Transformers library by Hugging Face provides general-purpose architectures for Natural Language Understanding (NLU) and Natural Language Generation (NLG) with pretrained models in over 100 languages.\n",
    "These models can be used on a variety of tasks, including text classification, information extraction, question answering, summarization, translation, and text generation.\n",
    "\"\"\"\n",
    "question = \"What does the Transformers library provide?\"\n",
    "ground_truth = \"general-purpose architectures for Natural Language Understanding and Natural Language Generation\"\n",
    "\n",
    "# Get the answer and BLEU score\n",
    "# Get the answer\n",
    "answer,bleu_score = answer_question(question, context,ground_truth)\n",
    "print(f\"Question: {question}\")\n",
    "print(f\"Answer: {answer}\")\n",
    "print(f'BLEU_SCORE:{bleu_score}')"
   ]
  },
  {
   "cell_type": "markdown",
   "metadata": {},
   "source": [
    "**Zero-shot Prompting**"
   ]
  },
  {
   "cell_type": "code",
   "execution_count": 58,
   "metadata": {},
   "outputs": [
    {
     "name": "stdout",
     "output_type": "stream",
     "text": [
      "Question: What are the applications of transformers library?\n",
      "Answer: text classification, information extraction, question answering, summarization, translation, and text generation\n",
      "BLEU_SCORE:1\n"
     ]
    }
   ],
   "source": [
    "context = \"\"\"\n",
    "The Transformers library by Hugging Face provides general-purpose architectures for Natural Language Understanding (NLU) and Natural Language Generation (NLG) with pretrained models in over 100 languages.\n",
    "These models can be used on a variety of tasks, including text classification, information extraction, question answering, summarization, translation, and text generation.\n",
    "\"\"\"\n",
    "question = \"What are the applications of transformers library?\"\n",
    "ground_truth ='text classification, information extraction, question answering, summarization, translation, and text generation'\n",
    "# Get the answer\n",
    "answer,bleu_score = answer_question(question, context,ground_truth)\n",
    "print(f\"Question: {question}\")\n",
    "print(f\"Answer: {answer}\")\n",
    "print(f'BLEU_SCORE:{bleu_score}')"
   ]
  },
  {
   "cell_type": "markdown",
   "metadata": {},
   "source": [
    "**Few-shot prompting**"
   ]
  },
  {
   "cell_type": "code",
   "execution_count": 52,
   "metadata": {},
   "outputs": [
    {
     "name": "stdout",
     "output_type": "stream",
     "text": [
      "Question: what does the Transformers library provide?\n",
      "Answer: ('general - purpose architectures for natural language understanding', 0)\n",
      "BLEU_SCORE:1\n"
     ]
    }
   ],
   "source": [
    "context = 'Transformers library by Hugging Face provides general-purpose architectures for Natural Language Understanding (NLU) and Natural Language Generation (NLG) with pretrained models in over 100 languages.'\n",
    "question = 'what does the Transformers library provide?'\n",
    "ground_truth = 'general-purpose architectures'\n",
    "answer = answer_question(question, context,ground_truth)\n",
    "print(f\"Question: {question}\")\n",
    "print(f\"Answer: {answer}\")\n",
    "print(f'BLEU_SCORE:{bleu_score}')"
   ]
  },
  {
   "cell_type": "markdown",
   "metadata": {},
   "source": [
    "**Cloze-prompting**"
   ]
  },
  {
   "cell_type": "code",
   "execution_count": 61,
   "metadata": {},
   "outputs": [
    {
     "name": "stdout",
     "output_type": "stream",
     "text": [
      "Question: The Transformers library by hugging face provides _____ for Natural Language Processing.\n",
      "Answer: ('general - purpose architectures', 0)\n",
      "BLEU_SCORE:1\n"
     ]
    }
   ],
   "source": [
    "context = \"\"\"\n",
    "The Transformers library by Hugging Face provides general-purpose architectures for Natural Language Understanding (NLU) and Natural Language Generation (NLG) with pretrained models in over 100 languages.\n",
    "These models can be used on a variety of tasks, including text classification, information extraction, question answering, summarization, translation, and text generation.\n",
    "\"\"\"\n",
    "question = \"The Transformers library by hugging face provides _____ for Natural Language Processing.\"\n",
    "ground_truth = 'general-purpose architectures'\n",
    "answer = answer_question(question, context,ground_truth)\n",
    "print(f\"Question: {question}\")\n",
    "print(f\"Answer: {answer}\")\n",
    "print(f'BLEU_SCORE:{bleu_score}')"
   ]
  },
  {
   "cell_type": "markdown",
   "metadata": {},
   "source": [
    "**Instructional Prompting**"
   ]
  },
  {
   "cell_type": "code",
   "execution_count": 62,
   "metadata": {},
   "outputs": [
    {
     "name": "stdout",
     "output_type": "stream",
     "text": [
      "Question: List the key features provided by the Transformers library.\n",
      "Answer: ('text classification, information extraction, question answering, summarization, translation, and text generation', 1)\n",
      "BLEU_SCORE:1\n"
     ]
    }
   ],
   "source": [
    "context = \"\"\"\n",
    "The Transformers library by Hugging Face provides general-purpose architectures for Natural Language Understanding (NLU) and Natural Language Generation (NLG) with pretrained models in over 100 languages.\n",
    "These models can be used on a variety of tasks, including text classification, information extraction, question answering, summarization, translation, and text generation.\n",
    "\"\"\"\n",
    "question = \"List the key features provided by the Transformers library.\"\n",
    "ground_truth = 'text classification, information extraction, question answering, summarization, translation, and text generation'\n",
    "answer = answer_question(question, context,ground_truth)\n",
    "print(f\"Question: {question}\")\n",
    "print(f\"Answer: {answer}\")\n",
    "print(f'BLEU_SCORE:{bleu_score}')\n"
   ]
  },
  {
   "cell_type": "markdown",
   "metadata": {},
   "source": [
    "**Chain-of-thought-prompting**"
   ]
  },
  {
   "cell_type": "code",
   "execution_count": 64,
   "metadata": {},
   "outputs": [
    {
     "name": "stdout",
     "output_type": "stream",
     "text": [
      "Question: what tasks can the Transformers library handle? How does it accomplish these tasks?\n",
      "Answer: ('text classification, information extraction, question answering, summarization, translation, and text generation', 0)\n",
      "BLEU_SCORE:1\n"
     ]
    }
   ],
   "source": [
    "context = \"\"\"\n",
    "The Transformers library by Hugging Face provides general-purpose architectures for Natural Language Understanding (NLU) and Natural Language Generation (NLG) with pretrained models in over 100 languages.\n",
    "These models can be used on a variety of tasks, including text classification, information extraction, question answering, summarization, translation, and text generation.\n",
    "\"\"\"\n",
    "question = \"what tasks can the Transformers library handle? How does it accomplish these tasks?\"\n",
    "ground_truth = '''for Natural Language Understanding (NLU) and Natural Language Generation (NLG) with pretrained models in over 100 languages.\n",
    "These models can be used on a variety of tasks, including text classification, information extraction, question answering, summarization, translation, and text generation.'''\n",
    "answer = answer_question(question, context,ground_truth)\n",
    "print(f\"Question: {question}\")\n",
    "print(f\"Answer: {answer}\")\n",
    "print(f'BLEU_SCORE:{bleu_score}')"
   ]
  }
 ],
 "metadata": {
  "kernelspec": {
   "display_name": "Python 3",
   "language": "python",
   "name": "python3"
  },
  "language_info": {
   "codemirror_mode": {
    "name": "ipython",
    "version": 3
   },
   "file_extension": ".py",
   "mimetype": "text/x-python",
   "name": "python",
   "nbconvert_exporter": "python",
   "pygments_lexer": "ipython3",
   "version": "3.12.2"
  }
 },
 "nbformat": 4,
 "nbformat_minor": 2
}
