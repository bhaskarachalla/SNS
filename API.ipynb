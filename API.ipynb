{
 "cells": [
  {
   "cell_type": "code",
   "execution_count": 10,
   "metadata": {},
   "outputs": [
    {
     "name": "stdout",
     "output_type": "stream",
     "text": [
      "Failed to retrieve weather data.\n"
     ]
    }
   ],
   "source": [
    "import requests\n",
    "\n",
    "def get_weather(api_key, city_name):\n",
    "    # OpenWeatherMap API URL\n",
    "    base_url = \"https://api.openweathermap.org/data/2.5/weather?lat=57&lon=-2.15&appid={7d2cdade3ab675450cfb93d394aa29fe}\"\n",
    "\n",
    "    # Construct final URL\n",
    "    complete_url = f\"{base_url}?q={city_name}&appid={api_key}&units=metric\"\n",
    "\n",
    "    # Get response from the API\n",
    "    response = requests.get(complete_url)\n",
    "\n",
    "    # Check if the response was successful\n",
    "    if response.status_code == 200:\n",
    "        # Parse JSON data\n",
    "        data = response.json()\n",
    "\n",
    "        # Check if the city is found\n",
    "        if data[\"cod\"] != \"404\":\n",
    "            # Extract relevant data\n",
    "            main = data[\"main\"]\n",
    "            weather = data[\"weather\"][0]\n",
    "            wind = data[\"wind\"]\n",
    "\n",
    "            # Print weather details\n",
    "            print(f\"City: {city_name}\")\n",
    "            print(f\"Temperature: {main['temp']}°C\")\n",
    "            print(f\"Humidity: {main['humidity']}%\")\n",
    "            print(f\"Weather: {weather['description'].capitalize()}\")\n",
    "            print(f\"Wind Speed: {wind['speed']} m/s\")\n",
    "        else:\n",
    "            print(\"City not found, please try again.\")\n",
    "    else:\n",
    "        print(\"Failed to retrieve weather data.\")\n",
    "\n",
    "def main():\n",
    "    # Get API key (replace with your own API key)\n",
    "    api_key = \"7d2cdade3ab675450cfb93d394aa29fe\"\n",
    "\n",
    "    # Get city name from user input\n",
    "    city_name = input(\"Enter city name: \")\n",
    "\n",
    "    # Fetch and display weather data\n",
    "    get_weather(api_key, city_name)\n",
    "\n",
    "if __name__ == \"__main__\":\n",
    "    main()\n"
   ]
  },
  {
   "cell_type": "code",
   "execution_count": null,
   "metadata": {},
   "outputs": [],
   "source": [
    "import requests\n",
    "\n",
    "url = \"https://zillow-com1.p.rapidapi.com/mortgageRates\"\n",
    "\n",
    "querystring = {\"program\":\"Fixed30Year\",\"state\":\"US\",\"refinance\":\"false\",\"loanType\":\"Conventional\",\"loanAmount\":\"Micro\",\"loanToValue\":\"Normal\",\"creditScore\":\"Low\",\"duration\":\"30\"}\n",
    "\n",
    "headers = {\n",
    "\t\"x-rapidapi-key\": \"d6a7d115d1mshbee4fe12644df36p18084fjsnd231912e8707\",\n",
    "\t\"x-rapidapi-host\": \"zillow-com1.p.rapidapi.com\"\n",
    "}\n",
    "\n",
    "response = requests.get(url, headers=headers, params=querystring)\n",
    "\n",
    "print(response.json())"
   ]
  }
 ],
 "metadata": {
  "kernelspec": {
   "display_name": "Python 3",
   "language": "python",
   "name": "python3"
  },
  "language_info": {
   "codemirror_mode": {
    "name": "ipython",
    "version": 3
   },
   "file_extension": ".py",
   "mimetype": "text/x-python",
   "name": "python",
   "nbconvert_exporter": "python",
   "pygments_lexer": "ipython3",
   "version": "3.12.2"
  }
 },
 "nbformat": 4,
 "nbformat_minor": 2
}
