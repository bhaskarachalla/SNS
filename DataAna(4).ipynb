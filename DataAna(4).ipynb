{
 "cells": [
  {
   "cell_type": "code",
   "execution_count": 3,
   "metadata": {},
   "outputs": [],
   "source": [
    "import pandas as pd "
   ]
  },
  {
   "cell_type": "code",
   "execution_count": 4,
   "metadata": {},
   "outputs": [
    {
     "name": "stderr",
     "output_type": "stream",
     "text": [
      "<>:1: SyntaxWarning: invalid escape sequence '\\A'\n",
      "<>:1: SyntaxWarning: invalid escape sequence '\\A'\n",
      "C:\\Users\\Srinivasa Rao\\AppData\\Local\\Temp\\ipykernel_20600\\4158278479.py:1: SyntaxWarning: invalid escape sequence '\\A'\n",
      "  df1 = pd.read_csv(\"C:/Users/Srinivasa Rao/OneDrive/Documents/GUVI_Projects/3.AirBnb Data Analysis\\AirBnb.csv\")\n"
     ]
    },
    {
     "data": {
      "text/html": [
       "<div>\n",
       "<style scoped>\n",
       "    .dataframe tbody tr th:only-of-type {\n",
       "        vertical-align: middle;\n",
       "    }\n",
       "\n",
       "    .dataframe tbody tr th {\n",
       "        vertical-align: top;\n",
       "    }\n",
       "\n",
       "    .dataframe thead th {\n",
       "        text-align: right;\n",
       "    }\n",
       "</style>\n",
       "<table border=\"1\" class=\"dataframe\">\n",
       "  <thead>\n",
       "    <tr style=\"text-align: right;\">\n",
       "      <th></th>\n",
       "      <th>Unnamed: 0</th>\n",
       "      <th>listing_url</th>\n",
       "      <th>name</th>\n",
       "      <th>property_type</th>\n",
       "      <th>room_type</th>\n",
       "      <th>bed_type</th>\n",
       "      <th>minimum_nights</th>\n",
       "      <th>maximum_nights</th>\n",
       "      <th>cancellation_policy</th>\n",
       "      <th>accommodates</th>\n",
       "      <th>...</th>\n",
       "      <th>country_code</th>\n",
       "      <th>location_type</th>\n",
       "      <th>longitude</th>\n",
       "      <th>latitude</th>\n",
       "      <th>is_location_exact</th>\n",
       "      <th>availability_30</th>\n",
       "      <th>availability_60</th>\n",
       "      <th>availability_90</th>\n",
       "      <th>availability_365</th>\n",
       "      <th>amenities</th>\n",
       "    </tr>\n",
       "  </thead>\n",
       "  <tbody>\n",
       "    <tr>\n",
       "      <th>0</th>\n",
       "      <td>10059872</td>\n",
       "      <td>https://www.airbnb.com/rooms/10059872</td>\n",
       "      <td>Soho Cozy, Spacious and Convenient</td>\n",
       "      <td>Apartment</td>\n",
       "      <td>Entire home/apt</td>\n",
       "      <td>Real Bed</td>\n",
       "      <td>4</td>\n",
       "      <td>20</td>\n",
       "      <td>flexible</td>\n",
       "      <td>3</td>\n",
       "      <td>...</td>\n",
       "      <td>HK</td>\n",
       "      <td>Point</td>\n",
       "      <td>114.150270</td>\n",
       "      <td>22.281580</td>\n",
       "      <td>Yes</td>\n",
       "      <td>0</td>\n",
       "      <td>0</td>\n",
       "      <td>0</td>\n",
       "      <td>0</td>\n",
       "      <td>['24-hour check-in', 'Air conditioning', 'Door...</td>\n",
       "    </tr>\n",
       "    <tr>\n",
       "      <th>1</th>\n",
       "      <td>10133554</td>\n",
       "      <td>https://www.airbnb.com/rooms/10133554</td>\n",
       "      <td>Double and triple rooms Blue mosque</td>\n",
       "      <td>Bed and breakfast</td>\n",
       "      <td>Private room</td>\n",
       "      <td>Real Bed</td>\n",
       "      <td>1</td>\n",
       "      <td>1125</td>\n",
       "      <td>moderate</td>\n",
       "      <td>3</td>\n",
       "      <td>...</td>\n",
       "      <td>TR</td>\n",
       "      <td>Point</td>\n",
       "      <td>28.980090</td>\n",
       "      <td>41.006200</td>\n",
       "      <td>No</td>\n",
       "      <td>30</td>\n",
       "      <td>60</td>\n",
       "      <td>90</td>\n",
       "      <td>365</td>\n",
       "      <td>['Air conditioning', 'Building staff', 'Dryer'...</td>\n",
       "    </tr>\n",
       "    <tr>\n",
       "      <th>2</th>\n",
       "      <td>10112159</td>\n",
       "      <td>https://www.airbnb.com/rooms/10112159</td>\n",
       "      <td>Downtown Oporto Inn (room cleaning)</td>\n",
       "      <td>Hostel</td>\n",
       "      <td>Private room</td>\n",
       "      <td>Real Bed</td>\n",
       "      <td>1</td>\n",
       "      <td>1125</td>\n",
       "      <td>moderate</td>\n",
       "      <td>2</td>\n",
       "      <td>...</td>\n",
       "      <td>PT</td>\n",
       "      <td>Point</td>\n",
       "      <td>-8.608670</td>\n",
       "      <td>41.154300</td>\n",
       "      <td>No</td>\n",
       "      <td>30</td>\n",
       "      <td>60</td>\n",
       "      <td>87</td>\n",
       "      <td>359</td>\n",
       "      <td>['Cable TV', 'Essentials', 'Family/kid friendl...</td>\n",
       "    </tr>\n",
       "    <tr>\n",
       "      <th>3</th>\n",
       "      <td>10096773</td>\n",
       "      <td>https://www.airbnb.com/rooms/10096773</td>\n",
       "      <td>Easy 1 Bedroom in Chelsea</td>\n",
       "      <td>Apartment</td>\n",
       "      <td>Entire home/apt</td>\n",
       "      <td>Real Bed</td>\n",
       "      <td>2</td>\n",
       "      <td>1125</td>\n",
       "      <td>flexible</td>\n",
       "      <td>2</td>\n",
       "      <td>...</td>\n",
       "      <td>US</td>\n",
       "      <td>Point</td>\n",
       "      <td>-74.000740</td>\n",
       "      <td>40.745770</td>\n",
       "      <td>Yes</td>\n",
       "      <td>0</td>\n",
       "      <td>0</td>\n",
       "      <td>0</td>\n",
       "      <td>0</td>\n",
       "      <td>['Carbon monoxide detector', 'Essentials', 'Fi...</td>\n",
       "    </tr>\n",
       "    <tr>\n",
       "      <th>4</th>\n",
       "      <td>1003530</td>\n",
       "      <td>https://www.airbnb.com/rooms/1003530</td>\n",
       "      <td>New York City - Upper West Side Apt</td>\n",
       "      <td>Apartment</td>\n",
       "      <td>Private room</td>\n",
       "      <td>Real Bed</td>\n",
       "      <td>12</td>\n",
       "      <td>360</td>\n",
       "      <td>strict_14_with_grace_period</td>\n",
       "      <td>2</td>\n",
       "      <td>...</td>\n",
       "      <td>US</td>\n",
       "      <td>Point</td>\n",
       "      <td>-73.965230</td>\n",
       "      <td>40.799620</td>\n",
       "      <td>No</td>\n",
       "      <td>0</td>\n",
       "      <td>0</td>\n",
       "      <td>0</td>\n",
       "      <td>93</td>\n",
       "      <td>['Air conditioning', 'Buzzer/wireless intercom...</td>\n",
       "    </tr>\n",
       "    <tr>\n",
       "      <th>...</th>\n",
       "      <td>...</td>\n",
       "      <td>...</td>\n",
       "      <td>...</td>\n",
       "      <td>...</td>\n",
       "      <td>...</td>\n",
       "      <td>...</td>\n",
       "      <td>...</td>\n",
       "      <td>...</td>\n",
       "      <td>...</td>\n",
       "      <td>...</td>\n",
       "      <td>...</td>\n",
       "      <td>...</td>\n",
       "      <td>...</td>\n",
       "      <td>...</td>\n",
       "      <td>...</td>\n",
       "      <td>...</td>\n",
       "      <td>...</td>\n",
       "      <td>...</td>\n",
       "      <td>...</td>\n",
       "      <td>...</td>\n",
       "      <td>...</td>\n",
       "    </tr>\n",
       "    <tr>\n",
       "      <th>5550</th>\n",
       "      <td>9887054</td>\n",
       "      <td>https://www.airbnb.com/rooms/9887054</td>\n",
       "      <td>Quarry Bay fully furnished studio C</td>\n",
       "      <td>Apartment</td>\n",
       "      <td>Private room</td>\n",
       "      <td>Real Bed</td>\n",
       "      <td>3</td>\n",
       "      <td>1125</td>\n",
       "      <td>flexible</td>\n",
       "      <td>1</td>\n",
       "      <td>...</td>\n",
       "      <td>HK</td>\n",
       "      <td>Point</td>\n",
       "      <td>114.207220</td>\n",
       "      <td>22.291570</td>\n",
       "      <td>No</td>\n",
       "      <td>18</td>\n",
       "      <td>48</td>\n",
       "      <td>78</td>\n",
       "      <td>353</td>\n",
       "      <td>['24-hour check-in', 'Air conditioning', 'Elev...</td>\n",
       "    </tr>\n",
       "    <tr>\n",
       "      <th>5551</th>\n",
       "      <td>9987200</td>\n",
       "      <td>https://www.airbnb.com/rooms/9987200</td>\n",
       "      <td>The best suite in Copacabana (total privacy)</td>\n",
       "      <td>Aparthotel</td>\n",
       "      <td>Private room</td>\n",
       "      <td>Real Bed</td>\n",
       "      <td>3</td>\n",
       "      <td>60</td>\n",
       "      <td>flexible</td>\n",
       "      <td>3</td>\n",
       "      <td>...</td>\n",
       "      <td>BR</td>\n",
       "      <td>Point</td>\n",
       "      <td>-43.176533</td>\n",
       "      <td>-22.961076</td>\n",
       "      <td>Yes</td>\n",
       "      <td>7</td>\n",
       "      <td>29</td>\n",
       "      <td>53</td>\n",
       "      <td>53</td>\n",
       "      <td>['Air conditioning', 'Bed linens', 'Building s...</td>\n",
       "    </tr>\n",
       "    <tr>\n",
       "      <th>5552</th>\n",
       "      <td>9993190</td>\n",
       "      <td>https://www.airbnb.com/rooms/9993190</td>\n",
       "      <td>Just Steps from the Ocean at Premier Platinum ...</td>\n",
       "      <td>Townhouse</td>\n",
       "      <td>Entire home/apt</td>\n",
       "      <td>Real Bed</td>\n",
       "      <td>3</td>\n",
       "      <td>365</td>\n",
       "      <td>strict_14_with_grace_period</td>\n",
       "      <td>6</td>\n",
       "      <td>...</td>\n",
       "      <td>US</td>\n",
       "      <td>Point</td>\n",
       "      <td>-156.667520</td>\n",
       "      <td>20.858940</td>\n",
       "      <td>No</td>\n",
       "      <td>0</td>\n",
       "      <td>8</td>\n",
       "      <td>31</td>\n",
       "      <td>258</td>\n",
       "      <td>['Air conditioning', 'Dryer', 'Essentials', 'F...</td>\n",
       "    </tr>\n",
       "    <tr>\n",
       "      <th>5553</th>\n",
       "      <td>9969335</td>\n",
       "      <td>https://www.airbnb.com/rooms/9969335</td>\n",
       "      <td>Central, Modern, University, Metro</td>\n",
       "      <td>Apartment</td>\n",
       "      <td>Entire home/apt</td>\n",
       "      <td>Real Bed</td>\n",
       "      <td>6</td>\n",
       "      <td>60</td>\n",
       "      <td>strict_14_with_grace_period</td>\n",
       "      <td>4</td>\n",
       "      <td>...</td>\n",
       "      <td>PT</td>\n",
       "      <td>Point</td>\n",
       "      <td>-8.604640</td>\n",
       "      <td>41.159080</td>\n",
       "      <td>Yes</td>\n",
       "      <td>20</td>\n",
       "      <td>37</td>\n",
       "      <td>50</td>\n",
       "      <td>275</td>\n",
       "      <td>['Buzzer/wireless intercom', 'Cable TV', 'Elev...</td>\n",
       "    </tr>\n",
       "    <tr>\n",
       "      <th>5554</th>\n",
       "      <td>9867316</td>\n",
       "      <td>https://www.airbnb.com/rooms/9867316</td>\n",
       "      <td>Beautiful Place in the Middle of Manhattan</td>\n",
       "      <td>Apartment</td>\n",
       "      <td>Entire home/apt</td>\n",
       "      <td>Real Bed</td>\n",
       "      <td>1</td>\n",
       "      <td>1125</td>\n",
       "      <td>strict_14_with_grace_period</td>\n",
       "      <td>2</td>\n",
       "      <td>...</td>\n",
       "      <td>US</td>\n",
       "      <td>Point</td>\n",
       "      <td>-73.962050</td>\n",
       "      <td>40.762660</td>\n",
       "      <td>Yes</td>\n",
       "      <td>2</td>\n",
       "      <td>11</td>\n",
       "      <td>15</td>\n",
       "      <td>154</td>\n",
       "      <td>['Air conditioning', 'Bed linens', 'Carbon mon...</td>\n",
       "    </tr>\n",
       "  </tbody>\n",
       "</table>\n",
       "<p>5555 rows × 50 columns</p>\n",
       "</div>"
      ],
      "text/plain": [
       "      Unnamed: 0                            listing_url  \\\n",
       "0       10059872  https://www.airbnb.com/rooms/10059872   \n",
       "1       10133554  https://www.airbnb.com/rooms/10133554   \n",
       "2       10112159  https://www.airbnb.com/rooms/10112159   \n",
       "3       10096773  https://www.airbnb.com/rooms/10096773   \n",
       "4        1003530   https://www.airbnb.com/rooms/1003530   \n",
       "...          ...                                    ...   \n",
       "5550     9887054   https://www.airbnb.com/rooms/9887054   \n",
       "5551     9987200   https://www.airbnb.com/rooms/9987200   \n",
       "5552     9993190   https://www.airbnb.com/rooms/9993190   \n",
       "5553     9969335   https://www.airbnb.com/rooms/9969335   \n",
       "5554     9867316   https://www.airbnb.com/rooms/9867316   \n",
       "\n",
       "                                                   name      property_type  \\\n",
       "0                    Soho Cozy, Spacious and Convenient          Apartment   \n",
       "1                   Double and triple rooms Blue mosque  Bed and breakfast   \n",
       "2                   Downtown Oporto Inn (room cleaning)             Hostel   \n",
       "3                             Easy 1 Bedroom in Chelsea          Apartment   \n",
       "4                   New York City - Upper West Side Apt          Apartment   \n",
       "...                                                 ...                ...   \n",
       "5550                Quarry Bay fully furnished studio C          Apartment   \n",
       "5551       The best suite in Copacabana (total privacy)         Aparthotel   \n",
       "5552  Just Steps from the Ocean at Premier Platinum ...          Townhouse   \n",
       "5553                 Central, Modern, University, Metro          Apartment   \n",
       "5554         Beautiful Place in the Middle of Manhattan          Apartment   \n",
       "\n",
       "            room_type  bed_type  minimum_nights  maximum_nights  \\\n",
       "0     Entire home/apt  Real Bed               4              20   \n",
       "1        Private room  Real Bed               1            1125   \n",
       "2        Private room  Real Bed               1            1125   \n",
       "3     Entire home/apt  Real Bed               2            1125   \n",
       "4        Private room  Real Bed              12             360   \n",
       "...               ...       ...             ...             ...   \n",
       "5550     Private room  Real Bed               3            1125   \n",
       "5551     Private room  Real Bed               3              60   \n",
       "5552  Entire home/apt  Real Bed               3             365   \n",
       "5553  Entire home/apt  Real Bed               6              60   \n",
       "5554  Entire home/apt  Real Bed               1            1125   \n",
       "\n",
       "              cancellation_policy  accommodates  ...  country_code  \\\n",
       "0                        flexible             3  ...            HK   \n",
       "1                        moderate             3  ...            TR   \n",
       "2                        moderate             2  ...            PT   \n",
       "3                        flexible             2  ...            US   \n",
       "4     strict_14_with_grace_period             2  ...            US   \n",
       "...                           ...           ...  ...           ...   \n",
       "5550                     flexible             1  ...            HK   \n",
       "5551                     flexible             3  ...            BR   \n",
       "5552  strict_14_with_grace_period             6  ...            US   \n",
       "5553  strict_14_with_grace_period             4  ...            PT   \n",
       "5554  strict_14_with_grace_period             2  ...            US   \n",
       "\n",
       "      location_type   longitude   latitude  is_location_exact  \\\n",
       "0             Point  114.150270  22.281580                Yes   \n",
       "1             Point   28.980090  41.006200                 No   \n",
       "2             Point   -8.608670  41.154300                 No   \n",
       "3             Point  -74.000740  40.745770                Yes   \n",
       "4             Point  -73.965230  40.799620                 No   \n",
       "...             ...         ...        ...                ...   \n",
       "5550          Point  114.207220  22.291570                 No   \n",
       "5551          Point  -43.176533 -22.961076                Yes   \n",
       "5552          Point -156.667520  20.858940                 No   \n",
       "5553          Point   -8.604640  41.159080                Yes   \n",
       "5554          Point  -73.962050  40.762660                Yes   \n",
       "\n",
       "      availability_30  availability_60 availability_90  availability_365  \\\n",
       "0                   0                0               0                 0   \n",
       "1                  30               60              90               365   \n",
       "2                  30               60              87               359   \n",
       "3                   0                0               0                 0   \n",
       "4                   0                0               0                93   \n",
       "...               ...              ...             ...               ...   \n",
       "5550               18               48              78               353   \n",
       "5551                7               29              53                53   \n",
       "5552                0                8              31               258   \n",
       "5553               20               37              50               275   \n",
       "5554                2               11              15               154   \n",
       "\n",
       "                                              amenities  \n",
       "0     ['24-hour check-in', 'Air conditioning', 'Door...  \n",
       "1     ['Air conditioning', 'Building staff', 'Dryer'...  \n",
       "2     ['Cable TV', 'Essentials', 'Family/kid friendl...  \n",
       "3     ['Carbon monoxide detector', 'Essentials', 'Fi...  \n",
       "4     ['Air conditioning', 'Buzzer/wireless intercom...  \n",
       "...                                                 ...  \n",
       "5550  ['24-hour check-in', 'Air conditioning', 'Elev...  \n",
       "5551  ['Air conditioning', 'Bed linens', 'Building s...  \n",
       "5552  ['Air conditioning', 'Dryer', 'Essentials', 'F...  \n",
       "5553  ['Buzzer/wireless intercom', 'Cable TV', 'Elev...  \n",
       "5554  ['Air conditioning', 'Bed linens', 'Carbon mon...  \n",
       "\n",
       "[5555 rows x 50 columns]"
      ]
     },
     "execution_count": 4,
     "metadata": {},
     "output_type": "execute_result"
    }
   ],
   "source": [
    "df1 = pd.read_csv(\"C:/Users/Srinivasa Rao/OneDrive/Documents/GUVI_Projects/3.AirBnb Data Analysis\\AirBnb.csv\")\n",
    "df1"
   ]
  },
  {
   "cell_type": "code",
   "execution_count": 5,
   "metadata": {},
   "outputs": [
    {
     "data": {
      "text/html": [
       "<div>\n",
       "<style scoped>\n",
       "    .dataframe tbody tr th:only-of-type {\n",
       "        vertical-align: middle;\n",
       "    }\n",
       "\n",
       "    .dataframe tbody tr th {\n",
       "        vertical-align: top;\n",
       "    }\n",
       "\n",
       "    .dataframe thead th {\n",
       "        text-align: right;\n",
       "    }\n",
       "</style>\n",
       "<table border=\"1\" class=\"dataframe\">\n",
       "  <thead>\n",
       "    <tr style=\"text-align: right;\">\n",
       "      <th></th>\n",
       "      <th>Unnamed: 0</th>\n",
       "      <th>name</th>\n",
       "      <th>property_type</th>\n",
       "      <th>room_type</th>\n",
       "      <th>bed_type</th>\n",
       "      <th>minimum_nights</th>\n",
       "      <th>maximum_nights</th>\n",
       "      <th>cancellation_policy</th>\n",
       "      <th>accommodates</th>\n",
       "      <th>bedrooms</th>\n",
       "      <th>...</th>\n",
       "      <th>country_code</th>\n",
       "      <th>location_type</th>\n",
       "      <th>longitude</th>\n",
       "      <th>latitude</th>\n",
       "      <th>is_location_exact</th>\n",
       "      <th>availability_30</th>\n",
       "      <th>availability_60</th>\n",
       "      <th>availability_90</th>\n",
       "      <th>availability_365</th>\n",
       "      <th>amenities</th>\n",
       "    </tr>\n",
       "  </thead>\n",
       "  <tbody>\n",
       "    <tr>\n",
       "      <th>0</th>\n",
       "      <td>10059872</td>\n",
       "      <td>Soho Cozy, Spacious and Convenient</td>\n",
       "      <td>Apartment</td>\n",
       "      <td>Entire home/apt</td>\n",
       "      <td>Real Bed</td>\n",
       "      <td>4</td>\n",
       "      <td>20</td>\n",
       "      <td>flexible</td>\n",
       "      <td>3</td>\n",
       "      <td>1</td>\n",
       "      <td>...</td>\n",
       "      <td>HK</td>\n",
       "      <td>Point</td>\n",
       "      <td>114.150270</td>\n",
       "      <td>22.281580</td>\n",
       "      <td>Yes</td>\n",
       "      <td>0</td>\n",
       "      <td>0</td>\n",
       "      <td>0</td>\n",
       "      <td>0</td>\n",
       "      <td>['24-hour check-in', 'Air conditioning', 'Door...</td>\n",
       "    </tr>\n",
       "    <tr>\n",
       "      <th>1</th>\n",
       "      <td>10133554</td>\n",
       "      <td>Double and triple rooms Blue mosque</td>\n",
       "      <td>Bed and breakfast</td>\n",
       "      <td>Private room</td>\n",
       "      <td>Real Bed</td>\n",
       "      <td>1</td>\n",
       "      <td>1125</td>\n",
       "      <td>moderate</td>\n",
       "      <td>3</td>\n",
       "      <td>1</td>\n",
       "      <td>...</td>\n",
       "      <td>TR</td>\n",
       "      <td>Point</td>\n",
       "      <td>28.980090</td>\n",
       "      <td>41.006200</td>\n",
       "      <td>No</td>\n",
       "      <td>30</td>\n",
       "      <td>60</td>\n",
       "      <td>90</td>\n",
       "      <td>365</td>\n",
       "      <td>['Air conditioning', 'Building staff', 'Dryer'...</td>\n",
       "    </tr>\n",
       "    <tr>\n",
       "      <th>2</th>\n",
       "      <td>10112159</td>\n",
       "      <td>Downtown Oporto Inn (room cleaning)</td>\n",
       "      <td>Hostel</td>\n",
       "      <td>Private room</td>\n",
       "      <td>Real Bed</td>\n",
       "      <td>1</td>\n",
       "      <td>1125</td>\n",
       "      <td>moderate</td>\n",
       "      <td>2</td>\n",
       "      <td>1</td>\n",
       "      <td>...</td>\n",
       "      <td>PT</td>\n",
       "      <td>Point</td>\n",
       "      <td>-8.608670</td>\n",
       "      <td>41.154300</td>\n",
       "      <td>No</td>\n",
       "      <td>30</td>\n",
       "      <td>60</td>\n",
       "      <td>87</td>\n",
       "      <td>359</td>\n",
       "      <td>['Cable TV', 'Essentials', 'Family/kid friendl...</td>\n",
       "    </tr>\n",
       "    <tr>\n",
       "      <th>3</th>\n",
       "      <td>10096773</td>\n",
       "      <td>Easy 1 Bedroom in Chelsea</td>\n",
       "      <td>Apartment</td>\n",
       "      <td>Entire home/apt</td>\n",
       "      <td>Real Bed</td>\n",
       "      <td>2</td>\n",
       "      <td>1125</td>\n",
       "      <td>flexible</td>\n",
       "      <td>2</td>\n",
       "      <td>1</td>\n",
       "      <td>...</td>\n",
       "      <td>US</td>\n",
       "      <td>Point</td>\n",
       "      <td>-74.000740</td>\n",
       "      <td>40.745770</td>\n",
       "      <td>Yes</td>\n",
       "      <td>0</td>\n",
       "      <td>0</td>\n",
       "      <td>0</td>\n",
       "      <td>0</td>\n",
       "      <td>['Carbon monoxide detector', 'Essentials', 'Fi...</td>\n",
       "    </tr>\n",
       "    <tr>\n",
       "      <th>4</th>\n",
       "      <td>1003530</td>\n",
       "      <td>New York City - Upper West Side Apt</td>\n",
       "      <td>Apartment</td>\n",
       "      <td>Private room</td>\n",
       "      <td>Real Bed</td>\n",
       "      <td>12</td>\n",
       "      <td>360</td>\n",
       "      <td>strict_14_with_grace_period</td>\n",
       "      <td>2</td>\n",
       "      <td>1</td>\n",
       "      <td>...</td>\n",
       "      <td>US</td>\n",
       "      <td>Point</td>\n",
       "      <td>-73.965230</td>\n",
       "      <td>40.799620</td>\n",
       "      <td>No</td>\n",
       "      <td>0</td>\n",
       "      <td>0</td>\n",
       "      <td>0</td>\n",
       "      <td>93</td>\n",
       "      <td>['Air conditioning', 'Buzzer/wireless intercom...</td>\n",
       "    </tr>\n",
       "    <tr>\n",
       "      <th>...</th>\n",
       "      <td>...</td>\n",
       "      <td>...</td>\n",
       "      <td>...</td>\n",
       "      <td>...</td>\n",
       "      <td>...</td>\n",
       "      <td>...</td>\n",
       "      <td>...</td>\n",
       "      <td>...</td>\n",
       "      <td>...</td>\n",
       "      <td>...</td>\n",
       "      <td>...</td>\n",
       "      <td>...</td>\n",
       "      <td>...</td>\n",
       "      <td>...</td>\n",
       "      <td>...</td>\n",
       "      <td>...</td>\n",
       "      <td>...</td>\n",
       "      <td>...</td>\n",
       "      <td>...</td>\n",
       "      <td>...</td>\n",
       "      <td>...</td>\n",
       "    </tr>\n",
       "    <tr>\n",
       "      <th>5550</th>\n",
       "      <td>9887054</td>\n",
       "      <td>Quarry Bay fully furnished studio C</td>\n",
       "      <td>Apartment</td>\n",
       "      <td>Private room</td>\n",
       "      <td>Real Bed</td>\n",
       "      <td>3</td>\n",
       "      <td>1125</td>\n",
       "      <td>flexible</td>\n",
       "      <td>1</td>\n",
       "      <td>1</td>\n",
       "      <td>...</td>\n",
       "      <td>HK</td>\n",
       "      <td>Point</td>\n",
       "      <td>114.207220</td>\n",
       "      <td>22.291570</td>\n",
       "      <td>No</td>\n",
       "      <td>18</td>\n",
       "      <td>48</td>\n",
       "      <td>78</td>\n",
       "      <td>353</td>\n",
       "      <td>['24-hour check-in', 'Air conditioning', 'Elev...</td>\n",
       "    </tr>\n",
       "    <tr>\n",
       "      <th>5551</th>\n",
       "      <td>9987200</td>\n",
       "      <td>The best suite in Copacabana (total privacy)</td>\n",
       "      <td>Aparthotel</td>\n",
       "      <td>Private room</td>\n",
       "      <td>Real Bed</td>\n",
       "      <td>3</td>\n",
       "      <td>60</td>\n",
       "      <td>flexible</td>\n",
       "      <td>3</td>\n",
       "      <td>1</td>\n",
       "      <td>...</td>\n",
       "      <td>BR</td>\n",
       "      <td>Point</td>\n",
       "      <td>-43.176533</td>\n",
       "      <td>-22.961076</td>\n",
       "      <td>Yes</td>\n",
       "      <td>7</td>\n",
       "      <td>29</td>\n",
       "      <td>53</td>\n",
       "      <td>53</td>\n",
       "      <td>['Air conditioning', 'Bed linens', 'Building s...</td>\n",
       "    </tr>\n",
       "    <tr>\n",
       "      <th>5552</th>\n",
       "      <td>9993190</td>\n",
       "      <td>Just Steps from the Ocean at Premier Platinum ...</td>\n",
       "      <td>Townhouse</td>\n",
       "      <td>Entire home/apt</td>\n",
       "      <td>Real Bed</td>\n",
       "      <td>3</td>\n",
       "      <td>365</td>\n",
       "      <td>strict_14_with_grace_period</td>\n",
       "      <td>6</td>\n",
       "      <td>2</td>\n",
       "      <td>...</td>\n",
       "      <td>US</td>\n",
       "      <td>Point</td>\n",
       "      <td>-156.667520</td>\n",
       "      <td>20.858940</td>\n",
       "      <td>No</td>\n",
       "      <td>0</td>\n",
       "      <td>8</td>\n",
       "      <td>31</td>\n",
       "      <td>258</td>\n",
       "      <td>['Air conditioning', 'Dryer', 'Essentials', 'F...</td>\n",
       "    </tr>\n",
       "    <tr>\n",
       "      <th>5553</th>\n",
       "      <td>9969335</td>\n",
       "      <td>Central, Modern, University, Metro</td>\n",
       "      <td>Apartment</td>\n",
       "      <td>Entire home/apt</td>\n",
       "      <td>Real Bed</td>\n",
       "      <td>6</td>\n",
       "      <td>60</td>\n",
       "      <td>strict_14_with_grace_period</td>\n",
       "      <td>4</td>\n",
       "      <td>1</td>\n",
       "      <td>...</td>\n",
       "      <td>PT</td>\n",
       "      <td>Point</td>\n",
       "      <td>-8.604640</td>\n",
       "      <td>41.159080</td>\n",
       "      <td>Yes</td>\n",
       "      <td>20</td>\n",
       "      <td>37</td>\n",
       "      <td>50</td>\n",
       "      <td>275</td>\n",
       "      <td>['Buzzer/wireless intercom', 'Cable TV', 'Elev...</td>\n",
       "    </tr>\n",
       "    <tr>\n",
       "      <th>5554</th>\n",
       "      <td>9867316</td>\n",
       "      <td>Beautiful Place in the Middle of Manhattan</td>\n",
       "      <td>Apartment</td>\n",
       "      <td>Entire home/apt</td>\n",
       "      <td>Real Bed</td>\n",
       "      <td>1</td>\n",
       "      <td>1125</td>\n",
       "      <td>strict_14_with_grace_period</td>\n",
       "      <td>2</td>\n",
       "      <td>1</td>\n",
       "      <td>...</td>\n",
       "      <td>US</td>\n",
       "      <td>Point</td>\n",
       "      <td>-73.962050</td>\n",
       "      <td>40.762660</td>\n",
       "      <td>Yes</td>\n",
       "      <td>2</td>\n",
       "      <td>11</td>\n",
       "      <td>15</td>\n",
       "      <td>154</td>\n",
       "      <td>['Air conditioning', 'Bed linens', 'Carbon mon...</td>\n",
       "    </tr>\n",
       "  </tbody>\n",
       "</table>\n",
       "<p>5555 rows × 49 columns</p>\n",
       "</div>"
      ],
      "text/plain": [
       "      Unnamed: 0                                               name  \\\n",
       "0       10059872                 Soho Cozy, Spacious and Convenient   \n",
       "1       10133554                Double and triple rooms Blue mosque   \n",
       "2       10112159                Downtown Oporto Inn (room cleaning)   \n",
       "3       10096773                          Easy 1 Bedroom in Chelsea   \n",
       "4        1003530                New York City - Upper West Side Apt   \n",
       "...          ...                                                ...   \n",
       "5550     9887054                Quarry Bay fully furnished studio C   \n",
       "5551     9987200       The best suite in Copacabana (total privacy)   \n",
       "5552     9993190  Just Steps from the Ocean at Premier Platinum ...   \n",
       "5553     9969335                 Central, Modern, University, Metro   \n",
       "5554     9867316         Beautiful Place in the Middle of Manhattan   \n",
       "\n",
       "          property_type        room_type  bed_type  minimum_nights  \\\n",
       "0             Apartment  Entire home/apt  Real Bed               4   \n",
       "1     Bed and breakfast     Private room  Real Bed               1   \n",
       "2                Hostel     Private room  Real Bed               1   \n",
       "3             Apartment  Entire home/apt  Real Bed               2   \n",
       "4             Apartment     Private room  Real Bed              12   \n",
       "...                 ...              ...       ...             ...   \n",
       "5550          Apartment     Private room  Real Bed               3   \n",
       "5551         Aparthotel     Private room  Real Bed               3   \n",
       "5552          Townhouse  Entire home/apt  Real Bed               3   \n",
       "5553          Apartment  Entire home/apt  Real Bed               6   \n",
       "5554          Apartment  Entire home/apt  Real Bed               1   \n",
       "\n",
       "      maximum_nights          cancellation_policy  accommodates  bedrooms  \\\n",
       "0                 20                     flexible             3         1   \n",
       "1               1125                     moderate             3         1   \n",
       "2               1125                     moderate             2         1   \n",
       "3               1125                     flexible             2         1   \n",
       "4                360  strict_14_with_grace_period             2         1   \n",
       "...              ...                          ...           ...       ...   \n",
       "5550            1125                     flexible             1         1   \n",
       "5551              60                     flexible             3         1   \n",
       "5552             365  strict_14_with_grace_period             6         2   \n",
       "5553              60  strict_14_with_grace_period             4         1   \n",
       "5554            1125  strict_14_with_grace_period             2         1   \n",
       "\n",
       "      ...  country_code  location_type   longitude   latitude  \\\n",
       "0     ...            HK          Point  114.150270  22.281580   \n",
       "1     ...            TR          Point   28.980090  41.006200   \n",
       "2     ...            PT          Point   -8.608670  41.154300   \n",
       "3     ...            US          Point  -74.000740  40.745770   \n",
       "4     ...            US          Point  -73.965230  40.799620   \n",
       "...   ...           ...            ...         ...        ...   \n",
       "5550  ...            HK          Point  114.207220  22.291570   \n",
       "5551  ...            BR          Point  -43.176533 -22.961076   \n",
       "5552  ...            US          Point -156.667520  20.858940   \n",
       "5553  ...            PT          Point   -8.604640  41.159080   \n",
       "5554  ...            US          Point  -73.962050  40.762660   \n",
       "\n",
       "      is_location_exact  availability_30 availability_60  availability_90  \\\n",
       "0                   Yes                0               0                0   \n",
       "1                    No               30              60               90   \n",
       "2                    No               30              60               87   \n",
       "3                   Yes                0               0                0   \n",
       "4                    No                0               0                0   \n",
       "...                 ...              ...             ...              ...   \n",
       "5550                 No               18              48               78   \n",
       "5551                Yes                7              29               53   \n",
       "5552                 No                0               8               31   \n",
       "5553                Yes               20              37               50   \n",
       "5554                Yes                2              11               15   \n",
       "\n",
       "      availability_365                                          amenities  \n",
       "0                    0  ['24-hour check-in', 'Air conditioning', 'Door...  \n",
       "1                  365  ['Air conditioning', 'Building staff', 'Dryer'...  \n",
       "2                  359  ['Cable TV', 'Essentials', 'Family/kid friendl...  \n",
       "3                    0  ['Carbon monoxide detector', 'Essentials', 'Fi...  \n",
       "4                   93  ['Air conditioning', 'Buzzer/wireless intercom...  \n",
       "...                ...                                                ...  \n",
       "5550               353  ['24-hour check-in', 'Air conditioning', 'Elev...  \n",
       "5551                53  ['Air conditioning', 'Bed linens', 'Building s...  \n",
       "5552               258  ['Air conditioning', 'Dryer', 'Essentials', 'F...  \n",
       "5553               275  ['Buzzer/wireless intercom', 'Cable TV', 'Elev...  \n",
       "5554               154  ['Air conditioning', 'Bed linens', 'Carbon mon...  \n",
       "\n",
       "[5555 rows x 49 columns]"
      ]
     },
     "execution_count": 5,
     "metadata": {},
     "output_type": "execute_result"
    }
   ],
   "source": [
    "df2 = df1.drop('listing_url',axis=1)\n",
    "df2"
   ]
  },
  {
   "cell_type": "code",
   "execution_count": 6,
   "metadata": {},
   "outputs": [],
   "source": [
    "import matplotlib.pyplot as plt"
   ]
  },
  {
   "cell_type": "code",
   "execution_count": 40,
   "metadata": {},
   "outputs": [
    {
     "data": {
      "text/plain": [
       "<Axes: xlabel='bed_type'>"
      ]
     },
     "execution_count": 40,
     "metadata": {},
     "output_type": "execute_result"
    },
    {
     "data": {
      "image/png": "[encoded data removed]",
      "text/plain": [
       "<Figure size 640x480 with 1 Axes>"
      ]
     },
     "metadata": {},
     "output_type": "display_data"
    }
   ],
   "source": [
    "df_do_bar_2= pd.DataFrame(df2.groupby(\"bed_type\")[[\"bedrooms\",\"beds\",\"accommodates\",\"price\"]].sum())\n",
    "df_do_bar_2.reset_index(inplace= True)\n",
    "df_do_bar_2.plot(x='bed_type',y=['bedrooms', 'beds', 'accommodates'],kind=\"bar\")"
   ]
  },
  {
   "cell_type": "code",
   "execution_count": 7,
   "metadata": {},
   "outputs": [],
   "source": [
    "import plotly.express as px"
   ]
  },
  {
   "cell_type": "code",
   "execution_count": 8,
   "metadata": {},
   "outputs": [
    {
     "data": {
      "application/vnd.plotly.v1+json": {
       "config": {
        "plotlyServerURL": "https://plot.ly"
       },
       "data": [
        {
         "customdata": [
          [
           1
          ],
          [
           1
          ],
          [
           1
          ],
          [
           1
          ],
          [
           1
          ],
          [
           1
          ],
          [
           0
          ],
          [
           3
          ],
          [
           1
          ],
          [
           0
          ],
          [
           3
          ],
          [
           2
          ],
          [
           2
          ],
          [
           1
          ],
          [
           1
          ],
          [
           1
          ],
          [
           2
          ],
          [
           1
          ],
          [
           1
          ],
          [
           1
          ],
          [
           1
          ],
          [
           1
          ],
          [
           2
          ],
          [
           2
          ],
          [
           1
          ],
          [
           1
          ],
          [
           0
          ],
          [
           1
          ],
          [
           1
          ],
          [
           1
          ],
          [
           3
          ],
          [
           1
          ],
          [
           2
          ],
          [
           0
          ],
          [
           1
          ],
          [
           1
          ],
          [
           1
          ],
          [
           2
          ],
          [
           1
          ],
          [
           1
          ],
          [
           1
          ],
          [
           1
          ],
          [
           1
          ],
          [
           1
          ],
          [
           2
          ],
          [
           2
          ],
          [
           2
          ],
          [
           3
          ],
          [
           1
          ],
          [
           3
          ],
          [
           3
          ],
          [
           1
          ],
          [
           1
          ],
          [
           0
          ],
          [
           1
          ],
          [
           1
          ],
          [
           1
          ],
          [
           1
          ],
          [
           1
          ],
          [
           1
          ],
          [
           1
          ],
          [
           1
          ],
          [
           4
          ],
          [
           2
          ],
          [
           1
          ],
          [
           0
          ],
          [
           1
          ],
          [
           0
          ],
          [
           1
          ],
          [
           1
          ],
          [
           1
          ],
          [
           1
          ],
          [
           3
          ],
          [
           1
          ],
          [
           1
          ],
          [
           1
          ],
          [
           4
          ],
          [
           1
          ],
          [
           1
          ],
          [
           2
          ],
          [
           0
          ],
          [
           4
          ],
          [
           1
          ],
          [
           4
          ],
          [
           1
          ],
          [
           2
          ],
          [
           3
          ],
          [
           1
          ],
          [
           1
          ],
          [
           1
          ],
          [
           1
          ],
          [
           2
          ],
          [
           3
          ],
          [
           1
          ],
          [
           1
          ],
          [
           4
          ],
          [
           1
          ],
          [
           1
          ],
          [
           1
          ],
          [
           3
          ],
          [
           1
          ],
          [
           0
          ],
          [
           1
          ],
          [
           4
          ],
          [
           1
          ],
          [
           1
          ],
          [
           3
          ],
          [
           1
          ],
          [
           1
          ],
          [
           6
          ],
          [
           4
          ],
          [
           1
          ],
          [
           0
          ],
          [
           2
          ],
          [
           2
          ],
          [
           2
          ],
          [
           4
          ],
          [
           1
          ],
          [
           1
          ],
          [
           2
          ],
          [
           1
          ],
          [
           1
          ],
          [
           1
          ],
          [
           1
          ],
          [
           1
          ],
          [
           1
          ],
          [
           1
          ],
          [
           1
          ],
          [
           1
          ],
          [
           2
          ],
          [
           1
          ],
          [
           1
          ],
          [
           1
          ],
          [
           2
          ],
          [
           1
          ],
          [
           1
          ],
          [
           1
          ],
          [
           2
          ],
          [
           1
          ],
          [
           2
          ],
          [
           4
          ],
          [
           1
          ],
          [
           2
          ],
          [
           2
          ],
          [
           3
          ],
          [
           1
          ],
          [
           3
          ],
          [
           1
          ],
          [
           1
          ],
          [
           1
          ],
          [
           2
          ],
          [
           1
          ],
          [
           1
          ],
          [
           2
          ],
          [
           1
          ],
          [
           1
          ],
          [
           1
          ],
          [
           1
          ],
          [
           2
          ],
          [
           4
          ],
          [
           1
          ],
          [
           1
          ],
          [
           1
          ],
          [
           2
          ],
          [
           1
          ],
          [
           1
          ],
          [
           1
          ],
          [
           2
          ],
          [
           3
          ],
          [
           1
          ],
          [
           1
          ],
          [
           1
          ],
          [
           0
          ],
          [
           1
          ],
          [
           2
          ],
          [
           4
          ],
          [
           1
          ],
          [
           1
          ],
          [
           1
          ],
          [
           1
          ],
          [
           1
          ],
          [
           2
          ],
          [
           0
          ],
          [
           1
          ],
          [
           0
          ],
          [
           2
          ],
          [
           2
          ],
          [
           1
          ],
          [
           1
          ],
          [
           0
          ],
          [
           3
          ],
          [
           3
          ],
          [
           3
          ],
          [
           1
          ],
          [
           2
          ],
          [
           1
          ],
          [
           1
          ],
          [
           1
          ],
          [
           1
          ],
          [
           1
          ],
          [
           1
          ],
          [
           1
          ],
          [
           1
          ],
          [
           2
          ],
          [
           2
          ],
          [
           1
          ],
          [
           1
          ],
          [
           1
          ],
          [
           1
          ],
          [
           1
          ],
          [
           1
          ],
          [
           1
          ],
          [
           0
          ],
          [
           2
          ],
          [
           1
          ],
          [
           2
          ],
          [
           2
          ],
          [
           3
          ],
          [
           4
          ],
          [
           2
          ],
          [
           2
          ],
          [
           0
          ],
          [
           1
          ],
          [
           1
          ],
          [
           1
          ],
          [
           1
          ],
          [
           2
          ],
          [
           4
          ],
          [
           1
          ],
          [
           0
          ],
          [
           1
          ],
          [
           2
          ],
          [
           1
          ],
          [
           1
          ],
          [
           1
          ],
          [
           2
          ],
          [
           1
          ],
          [
           0
          ],
          [
           1
          ],
          [
           2
          ],
          [
           1
          ],
          [
           0
          ],
          [
           1
          ],
          [
           1
          ],
          [
           1
          ],
          [
           4
          ],
          [
           1
          ],
          [
           2
          ],
          [
           1
          ],
          [
           1
          ],
          [
           3
          ],
          [
           1
          ],
          [
           1
          ],
          [
           0
          ],
          [
           1
          ],
          [
           1
          ],
          [
           1
          ],
          [
           2
          ],
          [
           0
          ],
          [
           1
          ],
          [
           1
          ],
          [
           1
          ],
          [
           1
          ],
          [
           1
          ],
          [
           1
          ],
          [
           1
          ],
          [
           1
          ],
          [
           2
          ],
          [
           1
          ],
          [
           1
          ],
          [
           0
          ],
          [
           4
          ],
          [
           3
          ],
          [
           2
          ],
          [
           1
          ],
          [
           1
          ],
          [
           5
          ],
          [
           1
          ],
          [
           1
          ],
          [
           2
          ],
          [
           1
          ],
          [
           3
          ],
          [
           0
          ],
          [
           3
          ],
          [
           1
          ],
          [
           1
          ],
          [
           1
          ],
          [
           1
          ],
          [
           1
          ],
          [
           1
          ],
          [
           1
          ],
          [
           4
          ],
          [
           1
          ],
          [
           1
          ],
          [
           1
          ],
          [
           2
          ],
          [
           2
          ],
          [
           4
          ],
          [
           2
          ],
          [
           1
          ],
          [
           3
          ],
          [
           2
          ],
          [
           2
          ],
          [
           1
          ],
          [
           0
          ],
          [
           1
          ],
          [
           0
          ],
          [
           0
          ],
          [
           2
          ],
          [
           2
          ],
          [
           2
          ],
          [
           1
          ],
          [
           1
          ],
          [
           2
          ],
          [
           1
          ],
          [
           1
          ],
          [
           2
          ],
          [
           1
          ],
          [
           2
          ],
          [
           1
          ],
          [
           4
          ],
          [
           1
          ],
          [
           3
          ],
          [
           1
          ],
          [
           1
          ],
          [
           0
          ],
          [
           1
          ],
          [
           1
          ],
          [
           3
          ],
          [
           4
          ],
          [
           1
          ],
          [
           3
          ],
          [
           1
          ],
          [
           1
          ],
          [
           2
          ],
          [
           1
          ],
          [
           3
          ],
          [
           3
          ],
          [
           1
          ],
          [
           1
          ],
          [
           1
          ],
          [
           1
          ],
          [
           3
          ],
          [
           1
          ],
          [
           1
          ],
          [
           1
          ],
          [
           2
          ],
          [
           1
          ],
          [
           0
          ],
          [
           3
          ],
          [
           1
          ],
          [
           1
          ],
          [
           1
          ],
          [
           2
          ],
          [
           1
          ],
          [
           2
          ],
          [
           1
          ],
          [
           3
          ],
          [
           1
          ],
          [
           2
          ],
          [
           5
          ],
          [
           2
          ],
          [
           1
          ],
          [
           0
          ],
          [
           1
          ],
          [
           1
          ],
          [
           1
          ],
          [
           1
          ],
          [
           1
          ],
          [
           2
          ],
          [
           2
          ],
          [
           2
          ],
          [
           0
          ],
          [
           2
          ],
          [
           1
          ],
          [
           1
          ],
          [
           3
          ],
          [
           1
          ],
          [
           5
          ],
          [
           1
          ],
          [
           1
          ],
          [
           3
          ],
          [
           0
          ],
          [
           4
          ],
          [
           2
          ],
          [
           2
          ],
          [
           0
          ],
          [
           1
          ],
          [
           1
          ],
          [
           9
          ],
          [
           2
          ],
          [
           2
          ],
          [
           0
          ],
          [
           1
          ],
          [
           1
          ],
          [
           2
          ],
          [
           1
          ],
          [
           1
          ],
          [
           2
          ],
          [
           1
          ],
          [
           0
          ],
          [
           1
          ],
          [
           1
          ],
          [
           1
          ],
          [
           1
          ],
          [
           1
          ],
          [
           3
          ],
          [
           0
          ],
          [
           2
          ],
          [
           1
          ],
          [
           3
          ],
          [
           0
          ],
          [
           1
          ],
          [
           1
          ],
          [
           2
          ],
          [
           3
          ],
          [
           1
          ],
          [
           2
          ],
          [
           1
          ],
          [
           1
          ],
          [
           1
          ],
          [
           2
          ],
          [
           2
          ],
          [
           1
          ],
          [
           1
          ],
          [
           1
          ],
          [
           0
          ],
          [
           1
          ],
          [
           1
          ],
          [
           4
          ],
          [
           1
          ],
          [
           2
          ],
          [
           0
          ],
          [
           1
          ],
          [
           1
          ],
          [
           3
          ],
          [
           1
          ],
          [
           2
          ],
          [
           1
          ],
          [
           1
          ],
          [
           2
          ],
          [
           1
          ],
          [
           1
          ],
          [
           3
          ],
          [
           5
          ],
          [
           0
          ],
          [
           0
          ],
          [
           2
          ],
          [
           1
          ],
          [
           0
          ],
          [
           1
          ],
          [
           1
          ],
          [
           2
          ],
          [
           1
          ],
          [
           2
          ],
          [
           1
          ],
          [
           1
          ],
          [
           0
          ],
          [
           2
          ],
          [
           1
          ],
          [
           1
          ],
          [
           1
          ],
          [
           1
          ],
          [
           1
          ],
          [
           1
          ],
          [
           3
          ],
          [
           2
          ],
          [
           1
          ],
          [
           4
          ],
          [
           3
          ],
          [
           0
          ],
          [
           1
          ],
          [
           2
          ],
          [
           1
          ],
          [
           1
          ],
          [
           1
          ],
          [
           1
          ],
          [
           1
          ],
          [
           1
          ],
          [
           4
          ],
          [
           1
          ],
          [
           3
          ],
          [
           2
          ],
          [
           2
          ],
          [
           1
          ],
          [
           2
          ],
          [
           1
          ],
          [
           1
          ],
          [
           1
          ],
          [
           2
          ],
          [
           0
          ],
          [
           3
          ],
          [
           3
          ],
          [
           2
          ],
          [
           1
          ],
          [
           4
          ],
          [
           1
          ],
          [
           2
          ],
          [
           1
          ],
          [
           2
          ],
          [
           2
          ],
          [
           1
          ],
          [
           1
          ],
          [
           1
          ],
          [
           2
          ],
          [
           2
          ],
          [
           1
          ],
          [
           1
          ],
          [
           1
          ],
          [
           0
          ],
          [
           1
          ],
          [
           0
          ],
          [
           0
          ],
          [
           1
          ],
          [
           1
          ],
          [
           1
          ],
          [
           2
          ],
          [
           1
          ],
          [
           0
          ],
          [
           2
          ],
          [
           1
          ],
          [
           1
          ],
          [
           1
          ],
          [
           1
          ],
          [
           2
          ],
          [
           1
          ],
          [
           2
          ],
          [
           1
          ],
          [
           2
          ],
          [
           1
          ],
          [
           2
          ],
          [
           3
          ],
          [
           3
          ],
          [
           3
          ],
          [
           1
          ],
          [
           1
          ],
          [
           1
          ],
          [
           1
          ],
          [
           3
          ],
          [
           1
          ],
          [
           1
          ],
          [
           1
          ],
          [
           3
          ],
          [
           4
          ],
          [
           2
          ],
          [
           2
          ],
          [
           2
          ],
          [
           1
          ],
          [
           2
          ],
          [
           0
          ],
          [
           2
          ],
          [
           3
          ],
          [
           2
          ],
          [
           3
          ],
          [
           1
          ],
          [
           2
          ],
          [
           2
          ],
          [
           1
          ],
          [
           1
          ],
          [
           2
          ],
          [
           3
          ],
          [
           1
          ],
          [
           1
          ],
          [
           1
          ],
          [
           1
          ],
          [
           0
          ],
          [
           0
          ],
          [
           2
          ],
          [
           1
          ],
          [
           1
          ],
          [
           1
          ],
          [
           1
          ],
          [
           1
          ],
          [
           2
          ],
          [
           1
          ],
          [
           3
          ],
          [
           1
          ],
          [
           2
          ],
          [
           0
          ],
          [
           1
          ],
          [
           2
          ],
          [
           2
          ],
          [
           2
          ],
          [
           2
          ],
          [
           2
          ],
          [
           1
          ],
          [
           2
          ],
          [
           1
          ],
          [
           1
          ],
          [
           1
          ],
          [
           1
          ],
          [
           1
          ],
          [
           1
          ],
          [
           1
          ],
          [
           1
          ],
          [
           1
          ],
          [
           1
          ],
          [
           2
          ],
          [
           2
          ],
          [
           2
          ],
          [
           1
          ],
          [
           1
          ],
          [
           1
          ],
          [
           1
          ],
          [
           2
          ],
          [
           1
          ],
          [
           1
          ],
          [
           1
          ],
          [
           1
          ],
          [
           1
          ],
          [
           0
          ],
          [
           1
          ],
          [
           1
          ],
          [
           3
          ],
          [
           0
          ],
          [
           2
          ],
          [
           1
          ],
          [
           1
          ],
          [
           1
          ],
          [
           1
          ],
          [
           1
          ],
          [
           1
          ],
          [
           2
          ],
          [
           1
          ],
          [
           1
          ],
          [
           4
          ],
          [
           1
          ],
          [
           3
          ],
          [
           1
          ],
          [
           1
          ],
          [
           5
          ],
          [
           1
          ],
          [
           1
          ],
          [
           3
          ],
          [
           3
          ],
          [
           1
          ],
          [
           1
          ],
          [
           1
          ],
          [
           1
          ],
          [
           0
          ],
          [
           1
          ],
          [
           0
          ],
          [
           1
          ],
          [
           1
          ],
          [
           1
          ],
          [
           1
          ],
          [
           2
          ],
          [
           2
          ],
          [
           1
          ],
          [
           2
          ],
          [
           2
          ],
          [
           2
          ],
          [
           1
          ],
          [
           1
          ],
          [
           1
          ],
          [
           1
          ],
          [
           2
          ],
          [
           1
          ],
          [
           1
          ],
          [
           2
          ],
          [
           0
          ],
          [
           1
          ],
          [
           3
          ],
          [
           1
          ],
          [
           1
          ],
          [
           1
          ],
          [
           1
          ],
          [
           2
          ],
          [
           1
          ],
          [
           2
          ],
          [
           1
          ],
          [
           1
          ],
          [
           1
          ],
          [
           2
          ],
          [
           1
          ],
          [
           2
          ],
          [
           4
          ],
          [
           5
          ],
          [
           1
          ],
          [
           1
          ],
          [
           1
          ],
          [
           1
          ],
          [
           3
          ],
          [
           1
          ],
          [
           2
          ],
          [
           0
          ],
          [
           2
          ],
          [
           2
          ],
          [
           1
          ],
          [
           1
          ],
          [
           1
          ],
          [
           1
          ],
          [
           1
          ],
          [
           1
          ],
          [
           2
          ],
          [
           1
          ],
          [
           0
          ],
          [
           2
          ],
          [
           2
          ],
          [
           1
          ],
          [
           1
          ],
          [
           0
          ],
          [
           0
          ],
          [
           1
          ],
          [
           1
          ],
          [
           2
          ],
          [
           2
          ],
          [
           1
          ],
          [
           1
          ],
          [
           1
          ],
          [
           1
          ],
          [
           1
          ],
          [
           1
          ],
          [
           3
          ],
          [
           3
          ],
          [
           1
          ],
          [
           1
          ],
          [
           1
          ],
          [
           1
          ],
          [
           2
          ],
          [
           4
          ],
          [
           1
          ],
          [
           1
          ],
          [
           2
          ],
          [
           1
          ],
          [
           1
          ],
          [
           1
          ],
          [
           1
          ],
          [
           3
          ],
          [
           1
          ],
          [
           1
          ],
          [
           1
          ],
          [
           2
          ],
          [
           3
          ],
          [
           4
          ],
          [
           3
          ],
          [
           1
          ],
          [
           5
          ],
          [
           1
          ],
          [
           2
          ],
          [
           1
          ],
          [
           4
          ],
          [
           1
          ],
          [
           1
          ],
          [
           1
          ],
          [
           0
          ],
          [
           1
          ],
          [
           1
          ],
          [
           2
          ],
          [
           0
          ],
          [
           0
          ],
          [
           1
          ],
          [
           1
          ],
          [
           1
          ],
          [
           1
          ],
          [
           1
          ],
          [
           2
          ],
          [
           1
          ],
          [
           2
          ],
          [
           4
          ],
          [
           1
          ],
          [
           1
          ],
          [
           2
          ],
          [
           2
          ],
          [
           1
          ],
          [
           2
          ],
          [
           3
          ],
          [
           2
          ],
          [
           1
          ],
          [
           1
          ],
          [
           1
          ],
          [
           3
          ],
          [
           1
          ],
          [
           0
          ],
          [
           3
          ],
          [
           0
          ],
          [
           1
          ],
          [
           1
          ],
          [
           3
          ],
          [
           2
          ],
          [
           1
          ],
          [
           1
          ],
          [
           0
          ],
          [
           1
          ],
          [
           1
          ],
          [
           1
          ],
          [
           2
          ],
          [
           1
          ],
          [
           1
          ],
          [
           3
          ],
          [
           1
          ],
          [
           1
          ],
          [
           1
          ],
          [
           1
          ],
          [
           1
          ],
          [
           2
          ],
          [
           1
          ],
          [
           2
          ],
          [
           1
          ],
          [
           1
          ],
          [
           1
          ],
          [
           0
          ],
          [
           1
          ],
          [
           1
          ],
          [
           1
          ],
          [
           1
          ],
          [
           2
          ],
          [
           0
          ],
          [
           1
          ],
          [
           1
          ],
          [
           5
          ],
          [
           1
          ],
          [
           1
          ],
          [
           1
          ],
          [
           3
          ],
          [
           1
          ],
          [
           2
          ],
          [
           3
          ],
          [
           2
          ],
          [
           1
          ],
          [
           1
          ],
          [
           2
          ],
          [
           1
          ],
          [
           2
          ],
          [
           2
          ],
          [
           1
          ],
          [
           1
          ],
          [
           1
          ],
          [
           1
          ],
          [
           1
          ],
          [
           1
          ],
          [
           2
          ],
          [
           1
          ],
          [
           1
          ],
          [
           0
          ],
          [
           3
          ],
          [
           0
          ],
          [
           2
          ],
          [
           1
          ],
          [
           1
          ],
          [
           1
          ],
          [
           1
          ],
          [
           2
          ],
          [
           1
          ],
          [
           0
          ],
          [
           1
          ],
          [
           1
          ],
          [
           2
          ],
          [
           0
          ],
          [
           1
          ],
          [
           3
          ],
          [
           2
          ],
          [
           4
          ],
          [
           3
          ],
          [
           3
          ],
          [
           0
          ],
          [
           1
          ],
          [
           1
          ],
          [
           2
          ],
          [
           1
          ],
          [
           1
          ],
          [
           1
          ],
          [
           1
          ],
          [
           1
          ],
          [
           2
          ],
          [
           1
          ],
          [
           1
          ],
          [
           2
          ],
          [
           3
          ],
          [
           1
          ],
          [
           0
          ],
          [
           1
          ],
          [
           1
          ],
          [
           3
          ],
          [
           1
          ],
          [
           1
          ],
          [
           4
          ],
          [
           1
          ],
          [
           1
          ],
          [
           0
          ],
          [
           1
          ],
          [
           0
          ],
          [
           1
          ],
          [
           2
          ],
          [
           1
          ],
          [
           2
          ],
          [
           1
          ],
          [
           0
          ],
          [
           2
          ],
          [
           3
          ],
          [
           2
          ],
          [
           3
          ],
          [
           3
          ],
          [
           3
          ],
          [
           3
          ],
          [
           2
          ],
          [
           1
          ],
          [
           3
          ],
          [
           1
          ],
          [
           1
          ],
          [
           2
          ],
          [
           3
          ],
          [
           0
          ],
          [
           2
          ],
          [
           1
          ],
          [
           1
          ],
          [
           1
          ],
          [
           2
          ],
          [
           1
          ],
          [
           1
          ],
          [
           0
          ],
          [
           3
          ],
          [
           0
          ],
          [
           1
          ],
          [
           7
          ],
          [
           3
          ],
          [
           1
          ],
          [
           2
          ],
          [
           1
          ],
          [
           1
          ],
          [
           0
          ],
          [
           1
          ],
          [
           1
          ],
          [
           1
          ],
          [
           1
          ],
          [
           1
          ],
          [
           1
          ],
          [
           1
          ],
          [
           1
          ],
          [
           1
          ],
          [
           3
          ],
          [
           1
          ],
          [
           1
          ],
          [
           2
          ],
          [
           1
          ],
          [
           2
          ],
          [
           1
          ],
          [
           1
          ],
          [
           0
          ],
          [
           1
          ],
          [
           1
          ],
          [
           1
          ],
          [
           1
          ],
          [
           3
          ],
          [
           1
          ],
          [
           1
          ],
          [
           1
          ],
          [
           2
          ],
          [
           1
          ],
          [
           2
          ],
          [
           1
          ],
          [
           3
          ],
          [
           1
          ],
          [
           1
          ],
          [
           1
          ],
          [
           3
          ],
          [
           1
          ],
          [
           2
          ],
          [
           1
          ],
          [
           1
          ],
          [
           1
          ],
          [
           3
          ],
          [
           2
          ],
          [
           0
          ],
          [
           1
          ],
          [
           3
          ],
          [
           1
          ],
          [
           3
          ],
          [
           1
          ],
          [
           1
          ],
          [
           1
          ],
          [
           2
          ],
          [
           1
          ],
          [
           1
          ],
          [
           1
          ],
          [
           0
          ],
          [
           1
          ],
          [
           2
          ],
          [
           2
          ],
          [
           2
          ],
          [
           4
          ],
          [
           0
          ],
          [
           1
          ],
          [
           1
          ],
          [
           2
          ],
          [
           1
          ],
          [
           0
          ],
          [
           1
          ],
          [
           1
          ],
          [
           2
          ],
          [
           1
          ],
          [
           0
          ],
          [
           1
          ],
          [
           1
          ],
          [
           1
          ],
          [
           1
          ],
          [
           0
          ],
          [
           2
          ],
          [
           1
          ],
          [
           1
          ],
          [
           1
          ],
          [
           2
          ],
          [
           2
          ],
          [
           1
          ],
          [
           2
          ],
          [
           1
          ],
          [
           2
          ],
          [
           0
          ],
          [
           0
          ],
          [
           1
          ],
          [
           1
          ],
          [
           1
          ],
          [
           1
          ],
          [
           2
          ],
          [
           1
          ],
          [
           2
          ],
          [
           1
          ],
          [
           3
          ],
          [
           0
          ],
          [
           1
          ],
          [
           1
          ],
          [
           1
          ],
          [
           1
          ],
          [
           1
          ],
          [
           1
          ],
          [
           1
          ],
          [
           1
          ],
          [
           1
          ],
          [
           2
          ],
          [
           2
          ],
          [
           1
          ],
          [
           1
          ],
          [
           1
          ],
          [
           4
          ],
          [
           3
          ],
          [
           1
          ],
          [
           0
          ],
          [
           1
          ],
          [
           1
          ],
          [
           1
          ],
          [
           1
          ],
          [
           1
          ],
          [
           1
          ],
          [
           1
          ],
          [
           0
          ],
          [
           2
          ],
          [
           0
          ],
          [
           1
          ],
          [
           1
          ],
          [
           1
          ],
          [
           2
          ],
          [
           1
          ],
          [
           0
          ],
          [
           2
          ],
          [
           1
          ],
          [
           1
          ],
          [
           3
          ],
          [
           3
          ],
          [
           2
          ],
          [
           1
          ],
          [
           1
          ],
          [
           2
          ],
          [
           0
          ],
          [
           0
          ],
          [
           1
          ],
          [
           0
          ],
          [
           0
          ],
          [
           4
          ],
          [
           2
          ],
          [
           1
          ],
          [
           1
          ],
          [
           4
          ],
          [
           1
          ],
          [
           1
          ],
          [
           4
          ],
          [
           2
          ],
          [
           0
          ],
          [
           1
          ],
          [
           2
          ],
          [
           2
          ],
          [
           1
          ],
          [
           1
          ],
          [
           0
          ],
          [
           1
          ],
          [
           2
          ],
          [
           1
          ],
          [
           2
          ],
          [
           0
          ],
          [
           1
          ],
          [
           1
          ],
          [
           2
          ],
          [
           1
          ],
          [
           1
          ],
          [
           2
          ],
          [
           2
          ],
          [
           1
          ],
          [
           2
          ],
          [
           1
          ],
          [
           1
          ],
          [
           1
          ],
          [
           3
          ],
          [
           2
          ],
          [
           2
          ],
          [
           1
          ],
          [
           1
          ],
          [
           1
          ],
          [
           1
          ],
          [
           2
          ],
          [
           3
          ],
          [
           1
          ],
          [
           3
          ],
          [
           1
          ],
          [
           1
          ],
          [
           1
          ],
          [
           2
          ],
          [
           4
          ],
          [
           1
          ],
          [
           2
          ],
          [
           3
          ],
          [
           0
          ],
          [
           1
          ],
          [
           1
          ],
          [
           1
          ],
          [
           1
          ],
          [
           6
          ],
          [
           1
          ],
          [
           0
          ],
          [
           1
          ],
          [
           1
          ],
          [
           1
          ],
          [
           1
          ],
          [
           1
          ],
          [
           1
          ],
          [
           4
          ],
          [
           3
          ],
          [
           6
          ],
          [
           1
          ],
          [
           1
          ],
          [
           2
          ],
          [
           1
          ],
          [
           1
          ],
          [
           1
          ],
          [
           1
          ],
          [
           2
          ],
          [
           1
          ],
          [
           2
          ],
          [
           2
          ],
          [
           1
          ],
          [
           4
          ],
          [
           1
          ],
          [
           0
          ],
          [
           0
          ],
          [
           1
          ],
          [
           1
          ],
          [
           0
          ],
          [
           2
          ],
          [
           2
          ],
          [
           1
          ],
          [
           1
          ],
          [
           1
          ],
          [
           0
          ],
          [
           3
          ],
          [
           1
          ],
          [
           3
          ],
          [
           0
          ],
          [
           1
          ],
          [
           1
          ],
          [
           4
          ],
          [
           1
          ],
          [
           1
          ],
          [
           2
          ],
          [
           1
          ],
          [
           2
          ],
          [
           1
          ],
          [
           1
          ],
          [
           1
          ],
          [
           1
          ],
          [
           1
          ],
          [
           1
          ],
          [
           3
          ],
          [
           2
          ],
          [
           1
          ],
          [
           1
          ],
          [
           3
          ],
          [
           1
          ],
          [
           1
          ],
          [
           2
          ],
          [
           2
          ],
          [
           0
          ],
          [
           1
          ],
          [
           1
          ],
          [
           3
          ],
          [
           3
          ],
          [
           1
          ],
          [
           1
          ],
          [
           1
          ],
          [
           1
          ],
          [
           1
          ],
          [
           2
          ],
          [
           1
          ],
          [
           1
          ],
          [
           0
          ],
          [
           2
          ],
          [
           1
          ],
          [
           1
          ],
          [
           1
          ],
          [
           3
          ],
          [
           2
          ],
          [
           0
          ],
          [
           1
          ],
          [
           2
          ],
          [
           2
          ],
          [
           1
          ],
          [
           1
          ],
          [
           3
          ],
          [
           1
          ],
          [
           1
          ],
          [
           2
          ],
          [
           1
          ],
          [
           1
          ],
          [
           1
          ],
          [
           1
          ],
          [
           0
          ],
          [
           3
          ],
          [
           1
          ],
          [
           1
          ],
          [
           3
          ],
          [
           1
          ],
          [
           1
          ],
          [
           1
          ],
          [
           1
          ],
          [
           1
          ],
          [
           2
          ],
          [
           3
          ],
          [
           3
          ],
          [
           0
          ],
          [
           1
          ],
          [
           1
          ],
          [
           1
          ],
          [
           2
          ],
          [
           1
          ],
          [
           2
          ],
          [
           1
          ],
          [
           1
          ],
          [
           2
          ],
          [
           1
          ],
          [
           1
          ],
          [
           1
          ],
          [
           3
          ],
          [
           0
          ],
          [
           1
          ],
          [
           3
          ],
          [
           1
          ],
          [
           1
          ],
          [
           1
          ],
          [
           1
          ],
          [
           1
          ],
          [
           2
          ],
          [
           2
          ],
          [
           3
          ],
          [
           2
          ],
          [
           2
          ],
          [
           1
          ],
          [
           1
          ],
          [
           2
          ],
          [
           1
          ],
          [
           1
          ],
          [
           2
          ],
          [
           2
          ],
          [
           2
          ],
          [
           2
          ],
          [
           0
          ],
          [
           1
          ],
          [
           3
          ],
          [
           1
          ],
          [
           1
          ],
          [
           1
          ],
          [
           1
          ],
          [
           2
          ],
          [
           1
          ],
          [
           1
          ],
          [
           0
          ],
          [
           1
          ],
          [
           1
          ],
          [
           1
          ],
          [
           3
          ],
          [
           1
          ],
          [
           1
          ],
          [
           2
          ],
          [
           1
          ],
          [
           1
          ],
          [
           1
          ],
          [
           2
          ],
          [
           2
          ],
          [
           1
          ],
          [
           1
          ],
          [
           3
          ],
          [
           0
          ],
          [
           2
          ],
          [
           3
          ],
          [
           6
          ],
          [
           1
          ],
          [
           2
          ],
          [
           1
          ],
          [
           3
          ],
          [
           2
          ],
          [
           1
          ],
          [
           1
          ],
          [
           1
          ],
          [
           3
          ],
          [
           1
          ],
          [
           1
          ],
          [
           0
          ],
          [
           1
          ],
          [
           4
          ],
          [
           1
          ],
          [
           0
          ],
          [
           0
          ],
          [
           1
          ],
          [
           1
          ],
          [
           1
          ],
          [
           1
          ],
          [
           1
          ],
          [
           0
          ],
          [
           1
          ],
          [
           1
          ],
          [
           2
          ],
          [
           1
          ],
          [
           2
          ],
          [
           0
          ],
          [
           1
          ],
          [
           2
          ],
          [
           1
          ],
          [
           2
          ],
          [
           1
          ],
          [
           1
          ],
          [
           1
          ],
          [
           0
          ],
          [
           1
          ],
          [
           1
          ],
          [
           2
          ],
          [
           2
          ],
          [
           1
          ],
          [
           2
          ],
          [
           1
          ],
          [
           2
          ],
          [
           1
          ],
          [
           1
          ],
          [
           1
          ],
          [
           1
          ],
          [
           1
          ],
          [
           1
          ],
          [
           1
          ],
          [
           1
          ],
          [
           1
          ],
          [
           1
          ],
          [
           1
          ],
          [
           3
          ],
          [
           0
          ],
          [
           1
          ],
          [
           5
          ],
          [
           1
          ],
          [
           1
          ],
          [
           1
          ],
          [
           2
          ],
          [
           1
          ],
          [
           1
          ],
          [
           1
          ],
          [
           1
          ],
          [
           1
          ],
          [
           6
          ],
          [
           3
          ],
          [
           1
          ],
          [
           1
          ],
          [
           1
          ],
          [
           2
          ],
          [
           0
          ],
          [
           2
          ],
          [
           2
          ],
          [
           1
          ],
          [
           1
          ],
          [
           0
          ],
          [
           1
          ],
          [
           2
          ],
          [
           1
          ],
          [
           1
          ],
          [
           1
          ],
          [
           1
          ],
          [
           1
          ],
          [
           1
          ],
          [
           0
          ],
          [
           1
          ],
          [
           0
          ],
          [
           1
          ],
          [
           1
          ],
          [
           2
          ],
          [
           1
          ],
          [
           0
          ],
          [
           1
          ],
          [
           1
          ],
          [
           1
          ],
          [
           1
          ],
          [
           1
          ],
          [
           2
          ],
          [
           1
          ],
          [
           1
          ],
          [
           1
          ],
          [
           1
          ],
          [
           1
          ],
          [
           1
          ],
          [
           1
          ],
          [
           3
          ],
          [
           2
          ],
          [
           1
          ],
          [
           1
          ],
          [
           1
          ],
          [
           2
          ],
          [
           1
          ],
          [
           1
          ],
          [
           2
          ],
          [
           4
          ],
          [
           1
          ],
          [
           4
          ],
          [
           1
          ],
          [
           0
          ],
          [
           1
          ],
          [
           1
          ],
          [
           2
          ],
          [
           2
          ],
          [
           1
          ],
          [
           1
          ],
          [
           0
          ],
          [
           1
          ],
          [
           4
          ],
          [
           2
          ],
          [
           2
          ],
          [
           0
          ],
          [
           2
          ],
          [
           1
          ],
          [
           1
          ],
          [
           2
          ],
          [
           0
          ],
          [
           3
          ],
          [
           2
          ],
          [
           0
          ],
          [
           2
          ],
          [
           2
          ],
          [
           1
          ],
          [
           1
          ],
          [
           1
          ],
          [
           2
          ],
          [
           1
          ],
          [
           1
          ],
          [
           2
          ],
          [
           2
          ],
          [
           3
          ],
          [
           1
          ],
          [
           1
          ],
          [
           2
          ],
          [
           2
          ],
          [
           1
          ],
          [
           1
          ],
          [
           1
          ],
          [
           1
          ],
          [
           1
          ],
          [
           1
          ],
          [
           1
          ],
          [
           3
          ],
          [
           1
          ],
          [
           1
          ],
          [
           2
          ],
          [
           0
          ],
          [
           1
          ],
          [
           1
          ],
          [
           1
          ],
          [
           1
          ],
          [
           1
          ],
          [
           4
          ],
          [
           1
          ],
          [
           0
          ],
          [
           1
          ],
          [
           2
          ],
          [
           1
          ],
          [
           1
          ],
          [
           1
          ],
          [
           1
          ],
          [
           1
          ],
          [
           2
          ],
          [
           1
          ],
          [
           2
          ],
          [
           1
          ],
          [
           1
          ],
          [
           2
          ],
          [
           4
          ],
          [
           1
          ],
          [
           1
          ],
          [
           1
          ],
          [
           1
          ],
          [
           2
          ],
          [
           1
          ],
          [
           1
          ],
          [
           0
          ],
          [
           2
          ],
          [
           2
          ],
          [
           2
          ],
          [
           2
          ],
          [
           1
          ],
          [
           0
          ],
          [
           2
          ],
          [
           1
          ],
          [
           1
          ],
          [
           1
          ],
          [
           1
          ],
          [
           1
          ],
          [
           0
          ],
          [
           1
          ],
          [
           1
          ],
          [
           1
          ],
          [
           1
          ],
          [
           2
          ],
          [
           1
          ],
          [
           2
          ],
          [
           0
          ],
          [
           1
          ],
          [
           1
          ],
          [
           1
          ],
          [
           1
          ],
          [
           2
          ],
          [
           1
          ],
          [
           1
          ],
          [
           4
          ],
          [
           1
          ],
          [
           2
          ],
          [
           2
          ],
          [
           3
          ],
          [
           1
          ],
          [
           1
          ],
          [
           5
          ],
          [
           0
          ],
          [
           2
          ],
          [
           3
          ],
          [
           1
          ],
          [
           3
          ],
          [
           1
          ],
          [
           2
          ],
          [
           2
          ],
          [
           1
          ],
          [
           2
          ],
          [
           2
          ],
          [
           2
          ],
          [
           2
          ],
          [
           1
          ],
          [
           1
          ],
          [
           1
          ],
          [
           1
          ],
          [
           1
          ],
          [
           1
          ],
          [
           1
          ],
          [
           0
          ],
          [
           1
          ],
          [
           1
          ],
          [
           4
          ],
          [
           1
          ],
          [
           1
          ],
          [
           2
          ],
          [
           1
          ],
          [
           2
          ],
          [
           1
          ],
          [
           1
          ],
          [
           2
          ],
          [
           1
          ],
          [
           1
          ],
          [
           2
          ],
          [
           1
          ],
          [
           1
          ],
          [
           1
          ],
          [
           1
          ],
          [
           1
          ],
          [
           0
          ],
          [
           5
          ],
          [
           3
          ],
          [
           3
          ],
          [
           0
          ],
          [
           1
          ],
          [
           1
          ],
          [
           1
          ],
          [
           1
          ],
          [
           1
          ],
          [
           4
          ],
          [
           1
          ],
          [
           0
          ],
          [
           4
          ],
          [
           2
          ],
          [
           1
          ],
          [
           3
          ],
          [
           3
          ],
          [
           0
          ],
          [
           1
          ],
          [
           1
          ],
          [
           0
          ],
          [
           1
          ],
          [
           0
          ],
          [
           0
          ],
          [
           2
          ],
          [
           1
          ],
          [
           2
          ],
          [
           2
          ],
          [
           4
          ],
          [
           1
          ],
          [
           1
          ],
          [
           4
          ],
          [
           1
          ],
          [
           0
          ],
          [
           3
          ],
          [
           1
          ],
          [
           1
          ],
          [
           3
          ],
          [
           0
          ],
          [
           2
          ],
          [
           3
          ],
          [
           1
          ],
          [
           1
          ],
          [
           0
          ],
          [
           1
          ],
          [
           1
          ],
          [
           1
          ],
          [
           2
          ],
          [
           1
          ],
          [
           1
          ],
          [
           2
          ],
          [
           1
          ],
          [
           1
          ],
          [
           1
          ],
          [
           2
          ],
          [
           1
          ],
          [
           1
          ],
          [
           2
          ],
          [
           1
          ],
          [
           1
          ],
          [
           2
          ],
          [
           0
          ],
          [
           2
          ],
          [
           0
          ],
          [
           1
          ],
          [
           1
          ],
          [
           1
          ],
          [
           1
          ],
          [
           1
          ],
          [
           3
          ],
          [
           1
          ],
          [
           1
          ],
          [
           1
          ],
          [
           1
          ],
          [
           1
          ],
          [
           2
          ],
          [
           3
          ],
          [
           1
          ],
          [
           1
          ],
          [
           1
          ],
          [
           1
          ],
          [
           1
          ],
          [
           3
          ],
          [
           1
          ],
          [
           1
          ],
          [
           1
          ],
          [
           2
          ],
          [
           1
          ],
          [
           3
          ],
          [
           1
          ],
          [
           1
          ],
          [
           1
          ],
          [
           0
          ],
          [
           1
          ],
          [
           1
          ],
          [
           1
          ],
          [
           2
          ],
          [
           1
          ],
          [
           1
          ],
          [
           1
          ],
          [
           0
          ],
          [
           0
          ],
          [
           0
          ],
          [
           4
          ],
          [
           1
          ],
          [
           2
          ],
          [
           1
          ],
          [
           1
          ],
          [
           0
          ],
          [
           1
          ],
          [
           2
          ],
          [
           1
          ],
          [
           1
          ],
          [
           1
          ],
          [
           1
          ],
          [
           1
          ],
          [
           1
          ],
          [
           1
          ],
          [
           2
          ],
          [
           1
          ],
          [
           2
          ],
          [
           1
          ],
          [
           1
          ],
          [
           3
          ],
          [
           1
          ],
          [
           1
          ],
          [
           1
          ],
          [
           1
          ],
          [
           0
          ],
          [
           1
          ],
          [
           1
          ],
          [
           2
          ],
          [
           4
          ],
          [
           1
          ],
          [
           1
          ],
          [
           0
          ],
          [
           2
          ],
          [
           2
          ],
          [
           1
          ],
          [
           1
          ],
          [
           1
          ],
          [
           0
          ],
          [
           3
          ],
          [
           2
          ],
          [
           1
          ],
          [
           1
          ],
          [
           1
          ],
          [
           1
          ],
          [
           1
          ],
          [
           4
          ],
          [
           1
          ],
          [
           2
          ],
          [
           2
          ],
          [
           1
          ],
          [
           2
          ],
          [
           1
          ],
          [
           3
          ],
          [
           1
          ],
          [
           4
          ],
          [
           1
          ],
          [
           1
          ],
          [
           0
          ],
          [
           1
          ],
          [
           1
          ],
          [
           1
          ],
          [
           1
          ],
          [
           1
          ],
          [
           1
          ],
          [
           3
          ],
          [
           2
          ],
          [
           1
          ],
          [
           1
          ],
          [
           1
          ],
          [
           1
          ],
          [
           1
          ],
          [
           0
          ],
          [
           1
          ],
          [
           3
          ],
          [
           3
          ],
          [
           1
          ],
          [
           2
          ],
          [
           1
          ],
          [
           1
          ],
          [
           1
          ],
          [
           3
          ],
          [
           1
          ],
          [
           3
          ],
          [
           1
          ],
          [
           2
          ],
          [
           1
          ],
          [
           1
          ],
          [
           0
          ],
          [
           1
          ],
          [
           1
          ],
          [
           1
          ],
          [
           2
          ],
          [
           1
          ],
          [
           1
          ],
          [
           1
          ],
          [
           1
          ],
          [
           1
          ],
          [
           0
          ],
          [
           2
          ],
          [
           2
          ],
          [
           1
          ],
          [
           0
          ],
          [
           4
          ],
          [
           2
          ],
          [
           1
          ],
          [
           1
          ],
          [
           1
          ],
          [
           3
          ],
          [
           1
          ],
          [
           1
          ],
          [
           1
          ],
          [
           1
          ],
          [
           2
          ],
          [
           1
          ],
          [
           2
          ],
          [
           1
          ],
          [
           3
          ],
          [
           2
          ],
          [
           1
          ],
          [
           3
          ],
          [
           1
          ],
          [
           1
          ],
          [
           1
          ],
          [
           2
          ],
          [
           1
          ],
          [
           2
          ],
          [
           1
          ],
          [
           1
          ],
          [
           1
          ],
          [
           1
          ],
          [
           1
          ],
          [
           1
          ],
          [
           1
          ],
          [
           0
          ],
          [
           0
          ],
          [
           2
          ],
          [
           2
          ],
          [
           1
          ],
          [
           4
          ],
          [
           2
          ],
          [
           2
          ],
          [
           1
          ],
          [
           1
          ],
          [
           1
          ],
          [
           1
          ],
          [
           1
          ],
          [
           3
          ],
          [
           2
          ],
          [
           1
          ],
          [
           1
          ],
          [
           3
          ],
          [
           1
          ],
          [
           4
          ],
          [
           1
          ],
          [
           1
          ],
          [
           2
          ],
          [
           1
          ],
          [
           1
          ],
          [
           1
          ],
          [
           1
          ],
          [
           1
          ],
          [
           1
          ],
          [
           0
          ],
          [
           0
          ],
          [
           1
          ],
          [
           1
          ],
          [
           3
          ],
          [
           1
          ],
          [
           2
          ],
          [
           1
          ],
          [
           1
          ],
          [
           3
          ],
          [
           2
          ],
          [
           1
          ],
          [
           2
          ],
          [
           0
          ],
          [
           3
          ],
          [
           1
          ],
          [
           1
          ],
          [
           1
          ],
          [
           1
          ],
          [
           1
          ],
          [
           1
          ],
          [
           1
          ],
          [
           0
          ],
          [
           2
          ],
          [
           0
          ],
          [
           3
          ],
          [
           4
          ],
          [
           2
          ],
          [
           1
          ],
          [
           1
          ],
          [
           2
          ],
          [
           1
          ],
          [
           3
          ],
          [
           0
          ],
          [
           1
          ],
          [
           1
          ],
          [
           3
          ],
          [
           0
          ],
          [
           1
          ],
          [
           2
          ],
          [
           1
          ],
          [
           0
          ],
          [
           2
          ],
          [
           1
          ],
          [
           1
          ],
          [
           2
          ],
          [
           1
          ],
          [
           1
          ],
          [
           1
          ],
          [
           3
          ],
          [
           1
          ],
          [
           3
          ],
          [
           1
          ],
          [
           1
          ],
          [
           4
          ],
          [
           0
          ],
          [
           1
          ],
          [
           1
          ],
          [
           1
          ],
          [
           3
          ],
          [
           0
          ],
          [
           2
          ],
          [
           0
          ],
          [
           4
          ],
          [
           1
          ],
          [
           1
          ],
          [
           1
          ],
          [
           1
          ],
          [
           1
          ],
          [
           2
          ],
          [
           2
          ],
          [
           1
          ],
          [
           1
          ],
          [
           1
          ],
          [
           2
          ],
          [
           2
          ],
          [
           1
          ],
          [
           1
          ],
          [
           1
          ],
          [
           1
          ],
          [
           2
          ],
          [
           1
          ],
          [
           2
          ],
          [
           1
          ],
          [
           1
          ],
          [
           2
          ],
          [
           1
          ],
          [
           1
          ],
          [
           1
          ],
          [
           2
          ],
          [
           0
          ],
          [
           1
          ],
          [
           1
          ],
          [
           1
          ],
          [
           1
          ],
          [
           2
          ],
          [
           1
          ],
          [
           1
          ],
          [
           1
          ],
          [
           4
          ],
          [
           1
          ],
          [
           3
          ],
          [
           1
          ],
          [
           2
          ],
          [
           1
          ],
          [
           2
          ],
          [
           1
          ],
          [
           3
          ],
          [
           2
          ],
          [
           1
          ],
          [
           0
          ],
          [
           2
          ],
          [
           2
          ],
          [
           3
          ],
          [
           1
          ],
          [
           1
          ],
          [
           1
          ],
          [
           1
          ],
          [
           6
          ],
          [
           1
          ],
          [
           1
          ],
          [
           1
          ],
          [
           1
          ],
          [
           3
          ],
          [
           2
          ],
          [
           2
          ],
          [
           1
          ],
          [
           1
          ],
          [
           2
          ],
          [
           1
          ],
          [
           1
          ],
          [
           1
          ],
          [
           1
          ],
          [
           1
          ],
          [
           1
          ],
          [
           1
          ],
          [
           4
          ],
          [
           2
          ],
          [
           1
          ],
          [
           2
          ],
          [
           0
          ],
          [
           1
          ],
          [
           1
          ],
          [
           1
          ],
          [
           1
          ],
          [
           1
          ],
          [
           1
          ],
          [
           1
          ],
          [
           1
          ],
          [
           1
          ],
          [
           1
          ],
          [
           1
          ],
          [
           1
          ],
          [
           1
          ],
          [
           4
          ],
          [
           1
          ],
          [
           0
          ],
          [
           1
          ],
          [
           1
          ],
          [
           0
          ],
          [
           2
          ],
          [
           2
          ],
          [
           2
          ],
          [
           2
          ],
          [
           1
          ],
          [
           1
          ],
          [
           1
          ],
          [
           1
          ],
          [
           1
          ],
          [
           1
          ],
          [
           1
          ],
          [
           1
          ],
          [
           20
          ],
          [
           2
          ],
          [
           4
          ],
          [
           1
          ],
          [
           1
          ],
          [
           2
          ],
          [
           1
          ],
          [
           2
          ],
          [
           1
          ],
          [
           1
          ],
          [
           1
          ],
          [
           2
          ],
          [
           1
          ],
          [
           2
          ],
          [
           1
          ],
          [
           0
          ],
          [
           1
          ],
          [
           2
          ],
          [
           1
          ],
          [
           1
          ],
          [
           1
          ],
          [
           4
          ],
          [
           2
          ],
          [
           1
          ],
          [
           1
          ],
          [
           1
          ],
          [
           1
          ],
          [
           1
          ],
          [
           1
          ],
          [
           1
          ],
          [
           2
          ],
          [
           0
          ],
          [
           1
          ],
          [
           1
          ],
          [
           0
          ],
          [
           0
          ],
          [
           1
          ],
          [
           2
          ],
          [
           1
          ],
          [
           2
          ],
          [
           3
          ],
          [
           1
          ],
          [
           1
          ],
          [
           1
          ],
          [
           1
          ],
          [
           2
          ],
          [
           2
          ],
          [
           1
          ],
          [
           1
          ],
          [
           1
          ],
          [
           3
          ],
          [
           1
          ],
          [
           1
          ],
          [
           1
          ],
          [
           4
          ],
          [
           1
          ],
          [
           7
          ],
          [
           1
          ],
          [
           1
          ],
          [
           1
          ],
          [
           1
          ],
          [
           0
          ],
          [
           1
          ],
          [
           2
          ],
          [
           1
          ],
          [
           0
          ],
          [
           1
          ],
          [
           1
          ],
          [
           10
          ],
          [
           4
          ],
          [
           1
          ],
          [
           1
          ],
          [
           1
          ],
          [
           1
          ],
          [
           2
          ],
          [
           3
          ],
          [
           1
          ],
          [
           2
          ],
          [
           1
          ],
          [
           1
          ],
          [
           0
          ],
          [
           1
          ],
          [
           1
          ],
          [
           1
          ],
          [
           1
          ],
          [
           1
          ],
          [
           1
          ],
          [
           0
          ],
          [
           1
          ],
          [
           0
          ],
          [
           2
          ],
          [
           3
          ],
          [
           2
          ],
          [
           1
          ],
          [
           1
          ],
          [
           1
          ],
          [
           1
          ],
          [
           1
          ],
          [
           1
          ],
          [
           0
          ],
          [
           2
          ],
          [
           3
          ],
          [
           0
          ],
          [
           1
          ],
          [
           1
          ],
          [
           0
          ],
          [
           1
          ],
          [
           1
          ],
          [
           1
          ],
          [
           1
          ],
          [
           1
          ],
          [
           1
          ],
          [
           4
          ],
          [
           1
          ],
          [
           0
          ],
          [
           1
          ],
          [
           1
          ],
          [
           1
          ],
          [
           2
          ],
          [
           1
          ],
          [
           1
          ],
          [
           1
          ],
          [
           2
          ],
          [
           2
          ],
          [
           1
          ],
          [
           2
          ],
          [
           1
          ],
          [
           1
          ],
          [
           1
          ],
          [
           1
          ],
          [
           1
          ],
          [
           1
          ],
          [
           2
          ],
          [
           3
          ],
          [
           1
          ],
          [
           1
          ],
          [
           5
          ],
          [
           1
          ],
          [
           1
          ],
          [
           2
          ],
          [
           1
          ],
          [
           2
          ],
          [
           0
          ],
          [
           1
          ],
          [
           2
          ],
          [
           2
          ],
          [
           1
          ],
          [
           4
          ],
          [
           1
          ],
          [
           2
          ],
          [
           1
          ],
          [
           1
          ],
          [
           1
          ],
          [
           1
          ],
          [
           1
          ],
          [
           2
          ],
          [
           2
          ],
          [
           1
          ],
          [
           1
          ],
          [
           1
          ],
          [
           1
          ],
          [
           1
          ],
          [
           1
          ],
          [
           2
          ],
          [
           1
          ],
          [
           1
          ],
          [
           0
          ],
          [
           1
          ],
          [
           1
          ],
          [
           1
          ],
          [
           1
          ],
          [
           1
          ],
          [
           1
          ],
          [
           1
          ],
          [
           2
          ],
          [
           1
          ],
          [
           1
          ],
          [
           1
          ],
          [
           1
          ],
          [
           4
          ],
          [
           3
          ],
          [
           1
          ],
          [
           0
          ],
          [
           2
          ],
          [
           1
          ],
          [
           2
          ],
          [
           1
          ],
          [
           4
          ],
          [
           1
          ],
          [
           1
          ],
          [
           2
          ],
          [
           0
          ],
          [
           1
          ],
          [
           1
          ],
          [
           1
          ],
          [
           5
          ],
          [
           0
          ],
          [
           1
          ],
          [
           1
          ],
          [
           1
          ],
          [
           1
          ],
          [
           1
          ],
          [
           1
          ],
          [
           1
          ],
          [
           3
          ],
          [
           0
          ],
          [
           2
          ],
          [
           2
          ],
          [
           1
          ],
          [
           4
          ],
          [
           0
          ],
          [
           1
          ],
          [
           3
          ],
          [
           1
          ],
          [
           1
          ],
          [
           1
          ],
          [
           1
          ],
          [
           1
          ],
          [
           3
          ],
          [
           0
          ],
          [
           0
          ],
          [
           1
          ],
          [
           1
          ],
          [
           4
          ],
          [
           1
          ],
          [
           1
          ],
          [
           0
          ],
          [
           2
          ],
          [
           2
          ],
          [
           1
          ],
          [
           4
          ],
          [
           1
          ],
          [
           0
          ],
          [
           1
          ],
          [
           1
          ],
          [
           1
          ],
          [
           0
          ],
          [
           2
          ],
          [
           1
          ],
          [
           1
          ],
          [
           1
          ],
          [
           2
          ],
          [
           0
          ],
          [
           1
          ],
          [
           2
          ],
          [
           1
          ],
          [
           1
          ],
          [
           2
          ],
          [
           1
          ],
          [
           0
          ],
          [
           1
          ],
          [
           2
          ],
          [
           1
          ],
          [
           2
          ],
          [
           0
          ],
          [
           1
          ],
          [
           1
          ],
          [
           3
          ],
          [
           2
          ],
          [
           2
          ],
          [
           2
          ],
          [
           1
          ],
          [
           2
          ],
          [
           4
          ],
          [
           2
          ],
          [
           3
          ],
          [
           1
          ],
          [
           0
          ],
          [
           4
          ],
          [
           2
          ],
          [
           1
          ],
          [
           1
          ],
          [
           1
          ],
          [
           4
          ],
          [
           1
          ],
          [
           1
          ],
          [
           3
          ],
          [
           1
          ],
          [
           1
          ],
          [
           1
          ],
          [
           2
          ],
          [
           0
          ],
          [
           0
          ],
          [
           0
          ],
          [
           1
          ],
          [
           1
          ],
          [
           1
          ],
          [
           2
          ],
          [
           0
          ],
          [
           0
          ],
          [
           1
          ],
          [
           1
          ],
          [
           3
          ],
          [
           1
          ],
          [
           2
          ],
          [
           0
          ],
          [
           2
          ],
          [
           1
          ],
          [
           1
          ],
          [
           1
          ],
          [
           1
          ],
          [
           1
          ],
          [
           2
          ],
          [
           1
          ],
          [
           2
          ],
          [
           3
          ],
          [
           3
          ],
          [
           2
          ],
          [
           0
          ],
          [
           1
          ],
          [
           3
          ],
          [
           1
          ],
          [
           1
          ],
          [
           2
          ],
          [
           1
          ],
          [
           2
          ],
          [
           1
          ],
          [
           0
          ],
          [
           1
          ],
          [
           1
          ],
          [
           0
          ],
          [
           1
          ],
          [
           3
          ],
          [
           3
          ],
          [
           1
          ],
          [
           1
          ],
          [
           1
          ],
          [
           1
          ],
          [
           0
          ],
          [
           1
          ],
          [
           2
          ],
          [
           1
          ],
          [
           3
          ],
          [
           1
          ],
          [
           2
          ],
          [
           1
          ],
          [
           1
          ],
          [
           0
          ],
          [
           1
          ],
          [
           4
          ],
          [
           1
          ],
          [
           1
          ],
          [
           2
          ],
          [
           3
          ],
          [
           1
          ],
          [
           2
          ],
          [
           1
          ],
          [
           2
          ],
          [
           1
          ],
          [
           1
          ],
          [
           1
          ],
          [
           1
          ],
          [
           3
          ],
          [
           1
          ],
          [
           1
          ],
          [
           1
          ],
          [
           1
          ],
          [
           0
          ],
          [
           1
          ],
          [
           3
          ],
          [
           1
          ],
          [
           1
          ],
          [
           5
          ],
          [
           1
          ],
          [
           0
          ],
          [
           1
          ],
          [
           2
          ],
          [
           2
          ],
          [
           1
          ],
          [
           1
          ],
          [
           2
          ],
          [
           2
          ],
          [
           1
          ],
          [
           0
          ],
          [
           0
          ],
          [
           2
          ],
          [
           1
          ],
          [
           0
          ],
          [
           1
          ],
          [
           2
          ],
          [
           1
          ],
          [
           0
          ],
          [
           1
          ],
          [
           1
          ],
          [
           4
          ],
          [
           1
          ],
          [
           2
          ],
          [
           1
          ],
          [
           1
          ],
          [
           2
          ],
          [
           1
          ],
          [
           2
          ],
          [
           2
          ],
          [
           0
          ],
          [
           1
          ],
          [
           3
          ],
          [
           1
          ],
          [
           1
          ],
          [
           1
          ],
          [
           5
          ],
          [
           1
          ],
          [
           1
          ],
          [
           2
          ],
          [
           1
          ],
          [
           4
          ],
          [
           1
          ],
          [
           1
          ],
          [
           2
          ],
          [
           2
          ],
          [
           1
          ],
          [
           0
          ],
          [
           1
          ],
          [
           1
          ],
          [
           2
          ],
          [
           1
          ],
          [
           1
          ],
          [
           1
          ],
          [
           1
          ],
          [
           0
          ],
          [
           1
          ],
          [
           2
          ],
          [
           3
          ],
          [
           1
          ],
          [
           2
          ],
          [
           1
          ],
          [
           1
          ],
          [
           1
          ],
          [
           1
          ],
          [
           0
          ],
          [
           1
          ],
          [
           0
          ],
          [
           3
          ],
          [
           2
          ],
          [
           1
          ],
          [
           3
          ],
          [
           1
          ],
          [
           4
          ],
          [
           1
          ],
          [
           1
          ],
          [
           2
          ],
          [
           0
          ],
          [
           1
          ],
          [
           2
          ],
          [
           1
          ],
          [
           3
          ],
          [
           1
          ],
          [
           0
          ],
          [
           1
          ],
          [
           3
          ],
          [
           2
          ],
          [
           3
          ],
          [
           1
          ],
          [
           1
          ],
          [
           1
          ],
          [
           1
          ],
          [
           0
          ],
          [
           0
          ],
          [
           1
          ],
          [
           1
          ],
          [
           4
          ],
          [
           1
          ],
          [
           1
          ],
          [
           0
          ],
          [
           0
          ],
          [
           1
          ],
          [
           1
          ],
          [
           1
          ],
          [
           1
          ],
          [
           0
          ],
          [
           1
          ],
          [
           1
          ],
          [
           1
          ],
          [
           2
          ],
          [
           1
          ],
          [
           2
          ],
          [
           1
          ],
          [
           1
          ],
          [
           2
          ],
          [
           2
          ],
          [
           3
          ],
          [
           1
          ],
          [
           1
          ],
          [
           1
          ],
          [
           1
          ],
          [
           1
          ],
          [
           1
          ],
          [
           2
          ],
          [
           2
          ],
          [
           2
          ],
          [
           1
          ],
          [
           1
          ],
          [
           1
          ],
          [
           3
          ],
          [
           1
          ],
          [
           3
          ],
          [
           1
          ],
          [
           1
          ],
          [
           0
          ],
          [
           2
          ],
          [
           2
          ],
          [
           3
          ],
          [
           1
          ],
          [
           3
          ],
          [
           2
          ],
          [
           1
          ],
          [
           2
          ],
          [
           2
          ],
          [
           2
          ],
          [
           2
          ],
          [
           2
          ],
          [
           1
          ],
          [
           1
          ],
          [
           1
          ],
          [
           2
          ],
          [
           0
          ],
          [
           1
          ],
          [
           1
          ],
          [
           1
          ],
          [
           0
          ],
          [
           2
          ],
          [
           1
          ],
          [
           0
          ],
          [
           0
          ],
          [
           4
          ],
          [
           1
          ],
          [
           0
          ],
          [
           2
          ],
          [
           1
          ],
          [
           1
          ],
          [
           2
          ],
          [
           4
          ],
          [
           1
          ],
          [
           2
          ],
          [
           0
          ],
          [
           2
          ],
          [
           4
          ],
          [
           2
          ],
          [
           0
          ],
          [
           3
          ],
          [
           2
          ],
          [
           1
          ],
          [
           1
          ],
          [
           0
          ],
          [
           0
          ],
          [
           1
          ],
          [
           1
          ],
          [
           2
          ],
          [
           1
          ],
          [
           1
          ],
          [
           2
          ],
          [
           1
          ],
          [
           2
          ],
          [
           1
          ],
          [
           1
          ],
          [
           5
          ],
          [
           1
          ],
          [
           1
          ],
          [
           0
          ],
          [
           1
          ],
          [
           1
          ],
          [
           4
          ],
          [
           2
          ],
          [
           1
          ],
          [
           1
          ],
          [
           1
          ],
          [
           2
          ],
          [
           1
          ],
          [
           1
          ],
          [
           1
          ],
          [
           3
          ],
          [
           1
          ],
          [
           1
          ],
          [
           1
          ],
          [
           1
          ],
          [
           1
          ],
          [
           1
          ],
          [
           1
          ],
          [
           0
          ],
          [
           1
          ],
          [
           1
          ],
          [
           2
          ],
          [
           1
          ],
          [
           1
          ],
          [
           1
          ],
          [
           1
          ],
          [
           3
          ],
          [
           1
          ],
          [
           1
          ],
          [
           1
          ],
          [
           3
          ],
          [
           8
          ],
          [
           0
          ],
          [
           1
          ],
          [
           1
          ],
          [
           1
          ],
          [
           2
          ],
          [
           4
          ],
          [
           1
          ],
          [
           1
          ],
          [
           0
          ],
          [
           2
          ],
          [
           1
          ],
          [
           0
          ],
          [
           1
          ],
          [
           1
          ],
          [
           1
          ],
          [
           1
          ],
          [
           2
          ],
          [
           3
          ],
          [
           0
          ],
          [
           0
          ],
          [
           3
          ],
          [
           1
          ],
          [
           1
          ],
          [
           1
          ],
          [
           2
          ],
          [
           1
          ],
          [
           0
          ],
          [
           1
          ],
          [
           1
          ],
          [
           5
          ],
          [
           1
          ],
          [
           1
          ],
          [
           1
          ],
          [
           1
          ],
          [
           1
          ],
          [
           1
          ],
          [
           0
          ],
          [
           1
          ],
          [
           1
          ],
          [
           1
          ],
          [
           1
          ],
          [
           1
          ],
          [
           1
          ],
          [
           0
          ],
          [
           3
          ],
          [
           1
          ],
          [
           1
          ],
          [
           2
          ],
          [
           1
          ],
          [
           1
          ],
          [
           4
          ],
          [
           2
          ],
          [
           2
          ],
          [
           1
          ],
          [
           2
          ],
          [
           1
          ],
          [
           1
          ],
          [
           1
          ],
          [
           1
          ],
          [
           1
          ],
          [
           1
          ],
          [
           1
          ],
          [
           1
          ],
          [
           1
          ],
          [
           1
          ],
          [
           1
          ],
          [
           1
          ],
          [
           0
          ],
          [
           1
          ],
          [
           0
          ],
          [
           0
          ],
          [
           0
          ],
          [
           2
          ],
          [
           1
          ],
          [
           0
          ],
          [
           1
          ],
          [
           1
          ],
          [
           1
          ],
          [
           1
          ],
          [
           2
          ],
          [
           1
          ],
          [
           2
          ],
          [
           1
          ],
          [
           1
          ],
          [
           1
          ],
          [
           1
          ],
          [
           1
          ],
          [
           2
          ],
          [
           1
          ],
          [
           1
          ],
          [
           1
          ],
          [
           1
          ],
          [
           1
          ],
          [
           0
          ],
          [
           3
          ],
          [
           2
          ],
          [
           0
          ],
          [
           0
          ],
          [
           3
          ],
          [
           3
          ],
          [
           2
          ],
          [
           1
          ],
          [
           1
          ],
          [
           2
          ],
          [
           1
          ],
          [
           2
          ],
          [
           3
          ],
          [
           3
          ],
          [
           1
          ],
          [
           1
          ],
          [
           3
          ],
          [
           2
          ],
          [
           0
          ],
          [
           1
          ],
          [
           1
          ],
          [
           1
          ],
          [
           1
          ],
          [
           1
          ],
          [
           1
          ],
          [
           1
          ],
          [
           2
          ],
          [
           1
          ],
          [
           1
          ],
          [
           1
          ],
          [
           0
          ],
          [
           2
          ],
          [
           7
          ],
          [
           1
          ],
          [
           2
          ],
          [
           0
          ],
          [
           1
          ],
          [
           1
          ],
          [
           1
          ],
          [
           1
          ],
          [
           3
          ],
          [
           1
          ],
          [
           0
          ],
          [
           1
          ],
          [
           1
          ],
          [
           1
          ],
          [
           3
          ],
          [
           1
          ],
          [
           1
          ],
          [
           1
          ],
          [
           2
          ],
          [
           1
          ],
          [
           2
          ],
          [
           1
          ],
          [
           1
          ],
          [
           1
          ],
          [
           1
          ],
          [
           1
          ],
          [
           3
          ],
          [
           2
          ],
          [
           1
          ],
          [
           1
          ],
          [
           1
          ],
          [
           2
          ],
          [
           2
          ],
          [
           1
          ],
          [
           3
          ],
          [
           1
          ],
          [
           1
          ],
          [
           1
          ],
          [
           2
          ],
          [
           2
          ],
          [
           1
          ],
          [
           2
          ],
          [
           1
          ],
          [
           1
          ],
          [
           1
          ],
          [
           2
          ],
          [
           3
          ],
          [
           1
          ],
          [
           1
          ],
          [
           1
          ],
          [
           2
          ],
          [
           1
          ],
          [
           1
          ],
          [
           0
          ],
          [
           4
          ],
          [
           4
          ],
          [
           1
          ],
          [
           4
          ],
          [
           1
          ],
          [
           1
          ],
          [
           1
          ],
          [
           0
          ],
          [
           1
          ],
          [
           1
          ],
          [
           1
          ],
          [
           1
          ],
          [
           1
          ],
          [
           1
          ],
          [
           1
          ],
          [
           0
          ],
          [
           1
          ],
          [
           1
          ],
          [
           2
          ],
          [
           1
          ],
          [
           1
          ],
          [
           1
          ],
          [
           1
          ],
          [
           1
          ],
          [
           2
          ],
          [
           3
          ],
          [
           1
          ],
          [
           1
          ],
          [
           1
          ],
          [
           3
          ],
          [
           1
          ],
          [
           2
          ],
          [
           1
          ],
          [
           1
          ],
          [
           1
          ],
          [
           1
          ],
          [
           1
          ],
          [
           3
          ],
          [
           2
          ],
          [
           1
          ],
          [
           1
          ],
          [
           2
          ],
          [
           0
          ],
          [
           2
          ],
          [
           2
          ],
          [
           3
          ],
          [
           0
          ],
          [
           1
          ],
          [
           2
          ],
          [
           0
          ],
          [
           1
          ],
          [
           1
          ],
          [
           1
          ],
          [
           1
          ],
          [
           1
          ],
          [
           1
          ],
          [
           4
          ],
          [
           2
          ],
          [
           2
          ],
          [
           1
          ],
          [
           1
          ],
          [
           0
          ],
          [
           1
          ],
          [
           1
          ],
          [
           2
          ],
          [
           2
          ],
          [
           3
          ],
          [
           2
          ],
          [
           3
          ],
          [
           0
          ],
          [
           1
          ],
          [
           1
          ],
          [
           2
          ],
          [
           2
          ],
          [
           1
          ],
          [
           3
          ],
          [
           0
          ],
          [
           1
          ],
          [
           2
          ],
          [
           2
          ],
          [
           1
          ],
          [
           0
          ],
          [
           1
          ],
          [
           0
          ],
          [
           1
          ],
          [
           2
          ],
          [
           1
          ],
          [
           1
          ],
          [
           1
          ],
          [
           3
          ],
          [
           0
          ],
          [
           1
          ],
          [
           1
          ],
          [
           1
          ],
          [
           1
          ],
          [
           1
          ],
          [
           1
          ],
          [
           2
          ],
          [
           1
          ],
          [
           1
          ],
          [
           1
          ],
          [
           2
          ],
          [
           2
          ],
          [
           1
          ],
          [
           1
          ],
          [
           1
          ],
          [
           4
          ],
          [
           1
          ],
          [
           4
          ],
          [
           1
          ],
          [
           1
          ],
          [
           3
          ],
          [
           1
          ],
          [
           1
          ],
          [
           3
          ],
          [
           1
          ],
          [
           2
          ],
          [
           1
          ],
          [
           2
          ],
          [
           2
          ],
          [
           2
          ],
          [
           1
          ],
          [
           1
          ],
          [
           1
          ],
          [
           0
          ],
          [
           1
          ],
          [
           2
          ],
          [
           0
          ],
          [
           0
          ],
          [
           1
          ],
          [
           2
          ],
          [
           4
          ],
          [
           1
          ],
          [
           2
          ],
          [
           1
          ],
          [
           1
          ],
          [
           2
          ],
          [
           1
          ],
          [
           1
          ],
          [
           4
          ],
          [
           1
          ],
          [
           1
          ],
          [
           1
          ],
          [
           1
          ],
          [
           1
          ],
          [
           1
          ],
          [
           1
          ],
          [
           1
          ],
          [
           0
          ],
          [
           1
          ],
          [
           1
          ],
          [
           2
          ],
          [
           3
          ],
          [
           1
          ],
          [
           3
          ],
          [
           2
          ],
          [
           3
          ],
          [
           1
          ],
          [
           0
          ],
          [
           1
          ],
          [
           5
          ],
          [
           1
          ],
          [
           2
          ],
          [
           1
          ],
          [
           0
          ],
          [
           1
          ],
          [
           1
          ],
          [
           0
          ],
          [
           2
          ],
          [
           1
          ],
          [
           1
          ],
          [
           1
          ],
          [
           0
          ],
          [
           7
          ],
          [
           1
          ],
          [
           1
          ],
          [
           4
          ],
          [
           1
          ],
          [
           2
          ],
          [
           1
          ],
          [
           1
          ],
          [
           2
          ],
          [
           1
          ],
          [
           0
          ],
          [
           2
          ],
          [
           1
          ],
          [
           1
          ],
          [
           1
          ],
          [
           4
          ],
          [
           3
          ],
          [
           5
          ],
          [
           1
          ],
          [
           1
          ],
          [
           0
          ],
          [
           1
          ],
          [
           1
          ],
          [
           2
          ],
          [
           2
          ],
          [
           2
          ],
          [
           2
          ],
          [
           1
          ],
          [
           2
          ],
          [
           1
          ],
          [
           2
          ],
          [
           1
          ],
          [
           2
          ],
          [
           1
          ],
          [
           0
          ],
          [
           1
          ],
          [
           1
          ],
          [
           1
          ],
          [
           1
          ],
          [
           1
          ],
          [
           1
          ],
          [
           3
          ],
          [
           1
          ],
          [
           1
          ],
          [
           2
          ],
          [
           2
          ],
          [
           1
          ],
          [
           2
          ],
          [
           0
          ],
          [
           1
          ],
          [
           3
          ],
          [
           1
          ],
          [
           1
          ],
          [
           1
          ],
          [
           1
          ],
          [
           1
          ],
          [
           1
          ],
          [
           2
          ],
          [
           2
          ],
          [
           1
          ],
          [
           1
          ],
          [
           1
          ],
          [
           1
          ],
          [
           1
          ],
          [
           3
          ],
          [
           1
          ],
          [
           1
          ],
          [
           1
          ],
          [
           1
          ],
          [
           1
          ],
          [
           1
          ],
          [
           0
          ],
          [
           0
          ],
          [
           1
          ],
          [
           1
          ],
          [
           1
          ],
          [
           1
          ],
          [
           1
          ],
          [
           1
          ],
          [
           1
          ],
          [
           1
          ],
          [
           3
          ],
          [
           1
          ],
          [
           1
          ],
          [
           2
          ],
          [
           1
          ],
          [
           0
          ],
          [
           2
          ],
          [
           3
          ],
          [
           3
          ],
          [
           1
          ],
          [
           1
          ],
          [
           2
          ],
          [
           1
          ],
          [
           2
          ],
          [
           2
          ],
          [
           1
          ],
          [
           2
          ],
          [
           3
          ],
          [
           1
          ],
          [
           3
          ],
          [
           1
          ],
          [
           1
          ],
          [
           0
          ],
          [
           2
          ],
          [
           2
          ],
          [
           1
          ],
          [
           3
          ],
          [
           1
          ],
          [
           4
          ],
          [
           1
          ],
          [
           0
          ],
          [
           1
          ],
          [
           0
          ],
          [
           1
          ],
          [
           1
          ],
          [
           1
          ],
          [
           2
          ],
          [
           1
          ],
          [
           2
          ],
          [
           1
          ],
          [
           1
          ],
          [
           2
          ],
          [
           1
          ],
          [
           1
          ],
          [
           5
          ],
          [
           2
          ],
          [
           1
          ],
          [
           2
          ],
          [
           3
          ],
          [
           1
          ],
          [
           4
          ],
          [
           1
          ],
          [
           2
          ],
          [
           0
          ],
          [
           2
          ],
          [
           1
          ],
          [
           1
          ],
          [
           1
          ],
          [
           1
          ],
          [
           1
          ],
          [
           2
          ],
          [
           1
          ],
          [
           3
          ],
          [
           1
          ],
          [
           3
          ],
          [
           1
          ],
          [
           1
          ],
          [
           3
          ],
          [
           1
          ],
          [
           2
          ],
          [
           1
          ],
          [
           1
          ],
          [
           1
          ],
          [
           1
          ],
          [
           4
          ],
          [
           1
          ],
          [
           1
          ],
          [
           0
          ],
          [
           2
          ],
          [
           2
          ],
          [
           1
          ],
          [
           1
          ],
          [
           1
          ],
          [
           1
          ],
          [
           1
          ],
          [
           1
          ],
          [
           2
          ],
          [
           1
          ],
          [
           1
          ],
          [
           1
          ],
          [
           2
          ],
          [
           1
          ],
          [
           1
          ],
          [
           1
          ],
          [
           1
          ],
          [
           2
          ],
          [
           1
          ],
          [
           0
          ],
          [
           1
          ],
          [
           1
          ],
          [
           1
          ],
          [
           4
          ],
          [
           0
          ],
          [
           1
          ],
          [
           2
          ],
          [
           1
          ],
          [
           2
          ],
          [
           1
          ],
          [
           1
          ],
          [
           1
          ],
          [
           1
          ],
          [
           2
          ],
          [
           1
          ],
          [
           0
          ],
          [
           2
          ],
          [
           1
          ],
          [
           3
          ],
          [
           1
          ],
          [
           1
          ],
          [
           3
          ],
          [
           2
          ],
          [
           2
          ],
          [
           1
          ],
          [
           1
          ],
          [
           2
          ],
          [
           0
          ],
          [
           1
          ],
          [
           1
          ],
          [
           1
          ],
          [
           0
          ],
          [
           1
          ],
          [
           0
          ],
          [
           1
          ],
          [
           2
          ],
          [
           1
          ],
          [
           1
          ],
          [
           1
          ],
          [
           1
          ],
          [
           2
          ],
          [
           1
          ],
          [
           2
          ],
          [
           1
          ],
          [
           1
          ],
          [
           0
          ],
          [
           0
          ],
          [
           0
          ],
          [
           1
          ],
          [
           4
          ],
          [
           1
          ],
          [
           1
          ],
          [
           1
          ],
          [
           5
          ],
          [
           1
          ],
          [
           1
          ],
          [
           1
          ],
          [
           1
          ],
          [
           2
          ],
          [
           1
          ],
          [
           1
          ],
          [
           3
          ],
          [
           1
          ],
          [
           1
          ],
          [
           1
          ],
          [
           3
          ],
          [
           1
          ],
          [
           1
          ],
          [
           1
          ],
          [
           3
          ],
          [
           3
          ],
          [
           2
          ],
          [
           1
          ],
          [
           1
          ],
          [
           1
          ],
          [
           1
          ],
          [
           1
          ],
          [
           1
          ],
          [
           3
          ],
          [
           1
          ],
          [
           1
          ],
          [
           2
          ],
          [
           1
          ],
          [
           2
          ],
          [
           1
          ],
          [
           0
          ],
          [
           1
          ],
          [
           1
          ],
          [
           1
          ],
          [
           1
          ],
          [
           4
          ],
          [
           1
          ],
          [
           1
          ],
          [
           1
          ],
          [
           1
          ],
          [
           1
          ],
          [
           2
          ],
          [
           1
          ],
          [
           0
          ],
          [
           1
          ],
          [
           2
          ],
          [
           1
          ],
          [
           1
          ],
          [
           2
          ],
          [
           2
          ],
          [
           2
          ],
          [
           2
          ],
          [
           1
          ],
          [
           1
          ],
          [
           1
          ],
          [
           1
          ],
          [
           2
          ],
          [
           1
          ],
          [
           1
          ],
          [
           1
          ],
          [
           1
          ],
          [
           1
          ],
          [
           1
          ],
          [
           3
          ],
          [
           3
          ],
          [
           1
          ],
          [
           1
          ],
          [
           3
          ],
          [
           2
          ],
          [
           1
          ],
          [
           0
          ],
          [
           1
          ],
          [
           1
          ],
          [
           1
          ],
          [
           2
          ],
          [
           1
          ],
          [
           1
          ],
          [
           1
          ],
          [
           1
          ],
          [
           2
          ],
          [
           2
          ],
          [
           1
          ],
          [
           1
          ],
          [
           1
          ],
          [
           1
          ],
          [
           0
          ],
          [
           1
          ],
          [
           0
          ],
          [
           3
          ],
          [
           1
          ],
          [
           2
          ],
          [
           1
          ],
          [
           1
          ],
          [
           1
          ],
          [
           1
          ],
          [
           2
          ],
          [
           0
          ],
          [
           4
          ],
          [
           2
          ],
          [
           1
          ],
          [
           0
          ],
          [
           1
          ],
          [
           3
          ],
          [
           1
          ],
          [
           3
          ],
          [
           1
          ],
          [
           1
          ],
          [
           1
          ],
          [
           1
          ],
          [
           2
          ],
          [
           1
          ],
          [
           0
          ],
          [
           1
          ],
          [
           1
          ],
          [
           3
          ],
          [
           3
          ],
          [
           1
          ],
          [
           2
          ],
          [
           2
          ],
          [
           3
          ],
          [
           1
          ],
          [
           1
          ],
          [
           2
          ],
          [
           1
          ],
          [
           1
          ],
          [
           1
          ],
          [
           1
          ],
          [
           1
          ],
          [
           1
          ],
          [
           1
          ],
          [
           1
          ],
          [
           1
          ],
          [
           1
          ],
          [
           1
          ],
          [
           1
          ],
          [
           4
          ],
          [
           1
          ],
          [
           1
          ],
          [
           1
          ],
          [
           1
          ],
          [
           1
          ],
          [
           0
          ],
          [
           1
          ],
          [
           1
          ],
          [
           2
          ],
          [
           2
          ],
          [
           2
          ],
          [
           0
          ],
          [
           2
          ],
          [
           2
          ],
          [
           1
          ],
          [
           1
          ],
          [
           2
          ],
          [
           15
          ],
          [
           1
          ],
          [
           1
          ],
          [
           1
          ],
          [
           2
          ],
          [
           1
          ],
          [
           0
          ],
          [
           3
          ],
          [
           1
          ],
          [
           2
          ],
          [
           0
          ],
          [
           2
          ],
          [
           0
          ],
          [
           2
          ],
          [
           1
          ],
          [
           1
          ],
          [
           1
          ],
          [
           1
          ],
          [
           2
          ],
          [
           1
          ],
          [
           1
          ],
          [
           1
          ],
          [
           0
          ],
          [
           2
          ],
          [
           2
          ],
          [
           1
          ],
          [
           1
          ],
          [
           2
          ],
          [
           2
          ],
          [
           2
          ],
          [
           0
          ],
          [
           1
          ],
          [
           1
          ],
          [
           5
          ],
          [
           1
          ],
          [
           2
          ],
          [
           1
          ],
          [
           1
          ],
          [
           1
          ],
          [
           6
          ],
          [
           2
          ],
          [
           0
          ],
          [
           1
          ],
          [
           1
          ],
          [
           2
          ],
          [
           1
          ],
          [
           1
          ],
          [
           1
          ],
          [
           2
          ],
          [
           1
          ],
          [
           3
          ],
          [
           1
          ],
          [
           1
          ],
          [
           2
          ],
          [
           1
          ],
          [
           1
          ],
          [
           0
          ],
          [
           1
          ],
          [
           1
          ],
          [
           1
          ],
          [
           1
          ],
          [
           0
          ],
          [
           1
          ],
          [
           2
          ],
          [
           1
          ],
          [
           1
          ],
          [
           1
          ],
          [
           1
          ],
          [
           1
          ],
          [
           1
          ],
          [
           2
          ],
          [
           2
          ],
          [
           1
          ],
          [
           3
          ],
          [
           1
          ],
          [
           1
          ],
          [
           1
          ],
          [
           2
          ],
          [
           0
          ],
          [
           1
          ],
          [
           2
          ],
          [
           0
          ],
          [
           1
          ],
          [
           1
          ],
          [
           0
          ],
          [
           3
          ],
          [
           2
          ],
          [
           1
          ],
          [
           4
          ],
          [
           1
          ],
          [
           1
          ],
          [
           1
          ],
          [
           1
          ],
          [
           1
          ],
          [
           2
          ],
          [
           1
          ],
          [
           1
          ],
          [
           1
          ],
          [
           2
          ],
          [
           2
          ],
          [
           0
          ],
          [
           1
          ],
          [
           1
          ],
          [
           1
          ],
          [
           1
          ],
          [
           2
          ],
          [
           2
          ],
          [
           2
          ],
          [
           2
          ],
          [
           3
          ],
          [
           7
          ],
          [
           1
          ],
          [
           1
          ],
          [
           0
          ],
          [
           1
          ],
          [
           1
          ],
          [
           3
          ],
          [
           1
          ],
          [
           2
          ],
          [
           1
          ],
          [
           1
          ],
          [
           4
          ],
          [
           1
          ],
          [
           1
          ],
          [
           1
          ],
          [
           0
          ],
          [
           3
          ],
          [
           0
          ],
          [
           3
          ],
          [
           1
          ],
          [
           2
          ],
          [
           2
          ],
          [
           1
          ],
          [
           3
          ],
          [
           3
          ],
          [
           2
          ],
          [
           1
          ],
          [
           2
          ],
          [
           1
          ],
          [
           1
          ],
          [
           2
          ],
          [
           2
          ],
          [
           2
          ],
          [
           2
          ],
          [
           2
          ],
          [
           2
          ],
          [
           3
          ],
          [
           2
          ],
          [
           0
          ],
          [
           1
          ],
          [
           0
          ],
          [
           1
          ],
          [
           1
          ],
          [
           4
          ],
          [
           1
          ],
          [
           1
          ],
          [
           1
          ],
          [
           1
          ],
          [
           1
          ],
          [
           1
          ],
          [
           2
          ],
          [
           1
          ],
          [
           1
          ],
          [
           2
          ],
          [
           1
          ],
          [
           1
          ],
          [
           0
          ],
          [
           0
          ],
          [
           0
          ],
          [
           1
          ],
          [
           1
          ],
          [
           1
          ],
          [
           2
          ],
          [
           1
          ],
          [
           1
          ],
          [
           1
          ],
          [
           1
          ],
          [
           1
          ],
          [
           3
          ],
          [
           3
          ],
          [
           2
          ],
          [
           3
          ],
          [
           2
          ],
          [
           1
          ],
          [
           1
          ],
          [
           1
          ],
          [
           1
          ],
          [
           1
          ],
          [
           1
          ],
          [
           1
          ],
          [
           1
          ],
          [
           2
          ],
          [
           2
          ],
          [
           3
          ],
          [
           1
          ],
          [
           0
          ],
          [
           1
          ],
          [
           1
          ],
          [
           1
          ],
          [
           2
          ],
          [
           1
          ],
          [
           1
          ],
          [
           0
          ],
          [
           1
          ],
          [
           2
          ],
          [
           1
          ],
          [
           1
          ],
          [
           1
          ],
          [
           2
          ],
          [
           2
          ],
          [
           2
          ],
          [
           1
          ],
          [
           1
          ],
          [
           1
          ],
          [
           2
          ],
          [
           1
          ],
          [
           1
          ],
          [
           1
          ],
          [
           1
          ],
          [
           1
          ],
          [
           2
          ],
          [
           1
          ],
          [
           2
          ],
          [
           1
          ],
          [
           1
          ],
          [
           0
          ],
          [
           4
          ],
          [
           3
          ],
          [
           1
          ],
          [
           3
          ],
          [
           2
          ],
          [
           1
          ],
          [
           1
          ],
          [
           2
          ],
          [
           1
          ],
          [
           0
          ],
          [
           3
          ],
          [
           0
          ],
          [
           1
          ],
          [
           2
          ],
          [
           2
          ],
          [
           0
          ],
          [
           1
          ],
          [
           1
          ],
          [
           1
          ],
          [
           1
          ],
          [
           1
          ],
          [
           2
          ],
          [
           0
          ],
          [
           1
          ],
          [
           1
          ],
          [
           1
          ],
          [
           1
          ],
          [
           1
          ],
          [
           1
          ],
          [
           1
          ],
          [
           3
          ],
          [
           0
          ],
          [
           1
          ],
          [
           1
          ],
          [
           1
          ],
          [
           1
          ],
          [
           2
          ],
          [
           1
          ],
          [
           1
          ],
          [
           2
          ],
          [
           0
          ],
          [
           1
          ],
          [
           1
          ],
          [
           1
          ],
          [
           2
          ],
          [
           2
          ],
          [
           1
          ],
          [
           3
          ],
          [
           1
          ],
          [
           4
          ],
          [
           1
          ],
          [
           1
          ],
          [
           1
          ],
          [
           0
          ],
          [
           2
          ],
          [
           2
          ],
          [
           1
          ],
          [
           1
          ],
          [
           1
          ],
          [
           1
          ],
          [
           3
          ],
          [
           1
          ],
          [
           1
          ],
          [
           1
          ],
          [
           1
          ],
          [
           2
          ],
          [
           1
          ],
          [
           1
          ],
          [
           3
          ],
          [
           1
          ],
          [
           0
          ],
          [
           1
          ],
          [
           1
          ],
          [
           2
          ],
          [
           1
          ],
          [
           2
          ],
          [
           2
          ],
          [
           2
          ],
          [
           1
          ],
          [
           3
          ],
          [
           2
          ],
          [
           2
          ],
          [
           1
          ],
          [
           1
          ],
          [
           0
          ],
          [
           1
          ],
          [
           1
          ],
          [
           1
          ],
          [
           1
          ],
          [
           0
          ],
          [
           1
          ],
          [
           2
          ],
          [
           2
          ],
          [
           1
          ],
          [
           1
          ],
          [
           1
          ],
          [
           1
          ],
          [
           1
          ],
          [
           2
          ],
          [
           3
          ],
          [
           1
          ],
          [
           1
          ],
          [
           1
          ],
          [
           4
          ],
          [
           1
          ],
          [
           1
          ],
          [
           1
          ],
          [
           1
          ],
          [
           1
          ],
          [
           1
          ],
          [
           2
          ],
          [
           2
          ],
          [
           3
          ],
          [
           1
          ],
          [
           1
          ],
          [
           4
          ],
          [
           1
          ],
          [
           1
          ],
          [
           1
          ],
          [
           1
          ],
          [
           1
          ],
          [
           1
          ],
          [
           3
          ],
          [
           1
          ],
          [
           2
          ],
          [
           1
          ],
          [
           1
          ],
          [
           2
          ],
          [
           1
          ],
          [
           1
          ],
          [
           1
          ],
          [
           2
          ],
          [
           1
          ],
          [
           1
          ],
          [
           1
          ],
          [
           2
          ],
          [
           2
          ],
          [
           1
          ],
          [
           4
          ],
          [
           1
          ],
          [
           1
          ],
          [
           1
          ],
          [
           3
          ],
          [
           2
          ],
          [
           1
          ],
          [
           1
          ],
          [
           1
          ],
          [
           3
          ],
          [
           1
          ],
          [
           1
          ],
          [
           3
          ],
          [
           1
          ],
          [
           2
          ],
          [
           5
          ],
          [
           1
          ],
          [
           1
          ],
          [
           3
          ],
          [
           1
          ],
          [
           1
          ],
          [
           0
          ],
          [
           1
          ],
          [
           1
          ],
          [
           2
          ],
          [
           1
          ],
          [
           5
          ],
          [
           1
          ],
          [
           1
          ],
          [
           1
          ],
          [
           2
          ],
          [
           2
          ],
          [
           1
          ],
          [
           1
          ],
          [
           1
          ],
          [
           5
          ],
          [
           1
          ],
          [
           1
          ],
          [
           1
          ],
          [
           1
          ],
          [
           1
          ],
          [
           1
          ],
          [
           1
          ],
          [
           1
          ],
          [
           2
          ],
          [
           1
          ],
          [
           3
          ],
          [
           1
          ],
          [
           2
          ],
          [
           0
          ],
          [
           6
          ],
          [
           0
          ],
          [
           1
          ],
          [
           1
          ],
          [
           1
          ],
          [
           1
          ],
          [
           4
          ],
          [
           2
          ],
          [
           3
          ],
          [
           1
          ],
          [
           1
          ],
          [
           2
          ],
          [
           1
          ],
          [
           1
          ],
          [
           5
          ],
          [
           2
          ],
          [
           3
          ],
          [
           0
          ],
          [
           3
          ],
          [
           0
          ],
          [
           0
          ],
          [
           1
          ],
          [
           2
          ],
          [
           1
          ],
          [
           0
          ],
          [
           1
          ],
          [
           1
          ],
          [
           1
          ],
          [
           1
          ],
          [
           1
          ],
          [
           3
          ],
          [
           2
          ],
          [
           1
          ],
          [
           1
          ],
          [
           0
          ],
          [
           1
          ],
          [
           1
          ],
          [
           1
          ],
          [
           1
          ],
          [
           1
          ],
          [
           3
          ],
          [
           1
          ],
          [
           0
          ],
          [
           2
          ],
          [
           3
          ],
          [
           2
          ],
          [
           1
          ],
          [
           1
          ],
          [
           4
          ],
          [
           1
          ],
          [
           1
          ],
          [
           1
          ],
          [
           1
          ],
          [
           1
          ],
          [
           1
          ],
          [
           2
          ],
          [
           2
          ],
          [
           2
          ],
          [
           1
          ],
          [
           1
          ],
          [
           1
          ],
          [
           1
          ],
          [
           1
          ],
          [
           2
          ],
          [
           2
          ],
          [
           1
          ],
          [
           1
          ],
          [
           2
          ],
          [
           1
          ],
          [
           2
          ],
          [
           0
          ],
          [
           1
          ],
          [
           1
          ],
          [
           2
          ],
          [
           1
          ],
          [
           1
          ],
          [
           2
          ],
          [
           2
          ],
          [
           2
          ],
          [
           0
          ],
          [
           2
          ],
          [
           1
          ],
          [
           4
          ],
          [
           3
          ],
          [
           1
          ],
          [
           1
          ],
          [
           2
          ],
          [
           0
          ],
          [
           2
          ],
          [
           1
          ],
          [
           2
          ],
          [
           1
          ],
          [
           1
          ],
          [
           4
          ],
          [
           1
          ],
          [
           1
          ],
          [
           1
          ],
          [
           2
          ],
          [
           1
          ],
          [
           1
          ],
          [
           1
          ],
          [
           2
          ],
          [
           2
          ],
          [
           1
          ],
          [
           0
          ],
          [
           1
          ],
          [
           2
          ],
          [
           0
          ],
          [
           4
          ],
          [
           3
          ],
          [
           1
          ],
          [
           1
          ],
          [
           1
          ],
          [
           1
          ],
          [
           1
          ],
          [
           1
          ],
          [
           3
          ],
          [
           1
          ],
          [
           0
          ],
          [
           3
          ],
          [
           0
          ],
          [
           1
          ],
          [
           2
          ],
          [
           2
          ],
          [
           1
          ],
          [
           5
          ],
          [
           1
          ],
          [
           1
          ],
          [
           1
          ],
          [
           1
          ],
          [
           1
          ],
          [
           1
          ],
          [
           1
          ],
          [
           0
          ],
          [
           1
          ],
          [
           1
          ],
          [
           1
          ],
          [
           2
          ],
          [
           1
          ],
          [
           2
          ],
          [
           1
          ],
          [
           2
          ],
          [
           2
          ],
          [
           1
          ],
          [
           2
          ],
          [
           1
          ],
          [
           1
          ],
          [
           1
          ],
          [
           2
          ],
          [
           0
          ],
          [
           2
          ],
          [
           1
          ],
          [
           1
          ],
          [
           2
          ],
          [
           0
          ],
          [
           1
          ],
          [
           1
          ],
          [
           3
          ],
          [
           1
          ],
          [
           1
          ],
          [
           1
          ],
          [
           3
          ],
          [
           1
          ],
          [
           1
          ],
          [
           1
          ],
          [
           2
          ],
          [
           3
          ],
          [
           1
          ],
          [
           1
          ],
          [
           1
          ],
          [
           2
          ],
          [
           2
          ],
          [
           1
          ],
          [
           2
          ],
          [
           1
          ],
          [
           0
          ],
          [
           2
          ],
          [
           1
          ],
          [
           1
          ],
          [
           3
          ],
          [
           0
          ],
          [
           1
          ],
          [
           2
          ],
          [
           3
          ],
          [
           2
          ],
          [
           1
          ],
          [
           1
          ],
          [
           1
          ],
          [
           3
          ],
          [
           1
          ],
          [
           1
          ],
          [
           2
          ],
          [
           5
          ],
          [
           4
          ],
          [
           3
          ],
          [
           1
          ],
          [
           1
          ],
          [
           2
          ],
          [
           1
          ],
          [
           1
          ],
          [
           1
          ],
          [
           1
          ],
          [
           1
          ],
          [
           2
          ],
          [
           2
          ],
          [
           2
          ],
          [
           2
          ],
          [
           1
          ],
          [
           2
          ],
          [
           0
          ],
          [
           2
          ],
          [
           1
          ],
          [
           4
          ],
          [
           2
          ],
          [
           1
          ],
          [
           1
          ],
          [
           1
          ],
          [
           1
          ],
          [
           1
          ],
          [
           1
          ],
          [
           2
          ],
          [
           1
          ],
          [
           0
          ],
          [
           3
          ],
          [
           3
          ],
          [
           0
          ],
          [
           0
          ],
          [
           1
          ],
          [
           1
          ],
          [
           1
          ],
          [
           0
          ],
          [
           1
          ],
          [
           0
          ],
          [
           1
          ],
          [
           2
          ],
          [
           1
          ],
          [
           1
          ],
          [
           2
          ],
          [
           1
          ],
          [
           1
          ],
          [
           2
          ],
          [
           1
          ],
          [
           2
          ],
          [
           1
          ],
          [
           2
          ],
          [
           2
          ],
          [
           1
          ],
          [
           1
          ],
          [
           1
          ],
          [
           3
          ],
          [
           1
          ],
          [
           1
          ],
          [
           1
          ],
          [
           1
          ],
          [
           2
          ],
          [
           2
          ],
          [
           2
          ],
          [
           3
          ],
          [
           4
          ],
          [
           1
          ],
          [
           0
          ],
          [
           1
          ],
          [
           1
          ],
          [
           1
          ],
          [
           3
          ],
          [
           1
          ],
          [
           2
          ],
          [
           2
          ],
          [
           1
          ],
          [
           1
          ],
          [
           0
          ],
          [
           0
          ],
          [
           1
          ],
          [
           1
          ],
          [
           0
          ],
          [
           1
          ],
          [
           1
          ],
          [
           1
          ],
          [
           3
          ],
          [
           1
          ],
          [
           1
          ],
          [
           1
          ],
          [
           1
          ],
          [
           1
          ],
          [
           2
          ],
          [
           1
          ],
          [
           1
          ],
          [
           1
          ],
          [
           1
          ],
          [
           1
          ],
          [
           1
          ],
          [
           1
          ],
          [
           1
          ],
          [
           0
          ],
          [
           1
          ],
          [
           0
          ],
          [
           1
          ],
          [
           1
          ],
          [
           1
          ],
          [
           1
          ],
          [
           1
          ],
          [
           0
          ],
          [
           1
          ],
          [
           1
          ],
          [
           1
          ],
          [
           8
          ],
          [
           1
          ],
          [
           1
          ],
          [
           2
          ],
          [
           1
          ],
          [
           1
          ],
          [
           1
          ],
          [
           3
          ],
          [
           1
          ],
          [
           3
          ],
          [
           2
          ],
          [
           1
          ],
          [
           1
          ],
          [
           1
          ],
          [
           2
          ],
          [
           1
          ],
          [
           0
          ],
          [
           1
          ],
          [
           2
          ],
          [
           1
          ],
          [
           2
          ],
          [
           1
          ],
          [
           1
          ],
          [
           1
          ],
          [
           1
          ],
          [
           2
          ],
          [
           4
          ],
          [
           1
          ],
          [
           1
          ],
          [
           1
          ],
          [
           2
          ],
          [
           1
          ],
          [
           1
          ],
          [
           1
          ],
          [
           1
          ],
          [
           0
          ],
          [
           1
          ],
          [
           2
          ],
          [
           2
          ],
          [
           1
          ],
          [
           0
          ],
          [
           1
          ],
          [
           2
          ],
          [
           2
          ],
          [
           1
          ],
          [
           3
          ],
          [
           2
          ],
          [
           1
          ],
          [
           1
          ],
          [
           1
          ],
          [
           1
          ],
          [
           1
          ],
          [
           1
          ],
          [
           1
          ],
          [
           2
          ],
          [
           2
          ],
          [
           0
          ],
          [
           1
          ],
          [
           6
          ],
          [
           1
          ],
          [
           1
          ],
          [
           1
          ],
          [
           0
          ],
          [
           0
          ],
          [
           3
          ],
          [
           1
          ],
          [
           1
          ],
          [
           3
          ],
          [
           1
          ],
          [
           1
          ],
          [
           1
          ],
          [
           1
          ],
          [
           1
          ],
          [
           1
          ],
          [
           1
          ],
          [
           1
          ],
          [
           1
          ],
          [
           2
          ],
          [
           2
          ],
          [
           0
          ],
          [
           1
          ],
          [
           1
          ],
          [
           1
          ],
          [
           0
          ],
          [
           2
          ],
          [
           1
          ],
          [
           3
          ],
          [
           1
          ],
          [
           2
          ],
          [
           1
          ],
          [
           1
          ],
          [
           1
          ],
          [
           1
          ],
          [
           3
          ],
          [
           1
          ],
          [
           1
          ],
          [
           1
          ],
          [
           1
          ],
          [
           1
          ],
          [
           1
          ],
          [
           4
          ],
          [
           3
          ],
          [
           2
          ],
          [
           1
          ],
          [
           1
          ],
          [
           2
          ],
          [
           2
          ],
          [
           2
          ],
          [
           1
          ],
          [
           1
          ],
          [
           1
          ],
          [
           2
          ],
          [
           1
          ],
          [
           0
          ],
          [
           0
          ],
          [
           0
          ],
          [
           1
          ],
          [
           2
          ],
          [
           1
          ],
          [
           2
          ],
          [
           2
          ],
          [
           1
          ],
          [
           2
          ],
          [
           1
          ],
          [
           2
          ],
          [
           1
          ],
          [
           2
          ],
          [
           1
          ],
          [
           2
          ],
          [
           1
          ],
          [
           3
          ],
          [
           1
          ],
          [
           3
          ],
          [
           1
          ],
          [
           2
          ],
          [
           1
          ],
          [
           1
          ],
          [
           1
          ],
          [
           1
          ],
          [
           1
          ],
          [
           1
          ],
          [
           1
          ],
          [
           7
          ],
          [
           1
          ],
          [
           1
          ],
          [
           1
          ],
          [
           1
          ],
          [
           1
          ],
          [
           4
          ],
          [
           1
          ],
          [
           1
          ],
          [
           2
          ],
          [
           3
          ],
          [
           1
          ],
          [
           0
          ],
          [
           1
          ],
          [
           1
          ],
          [
           0
          ],
          [
           1
          ],
          [
           1
          ],
          [
           3
          ],
          [
           1
          ],
          [
           1
          ],
          [
           2
          ],
          [
           1
          ],
          [
           2
          ],
          [
           6
          ],
          [
           1
          ],
          [
           1
          ],
          [
           1
          ],
          [
           1
          ],
          [
           0
          ],
          [
           1
          ],
          [
           1
          ],
          [
           1
          ],
          [
           1
          ],
          [
           1
          ],
          [
           3
          ],
          [
           1
          ],
          [
           0
          ],
          [
           1
          ],
          [
           0
          ],
          [
           3
          ],
          [
           1
          ],
          [
           1
          ],
          [
           1
          ],
          [
           1
          ],
          [
           2
          ],
          [
           1
          ],
          [
           6
          ],
          [
           2
          ],
          [
           2
          ],
          [
           1
          ],
          [
           2
          ],
          [
           0
          ],
          [
           1
          ],
          [
           1
          ],
          [
           1
          ],
          [
           2
          ],
          [
           1
          ],
          [
           1
          ],
          [
           1
          ],
          [
           1
          ],
          [
           3
          ],
          [
           4
          ],
          [
           1
          ],
          [
           1
          ],
          [
           1
          ],
          [
           2
          ],
          [
           1
          ],
          [
           1
          ],
          [
           1
          ],
          [
           1
          ],
          [
           1
          ],
          [
           1
          ],
          [
           4
          ],
          [
           1
          ],
          [
           3
          ],
          [
           1
          ],
          [
           1
          ],
          [
           3
          ],
          [
           1
          ],
          [
           1
          ],
          [
           1
          ],
          [
           1
          ],
          [
           2
          ],
          [
           1
          ],
          [
           0
          ],
          [
           1
          ],
          [
           2
          ],
          [
           1
          ],
          [
           1
          ],
          [
           1
          ],
          [
           4
          ],
          [
           1
          ],
          [
           1
          ],
          [
           2
          ],
          [
           1
          ],
          [
           0
          ],
          [
           1
          ],
          [
           1
          ],
          [
           1
          ],
          [
           2
          ],
          [
           1
          ],
          [
           1
          ],
          [
           0
          ],
          [
           1
          ],
          [
           1
          ],
          [
           1
          ],
          [
           1
          ],
          [
           1
          ],
          [
           1
          ],
          [
           1
          ],
          [
           2
          ],
          [
           1
          ],
          [
           1
          ],
          [
           1
          ],
          [
           0
          ],
          [
           0
          ],
          [
           0
          ],
          [
           2
          ],
          [
           1
          ],
          [
           1
          ],
          [
           1
          ],
          [
           2
          ],
          [
           1
          ],
          [
           1
          ],
          [
           1
          ],
          [
           1
          ],
          [
           1
          ],
          [
           1
          ],
          [
           1
          ],
          [
           1
          ],
          [
           6
          ],
          [
           1
          ],
          [
           1
          ],
          [
           4
          ],
          [
           1
          ],
          [
           0
          ],
          [
           3
          ],
          [
           1
          ],
          [
           1
          ],
          [
           1
          ],
          [
           1
          ],
          [
           3
          ],
          [
           2
          ],
          [
           1
          ],
          [
           2
          ],
          [
           3
          ],
          [
           1
          ],
          [
           1
          ],
          [
           5
          ],
          [
           1
          ],
          [
           0
          ],
          [
           1
          ],
          [
           2
          ],
          [
           1
          ],
          [
           1
          ],
          [
           0
          ],
          [
           1
          ],
          [
           0
          ],
          [
           0
          ],
          [
           2
          ],
          [
           2
          ],
          [
           1
          ],
          [
           1
          ],
          [
           1
          ],
          [
           1
          ],
          [
           2
          ],
          [
           2
          ],
          [
           1
          ],
          [
           2
          ],
          [
           1
          ],
          [
           2
          ],
          [
           1
          ],
          [
           2
          ],
          [
           1
          ],
          [
           1
          ],
          [
           1
          ],
          [
           1
          ],
          [
           2
          ],
          [
           3
          ],
          [
           1
          ],
          [
           1
          ],
          [
           1
          ],
          [
           1
          ],
          [
           2
          ],
          [
           3
          ],
          [
           1
          ],
          [
           0
          ],
          [
           1
          ],
          [
           1
          ],
          [
           2
          ],
          [
           0
          ],
          [
           1
          ],
          [
           1
          ],
          [
           1
          ],
          [
           3
          ],
          [
           2
          ],
          [
           2
          ],
          [
           2
          ],
          [
           2
          ],
          [
           1
          ],
          [
           1
          ],
          [
           2
          ],
          [
           1
          ],
          [
           1
          ],
          [
           2
          ],
          [
           2
          ],
          [
           1
          ],
          [
           1
          ],
          [
           0
          ],
          [
           2
          ],
          [
           1
          ],
          [
           1
          ],
          [
           2
          ],
          [
           2
          ],
          [
           1
          ],
          [
           1
          ],
          [
           1
          ],
          [
           2
          ],
          [
           1
          ],
          [
           3
          ],
          [
           1
          ],
          [
           3
          ],
          [
           1
          ],
          [
           1
          ],
          [
           2
          ],
          [
           1
          ],
          [
           1
          ],
          [
           1
          ],
          [
           2
          ],
          [
           1
          ],
          [
           1
          ],
          [
           1
          ],
          [
           3
          ],
          [
           1
          ],
          [
           1
          ],
          [
           2
          ],
          [
           7
          ],
          [
           1
          ],
          [
           2
          ],
          [
           1
          ],
          [
           2
          ],
          [
           2
          ],
          [
           1
          ],
          [
           1
          ],
          [
           1
          ],
          [
           1
          ],
          [
           1
          ],
          [
           0
          ],
          [
           1
          ],
          [
           1
          ],
          [
           1
          ],
          [
           1
          ],
          [
           2
          ],
          [
           1
          ],
          [
           1
          ],
          [
           1
          ],
          [
           1
          ],
          [
           3
          ],
          [
           1
          ],
          [
           1
          ],
          [
           2
          ],
          [
           1
          ],
          [
           5
          ],
          [
           2
          ],
          [
           2
          ],
          [
           0
          ],
          [
           2
          ],
          [
           1
          ],
          [
           1
          ],
          [
           1
          ],
          [
           2
          ],
          [
           2
          ],
          [
           0
          ],
          [
           2
          ],
          [
           1
          ],
          [
           2
          ],
          [
           1
          ],
          [
           1
          ],
          [
           1
          ],
          [
           1
          ],
          [
           1
          ],
          [
           1
          ],
          [
           1
          ],
          [
           2
          ],
          [
           1
          ],
          [
           1
          ],
          [
           6
          ],
          [
           1
          ],
          [
           5
          ],
          [
           1
          ],
          [
           3
          ],
          [
           1
          ],
          [
           1
          ],
          [
           0
          ],
          [
           2
          ],
          [
           3
          ],
          [
           1
          ],
          [
           1
          ],
          [
           2
          ],
          [
           1
          ],
          [
           0
          ],
          [
           3
          ],
          [
           2
          ],
          [
           1
          ],
          [
           1
          ],
          [
           0
          ],
          [
           1
          ],
          [
           0
          ],
          [
           4
          ],
          [
           1
          ],
          [
           1
          ],
          [
           1
          ],
          [
           2
          ],
          [
           1
          ],
          [
           1
          ],
          [
           2
          ],
          [
           1
          ],
          [
           1
          ],
          [
           0
          ],
          [
           2
          ],
          [
           1
          ],
          [
           1
          ],
          [
           1
          ],
          [
           2
          ],
          [
           1
          ],
          [
           1
          ],
          [
           0
          ],
          [
           2
          ],
          [
           1
          ],
          [
           1
          ],
          [
           1
          ],
          [
           1
          ],
          [
           1
          ],
          [
           0
          ],
          [
           1
          ],
          [
           10
          ],
          [
           3
          ],
          [
           1
          ],
          [
           0
          ],
          [
           1
          ],
          [
           1
          ],
          [
           1
          ],
          [
           1
          ],
          [
           2
          ],
          [
           2
          ],
          [
           1
          ],
          [
           1
          ],
          [
           1
          ],
          [
           1
          ],
          [
           3
          ],
          [
           1
          ],
          [
           3
          ],
          [
           1
          ],
          [
           1
          ],
          [
           3
          ],
          [
           0
          ],
          [
           3
          ],
          [
           2
          ],
          [
           1
          ],
          [
           3
          ],
          [
           1
          ],
          [
           1
          ],
          [
           2
          ],
          [
           4
          ],
          [
           2
          ],
          [
           1
          ],
          [
           1
          ],
          [
           1
          ],
          [
           1
          ],
          [
           1
          ],
          [
           1
          ],
          [
           1
          ],
          [
           1
          ],
          [
           1
          ],
          [
           1
          ],
          [
           3
          ],
          [
           1
          ],
          [
           1
          ],
          [
           1
          ],
          [
           1
          ],
          [
           1
          ],
          [
           1
          ],
          [
           2
          ],
          [
           2
          ],
          [
           3
          ],
          [
           2
          ],
          [
           1
          ],
          [
           2
          ],
          [
           2
          ],
          [
           1
          ],
          [
           3
          ],
          [
           1
          ],
          [
           1
          ],
          [
           1
          ],
          [
           1
          ],
          [
           1
          ],
          [
           1
          ],
          [
           3
          ],
          [
           0
          ],
          [
           1
          ],
          [
           4
          ],
          [
           1
          ],
          [
           0
          ],
          [
           1
          ],
          [
           1
          ],
          [
           2
          ],
          [
           1
          ],
          [
           0
          ],
          [
           4
          ],
          [
           1
          ],
          [
           1
          ],
          [
           1
          ],
          [
           0
          ],
          [
           1
          ],
          [
           1
          ],
          [
           2
          ],
          [
           1
          ],
          [
           3
          ],
          [
           1
          ],
          [
           1
          ],
          [
           0
          ],
          [
           1
          ],
          [
           1
          ],
          [
           2
          ],
          [
           1
          ],
          [
           1
          ],
          [
           1
          ],
          [
           2
          ],
          [
           1
          ],
          [
           2
          ],
          [
           3
          ],
          [
           2
          ],
          [
           3
          ],
          [
           1
          ],
          [
           9
          ],
          [
           1
          ],
          [
           0
          ],
          [
           1
          ],
          [
           0
          ],
          [
           2
          ],
          [
           2
          ],
          [
           1
          ],
          [
           1
          ],
          [
           1
          ],
          [
           3
          ],
          [
           1
          ],
          [
           2
          ],
          [
           2
          ],
          [
           1
          ],
          [
           1
          ],
          [
           1
          ],
          [
           3
          ],
          [
           1
          ],
          [
           1
          ],
          [
           2
          ],
          [
           1
          ],
          [
           1
          ],
          [
           1
          ],
          [
           1
          ],
          [
           1
          ],
          [
           2
          ],
          [
           1
          ],
          [
           1
          ],
          [
           1
          ],
          [
           1
          ],
          [
           1
          ],
          [
           1
          ],
          [
           1
          ],
          [
           2
          ],
          [
           1
          ],
          [
           2
          ],
          [
           1
          ],
          [
           1
          ],
          [
           3
          ],
          [
           1
          ],
          [
           6
          ],
          [
           1
          ],
          [
           1
          ],
          [
           1
          ],
          [
           1
          ],
          [
           1
          ],
          [
           1
          ],
          [
           0
          ],
          [
           1
          ],
          [
           1
          ],
          [
           2
          ],
          [
           1
          ],
          [
           1
          ],
          [
           1
          ],
          [
           1
          ],
          [
           1
          ],
          [
           1
          ],
          [
           1
          ],
          [
           1
          ],
          [
           1
          ],
          [
           1
          ],
          [
           1
          ],
          [
           1
          ],
          [
           0
          ],
          [
           1
          ],
          [
           1
          ],
          [
           0
          ],
          [
           1
          ],
          [
           1
          ],
          [
           2
          ],
          [
           1
          ],
          [
           2
          ],
          [
           2
          ],
          [
           1
          ],
          [
           2
          ],
          [
           1
          ],
          [
           1
          ],
          [
           3
          ],
          [
           1
          ],
          [
           1
          ],
          [
           1
          ],
          [
           1
          ],
          [
           1
          ],
          [
           2
          ],
          [
           1
          ],
          [
           1
          ],
          [
           1
          ],
          [
           1
          ],
          [
           1
          ],
          [
           1
          ],
          [
           1
          ],
          [
           2
          ],
          [
           2
          ],
          [
           1
          ],
          [
           1
          ],
          [
           1
          ],
          [
           1
          ],
          [
           1
          ],
          [
           1
          ],
          [
           1
          ],
          [
           1
          ],
          [
           1
          ],
          [
           3
          ],
          [
           1
          ],
          [
           0
          ],
          [
           1
          ],
          [
           1
          ],
          [
           1
          ],
          [
           1
          ],
          [
           1
          ],
          [
           1
          ],
          [
           1
          ],
          [
           3
          ],
          [
           1
          ],
          [
           1
          ],
          [
           1
          ],
          [
           2
          ],
          [
           2
          ],
          [
           2
          ],
          [
           1
          ],
          [
           1
          ],
          [
           1
          ],
          [
           2
          ],
          [
           1
          ],
          [
           2
          ],
          [
           1
          ],
          [
           3
          ],
          [
           3
          ],
          [
           1
          ],
          [
           4
          ],
          [
           1
          ],
          [
           4
          ],
          [
           0
          ],
          [
           1
          ],
          [
           4
          ],
          [
           3
          ],
          [
           1
          ],
          [
           1
          ],
          [
           1
          ],
          [
           1
          ],
          [
           1
          ],
          [
           1
          ],
          [
           4
          ],
          [
           2
          ],
          [
           2
          ],
          [
           1
          ],
          [
           2
          ],
          [
           1
          ],
          [
           2
          ],
          [
           1
          ],
          [
           1
          ],
          [
           2
          ],
          [
           1
          ],
          [
           3
          ],
          [
           1
          ],
          [
           0
          ],
          [
           1
          ],
          [
           1
          ],
          [
           1
          ],
          [
           1
          ],
          [
           1
          ],
          [
           1
          ],
          [
           1
          ],
          [
           1
          ],
          [
           1
          ],
          [
           3
          ],
          [
           1
          ],
          [
           1
          ],
          [
           2
          ],
          [
           1
          ],
          [
           0
          ],
          [
           1
          ],
          [
           3
          ],
          [
           1
          ],
          [
           1
          ],
          [
           1
          ],
          [
           0
          ],
          [
           1
          ],
          [
           2
          ],
          [
           0
          ],
          [
           3
          ],
          [
           1
          ],
          [
           1
          ],
          [
           1
          ],
          [
           1
          ],
          [
           1
          ],
          [
           1
          ],
          [
           1
          ],
          [
           1
          ],
          [
           0
          ],
          [
           4
          ],
          [
           1
          ],
          [
           1
          ],
          [
           2
          ],
          [
           2
          ],
          [
           1
          ],
          [
           1
          ],
          [
           2
          ],
          [
           1
          ],
          [
           1
          ],
          [
           1
          ],
          [
           1
          ],
          [
           1
          ],
          [
           1
          ],
          [
           1
          ],
          [
           1
          ],
          [
           2
          ],
          [
           1
          ],
          [
           1
          ],
          [
           2
          ],
          [
           4
          ],
          [
           1
          ],
          [
           0
          ],
          [
           1
          ],
          [
           1
          ],
          [
           1
          ],
          [
           1
          ],
          [
           2
          ],
          [
           1
          ],
          [
           3
          ],
          [
           1
          ],
          [
           1
          ],
          [
           1
          ],
          [
           2
          ],
          [
           3
          ],
          [
           1
          ],
          [
           3
          ],
          [
           1
          ],
          [
           1
          ],
          [
           1
          ],
          [
           1
          ],
          [
           1
          ],
          [
           2
          ],
          [
           1
          ],
          [
           1
          ],
          [
           1
          ],
          [
           1
          ],
          [
           0
          ],
          [
           1
          ],
          [
           2
          ],
          [
           3
          ],
          [
           2
          ],
          [
           1
          ],
          [
           2
          ],
          [
           2
          ],
          [
           1
          ],
          [
           3
          ],
          [
           2
          ],
          [
           2
          ],
          [
           1
          ],
          [
           1
          ],
          [
           1
          ],
          [
           0
          ],
          [
           1
          ],
          [
           2
          ],
          [
           0
          ],
          [
           1
          ],
          [
           1
          ],
          [
           1
          ],
          [
           1
          ],
          [
           1
          ],
          [
           2
          ],
          [
           3
          ],
          [
           1
          ],
          [
           1
          ],
          [
           1
          ],
          [
           1
          ],
          [
           1
          ],
          [
           1
          ],
          [
           0
          ],
          [
           2
          ],
          [
           1
          ],
          [
           1
          ],
          [
           1
          ],
          [
           2
          ],
          [
           0
          ],
          [
           1
          ],
          [
           1
          ],
          [
           1
          ],
          [
           1
          ],
          [
           2
          ],
          [
           3
          ],
          [
           1
          ],
          [
           1
          ],
          [
           1
          ],
          [
           1
          ],
          [
           3
          ],
          [
           1
          ],
          [
           1
          ],
          [
           2
          ],
          [
           1
          ],
          [
           1
          ],
          [
           1
          ],
          [
           1
          ],
          [
           1
          ],
          [
           1
          ],
          [
           1
          ],
          [
           3
          ],
          [
           3
          ],
          [
           1
          ],
          [
           2
          ],
          [
           1
          ],
          [
           2
          ],
          [
           1
          ],
          [
           2
          ],
          [
           2
          ],
          [
           2
          ],
          [
           2
          ],
          [
           1
          ],
          [
           1
          ],
          [
           1
          ],
          [
           1
          ],
          [
           1
          ],
          [
           1
          ],
          [
           1
          ],
          [
           3
          ],
          [
           1
          ],
          [
           1
          ],
          [
           1
          ],
          [
           1
          ],
          [
           1
          ],
          [
           0
          ],
          [
           1
          ],
          [
           1
          ],
          [
           1
          ],
          [
           1
          ],
          [
           2
          ],
          [
           1
          ],
          [
           1
          ],
          [
           1
          ],
          [
           1
          ],
          [
           1
          ],
          [
           2
          ],
          [
           1
          ],
          [
           1
          ],
          [
           1
          ],
          [
           1
          ],
          [
           1
          ],
          [
           2
          ],
          [
           2
          ],
          [
           1
          ],
          [
           1
          ],
          [
           2
          ],
          [
           2
          ],
          [
           1
          ],
          [
           1
          ],
          [
           1
          ],
          [
           1
          ],
          [
           1
          ],
          [
           1
          ],
          [
           1
          ],
          [
           2
          ],
          [
           1
          ],
          [
           3
          ],
          [
           1
          ],
          [
           1
          ],
          [
           1
          ],
          [
           1
          ],
          [
           1
          ],
          [
           2
          ],
          [
           1
          ],
          [
           1
          ],
          [
           1
          ],
          [
           2
          ],
          [
           1
          ],
          [
           2
          ],
          [
           1
          ],
          [
           1
          ],
          [
           3
          ],
          [
           1
          ],
          [
           1
          ],
          [
           0
          ],
          [
           1
          ],
          [
           3
          ],
          [
           1
          ],
          [
           1
          ],
          [
           1
          ],
          [
           1
          ],
          [
           3
          ],
          [
           1
          ],
          [
           1
          ],
          [
           1
          ],
          [
           1
          ],
          [
           3
          ],
          [
           2
          ],
          [
           3
          ],
          [
           1
          ],
          [
           1
          ],
          [
           2
          ],
          [
           1
          ],
          [
           1
          ],
          [
           1
          ],
          [
           0
          ],
          [
           1
          ],
          [
           1
          ],
          [
           1
          ],
          [
           0
          ],
          [
           0
          ],
          [
           1
          ],
          [
           1
          ],
          [
           0
          ],
          [
           1
          ],
          [
           3
          ],
          [
           1
          ],
          [
           1
          ],
          [
           2
          ],
          [
           1
          ],
          [
           2
          ],
          [
           2
          ],
          [
           1
          ],
          [
           1
          ],
          [
           1
          ],
          [
           2
          ],
          [
           1
          ],
          [
           1
          ],
          [
           1
          ],
          [
           1
          ],
          [
           1
          ],
          [
           2
          ],
          [
           2
          ],
          [
           1
          ],
          [
           2
          ],
          [
           2
          ],
          [
           1
          ],
          [
           2
          ],
          [
           1
          ],
          [
           0
          ],
          [
           3
          ],
          [
           2
          ],
          [
           1
          ],
          [
           1
          ],
          [
           1
          ],
          [
           1
          ],
          [
           1
          ],
          [
           3
          ],
          [
           1
          ],
          [
           1
          ],
          [
           2
          ],
          [
           4
          ],
          [
           1
          ],
          [
           0
          ],
          [
           1
          ],
          [
           2
          ],
          [
           3
          ],
          [
           1
          ],
          [
           1
          ],
          [
           1
          ],
          [
           1
          ],
          [
           1
          ],
          [
           0
          ],
          [
           1
          ],
          [
           2
          ],
          [
           1
          ],
          [
           1
          ],
          [
           1
          ],
          [
           1
          ],
          [
           1
          ],
          [
           2
          ],
          [
           1
          ],
          [
           2
          ],
          [
           1
          ],
          [
           2
          ],
          [
           2
          ],
          [
           1
          ],
          [
           2
          ],
          [
           2
          ],
          [
           1
          ],
          [
           3
          ],
          [
           0
          ],
          [
           1
          ],
          [
           4
          ],
          [
           1
          ],
          [
           1
          ],
          [
           1
          ],
          [
           1
          ],
          [
           0
          ],
          [
           1
          ],
          [
           3
          ],
          [
           1
          ],
          [
           3
          ],
          [
           1
          ],
          [
           2
          ],
          [
           1
          ],
          [
           1
          ],
          [
           1
          ],
          [
           4
          ],
          [
           1
          ],
          [
           4
          ],
          [
           0
          ],
          [
           1
          ],
          [
           1
          ],
          [
           1
          ],
          [
           2
          ],
          [
           3
          ],
          [
           1
          ],
          [
           2
          ],
          [
           1
          ],
          [
           1
          ],
          [
           0
          ],
          [
           1
          ],
          [
           1
          ],
          [
           3
          ],
          [
           3
          ],
          [
           2
          ],
          [
           1
          ],
          [
           1
          ],
          [
           2
          ],
          [
           3
          ],
          [
           1
          ],
          [
           1
          ],
          [
           2
          ],
          [
           1
          ],
          [
           2
          ],
          [
           1
          ],
          [
           3
          ],
          [
           1
          ],
          [
           4
          ],
          [
           2
          ],
          [
           4
          ],
          [
           3
          ],
          [
           2
          ],
          [
           1
          ],
          [
           1
          ],
          [
           1
          ],
          [
           4
          ],
          [
           1
          ],
          [
           4
          ],
          [
           1
          ],
          [
           1
          ],
          [
           0
          ],
          [
           1
          ],
          [
           1
          ],
          [
           6
          ],
          [
           1
          ],
          [
           1
          ],
          [
           2
          ],
          [
           1
          ],
          [
           1
          ],
          [
           3
          ],
          [
           3
          ],
          [
           0
          ],
          [
           1
          ],
          [
           2
          ],
          [
           2
          ],
          [
           1
          ],
          [
           1
          ],
          [
           2
          ],
          [
           1
          ],
          [
           1
          ],
          [
           2
          ],
          [
           1
          ],
          [
           1
          ],
          [
           1
          ],
          [
           1
          ],
          [
           0
          ],
          [
           1
          ],
          [
           1
          ],
          [
           0
          ],
          [
           1
          ],
          [
           2
          ],
          [
           2
          ],
          [
           1
          ],
          [
           2
          ],
          [
           1
          ],
          [
           1
          ],
          [
           1
          ],
          [
           1
          ],
          [
           1
          ],
          [
           1
          ],
          [
           1
          ],
          [
           1
          ],
          [
           1
          ],
          [
           1
          ],
          [
           1
          ],
          [
           0
          ],
          [
           1
          ],
          [
           1
          ],
          [
           2
          ],
          [
           0
          ],
          [
           1
          ],
          [
           1
          ],
          [
           3
          ],
          [
           2
          ],
          [
           1
          ],
          [
           2
          ],
          [
           2
          ],
          [
           2
          ],
          [
           2
          ],
          [
           1
          ],
          [
           0
          ],
          [
           1
          ],
          [
           1
          ],
          [
           1
          ],
          [
           1
          ],
          [
           2
          ],
          [
           1
          ],
          [
           1
          ],
          [
           1
          ],
          [
           2
          ],
          [
           1
          ],
          [
           2
          ],
          [
           1
          ],
          [
           3
          ],
          [
           2
          ],
          [
           1
          ],
          [
           1
          ],
          [
           1
          ],
          [
           1
          ],
          [
           1
          ],
          [
           1
          ],
          [
           1
          ],
          [
           1
          ],
          [
           2
          ],
          [
           2
          ],
          [
           0
          ],
          [
           1
          ],
          [
           1
          ],
          [
           2
          ],
          [
           2
          ],
          [
           1
          ],
          [
           1
          ],
          [
           1
          ],
          [
           4
          ],
          [
           3
          ],
          [
           1
          ],
          [
           1
          ],
          [
           4
          ],
          [
           1
          ],
          [
           2
          ],
          [
           1
          ],
          [
           1
          ],
          [
           2
          ],
          [
           1
          ],
          [
           1
          ],
          [
           2
          ],
          [
           1
          ],
          [
           4
          ],
          [
           1
          ],
          [
           3
          ],
          [
           1
          ],
          [
           1
          ],
          [
           1
          ],
          [
           4
          ],
          [
           1
          ],
          [
           1
          ],
          [
           1
          ],
          [
           2
          ],
          [
           4
          ],
          [
           1
          ],
          [
           1
          ],
          [
           1
          ],
          [
           1
          ],
          [
           1
          ],
          [
           1
          ],
          [
           1
          ],
          [
           1
          ],
          [
           2
          ],
          [
           0
          ],
          [
           1
          ],
          [
           1
          ],
          [
           1
          ],
          [
           1
          ],
          [
           1
          ],
          [
           1
          ],
          [
           3
          ],
          [
           1
          ],
          [
           1
          ],
          [
           1
          ],
          [
           3
          ],
          [
           1
          ],
          [
           3
          ],
          [
           2
          ],
          [
           1
          ],
          [
           1
          ],
          [
           1
          ],
          [
           3
          ],
          [
           1
          ],
          [
           1
          ],
          [
           4
          ],
          [
           2
          ],
          [
           4
          ],
          [
           2
          ],
          [
           3
          ],
          [
           1
          ],
          [
           1
          ],
          [
           1
          ],
          [
           5
          ],
          [
           2
          ],
          [
           1
          ],
          [
           2
          ],
          [
           1
          ],
          [
           1
          ],
          [
           4
          ],
          [
           2
          ],
          [
           2
          ],
          [
           2
          ],
          [
           1
          ],
          [
           1
          ],
          [
           0
          ],
          [
           1
          ],
          [
           1
          ],
          [
           1
          ],
          [
           1
          ],
          [
           1
          ],
          [
           2
          ],
          [
           1
          ],
          [
           1
          ],
          [
           2
          ],
          [
           1
          ],
          [
           1
          ],
          [
           2
          ],
          [
           1
          ],
          [
           1
          ],
          [
           1
          ],
          [
           1
          ],
          [
           0
          ],
          [
           1
          ],
          [
           1
          ],
          [
           0
          ],
          [
           1
          ],
          [
           1
          ],
          [
           2
          ],
          [
           1
          ],
          [
           2
          ],
          [
           1
          ],
          [
           3
          ],
          [
           1
          ],
          [
           1
          ],
          [
           1
          ],
          [
           2
          ],
          [
           1
          ],
          [
           5
          ],
          [
           2
          ],
          [
           1
          ],
          [
           2
          ],
          [
           3
          ],
          [
           1
          ],
          [
           1
          ],
          [
           1
          ],
          [
           2
          ],
          [
           2
          ],
          [
           3
          ],
          [
           1
          ],
          [
           1
          ],
          [
           1
          ],
          [
           1
          ],
          [
           1
          ],
          [
           2
          ],
          [
           2
          ],
          [
           3
          ],
          [
           4
          ],
          [
           0
          ],
          [
           1
          ],
          [
           1
          ],
          [
           3
          ],
          [
           1
          ],
          [
           2
          ],
          [
           1
          ],
          [
           1
          ],
          [
           5
          ],
          [
           1
          ],
          [
           1
          ],
          [
           1
          ],
          [
           2
          ],
          [
           1
          ],
          [
           1
          ],
          [
           2
          ],
          [
           1
          ],
          [
           1
          ],
          [
           1
          ],
          [
           1
          ],
          [
           2
          ],
          [
           1
          ],
          [
           3
          ],
          [
           1
          ],
          [
           1
          ],
          [
           1
          ],
          [
           1
          ],
          [
           2
          ],
          [
           0
          ],
          [
           2
          ],
          [
           1
          ],
          [
           1
          ],
          [
           2
          ],
          [
           1
          ],
          [
           1
          ],
          [
           1
          ],
          [
           2
          ],
          [
           3
          ],
          [
           1
          ],
          [
           3
          ],
          [
           2
          ],
          [
           1
          ],
          [
           1
          ],
          [
           2
          ],
          [
           2
          ],
          [
           2
          ],
          [
           2
          ],
          [
           1
          ],
          [
           2
          ],
          [
           1
          ],
          [
           1
          ],
          [
           1
          ],
          [
           1
          ],
          [
           1
          ],
          [
           3
          ],
          [
           1
          ],
          [
           3
          ],
          [
           1
          ],
          [
           6
          ],
          [
           1
          ],
          [
           2
          ],
          [
           1
          ],
          [
           1
          ],
          [
           1
          ],
          [
           2
          ],
          [
           1
          ],
          [
           1
          ],
          [
           1
          ],
          [
           1
          ],
          [
           1
          ],
          [
           1
          ],
          [
           0
          ],
          [
           2
          ],
          [
           1
          ],
          [
           2
          ],
          [
           1
          ],
          [
           3
          ],
          [
           1
          ],
          [
           1
          ],
          [
           1
          ],
          [
           1
          ],
          [
           1
          ],
          [
           1
          ],
          [
           1
          ],
          [
           2
          ],
          [
           5
          ],
          [
           1
          ],
          [
           1
          ],
          [
           0
          ],
          [
           2
          ],
          [
           1
          ],
          [
           1
          ],
          [
           1
          ],
          [
           1
          ],
          [
           1
          ],
          [
           1
          ],
          [
           1
          ],
          [
           1
          ],
          [
           1
          ],
          [
           1
          ],
          [
           1
          ],
          [
           1
          ],
          [
           1
          ],
          [
           2
          ],
          [
           1
          ],
          [
           1
          ],
          [
           2
          ],
          [
           1
          ],
          [
           1
          ],
          [
           3
          ],
          [
           1
          ],
          [
           1
          ],
          [
           1
          ],
          [
           2
          ],
          [
           1
          ],
          [
           1
          ],
          [
           1
          ],
          [
           0
          ],
          [
           0
          ],
          [
           1
          ],
          [
           1
          ],
          [
           4
          ],
          [
           1
          ],
          [
           0
          ],
          [
           2
          ],
          [
           2
          ],
          [
           1
          ],
          [
           2
          ],
          [
           1
          ],
          [
           1
          ],
          [
           1
          ],
          [
           1
          ],
          [
           1
          ],
          [
           1
          ],
          [
           1
          ],
          [
           0
          ],
          [
           2
          ],
          [
           3
          ],
          [
           2
          ],
          [
           1
          ],
          [
           1
          ],
          [
           1
          ],
          [
           5
          ],
          [
           1
          ],
          [
           1
          ],
          [
           2
          ],
          [
           8
          ],
          [
           0
          ],
          [
           1
          ],
          [
           0
          ],
          [
           2
          ],
          [
           1
          ],
          [
           1
          ],
          [
           1
          ],
          [
           1
          ],
          [
           1
          ],
          [
           2
          ],
          [
           1
          ],
          [
           1
          ]
         ],
         "domain": {
          "x": [
           0,
           1
          ],
          "y": [
           0,
           1
          ]
         },
         "hovertemplate": "host_response_time=%{label}<br>price=%{value}<br>bedrooms=%{customdata[0]}<extra></extra>",
         "labels": [
          "Not Specified",
          "within a few hours",
          "Not Specified",
          "Not Specified",
          "within an hour",
          "Not Specified",
          "within an hour",
          "Not Specified",
          "Not Specified",
          "Not Specified",
          "Not Specified",
          "Not Specified",
          "within an hour",
          "within an hour",
          "within an hour",
          "within an hour",
          "Not Specified",
          "Not Specified",
          "within a day",
          "Not Specified",
          "Not Specified",
          "within an hour",
          "Not Specified",
          "within an hour",
          "Not Specified",
          "Not Specified",
          "within a few hours",
          "Not Specified",
          "within an hour",
          "within an hour",
          "within an hour",
          "within an hour",
          "Not Specified",
          "Not Specified",
          "within an hour",
          "within a day",
          "Not Specified",
          "Not Specified",
          "within a day",
          "within an hour",
          "within an hour",
          "within an hour",
          "within an hour",
          "within a day",
          "within a few hours",
          "Not Specified",
          "within a few hours",
          "Not Specified",
          "Not Specified",
          "Not Specified",
          "Not Specified",
          "within a few hours",
          "Not Specified",
          "within an hour",
          "within a few hours",
          "within an hour",
          "within a few hours",
          "Not Specified",
          "within a few hours",
          "within a day",
          "Not Specified",
          "Not Specified",
          "within a day",
          "within a few hours",
          "within a few hours",
          "within an hour",
          "within a few hours",
          "within an hour",
          "Not Specified",
          "Not Specified",
          "a few days or more",
          "within an hour",
          "within an hour",
          "Not Specified",
          "within an hour",
          "within an hour",
          "within an hour",
          "Not Specified",
          "Not Specified",
          "within an hour",
          "within a day",
          "within a day",
          "within a day",
          "within an hour",
          "Not Specified",
          "within a day",
          "within a day",
          "a few days or more",
          "Not Specified",
          "Not Specified",
          "within an hour",
          "Not Specified",
          "within an hour",
          "within an hour",
          "within an hour",
          "within an hour",
          "within a few hours",
          "Not Specified",
          "within an hour",
          "within an hour",
          "within an hour",
          "within a day",
          "within a day",
          "a few days or more",
          "within an hour",
          "within an hour",
          "Not Specified",
          "within a few hours",
          "Not Specified",
          "within a few hours",
          "within an hour",
          "within an hour",
          "within an hour",
          "within a day",
          "within a day",
          "within an hour",
          "Not Specified",
          "within a few hours",
          "within an hour",
          "within an hour",
          "within a few hours",
          "within a few hours",
          "within an hour",
          "Not Specified",
          "within a few hours",
          "within an hour",
          "within an hour",
          "Not Specified",
          "Not Specified",
          "within an hour",
          "within a few hours",
          "Not Specified",
          "within a day",
          "within a day",
          "within an hour",
          "within a few hours",
          "Not Specified",
          "Not Specified",
          "within an hour",
          "Not Specified",
          "within a few hours",
          "Not Specified",
          "Not Specified",
          "within an hour",
          "within a few hours",
          "within an hour",
          "within an hour",
          "within an hour",
          "within an hour",
          "within an hour",
          "within an hour",
          "within an hour",
          "within a few hours",
          "within an hour",
          "within an hour",
          "within an hour",
          "within an hour",
          "within an hour",
          "within a few hours",
          "within an hour",
          "Not Specified",
          "within an hour",
          "Not Specified",
          "within an hour",
          "within an hour",
          "Not Specified",
          "Not Specified",
          "Not Specified",
          "within an hour",
          "within an hour",
          "within an hour",
          "within an hour",
          "Not Specified",
          "within a few hours",
          "within an hour",
          "within an hour",
          "within an hour",
          "Not Specified",
          "Not Specified",
          "Not Specified",
          "within an hour",
          "within an hour",
          "within a day",
          "within an hour",
          "Not Specified",
          "within an hour",
          "Not Specified",
          "Not Specified",
          "within an hour",
          "within an hour",
          "within an hour",
          "within an hour",
          "within a day",
          "Not Specified",
          "Not Specified",
          "Not Specified",
          "Not Specified",
          "within a day",
          "Not Specified",
          "within a few hours",
          "within an hour",
          "within an hour",
          "within a few hours",
          "within an hour",
          "Not Specified",
          "Not Specified",
          "a few days or more",
          "within a day",
          "within an hour",
          "Not Specified",
          "Not Specified",
          "within an hour",
          "Not Specified",
          "within an hour",
          "within a day",
          "within an hour",
          "within a few hours",
          "within a day",
          "within an hour",
          "Not Specified",
          "within an hour",
          "within an hour",
          "within an hour",
          "within an hour",
          "Not Specified",
          "within an hour",
          "within an hour",
          "within an hour",
          "Not Specified",
          "within a day",
          "a few days or more",
          "Not Specified",
          "Not Specified",
          "Not Specified",
          "Not Specified",
          "within a day",
          "within a day",
          "within an hour",
          "Not Specified",
          "within a day",
          "Not Specified",
          "within a few hours",
          "within a few hours",
          "within an hour",
          "Not Specified",
          "within a few hours",
          "Not Specified",
          "within an hour",
          "within an hour",
          "within a few hours",
          "within a few hours",
          "within a few hours",
          "within an hour",
          "within a day",
          "within a few hours",
          "within an hour",
          "Not Specified",
          "within a few hours",
          "within a few hours",
          "within a day",
          "within an hour",
          "within an hour",
          "Not Specified",
          "within a day",
          "within an hour",
          "within an hour",
          "Not Specified",
          "Not Specified",
          "Not Specified",
          "within a few hours",
          "within an hour",
          "Not Specified",
          "within an hour",
          "within a day",
          "within an hour",
          "within an hour",
          "within an hour",
          "Not Specified",
          "Not Specified",
          "Not Specified",
          "within a day",
          "Not Specified",
          "Not Specified",
          "within a day",
          "within an hour",
          "Not Specified",
          "within an hour",
          "Not Specified",
          "within an hour",
          "within an hour",
          "Not Specified",
          "Not Specified",
          "Not Specified",
          "a few days or more",
          "within an hour",
          "within an hour",
          "within an hour",
          "Not Specified",
          "Not Specified",
          "Not Specified",
          "Not Specified",
          "within an hour",
          "within an hour",
          "Not Specified",
          "within an hour",
          "Not Specified",
          "Not Specified",
          "within an hour",
          "Not Specified",
          "within a few hours",
          "within an hour",
          "Not Specified",
          "within an hour",
          "within an hour",
          "within an hour",
          "Not Specified",
          "Not Specified",
          "Not Specified",
          "Not Specified",
          "Not Specified",
          "within an hour",
          "Not Specified",
          "within an hour",
          "within an hour",
          "within an hour",
          "within an hour",
          "within a few hours",
          "within a day",
          "within an hour",
          "Not Specified",
          "Not Specified",
          "Not Specified",
          "within an hour",
          "Not Specified",
          "within an hour",
          "within an hour",
          "within an hour",
          "Not Specified",
          "within a few hours",
          "Not Specified",
          "Not Specified",
          "within a day",
          "within a few hours",
          "within a few hours",
          "Not Specified",
          "within an hour",
          "Not Specified",
          "within an hour",
          "within an hour",
          "within an hour",
          "Not Specified",
          "within an hour",
          "Not Specified",
          "within a few hours",
          "within an hour",
          "within an hour",
          "within a few hours",
          "within an hour",
          "within a few hours",
          "Not Specified",
          "within a day",
          "within an hour",
          "within a day",
          "within an hour",
          "Not Specified",
          "Not Specified",
          "within a day",
          "within a day",
          "Not Specified",
          "Not Specified",
          "within an hour",
          "within an hour",
          "Not Specified",
          "a few days or more",
          "Not Specified",
          "within a day",
          "within a day",
          "within a day",
          "within an hour",
          "Not Specified",
          "Not Specified",
          "Not Specified",
          "Not Specified",
          "within an hour",
          "within a few hours",
          "within an hour",
          "Not Specified",
          "within an hour",
          "Not Specified",
          "Not Specified",
          "within an hour",
          "within a few hours",
          "within an hour",
          "Not Specified",
          "within an hour",
          "within an hour",
          "within an hour",
          "Not Specified",
          "within an hour",
          "Not Specified",
          "within an hour",
          "within an hour",
          "within an hour",
          "Not Specified",
          "Not Specified",
          "within an hour",
          "within an hour",
          "within an hour",
          "within a day",
          "Not Specified",
          "Not Specified",
          "within an hour",
          "within a few hours",
          "within an hour",
          "within an hour",
          "within an hour",
          "Not Specified",
          "within a few hours",
          "Not Specified",
          "within a few hours",
          "within an hour",
          "within an hour",
          "Not Specified",
          "within a day",
          "Not Specified",
          "Not Specified",
          "within an hour",
          "Not Specified",
          "within an hour",
          "Not Specified",
          "Not Specified",
          "within a few hours",
          "Not Specified",
          "Not Specified",
          "Not Specified",
          "Not Specified",
          "within a few hours",
          "Not Specified",
          "within a day",
          "within an hour",
          "within a few hours",
          "within a few hours",
          "Not Specified",
          "within a few hours",
          "Not Specified",
          "within an hour",
          "within an hour",
          "within an hour",
          "Not Specified",
          "within an hour",
          "Not Specified",
          "Not Specified",
          "within an hour",
          "Not Specified",
          "within an hour",
          "Not Specified",
          "within an hour",
          "within an hour",
          "within an hour",
          "within an hour",
          "within an hour",
          "Not Specified",
          "within an hour",
          "within an hour",
          "Not Specified",
          "within an hour",
          "within an hour",
          "within an hour",
          "within an hour",
          "Not Specified",
          "within an hour",
          "within a few hours",
          "within an hour",
          "a few days or more",
          "within an hour",
          "within a few hours",
          "Not Specified",
          "Not Specified",
          "within an hour",
          "within a few hours",
          "within an hour",
          "within an hour",
          "within a few hours",
          "within an hour",
          "Not Specified",
          "Not Specified",
          "a few days or more",
          "within an hour",
          "within an hour",
          "within an hour",
          "Not Specified",
          "within an hour",
          "within a few hours",
          "within a few hours",
          "within an hour",
          "within a day",
          "Not Specified",
          "Not Specified",
          "within an hour",
          "Not Specified",
          "within an hour",
          "Not Specified",
          "Not Specified",
          "within an hour",
          "Not Specified",
          "within an hour",
          "within an hour",
          "within an hour",
          "within a few hours",
          "within an hour",
          "within a day",
          "within a few hours",
          "within a few hours",
          "within an hour",
          "Not Specified",
          "a few days or more",
          "within a few hours",
          "within an hour",
          "within an hour",
          "within a day",
          "Not Specified",
          "Not Specified",
          "Not Specified",
          "Not Specified",
          "within a few hours",
          "within a few hours",
          "Not Specified",
          "within a day",
          "Not Specified",
          "within an hour",
          "within an hour",
          "within an hour",
          "within an hour",
          "within an hour",
          "within an hour",
          "within an hour",
          "Not Specified",
          "Not Specified",
          "within an hour",
          "within a day",
          "Not Specified",
          "within an hour",
          "within an hour",
          "within an hour",
          "Not Specified",
          "Not Specified",
          "within an hour",
          "within a day",
          "within an hour",
          "within an hour",
          "within an hour",
          "Not Specified",
          "within a few hours",
          "within an hour",
          "within an hour",
          "Not Specified",
          "within a day",
          "within an hour",
          "within an hour",
          "Not Specified",
          "Not Specified",
          "within a day",
          "within an hour",
          "Not Specified",
          "within an hour",
          "within an hour",
          "within an hour",
          "within an hour",
          "a few days or more",
          "Not Specified",
          "within a few hours",
          "Not Specified",
          "within a few hours",
          "within an hour",
          "Not Specified",
          "within an hour",
          "Not Specified",
          "Not Specified",
          "within an hour",
          "Not Specified",
          "within an hour",
          "Not Specified",
          "Not Specified",
          "within an hour",
          "within a few hours",
          "within an hour",
          "Not Specified",
          "Not Specified",
          "within an hour",
          "Not Specified",
          "Not Specified",
          "within an hour",
          "within an hour",
          "within an hour",
          "within a few hours",
          "Not Specified",
          "within an hour",
          "within an hour",
          "within an hour",
          "Not Specified",
          "Not Specified",
          "Not Specified",
          "within an hour",
          "within an hour",
          "within a few hours",
          "Not Specified",
          "within an hour",
          "Not Specified",
          "Not Specified",
          "Not Specified",
          "within an hour",
          "within an hour",
          "within a day",
          "within an hour",
          "Not Specified",
          "within a day",
          "Not Specified",
          "within a few hours",
          "within a few hours",
          "within an hour",
          "Not Specified",
          "within a day",
          "within an hour",
          "Not Specified",
          "Not Specified",
          "Not Specified",
          "Not Specified",
          "within an hour",
          "within an hour",
          "Not Specified",
          "Not Specified",
          "a few days or more",
          "within an hour",
          "within an hour",
          "Not Specified",
          "within an hour",
          "Not Specified",
          "Not Specified",
          "within an hour",
          "within an hour",
          "within an hour",
          "within an hour",
          "within an hour",
          "within an hour",
          "Not Specified",
          "Not Specified",
          "Not Specified",
          "Not Specified",
          "Not Specified",
          "within an hour",
          "within an hour",
          "Not Specified",
          "Not Specified",
          "within an hour",
          "Not Specified",
          "Not Specified",
          "Not Specified",
          "Not Specified",
          "within an hour",
          "Not Specified",
          "Not Specified",
          "Not Specified",
          "within an hour",
          "Not Specified",
          "Not Specified",
          "within a day",
          "Not Specified",
          "within an hour",
          "within an hour",
          "within an hour",
          "a few days or more",
          "within an hour",
          "Not Specified",
          "Not Specified",
          "within an hour",
          "within a day",
          "within a few hours",
          "within an hour",
          "within an hour",
          "within an hour",
          "Not Specified",
          "Not Specified",
          "within an hour",
          "within an hour",
          "within a few hours",
          "within an hour",
          "within an hour",
          "within a day",
          "within an hour",
          "within a day",
          "within a few hours",
          "within a day",
          "Not Specified",
          "within a few hours",
          "Not Specified",
          "within an hour",
          "within a few hours",
          "Not Specified",
          "within a day",
          "within an hour",
          "within an hour",
          "Not Specified",
          "Not Specified",
          "Not Specified",
          "Not Specified",
          "Not Specified",
          "within a day",
          "Not Specified",
          "Not Specified",
          "within an hour",
          "within an hour",
          "within an hour",
          "within an hour",
          "within a day",
          "within an hour",
          "within an hour",
          "within an hour",
          "Not Specified",
          "within an hour",
          "within an hour",
          "a few days or more",
          "Not Specified",
          "Not Specified",
          "Not Specified",
          "within an hour",
          "Not Specified",
          "within an hour",
          "Not Specified",
          "within an hour",
          "within an hour",
          "Not Specified",
          "a few days or more",
          "Not Specified",
          "a few days or more",
          "Not Specified",
          "within a day",
          "Not Specified",
          "Not Specified",
          "within a day",
          "Not Specified",
          "Not Specified",
          "within an hour",
          "within an hour",
          "within an hour",
          "Not Specified",
          "within an hour",
          "Not Specified",
          "within a day",
          "within an hour",
          "Not Specified",
          "within a few hours",
          "within a day",
          "Not Specified",
          "within an hour",
          "within a day",
          "within an hour",
          "within a few hours",
          "within an hour",
          "within an hour",
          "within an hour",
          "within an hour",
          "within a day",
          "Not Specified",
          "within an hour",
          "Not Specified",
          "within an hour",
          "within an hour",
          "within an hour",
          "Not Specified",
          "Not Specified",
          "within an hour",
          "within a day",
          "within a day",
          "within a few hours",
          "within an hour",
          "within an hour",
          "within a few hours",
          "within an hour",
          "within an hour",
          "within an hour",
          "within an hour",
          "within an hour",
          "within an hour",
          "Not Specified",
          "within a day",
          "within an hour",
          "within an hour",
          "Not Specified",
          "Not Specified",
          "within a few hours",
          "Not Specified",
          "Not Specified",
          "within an hour",
          "within an hour",
          "within a few hours",
          "within an hour",
          "within an hour",
          "within a day",
          "within an hour",
          "Not Specified",
          "within an hour",
          "within an hour",
          "within a few hours",
          "within an hour",
          "within a day",
          "Not Specified",
          "within an hour",
          "within an hour",
          "within a day",
          "Not Specified",
          "Not Specified",
          "within an hour",
          "within an hour",
          "within an hour",
          "within a few hours",
          "within a day",
          "within a day",
          "Not Specified",
          "within an hour",
          "Not Specified",
          "within a few hours",
          "within a few hours",
          "Not Specified",
          "Not Specified",
          "within an hour",
          "within an hour",
          "within a few hours",
          "Not Specified",
          "within an hour",
          "within an hour",
          "Not Specified",
          "within an hour",
          "within a day",
          "Not Specified",
          "within an hour",
          "within an hour",
          "within an hour",
          "a few days or more",
          "within an hour",
          "a few days or more",
          "within an hour",
          "within a few hours",
          "Not Specified",
          "Not Specified",
          "Not Specified",
          "Not Specified",
          "a few days or more",
          "within an hour",
          "within an hour",
          "Not Specified",
          "within an hour",
          "within a few hours",
          "within an hour",
          "within an hour",
          "within a few hours",
          "within an hour",
          "within a day",
          "a few days or more",
          "within a few hours",
          "Not Specified",
          "within an hour",
          "within an hour",
          "within a few hours",
          "within a day",
          "within a few hours",
          "within an hour",
          "within an hour",
          "within a day",
          "within a day",
          "within a day",
          "Not Specified",
          "Not Specified",
          "within a few hours",
          "within a day",
          "Not Specified",
          "a few days or more",
          "within a few hours",
          "Not Specified",
          "within an hour",
          "Not Specified",
          "within an hour",
          "within an hour",
          "within an hour",
          "a few days or more",
          "within an hour",
          "Not Specified",
          "Not Specified",
          "within an hour",
          "Not Specified",
          "within a few hours",
          "within an hour",
          "within a few hours",
          "Not Specified",
          "within an hour",
          "within an hour",
          "within an hour",
          "within an hour",
          "a few days or more",
          "within an hour",
          "Not Specified",
          "Not Specified",
          "within an hour",
          "within a day",
          "within an hour",
          "within an hour",
          "within an hour",
          "within an hour",
          "within an hour",
          "within an hour",
          "within an hour",
          "Not Specified",
          "within a few hours",
          "within an hour",
          "within an hour",
          "within a few hours",
          "Not Specified",
          "within a day",
          "within an hour",
          "within an hour",
          "Not Specified",
          "within an hour",
          "within an hour",
          "within an hour",
          "within an hour",
          "Not Specified",
          "within a few hours",
          "within a few hours",
          "within a few hours",
          "Not Specified",
          "Not Specified",
          "a few days or more",
          "within a few hours",
          "within an hour",
          "within a few hours",
          "within an hour",
          "within an hour",
          "within an hour",
          "Not Specified",
          "within a few hours",
          "within an hour",
          "a few days or more",
          "within an hour",
          "within an hour",
          "within an hour",
          "within an hour",
          "within an hour",
          "within a few hours",
          "within a few hours",
          "within a day",
          "within a few hours",
          "Not Specified",
          "Not Specified",
          "Not Specified",
          "Not Specified",
          "within an hour",
          "within an hour",
          "a few days or more",
          "within a few hours",
          "within an hour",
          "within an hour",
          "within a few hours",
          "within an hour",
          "within a few hours",
          "within an hour",
          "Not Specified",
          "within an hour",
          "within a day",
          "Not Specified",
          "within a day",
          "within an hour",
          "within an hour",
          "within a day",
          "Not Specified",
          "within a few hours",
          "within an hour",
          "within an hour",
          "Not Specified",
          "within an hour",
          "within a few hours",
          "within a day",
          "within a day",
          "within a day",
          "within a few hours",
          "Not Specified",
          "within an hour",
          "within a few hours",
          "within an hour",
          "within an hour",
          "Not Specified",
          "within a few hours",
          "within an hour",
          "within an hour",
          "Not Specified",
          "Not Specified",
          "within a few hours",
          "within an hour",
          "within an hour",
          "Not Specified",
          "Not Specified",
          "Not Specified",
          "Not Specified",
          "within an hour",
          "within an hour",
          "Not Specified",
          "within an hour",
          "within an hour",
          "within a few hours",
          "within an hour",
          "within an hour",
          "Not Specified",
          "within an hour",
          "within a day",
          "Not Specified",
          "within an hour",
          "Not Specified",
          "within a few hours",
          "within an hour",
          "within an hour",
          "within a day",
          "Not Specified",
          "within an hour",
          "within an hour",
          "within an hour",
          "within a few hours",
          "Not Specified",
          "within a day",
          "within a day",
          "within a day",
          "within a day",
          "within an hour",
          "Not Specified",
          "within a few hours",
          "Not Specified",
          "within an hour",
          "within an hour",
          "Not Specified",
          "within an hour",
          "within a few hours",
          "within an hour",
          "within an hour",
          "within an hour",
          "within a few hours",
          "Not Specified",
          "within an hour",
          "Not Specified",
          "Not Specified",
          "within an hour",
          "within an hour",
          "Not Specified",
          "within an hour",
          "within a few hours",
          "within a few hours",
          "within an hour",
          "Not Specified",
          "within an hour",
          "within an hour",
          "Not Specified",
          "within a few hours",
          "within an hour",
          "within an hour",
          "within an hour",
          "within a day",
          "within an hour",
          "within a day",
          "Not Specified",
          "within an hour",
          "within an hour",
          "Not Specified",
          "within a few hours",
          "within a few hours",
          "within an hour",
          "within an hour",
          "within a day",
          "within an hour",
          "within a day",
          "within an hour",
          "within an hour",
          "within an hour",
          "within an hour",
          "within an hour",
          "within an hour",
          "within an hour",
          "within an hour",
          "a few days or more",
          "within an hour",
          "a few days or more",
          "within a few hours",
          "within an hour",
          "within a few hours",
          "Not Specified",
          "within an hour",
          "within a few hours",
          "within an hour",
          "within an hour",
          "within a day",
          "within an hour",
          "within a few hours",
          "Not Specified",
          "a few days or more",
          "Not Specified",
          "within an hour",
          "Not Specified",
          "within an hour",
          "Not Specified",
          "Not Specified",
          "Not Specified",
          "within an hour",
          "within an hour",
          "within an hour",
          "within an hour",
          "within a day",
          "a few days or more",
          "within an hour",
          "Not Specified",
          "within an hour",
          "Not Specified",
          "within an hour",
          "Not Specified",
          "within a day",
          "within an hour",
          "within an hour",
          "within an hour",
          "Not Specified",
          "Not Specified",
          "within a few hours",
          "within a few hours",
          "within an hour",
          "Not Specified",
          "within an hour",
          "Not Specified",
          "within an hour",
          "within a few hours",
          "within a few hours",
          "within an hour",
          "within an hour",
          "within a few hours",
          "within an hour",
          "Not Specified",
          "within an hour",
          "Not Specified",
          "within an hour",
          "Not Specified",
          "within an hour",
          "within an hour",
          "within an hour",
          "within an hour",
          "Not Specified",
          "within a few hours",
          "within an hour",
          "within a day",
          "within an hour",
          "Not Specified",
          "within a few hours",
          "within an hour",
          "within an hour",
          "within a few hours",
          "Not Specified",
          "Not Specified",
          "within an hour",
          "within a few hours",
          "within a day",
          "within an hour",
          "within a few hours",
          "within an hour",
          "within a day",
          "within an hour",
          "within a day",
          "within an hour",
          "within an hour",
          "within an hour",
          "within an hour",
          "within a few hours",
          "within an hour",
          "within a few hours",
          "within an hour",
          "Not Specified",
          "Not Specified",
          "within an hour",
          "within a day",
          "within an hour",
          "within an hour",
          "Not Specified",
          "within a day",
          "within a day",
          "within an hour",
          "within a few hours",
          "Not Specified",
          "Not Specified",
          "Not Specified",
          "within a few hours",
          "within a few hours",
          "Not Specified",
          "within a few hours",
          "within an hour",
          "within a few hours",
          "within an hour",
          "within an hour",
          "within an hour",
          "within an hour",
          "within a few hours",
          "within a few hours",
          "within an hour",
          "within a few hours",
          "within a day",
          "within a few hours",
          "within an hour",
          "within an hour",
          "within a day",
          "within an hour",
          "Not Specified",
          "within an hour",
          "within an hour",
          "Not Specified",
          "within an hour",
          "Not Specified",
          "Not Specified",
          "within an hour",
          "within a few hours",
          "within a day",
          "within an hour",
          "Not Specified",
          "Not Specified",
          "within an hour",
          "within an hour",
          "within a day",
          "within an hour",
          "a few days or more",
          "Not Specified",
          "within a few hours",
          "within an hour",
          "Not Specified",
          "within an hour",
          "within an hour",
          "Not Specified",
          "within an hour",
          "within an hour",
          "Not Specified",
          "within an hour",
          "Not Specified",
          "within an hour",
          "within an hour",
          "within an hour",
          "within an hour",
          "Not Specified",
          "within a few hours",
          "within an hour",
          "Not Specified",
          "within an hour",
          "within an hour",
          "within an hour",
          "Not Specified",
          "within a few hours",
          "within an hour",
          "Not Specified",
          "within an hour",
          "Not Specified",
          "Not Specified",
          "within an hour",
          "within an hour",
          "within an hour",
          "within a few hours",
          "a few days or more",
          "within an hour",
          "within a few hours",
          "within a few hours",
          "within an hour",
          "within an hour",
          "within an hour",
          "Not Specified",
          "within an hour",
          "within a few hours",
          "within a day",
          "within an hour",
          "within a day",
          "within an hour",
          "within a few hours",
          "within an hour",
          "within a few hours",
          "within a few hours",
          "Not Specified",
          "within a day",
          "Not Specified",
          "within an hour",
          "within a few hours",
          "Not Specified",
          "within a few hours",
          "Not Specified",
          "a few days or more",
          "within an hour",
          "within an hour",
          "Not Specified",
          "Not Specified",
          "Not Specified",
          "Not Specified",
          "Not Specified",
          "within a few hours",
          "Not Specified",
          "within an hour",
          "within a few hours",
          "Not Specified",
          "within a few hours",
          "within an hour",
          "within an hour",
          "within an hour",
          "within an hour",
          "within an hour",
          "within an hour",
          "within a few hours",
          "Not Specified",
          "within a day",
          "a few days or more",
          "within a few hours",
          "within a day",
          "within an hour",
          "within an hour",
          "within a day",
          "within an hour",
          "within an hour",
          "within an hour",
          "Not Specified",
          "within an hour",
          "within a few hours",
          "within an hour",
          "within an hour",
          "within an hour",
          "Not Specified",
          "within an hour",
          "within an hour",
          "within an hour",
          "within an hour",
          "within an hour",
          "within an hour",
          "within a few hours",
          "Not Specified",
          "within a few hours",
          "Not Specified",
          "a few days or more",
          "within a day",
          "a few days or more",
          "within a few hours",
          "within an hour",
          "a few days or more",
          "within an hour",
          "within an hour",
          "Not Specified",
          "within a few hours",
          "within an hour",
          "within an hour",
          "Not Specified",
          "Not Specified",
          "within a few hours",
          "within an hour",
          "within an hour",
          "within a day",
          "a few days or more",
          "within an hour",
          "within an hour",
          "within an hour",
          "within an hour",
          "within an hour",
          "within a few hours",
          "within an hour",
          "Not Specified",
          "a few days or more",
          "within a few hours",
          "Not Specified",
          "within a day",
          "Not Specified",
          "within a day",
          "a few days or more",
          "within an hour",
          "within an hour",
          "within an hour",
          "within an hour",
          "within a day",
          "Not Specified",
          "within an hour",
          "within an hour",
          "within an hour",
          "within an hour",
          "within a few hours",
          "within an hour",
          "within an hour",
          "within an hour",
          "within an hour",
          "Not Specified",
          "within an hour",
          "within an hour",
          "within a few hours",
          "Not Specified",
          "within an hour",
          "Not Specified",
          "within an hour",
          "within an hour",
          "Not Specified",
          "within an hour",
          "within an hour",
          "within an hour",
          "within a day",
          "within an hour",
          "within an hour",
          "within a few hours",
          "within an hour",
          "within an hour",
          "within a day",
          "within an hour",
          "within an hour",
          "Not Specified",
          "Not Specified",
          "Not Specified",
          "Not Specified",
          "within a few hours",
          "a few days or more",
          "within an hour",
          "within an hour",
          "within an hour",
          "within a few hours",
          "Not Specified",
          "within an hour",
          "Not Specified",
          "Not Specified",
          "within a day",
          "within an hour",
          "within an hour",
          "Not Specified",
          "within an hour",
          "within an hour",
          "within an hour",
          "within an hour",
          "within a day",
          "within an hour",
          "within a day",
          "within an hour",
          "within an hour",
          "within a day",
          "within an hour",
          "within an hour",
          "within a day",
          "Not Specified",
          "within an hour",
          "within an hour",
          "within an hour",
          "within an hour",
          "within an hour",
          "within an hour",
          "within an hour",
          "within an hour",
          "within an hour",
          "Not Specified",
          "within an hour",
          "within an hour",
          "within an hour",
          "within a few hours",
          "Not Specified",
          "within a few hours",
          "Not Specified",
          "within an hour",
          "within an hour",
          "Not Specified",
          "within an hour",
          "within a day",
          "within a few hours",
          "Not Specified",
          "within an hour",
          "within a day",
          "within an hour",
          "Not Specified",
          "within a day",
          "within a day",
          "within an hour",
          "Not Specified",
          "within an hour",
          "Not Specified",
          "within an hour",
          "within a few hours",
          "within an hour",
          "within an hour",
          "within an hour",
          "within an hour",
          "within an hour",
          "within an hour",
          "within a few hours",
          "within an hour",
          "within an hour",
          "Not Specified",
          "within a few hours",
          "within a day",
          "within an hour",
          "within a few hours",
          "Not Specified",
          "Not Specified",
          "within an hour",
          "within an hour",
          "within a few hours",
          "within a few hours",
          "within a day",
          "Not Specified",
          "within a day",
          "a few days or more",
          "Not Specified",
          "Not Specified",
          "within an hour",
          "within a few hours",
          "Not Specified",
          "Not Specified",
          "within an hour",
          "within a day",
          "within an hour",
          "within an hour",
          "within an hour",
          "within an hour",
          "within an hour",
          "within a day",
          "Not Specified",
          "within an hour",
          "within a few hours",
          "within an hour",
          "Not Specified",
          "within an hour",
          "Not Specified",
          "within an hour",
          "within a few hours",
          "within an hour",
          "within an hour",
          "within a few hours",
          "within an hour",
          "within an hour",
          "within a few hours",
          "within a few hours",
          "within a few hours",
          "within an hour",
          "Not Specified",
          "within an hour",
          "within an hour",
          "within an hour",
          "Not Specified",
          "within an hour",
          "within an hour",
          "within an hour",
          "within an hour",
          "within an hour",
          "Not Specified",
          "within an hour",
          "Not Specified",
          "within an hour",
          "within an hour",
          "Not Specified",
          "within an hour",
          "within an hour",
          "within a day",
          "within an hour",
          "Not Specified",
          "within a day",
          "Not Specified",
          "Not Specified",
          "within an hour",
          "within an hour",
          "Not Specified",
          "within an hour",
          "within an hour",
          "Not Specified",
          "within an hour",
          "Not Specified",
          "within an hour",
          "within an hour",
          "within an hour",
          "within a few hours",
          "within an hour",
          "Not Specified",
          "Not Specified",
          "Not Specified",
          "within an hour",
          "within a day",
          "Not Specified",
          "within a day",
          "within an hour",
          "within an hour",
          "within an hour",
          "within an hour",
          "within an hour",
          "Not Specified",
          "Not Specified",
          "Not Specified",
          "within an hour",
          "within a few hours",
          "within an hour",
          "within an hour",
          "within a few hours",
          "Not Specified",
          "Not Specified",
          "within a few hours",
          "within a few hours",
          "within a day",
          "Not Specified",
          "within an hour",
          "Not Specified",
          "within an hour",
          "within an hour",
          "within an hour",
          "within an hour",
          "within an hour",
          "within an hour",
          "within an hour",
          "within a few hours",
          "a few days or more",
          "Not Specified",
          "within a day",
          "within an hour",
          "within a few hours",
          "within an hour",
          "Not Specified",
          "within a day",
          "Not Specified",
          "within an hour",
          "Not Specified",
          "Not Specified",
          "Not Specified",
          "Not Specified",
          "a few days or more",
          "within an hour",
          "within an hour",
          "within an hour",
          "a few days or more",
          "within a few hours",
          "Not Specified",
          "within a few hours",
          "within an hour",
          "Not Specified",
          "within an hour",
          "within an hour",
          "Not Specified",
          "within an hour",
          "within an hour",
          "Not Specified",
          "within an hour",
          "within an hour",
          "within an hour",
          "within an hour",
          "within an hour",
          "a few days or more",
          "within an hour",
          "Not Specified",
          "within a day",
          "within an hour",
          "within an hour",
          "within an hour",
          "within an hour",
          "within an hour",
          "Not Specified",
          "Not Specified",
          "within an hour",
          "within an hour",
          "within an hour",
          "within an hour",
          "Not Specified",
          "Not Specified",
          "within an hour",
          "Not Specified",
          "Not Specified",
          "within an hour",
          "within an hour",
          "Not Specified",
          "Not Specified",
          "within an hour",
          "within an hour",
          "Not Specified",
          "Not Specified",
          "within a few hours",
          "within an hour",
          "Not Specified",
          "within an hour",
          "within a few hours",
          "within a few hours",
          "within an hour",
          "within an hour",
          "within a day",
          "within an hour",
          "Not Specified",
          "within a few hours",
          "within an hour",
          "Not Specified",
          "Not Specified",
          "Not Specified",
          "within a day",
          "within an hour",
          "within an hour",
          "within an hour",
          "within a few hours",
          "Not Specified",
          "within an hour",
          "within a day",
          "within a day",
          "within a day",
          "Not Specified",
          "within a few hours",
          "within an hour",
          "within an hour",
          "within an hour",
          "within an hour",
          "within an hour",
          "within a few hours",
          "Not Specified",
          "Not Specified",
          "within an hour",
          "Not Specified",
          "within a few hours",
          "within an hour",
          "within an hour",
          "within an hour",
          "within an hour",
          "within an hour",
          "within an hour",
          "within an hour",
          "within an hour",
          "within an hour",
          "within an hour",
          "within a few hours",
          "Not Specified",
          "within a few hours",
          "within an hour",
          "within an hour",
          "within a few hours",
          "within a few hours",
          "within an hour",
          "Not Specified",
          "within an hour",
          "Not Specified",
          "within a day",
          "within a few hours",
          "within an hour",
          "within a few hours",
          "within an hour",
          "within an hour",
          "within a day",
          "Not Specified",
          "Not Specified",
          "within an hour",
          "within a few hours",
          "within an hour",
          "within an hour",
          "within an hour",
          "Not Specified",
          "within an hour",
          "within a few hours",
          "within a few hours",
          "within an hour",
          "within a day",
          "Not Specified",
          "within an hour",
          "within a few hours",
          "within an hour",
          "within an hour",
          "within an hour",
          "within an hour",
          "Not Specified",
          "Not Specified",
          "within an hour",
          "within an hour",
          "within an hour",
          "within an hour",
          "Not Specified",
          "within an hour",
          "Not Specified",
          "within an hour",
          "within a day",
          "within an hour",
          "Not Specified",
          "within an hour",
          "within a day",
          "within an hour",
          "within an hour",
          "within an hour",
          "within an hour",
          "within an hour",
          "within a day",
          "within an hour",
          "within a few hours",
          "within an hour",
          "within an hour",
          "within a day",
          "within an hour",
          "Not Specified",
          "within an hour",
          "within an hour",
          "within an hour",
          "Not Specified",
          "within an hour",
          "Not Specified",
          "within an hour",
          "Not Specified",
          "Not Specified",
          "within an hour",
          "Not Specified",
          "within a day",
          "within an hour",
          "within an hour",
          "Not Specified",
          "within a few hours",
          "Not Specified",
          "within a few hours",
          "within an hour",
          "within an hour",
          "within an hour",
          "Not Specified",
          "Not Specified",
          "within an hour",
          "within an hour",
          "within an hour",
          "Not Specified",
          "within an hour",
          "Not Specified",
          "Not Specified",
          "within an hour",
          "within an hour",
          "Not Specified",
          "within an hour",
          "within an hour",
          "Not Specified",
          "Not Specified",
          "Not Specified",
          "Not Specified",
          "within a day",
          "within an hour",
          "within an hour",
          "within a few hours",
          "Not Specified",
          "Not Specified",
          "Not Specified",
          "within an hour",
          "within a few hours",
          "within a day",
          "Not Specified",
          "within an hour",
          "within an hour",
          "within a few hours",
          "within an hour",
          "within an hour",
          "within an hour",
          "within an hour",
          "Not Specified",
          "Not Specified",
          "within an hour",
          "Not Specified",
          "within an hour",
          "within an hour",
          "Not Specified",
          "within an hour",
          "Not Specified",
          "within a day",
          "within an hour",
          "Not Specified",
          "a few days or more",
          "within an hour",
          "within an hour",
          "within an hour",
          "within a few hours",
          "Not Specified",
          "Not Specified",
          "within an hour",
          "within an hour",
          "Not Specified",
          "Not Specified",
          "within a few hours",
          "within a day",
          "within an hour",
          "within an hour",
          "within an hour",
          "Not Specified",
          "Not Specified",
          "within an hour",
          "within an hour",
          "within an hour",
          "within an hour",
          "within a day",
          "Not Specified",
          "Not Specified",
          "within a day",
          "Not Specified",
          "Not Specified",
          "within a few hours",
          "within an hour",
          "within an hour",
          "Not Specified",
          "Not Specified",
          "within an hour",
          "within an hour",
          "Not Specified",
          "within an hour",
          "within an hour",
          "within an hour",
          "within an hour",
          "within an hour",
          "within a day",
          "within an hour",
          "within an hour",
          "Not Specified",
          "within an hour",
          "Not Specified",
          "Not Specified",
          "within a few hours",
          "within an hour",
          "within a day",
          "Not Specified",
          "within a day",
          "within an hour",
          "Not Specified",
          "Not Specified",
          "within an hour",
          "within an hour",
          "within an hour",
          "within a day",
          "within a few hours",
          "within an hour",
          "Not Specified",
          "within a few hours",
          "within an hour",
          "within a few hours",
          "Not Specified",
          "Not Specified",
          "within an hour",
          "within an hour",
          "within a day",
          "within an hour",
          "within an hour",
          "within a day",
          "within a day",
          "within an hour",
          "within an hour",
          "Not Specified",
          "Not Specified",
          "within an hour",
          "Not Specified",
          "within an hour",
          "within an hour",
          "Not Specified",
          "within an hour",
          "Not Specified",
          "within an hour",
          "within an hour",
          "Not Specified",
          "within an hour",
          "within a day",
          "within an hour",
          "within an hour",
          "within an hour",
          "within an hour",
          "within a few hours",
          "Not Specified",
          "within an hour",
          "within a day",
          "Not Specified",
          "Not Specified",
          "within an hour",
          "within an hour",
          "Not Specified",
          "within an hour",
          "within an hour",
          "within an hour",
          "within an hour",
          "within an hour",
          "within an hour",
          "Not Specified",
          "within an hour",
          "within a few hours",
          "within an hour",
          "within a day",
          "within an hour",
          "Not Specified",
          "within an hour",
          "within a day",
          "within an hour",
          "Not Specified",
          "Not Specified",
          "Not Specified",
          "within a few hours",
          "within an hour",
          "within an hour",
          "within a day",
          "Not Specified",
          "within an hour",
          "Not Specified",
          "within an hour",
          "within an hour",
          "within an hour",
          "within a day",
          "within an hour",
          "Not Specified",
          "within an hour",
          "Not Specified",
          "within an hour",
          "within a few hours",
          "Not Specified",
          "Not Specified",
          "within an hour",
          "Not Specified",
          "within an hour",
          "Not Specified",
          "within an hour",
          "Not Specified",
          "within an hour",
          "Not Specified",
          "within an hour",
          "within an hour",
          "within an hour",
          "within a few hours",
          "Not Specified",
          "within a few hours",
          "within a few hours",
          "within an hour",
          "within an hour",
          "within an hour",
          "within an hour",
          "within an hour",
          "within an hour",
          "within a day",
          "Not Specified",
          "within an hour",
          "within a few hours",
          "Not Specified",
          "Not Specified",
          "within an hour",
          "within an hour",
          "within an hour",
          "within an hour",
          "within a few hours",
          "within a few hours",
          "within an hour",
          "within a few hours",
          "within a few hours",
          "Not Specified",
          "within an hour",
          "Not Specified",
          "within a few hours",
          "within a few hours",
          "within an hour",
          "Not Specified",
          "a few days or more",
          "within an hour",
          "within a day",
          "within a few hours",
          "within a few hours",
          "within an hour",
          "within an hour",
          "within an hour",
          "within an hour",
          "within an hour",
          "Not Specified",
          "within an hour",
          "Not Specified",
          "within an hour",
          "within an hour",
          "Not Specified",
          "within an hour",
          "Not Specified",
          "within an hour",
          "within an hour",
          "within an hour",
          "within an hour",
          "within an hour",
          "within an hour",
          "within an hour",
          "within an hour",
          "within an hour",
          "within an hour",
          "Not Specified",
          "within an hour",
          "Not Specified",
          "within a few hours",
          "Not Specified",
          "within an hour",
          "within an hour",
          "within an hour",
          "Not Specified",
          "within a day",
          "within an hour",
          "within a few hours",
          "Not Specified",
          "within an hour",
          "Not Specified",
          "within an hour",
          "Not Specified",
          "within an hour",
          "within an hour",
          "within an hour",
          "Not Specified",
          "within an hour",
          "within an hour",
          "within an hour",
          "a few days or more",
          "Not Specified",
          "within an hour",
          "within a few hours",
          "within an hour",
          "within an hour",
          "within a day",
          "within an hour",
          "Not Specified",
          "within a few hours",
          "within an hour",
          "Not Specified",
          "within an hour",
          "within an hour",
          "within an hour",
          "within an hour",
          "within a few hours",
          "Not Specified",
          "within an hour",
          "Not Specified",
          "within an hour",
          "within an hour",
          "within an hour",
          "within a few hours",
          "within an hour",
          "within a few hours",
          "within an hour",
          "within an hour",
          "within an hour",
          "within an hour",
          "within a day",
          "within a day",
          "Not Specified",
          "within a day",
          "Not Specified",
          "Not Specified",
          "within a day",
          "within an hour",
          "within an hour",
          "within a day",
          "within an hour",
          "Not Specified",
          "within a day",
          "within an hour",
          "within an hour",
          "within a day",
          "within an hour",
          "within a few hours",
          "Not Specified",
          "Not Specified",
          "within an hour",
          "within an hour",
          "within an hour",
          "within an hour",
          "within a few hours",
          "within an hour",
          "Not Specified",
          "within an hour",
          "within an hour",
          "within a few hours",
          "within a few hours",
          "within an hour",
          "within an hour",
          "within an hour",
          "Not Specified",
          "within a few hours",
          "within an hour",
          "within an hour",
          "Not Specified",
          "Not Specified",
          "within a day",
          "within an hour",
          "within an hour",
          "within an hour",
          "Not Specified",
          "within an hour",
          "Not Specified",
          "within a day",
          "Not Specified",
          "within an hour",
          "within an hour",
          "within an hour",
          "within an hour",
          "within a day",
          "within a few hours",
          "Not Specified",
          "within an hour",
          "within a day",
          "within an hour",
          "Not Specified",
          "within a day",
          "within an hour",
          "within an hour",
          "within an hour",
          "Not Specified",
          "Not Specified",
          "within an hour",
          "within a day",
          "within a few hours",
          "a few days or more",
          "within an hour",
          "a few days or more",
          "Not Specified",
          "within an hour",
          "Not Specified",
          "Not Specified",
          "within an hour",
          "within an hour",
          "within a day",
          "within an hour",
          "within an hour",
          "within an hour",
          "Not Specified",
          "within an hour",
          "within a few hours",
          "Not Specified",
          "a few days or more",
          "within an hour",
          "within an hour",
          "within an hour",
          "within an hour",
          "Not Specified",
          "Not Specified",
          "within an hour",
          "within an hour",
          "within an hour",
          "within an hour",
          "within a few hours",
          "within an hour",
          "within a few hours",
          "Not Specified",
          "within an hour",
          "within an hour",
          "within an hour",
          "Not Specified",
          "within a day",
          "within an hour",
          "within a day",
          "within an hour",
          "within a few hours",
          "within an hour",
          "within a few hours",
          "within an hour",
          "a few days or more",
          "within an hour",
          "within an hour",
          "within an hour",
          "within an hour",
          "within an hour",
          "within an hour",
          "Not Specified",
          "Not Specified",
          "Not Specified",
          "Not Specified",
          "within a few hours",
          "within an hour",
          "within an hour",
          "within an hour",
          "within an hour",
          "within an hour",
          "within a day",
          "within a few hours",
          "within an hour",
          "within an hour",
          "Not Specified",
          "Not Specified",
          "Not Specified",
          "within a few hours",
          "within a few hours",
          "Not Specified",
          "within a day",
          "within an hour",
          "within an hour",
          "Not Specified",
          "within an hour",
          "Not Specified",
          "Not Specified",
          "within an hour",
          "within an hour",
          "Not Specified",
          "within an hour",
          "within a day",
          "within an hour",
          "within an hour",
          "within a day",
          "within a few hours",
          "within an hour",
          "within a day",
          "within a day",
          "Not Specified",
          "Not Specified",
          "within a few hours",
          "within a few hours",
          "within an hour",
          "within an hour",
          "within a few hours",
          "within an hour",
          "within an hour",
          "within a few hours",
          "Not Specified",
          "within an hour",
          "within an hour",
          "within a day",
          "within an hour",
          "Not Specified",
          "within an hour",
          "within an hour",
          "within a few hours",
          "Not Specified",
          "a few days or more",
          "within an hour",
          "Not Specified",
          "Not Specified",
          "within a few hours",
          "within an hour",
          "Not Specified",
          "Not Specified",
          "within a day",
          "within an hour",
          "Not Specified",
          "Not Specified",
          "within an hour",
          "within an hour",
          "Not Specified",
          "within an hour",
          "within an hour",
          "within a few hours",
          "Not Specified",
          "within an hour",
          "within a day",
          "Not Specified",
          "within a few hours",
          "Not Specified",
          "within a day",
          "within an hour",
          "Not Specified",
          "within an hour",
          "within an hour",
          "within an hour",
          "Not Specified",
          "within a few hours",
          "within an hour",
          "Not Specified",
          "Not Specified",
          "Not Specified",
          "within a few hours",
          "within an hour",
          "a few days or more",
          "within an hour",
          "Not Specified",
          "Not Specified",
          "within an hour",
          "within a day",
          "within an hour",
          "within an hour",
          "Not Specified",
          "within a few hours",
          "Not Specified",
          "within a day",
          "within a few hours",
          "within an hour",
          "within an hour",
          "within an hour",
          "within an hour",
          "within a few hours",
          "within an hour",
          "within an hour",
          "within a day",
          "within a few hours",
          "within a day",
          "Not Specified",
          "within an hour",
          "within an hour",
          "within an hour",
          "within an hour",
          "Not Specified",
          "within a few hours",
          "within an hour",
          "within an hour",
          "within an hour",
          "Not Specified",
          "within a day",
          "within a day",
          "within an hour",
          "within a day",
          "Not Specified",
          "within a few hours",
          "Not Specified",
          "within a few hours",
          "within an hour",
          "Not Specified",
          "within a few hours",
          "Not Specified",
          "within an hour",
          "within a day",
          "within an hour",
          "within a day",
          "Not Specified",
          "within an hour",
          "Not Specified",
          "within an hour",
          "Not Specified",
          "within a few hours",
          "Not Specified",
          "Not Specified",
          "Not Specified",
          "Not Specified",
          "within a few hours",
          "within an hour",
          "within an hour",
          "within a few hours",
          "Not Specified",
          "Not Specified",
          "Not Specified",
          "within an hour",
          "Not Specified",
          "Not Specified",
          "Not Specified",
          "within an hour",
          "within a day",
          "within an hour",
          "within a few hours",
          "within an hour",
          "within a day",
          "within an hour",
          "within a day",
          "within an hour",
          "Not Specified",
          "Not Specified",
          "within an hour",
          "Not Specified",
          "within an hour",
          "within a day",
          "Not Specified",
          "within an hour",
          "within a day",
          "Not Specified",
          "within an hour",
          "a few days or more",
          "within a few hours",
          "Not Specified",
          "Not Specified",
          "within a few hours",
          "Not Specified",
          "Not Specified",
          "Not Specified",
          "within an hour",
          "within an hour",
          "Not Specified",
          "within an hour",
          "within an hour",
          "within a few hours",
          "within a few hours",
          "Not Specified",
          "within a day",
          "within an hour",
          "within an hour",
          "within an hour",
          "within an hour",
          "within an hour",
          "Not Specified",
          "within an hour",
          "Not Specified",
          "within an hour",
          "within an hour",
          "within an hour",
          "Not Specified",
          "a few days or more",
          "within an hour",
          "within an hour",
          "Not Specified",
          "Not Specified",
          "within an hour",
          "within an hour",
          "within an hour",
          "within an hour",
          "within a day",
          "within an hour",
          "within an hour",
          "within an hour",
          "within a day",
          "within an hour",
          "within an hour",
          "within an hour",
          "within an hour",
          "Not Specified",
          "Not Specified",
          "within an hour",
          "Not Specified",
          "within an hour",
          "within an hour",
          "within an hour",
          "Not Specified",
          "Not Specified",
          "within an hour",
          "Not Specified",
          "within an hour",
          "Not Specified",
          "within an hour",
          "within an hour",
          "Not Specified",
          "within an hour",
          "within an hour",
          "within an hour",
          "within an hour",
          "within an hour",
          "Not Specified",
          "Not Specified",
          "within an hour",
          "within a few hours",
          "within an hour",
          "within an hour",
          "Not Specified",
          "Not Specified",
          "within an hour",
          "Not Specified",
          "Not Specified",
          "within an hour",
          "within a day",
          "within an hour",
          "Not Specified",
          "within a few hours",
          "Not Specified",
          "within an hour",
          "within a day",
          "within a few hours",
          "within a few hours",
          "within a few hours",
          "Not Specified",
          "within an hour",
          "within an hour",
          "within an hour",
          "within a day",
          "within an hour",
          "Not Specified",
          "Not Specified",
          "within an hour",
          "within an hour",
          "within an hour",
          "within an hour",
          "Not Specified",
          "within an hour",
          "within a few hours",
          "Not Specified",
          "within an hour",
          "within a day",
          "within a day",
          "within an hour",
          "Not Specified",
          "within an hour",
          "a few days or more",
          "within an hour",
          "within a day",
          "within an hour",
          "within an hour",
          "within an hour",
          "within an hour",
          "within an hour",
          "within a few hours",
          "within an hour",
          "a few days or more",
          "within an hour",
          "within an hour",
          "Not Specified",
          "Not Specified",
          "within a few hours",
          "within a day",
          "within a few hours",
          "Not Specified",
          "Not Specified",
          "within an hour",
          "within an hour",
          "within an hour",
          "within an hour",
          "within a day",
          "a few days or more",
          "Not Specified",
          "Not Specified",
          "within an hour",
          "Not Specified",
          "within an hour",
          "Not Specified",
          "within an hour",
          "within an hour",
          "within an hour",
          "within an hour",
          "within an hour",
          "within a day",
          "within a day",
          "within an hour",
          "within an hour",
          "Not Specified",
          "Not Specified",
          "within an hour",
          "within a day",
          "Not Specified",
          "Not Specified",
          "Not Specified",
          "within an hour",
          "within an hour",
          "within a few hours",
          "within a day",
          "within an hour",
          "within an hour",
          "Not Specified",
          "within an hour",
          "Not Specified",
          "within a day",
          "within an hour",
          "within a day",
          "Not Specified",
          "a few days or more",
          "within an hour",
          "within a day",
          "within an hour",
          "within an hour",
          "within an hour",
          "within an hour",
          "within a day",
          "within an hour",
          "within an hour",
          "within a few hours",
          "within an hour",
          "within an hour",
          "within an hour",
          "within an hour",
          "Not Specified",
          "Not Specified",
          "within an hour",
          "within an hour",
          "Not Specified",
          "within an hour",
          "Not Specified",
          "within an hour",
          "within an hour",
          "within a day",
          "within an hour",
          "within an hour",
          "Not Specified",
          "within an hour",
          "within a few hours",
          "within an hour",
          "Not Specified",
          "within an hour",
          "within an hour",
          "within an hour",
          "within an hour",
          "within an hour",
          "within an hour",
          "Not Specified",
          "within an hour",
          "a few days or more",
          "within an hour",
          "Not Specified",
          "within an hour",
          "within an hour",
          "within an hour",
          "Not Specified",
          "within an hour",
          "Not Specified",
          "within a few hours",
          "within an hour",
          "within an hour",
          "within an hour",
          "within a day",
          "within an hour",
          "a few days or more",
          "within an hour",
          "Not Specified",
          "within an hour",
          "within an hour",
          "within an hour",
          "within a few hours",
          "within an hour",
          "within an hour",
          "within a few hours",
          "a few days or more",
          "within a day",
          "within an hour",
          "within an hour",
          "within an hour",
          "within a day",
          "within a day",
          "Not Specified",
          "within a day",
          "Not Specified",
          "within an hour",
          "within an hour",
          "within an hour",
          "within an hour",
          "within an hour",
          "Not Specified",
          "Not Specified",
          "Not Specified",
          "within an hour",
          "within an hour",
          "Not Specified",
          "within an hour",
          "within an hour",
          "within an hour",
          "within an hour",
          "Not Specified",
          "Not Specified",
          "within an hour",
          "Not Specified",
          "within an hour",
          "a few days or more",
          "within an hour",
          "within an hour",
          "Not Specified",
          "within an hour",
          "Not Specified",
          "within an hour",
          "within an hour",
          "Not Specified",
          "Not Specified",
          "within an hour",
          "Not Specified",
          "within an hour",
          "within an hour",
          "within an hour",
          "within an hour",
          "within an hour",
          "Not Specified",
          "Not Specified",
          "within an hour",
          "within an hour",
          "Not Specified",
          "within a day",
          "within an hour",
          "within a few hours",
          "within a day",
          "within an hour",
          "Not Specified",
          "within a few hours",
          "within a day",
          "within an hour",
          "within an hour",
          "Not Specified",
          "within an hour",
          "within a day",
          "within an hour",
          "within an hour",
          "within an hour",
          "within an hour",
          "within an hour",
          "within an hour",
          "Not Specified",
          "within an hour",
          "within a few hours",
          "Not Specified",
          "within an hour",
          "within an hour",
          "within a few hours",
          "within an hour",
          "within a few hours",
          "within an hour",
          "within an hour",
          "within an hour",
          "within an hour",
          "within an hour",
          "within an hour",
          "Not Specified",
          "within a day",
          "Not Specified",
          "a few days or more",
          "within a few hours",
          "within a few hours",
          "a few days or more",
          "Not Specified",
          "within an hour",
          "within a few hours",
          "within a day",
          "Not Specified",
          "within a day",
          "within a few hours",
          "Not Specified",
          "within an hour",
          "within an hour",
          "within an hour",
          "Not Specified",
          "within a few hours",
          "within an hour",
          "Not Specified",
          "within an hour",
          "within a few hours",
          "within an hour",
          "within an hour",
          "within a few hours",
          "Not Specified",
          "within an hour",
          "within an hour",
          "Not Specified",
          "within an hour",
          "within an hour",
          "within an hour",
          "within a few hours",
          "within an hour",
          "within an hour",
          "within a day",
          "within a few hours",
          "Not Specified",
          "Not Specified",
          "within an hour",
          "Not Specified",
          "within an hour",
          "Not Specified",
          "within an hour",
          "within an hour",
          "within a few hours",
          "within an hour",
          "within an hour",
          "within a few hours",
          "a few days or more",
          "Not Specified",
          "within an hour",
          "a few days or more",
          "a few days or more",
          "within an hour",
          "within a day",
          "within an hour",
          "within an hour",
          "a few days or more",
          "within a few hours",
          "within an hour",
          "within an hour",
          "within an hour",
          "within an hour",
          "within an hour",
          "Not Specified",
          "within a day",
          "within an hour",
          "within an hour",
          "within an hour",
          "within a day",
          "within a few hours",
          "Not Specified",
          "Not Specified",
          "within a few hours",
          "Not Specified",
          "within a few hours",
          "within an hour",
          "within an hour",
          "within an hour",
          "within an hour",
          "within a day",
          "within a few hours",
          "Not Specified",
          "within an hour",
          "within an hour",
          "within an hour",
          "within an hour",
          "within an hour",
          "Not Specified",
          "within an hour",
          "Not Specified",
          "Not Specified",
          "within an hour",
          "within a day",
          "Not Specified",
          "Not Specified",
          "within an hour",
          "Not Specified",
          "within an hour",
          "Not Specified",
          "within an hour",
          "within an hour",
          "Not Specified",
          "a few days or more",
          "within an hour",
          "within an hour",
          "within an hour",
          "within an hour",
          "Not Specified",
          "within a day",
          "within a few hours",
          "Not Specified",
          "within a few hours",
          "Not Specified",
          "a few days or more",
          "within an hour",
          "within an hour",
          "within a few hours",
          "within an hour",
          "within a few hours",
          "Not Specified",
          "within an hour",
          "Not Specified",
          "within a day",
          "Not Specified",
          "Not Specified",
          "within an hour",
          "within an hour",
          "Not Specified",
          "Not Specified",
          "within an hour",
          "within an hour",
          "within an hour",
          "within an hour",
          "within a few hours",
          "within a day",
          "within a few hours",
          "within a few hours",
          "within an hour",
          "within a day",
          "within an hour",
          "within an hour",
          "within an hour",
          "Not Specified",
          "within an hour",
          "Not Specified",
          "within an hour",
          "within a day",
          "within an hour",
          "within an hour",
          "within an hour",
          "within an hour",
          "within a day",
          "within an hour",
          "within an hour",
          "Not Specified",
          "within an hour",
          "within a few hours",
          "within an hour",
          "within a day",
          "within a few hours",
          "within an hour",
          "within a day",
          "within an hour",
          "within a day",
          "Not Specified",
          "within an hour",
          "within an hour",
          "Not Specified",
          "within an hour",
          "within an hour",
          "within a few hours",
          "within an hour",
          "within an hour",
          "within an hour",
          "within an hour",
          "within a day",
          "within a few hours",
          "Not Specified",
          "Not Specified",
          "Not Specified",
          "within an hour",
          "Not Specified",
          "within an hour",
          "within an hour",
          "within a few hours",
          "within a few hours",
          "Not Specified",
          "Not Specified",
          "within a few hours",
          "within an hour",
          "within an hour",
          "within an hour",
          "within a few hours",
          "within a day",
          "within an hour",
          "within an hour",
          "within an hour",
          "within an hour",
          "within a day",
          "within a day",
          "within a few hours",
          "within an hour",
          "within an hour",
          "within an hour",
          "within an hour",
          "within a day",
          "within an hour",
          "Not Specified",
          "within an hour",
          "within an hour",
          "within an hour",
          "within an hour",
          "within a few hours",
          "within an hour",
          "within an hour",
          "within an hour",
          "within an hour",
          "Not Specified",
          "a few days or more",
          "within an hour",
          "within an hour",
          "within a few hours",
          "within a few hours",
          "within a few hours",
          "within a few hours",
          "within an hour",
          "within a few hours",
          "within an hour",
          "within a day",
          "within an hour",
          "Not Specified",
          "Not Specified",
          "within a day",
          "within a day",
          "within an hour",
          "Not Specified",
          "within a few hours",
          "within an hour",
          "within an hour",
          "within a day",
          "within an hour",
          "within an hour",
          "within an hour",
          "within an hour",
          "within an hour",
          "within an hour",
          "within an hour",
          "within a day",
          "within an hour",
          "within an hour",
          "within an hour",
          "within a few hours",
          "within a day",
          "within an hour",
          "within an hour",
          "within an hour",
          "Not Specified",
          "within a day",
          "Not Specified",
          "within a few hours",
          "within an hour",
          "within an hour",
          "within a few hours",
          "within an hour",
          "within a few hours",
          "Not Specified",
          "within an hour",
          "within an hour",
          "within an hour",
          "within an hour",
          "Not Specified",
          "within an hour",
          "within an hour",
          "within an hour",
          "within an hour",
          "within an hour",
          "Not Specified",
          "within an hour",
          "Not Specified",
          "within an hour",
          "Not Specified",
          "within an hour",
          "within an hour",
          "Not Specified",
          "within an hour",
          "within a few hours",
          "Not Specified",
          "a few days or more",
          "within an hour",
          "within an hour",
          "Not Specified",
          "within an hour",
          "Not Specified",
          "within an hour",
          "Not Specified",
          "within an hour",
          "within a day",
          "Not Specified",
          "Not Specified",
          "within an hour",
          "within a few hours",
          "within an hour",
          "within an hour",
          "within an hour",
          "a few days or more",
          "within a few hours",
          "Not Specified",
          "within an hour",
          "within an hour",
          "within an hour",
          "within an hour",
          "within an hour",
          "within an hour",
          "Not Specified",
          "within an hour",
          "within a few hours",
          "Not Specified",
          "within an hour",
          "within an hour",
          "Not Specified",
          "within an hour",
          "Not Specified",
          "Not Specified",
          "a few days or more",
          "within an hour",
          "within an hour",
          "Not Specified",
          "within an hour",
          "within an hour",
          "within an hour",
          "within an hour",
          "within an hour",
          "within an hour",
          "within an hour",
          "within a few hours",
          "Not Specified",
          "within a day",
          "within an hour",
          "within a day",
          "within an hour",
          "within an hour",
          "within a few hours",
          "Not Specified",
          "within a few hours",
          "within an hour",
          "within an hour",
          "within a few hours",
          "within an hour",
          "within an hour",
          "within an hour",
          "Not Specified",
          "within a few hours",
          "Not Specified",
          "within an hour",
          "a few days or more",
          "within a few hours",
          "Not Specified",
          "within a few hours",
          "within an hour",
          "within an hour",
          "within a few hours",
          "Not Specified",
          "Not Specified",
          "within an hour",
          "Not Specified",
          "within a day",
          "within an hour",
          "within an hour",
          "Not Specified",
          "within an hour",
          "within a day",
          "within a few hours",
          "within a few hours",
          "within an hour",
          "within an hour",
          "within an hour",
          "within an hour",
          "within an hour",
          "within a day",
          "Not Specified",
          "within an hour",
          "within an hour",
          "within an hour",
          "within an hour",
          "within an hour",
          "within an hour",
          "within a day",
          "within a few hours",
          "Not Specified",
          "within an hour",
          "within an hour",
          "within an hour",
          "within a day",
          "within an hour",
          "within an hour",
          "within an hour",
          "within an hour",
          "Not Specified",
          "within an hour",
          "within an hour",
          "within an hour",
          "Not Specified",
          "Not Specified",
          "within an hour",
          "within a few hours",
          "within an hour",
          "within a few hours",
          "within an hour",
          "within a day",
          "within an hour",
          "within an hour",
          "within an hour",
          "a few days or more",
          "within a few hours",
          "within a day",
          "within a day",
          "Not Specified",
          "within a few hours",
          "within an hour",
          "within an hour",
          "within an hour",
          "within a few hours",
          "within a few hours",
          "within an hour",
          "within an hour",
          "Not Specified",
          "within a few hours",
          "within a few hours",
          "Not Specified",
          "within a day",
          "a few days or more",
          "within a few hours",
          "within a few hours",
          "within an hour",
          "within a few hours",
          "within an hour",
          "within an hour",
          "within an hour",
          "within a day",
          "within a day",
          "within an hour",
          "within an hour",
          "within an hour",
          "a few days or more",
          "within an hour",
          "within an hour",
          "within a few hours",
          "within an hour",
          "Not Specified",
          "within an hour",
          "within a few hours",
          "within a day",
          "within a few hours",
          "within an hour",
          "within an hour",
          "within a few hours",
          "within an hour",
          "within an hour",
          "Not Specified",
          "within a day",
          "within an hour",
          "within an hour",
          "Not Specified",
          "a few days or more",
          "within an hour",
          "within an hour",
          "within an hour",
          "within an hour",
          "within a few hours",
          "within a day",
          "within a day",
          "within an hour",
          "within an hour",
          "within an hour",
          "Not Specified",
          "within an hour",
          "a few days or more",
          "within an hour",
          "within an hour",
          "Not Specified",
          "within a day",
          "Not Specified",
          "within a few hours",
          "within an hour",
          "Not Specified",
          "within a day",
          "within an hour",
          "Not Specified",
          "within a day",
          "within a day",
          "within an hour",
          "Not Specified",
          "within an hour",
          "within an hour",
          "within an hour",
          "within an hour",
          "Not Specified",
          "within a few hours",
          "within an hour",
          "within an hour",
          "within an hour",
          "within an hour",
          "within an hour",
          "within a day",
          "within an hour",
          "within an hour",
          "within an hour",
          "Not Specified",
          "within a day",
          "within an hour",
          "within a few hours",
          "within an hour",
          "within an hour",
          "within an hour",
          "Not Specified",
          "within an hour",
          "within an hour",
          "within an hour",
          "within a few hours",
          "within an hour",
          "Not Specified",
          "within an hour",
          "Not Specified",
          "within a few hours",
          "within an hour",
          "within a few hours",
          "within a few hours",
          "within an hour",
          "Not Specified",
          "within an hour",
          "within an hour",
          "within an hour",
          "Not Specified",
          "within an hour",
          "a few days or more",
          "within an hour",
          "within an hour",
          "within an hour",
          "within a few hours",
          "within an hour",
          "within an hour",
          "within an hour",
          "within an hour",
          "within an hour",
          "within a day",
          "within an hour",
          "a few days or more",
          "within an hour",
          "within an hour",
          "within an hour",
          "within an hour",
          "within an hour",
          "within an hour",
          "within an hour",
          "within an hour",
          "within a day",
          "within an hour",
          "within a day",
          "within an hour",
          "within an hour",
          "within an hour",
          "within an hour",
          "Not Specified",
          "Not Specified",
          "within an hour",
          "Not Specified",
          "within an hour",
          "within a few hours",
          "within an hour",
          "within a day",
          "within an hour",
          "within a day",
          "within an hour",
          "within an hour",
          "Not Specified",
          "Not Specified",
          "Not Specified",
          "within an hour",
          "within an hour",
          "within an hour",
          "within a day",
          "within an hour",
          "Not Specified",
          "within an hour",
          "within an hour",
          "within an hour",
          "Not Specified",
          "Not Specified",
          "Not Specified",
          "within an hour",
          "within an hour",
          "within an hour",
          "within a few hours",
          "within an hour",
          "Not Specified",
          "within an hour",
          "Not Specified",
          "within a day",
          "within an hour",
          "Not Specified",
          "within an hour",
          "a few days or more",
          "Not Specified",
          "within an hour",
          "within an hour",
          "within a day",
          "within a few hours",
          "Not Specified",
          "within an hour",
          "Not Specified",
          "Not Specified",
          "Not Specified",
          "within an hour",
          "Not Specified",
          "within an hour",
          "Not Specified",
          "within an hour",
          "within an hour",
          "Not Specified",
          "within an hour",
          "within an hour",
          "within an hour",
          "Not Specified",
          "Not Specified",
          "a few days or more",
          "within an hour",
          "within an hour",
          "within a day",
          "within an hour",
          "within a day",
          "within an hour",
          "within an hour",
          "within an hour",
          "within an hour",
          "within a few hours",
          "within a day",
          "within an hour",
          "within an hour",
          "within a few hours",
          "within a few hours",
          "within an hour",
          "within an hour",
          "within an hour",
          "within an hour",
          "within an hour",
          "within an hour",
          "within an hour",
          "within a few hours",
          "within an hour",
          "within an hour",
          "within an hour",
          "within a few hours",
          "within an hour",
          "Not Specified",
          "within an hour",
          "within an hour",
          "within an hour",
          "Not Specified",
          "within an hour",
          "Not Specified",
          "within an hour",
          "within an hour",
          "within a few hours",
          "within an hour",
          "within an hour",
          "within an hour",
          "within an hour",
          "within an hour",
          "within a few hours",
          "Not Specified",
          "within an hour",
          "within a few hours",
          "within an hour",
          "within an hour",
          "within an hour",
          "a few days or more",
          "Not Specified",
          "Not Specified",
          "Not Specified",
          "within an hour",
          "within a few hours",
          "within an hour",
          "within an hour",
          "within an hour",
          "within an hour",
          "within an hour",
          "within an hour",
          "within a day",
          "within a few hours",
          "within an hour",
          "within an hour",
          "within an hour",
          "within an hour",
          "Not Specified",
          "within an hour",
          "within an hour",
          "within a few hours",
          "Not Specified",
          "within a day",
          "within an hour",
          "within an hour",
          "within a few hours",
          "within an hour",
          "within a few hours",
          "within an hour",
          "Not Specified",
          "within an hour",
          "within an hour",
          "within a few hours",
          "within an hour",
          "Not Specified",
          "within a few hours",
          "within an hour",
          "within an hour",
          "within a few hours",
          "within an hour",
          "Not Specified",
          "within an hour",
          "within an hour",
          "within an hour",
          "within an hour",
          "within an hour",
          "within a few hours",
          "within an hour",
          "within an hour",
          "within an hour",
          "within an hour",
          "Not Specified",
          "within a day",
          "within an hour",
          "within an hour",
          "within an hour",
          "within an hour",
          "within an hour",
          "within a few hours",
          "within an hour",
          "within an hour",
          "within an hour",
          "Not Specified",
          "within an hour",
          "Not Specified",
          "within an hour",
          "within an hour",
          "within a day",
          "within an hour",
          "Not Specified",
          "within an hour",
          "within a day",
          "within an hour",
          "within an hour",
          "within a few hours",
          "within an hour",
          "Not Specified",
          "within an hour",
          "within an hour",
          "within a day",
          "within an hour",
          "within a day",
          "within an hour",
          "within an hour",
          "within an hour",
          "Not Specified",
          "Not Specified",
          "Not Specified",
          "within an hour",
          "within an hour",
          "within an hour",
          "a few days or more",
          "within an hour",
          "Not Specified",
          "Not Specified",
          "within a few hours",
          "within an hour",
          "within an hour",
          "within a few hours",
          "within an hour",
          "within an hour",
          "within a day",
          "within an hour",
          "within a day",
          "within an hour",
          "Not Specified",
          "within an hour",
          "within a day",
          "within a day",
          "a few days or more",
          "within an hour",
          "within an hour",
          "within an hour",
          "Not Specified",
          "within an hour",
          "within an hour",
          "within a few hours",
          "within an hour",
          "within a day",
          "Not Specified",
          "within a day",
          "Not Specified",
          "within an hour",
          "within a day",
          "within an hour",
          "Not Specified",
          "within a few hours",
          "within a few hours",
          "within an hour",
          "within an hour",
          "within a few hours",
          "a few days or more",
          "within an hour",
          "within an hour",
          "within an hour",
          "Not Specified",
          "within an hour",
          "within an hour",
          "within an hour",
          "within an hour",
          "within an hour",
          "Not Specified",
          "within an hour",
          "within an hour",
          "Not Specified",
          "within an hour",
          "within an hour",
          "within an hour",
          "Not Specified",
          "within an hour",
          "within an hour",
          "within an hour",
          "within an hour",
          "within a day",
          "within an hour",
          "within an hour",
          "within an hour",
          "within a few hours",
          "within an hour",
          "within a few hours",
          "within an hour",
          "within a few hours",
          "within an hour",
          "Not Specified",
          "within a few hours",
          "within an hour",
          "Not Specified",
          "within a day",
          "Not Specified",
          "within an hour",
          "within an hour",
          "Not Specified",
          "within an hour",
          "Not Specified",
          "Not Specified",
          "a few days or more",
          "Not Specified",
          "within an hour",
          "Not Specified",
          "within a day",
          "within a few hours",
          "within a few hours",
          "within a few hours",
          "Not Specified",
          "within an hour",
          "within a day",
          "within an hour",
          "within a few hours",
          "within a day",
          "within an hour",
          "within an hour",
          "within a few hours",
          "within an hour",
          "within an hour",
          "within an hour",
          "within a day",
          "within a few hours",
          "Not Specified",
          "within an hour",
          "within a few hours",
          "within an hour",
          "within a few hours",
          "within an hour",
          "Not Specified",
          "Not Specified",
          "within an hour",
          "within an hour",
          "within an hour",
          "within a few hours",
          "within an hour",
          "within an hour",
          "within an hour",
          "Not Specified",
          "within a day",
          "within a few hours",
          "within an hour",
          "within an hour",
          "within an hour",
          "Not Specified",
          "within an hour",
          "within an hour",
          "within an hour",
          "within an hour",
          "within an hour",
          "within a day",
          "a few days or more",
          "within an hour",
          "within an hour",
          "within a few hours",
          "Not Specified",
          "within an hour",
          "Not Specified",
          "Not Specified",
          "Not Specified",
          "Not Specified",
          "within an hour",
          "Not Specified",
          "Not Specified",
          "within a few hours",
          "within an hour",
          "within an hour",
          "Not Specified",
          "within an hour",
          "within an hour",
          "within an hour",
          "within an hour",
          "within an hour",
          "within an hour",
          "within an hour",
          "Not Specified",
          "Not Specified",
          "a few days or more",
          "Not Specified",
          "within a day",
          "within an hour",
          "within a few hours",
          "within a few hours",
          "within an hour",
          "within an hour",
          "within a day",
          "within an hour",
          "within an hour",
          "within a day",
          "within an hour",
          "within an hour",
          "within an hour",
          "within a few hours",
          "within a few hours",
          "within an hour",
          "within an hour",
          "within an hour",
          "a few days or more",
          "Not Specified",
          "within a day",
          "within an hour",
          "Not Specified",
          "within an hour",
          "within a few hours",
          "Not Specified",
          "Not Specified",
          "a few days or more",
          "within a few hours",
          "within an hour",
          "within an hour",
          "within an hour",
          "within an hour",
          "Not Specified",
          "within a day",
          "a few days or more",
          "a few days or more",
          "Not Specified",
          "within a day",
          "within an hour",
          "within a day",
          "within an hour",
          "within a day",
          "within an hour",
          "within an hour",
          "within a day",
          "within an hour",
          "within an hour",
          "within an hour",
          "within an hour",
          "within an hour",
          "within an hour",
          "within a few hours",
          "Not Specified",
          "within a day",
          "within an hour",
          "within an hour",
          "within a day",
          "within an hour",
          "Not Specified",
          "within an hour",
          "within a few hours",
          "within an hour",
          "within a few hours",
          "within an hour",
          "within an hour",
          "within a day",
          "within an hour",
          "within a day",
          "within an hour",
          "within an hour",
          "a few days or more",
          "within an hour",
          "within a few hours",
          "within a few hours",
          "within a few hours",
          "within a few hours",
          "Not Specified",
          "within an hour",
          "within an hour",
          "within an hour",
          "within an hour",
          "Not Specified",
          "within an hour",
          "within a few hours",
          "within a day",
          "Not Specified",
          "within an hour",
          "within an hour",
          "within an hour",
          "within a few hours",
          "within an hour",
          "within an hour",
          "within a few hours",
          "within an hour",
          "Not Specified",
          "within an hour",
          "Not Specified",
          "within an hour",
          "Not Specified",
          "within a day",
          "within an hour",
          "within an hour",
          "within a few hours",
          "Not Specified",
          "within an hour",
          "within a few hours",
          "Not Specified",
          "Not Specified",
          "within an hour",
          "within an hour",
          "a few days or more",
          "within an hour",
          "within an hour",
          "Not Specified",
          "within a day",
          "Not Specified",
          "within a few hours",
          "within an hour",
          "within an hour",
          "within an hour",
          "within a day",
          "within a day",
          "within an hour",
          "within a few hours",
          "within an hour",
          "within a day",
          "within an hour",
          "within a few hours",
          "within an hour",
          "within a day",
          "within a few hours",
          "within an hour",
          "within an hour",
          "within an hour",
          "within a day",
          "within an hour",
          "within an hour",
          "within a day",
          "within an hour",
          "Not Specified",
          "within a day",
          "Not Specified",
          "within an hour",
          "Not Specified",
          "within an hour",
          "within a day",
          "within an hour",
          "within an hour",
          "within an hour",
          "a few days or more",
          "within an hour",
          "within an hour",
          "a few days or more",
          "within an hour",
          "within an hour",
          "within an hour",
          "within a few hours",
          "within an hour",
          "within a day",
          "Not Specified",
          "within an hour",
          "within an hour",
          "within a day",
          "within an hour",
          "Not Specified",
          "within a day",
          "within an hour",
          "within a few hours",
          "within an hour",
          "within a few hours",
          "within an hour",
          "within a few hours",
          "within a few hours",
          "within an hour",
          "Not Specified",
          "Not Specified",
          "within a few hours",
          "within an hour",
          "within an hour",
          "within an hour",
          "within an hour",
          "within a few hours",
          "within an hour",
          "within an hour",
          "within a day",
          "within a day",
          "Not Specified",
          "within an hour",
          "within a day",
          "within an hour",
          "within an hour",
          "within an hour",
          "within a day",
          "within a few hours",
          "within an hour",
          "within a few hours",
          "within an hour",
          "within an hour",
          "within a day",
          "within an hour",
          "within a day",
          "Not Specified",
          "within an hour",
          "within an hour",
          "within an hour",
          "within a day",
          "within a few hours",
          "within an hour",
          "a few days or more",
          "within an hour",
          "within an hour",
          "within an hour",
          "within a day",
          "a few days or more",
          "within a few hours",
          "within an hour",
          "within a day",
          "within an hour",
          "within a day",
          "within an hour",
          "within a few hours",
          "within an hour",
          "within an hour",
          "Not Specified",
          "within a few hours",
          "within an hour",
          "Not Specified",
          "within an hour",
          "Not Specified",
          "Not Specified",
          "within an hour",
          "within an hour",
          "Not Specified",
          "within an hour",
          "within a few hours",
          "within an hour",
          "within an hour",
          "within an hour",
          "within an hour",
          "within a day",
          "within a day",
          "Not Specified",
          "within an hour",
          "within an hour",
          "within a day",
          "within an hour",
          "within an hour",
          "within an hour",
          "within an hour",
          "within an hour",
          "within an hour",
          "within a day",
          "within an hour",
          "within an hour",
          "Not Specified",
          "within a few hours",
          "within a few hours",
          "within an hour",
          "within an hour",
          "within an hour",
          "within an hour",
          "within a few hours",
          "within a few hours",
          "within an hour",
          "within an hour",
          "within an hour",
          "within a few hours",
          "within an hour",
          "within a few hours",
          "within an hour",
          "within an hour",
          "within an hour",
          "within an hour",
          "within a few hours",
          "within an hour",
          "within an hour",
          "within an hour",
          "Not Specified",
          "within an hour",
          "within a few hours",
          "within an hour",
          "a few days or more",
          "within an hour",
          "within a few hours",
          "within an hour",
          "Not Specified",
          "within an hour",
          "within an hour",
          "within an hour",
          "within a day",
          "within an hour",
          "within an hour",
          "within an hour",
          "within an hour",
          "within a few hours",
          "Not Specified",
          "within an hour",
          "within an hour",
          "within an hour",
          "within a few hours",
          "within an hour",
          "within an hour",
          "within an hour",
          "within an hour",
          "within an hour",
          "a few days or more",
          "within an hour",
          "within an hour",
          "within an hour",
          "within a day",
          "within an hour",
          "within a few hours",
          "within an hour",
          "within a few hours",
          "within an hour",
          "Not Specified",
          "within an hour",
          "within a day",
          "within an hour",
          "within an hour",
          "within an hour",
          "within an hour",
          "Not Specified",
          "within a day",
          "Not Specified",
          "within a day",
          "within an hour",
          "within an hour",
          "within an hour",
          "within an hour",
          "within an hour",
          "within an hour",
          "within an hour",
          "within an hour",
          "within an hour",
          "within an hour",
          "within an hour",
          "within a few hours",
          "within an hour",
          "within an hour",
          "within an hour",
          "within an hour",
          "within an hour",
          "within a few hours",
          "within an hour",
          "within an hour",
          "within an hour",
          "within a few hours",
          "within an hour",
          "within an hour",
          "within an hour",
          "within an hour",
          "within a day",
          "within an hour",
          "within an hour",
          "within an hour",
          "within a day",
          "within an hour",
          "within an hour",
          "a few days or more",
          "within a day",
          "within an hour",
          "within an hour",
          "within an hour",
          "within an hour",
          "within an hour",
          "within a few hours",
          "within an hour",
          "within an hour",
          "within a few hours",
          "a few days or more",
          "Not Specified",
          "within an hour",
          "within an hour",
          "within a few hours",
          "within a few hours",
          "within an hour",
          "within an hour",
          "within a day",
          "within a day",
          "within an hour",
          "within an hour",
          "within a few hours",
          "within an hour",
          "within an hour",
          "within an hour",
          "within a day",
          "within an hour",
          "within an hour",
          "within an hour",
          "within a few hours",
          "within a few hours",
          "within an hour",
          "within a few hours",
          "within an hour",
          "within a few hours",
          "within an hour",
          "within a day",
          "within an hour",
          "within a few hours",
          "within an hour",
          "within a day",
          "within an hour",
          "within a day",
          "within a day",
          "within an hour",
          "within a few hours",
          "Not Specified",
          "within a few hours",
          "within an hour",
          "within an hour",
          "within a day",
          "within an hour",
          "within an hour",
          "Not Specified",
          "within a day",
          "within an hour",
          "within an hour",
          "within a day",
          "within a few hours",
          "within an hour",
          "within a few hours",
          "within a day",
          "within an hour",
          "within an hour",
          "within a day",
          "within an hour",
          "within a day",
          "within an hour",
          "within an hour",
          "within an hour",
          "within an hour",
          "within an hour",
          "within a few hours",
          "within a day",
          "within an hour",
          "Not Specified",
          "within a day",
          "within a few hours",
          "within an hour",
          "Not Specified",
          "a few days or more",
          "within an hour",
          "Not Specified",
          "within an hour",
          "within an hour",
          "within a few hours",
          "within an hour",
          "within a few hours",
          "within an hour",
          "Not Specified",
          "within a day",
          "a few days or more",
          "within an hour",
          "within an hour",
          "within an hour",
          "within a day",
          "within an hour",
          "within a day",
          "within a day",
          "within an hour",
          "Not Specified",
          "within an hour",
          "within an hour",
          "within a few hours",
          "within a day",
          "within a day",
          "within an hour",
          "within an hour",
          "within an hour",
          "within an hour",
          "Not Specified",
          "Not Specified",
          "within an hour",
          "within an hour",
          "within an hour",
          "within an hour",
          "within an hour",
          "within an hour",
          "within an hour",
          "within a few hours",
          "within an hour",
          "Not Specified",
          "within an hour",
          "within an hour",
          "within a few hours",
          "within an hour",
          "within an hour",
          "within an hour",
          "within an hour",
          "Not Specified",
          "within an hour",
          "within an hour",
          "within an hour",
          "within an hour",
          "Not Specified",
          "within a few hours",
          "Not Specified",
          "within an hour",
          "within a few hours",
          "within an hour",
          "Not Specified",
          "within an hour",
          "within an hour",
          "within a few hours",
          "within a day",
          "within an hour",
          "within a day",
          "within a few hours",
          "within an hour",
          "within an hour",
          "within an hour",
          "within an hour",
          "within a day",
          "within an hour",
          "within an hour",
          "within a few hours",
          "within an hour",
          "within a few hours",
          "Not Specified",
          "a few days or more",
          "within a day",
          "within an hour",
          "Not Specified",
          "within an hour",
          "within an hour",
          "within a few hours",
          "Not Specified",
          "within an hour",
          "Not Specified",
          "within an hour",
          "within an hour",
          "within a day",
          "Not Specified",
          "Not Specified",
          "within an hour",
          "within a few hours",
          "within a few hours",
          "within a few hours",
          "within an hour",
          "within an hour",
          "within an hour",
          "within an hour",
          "within an hour",
          "within a day",
          "within an hour",
          "within an hour",
          "within a few hours",
          "Not Specified",
          "within an hour",
          "within an hour",
          "Not Specified",
          "within an hour",
          "within an hour",
          "within an hour",
          "within an hour",
          "Not Specified",
          "Not Specified",
          "within an hour",
          "within a day",
          "within an hour",
          "within an hour",
          "within an hour",
          "within an hour",
          "within an hour",
          "within an hour",
          "Not Specified",
          "within an hour",
          "Not Specified",
          "a few days or more",
          "within an hour",
          "within an hour",
          "within an hour",
          "within an hour",
          "within an hour",
          "within an hour",
          "Not Specified",
          "within a few hours",
          "within an hour",
          "Not Specified",
          "within an hour",
          "within an hour",
          "Not Specified",
          "within an hour",
          "within a day",
          "Not Specified",
          "Not Specified",
          "within a few hours",
          "within an hour",
          "within a day",
          "within an hour",
          "within a day",
          "within a few hours",
          "within an hour",
          "within an hour",
          "within an hour",
          "within an hour",
          "within an hour",
          "Not Specified",
          "Not Specified",
          "a few days or more",
          "within an hour",
          "within an hour",
          "Not Specified",
          "Not Specified",
          "within a day",
          "within an hour",
          "within an hour",
          "within a few hours",
          "within an hour",
          "within an hour",
          "Not Specified",
          "within an hour",
          "within an hour",
          "within an hour",
          "within a few hours",
          "within an hour",
          "within an hour",
          "within a day",
          "within an hour",
          "within a day",
          "within an hour",
          "within an hour",
          "within a few hours",
          "Not Specified",
          "within an hour",
          "within an hour",
          "within an hour",
          "within an hour",
          "a few days or more",
          "within an hour",
          "within an hour",
          "within an hour",
          "a few days or more",
          "within a few hours",
          "within an hour",
          "within an hour",
          "within an hour",
          "within an hour",
          "within an hour",
          "within an hour",
          "Not Specified",
          "within an hour",
          "within an hour",
          "within an hour",
          "within an hour",
          "within an hour",
          "within an hour",
          "Not Specified",
          "within a few hours",
          "within a day",
          "within an hour",
          "Not Specified",
          "within an hour",
          "within an hour",
          "within a day",
          "within an hour",
          "within an hour",
          "within a few hours",
          "within an hour",
          "within an hour",
          "within an hour",
          "within an hour",
          "within an hour",
          "within an hour",
          "Not Specified",
          "within a day",
          "Not Specified",
          "within an hour",
          "Not Specified",
          "within a few hours",
          "within an hour",
          "Not Specified",
          "within a few hours",
          "within an hour",
          "within an hour",
          "within an hour",
          "Not Specified",
          "within an hour",
          "within an hour",
          "within a few hours",
          "within a day",
          "within a day",
          "within an hour",
          "within an hour",
          "within an hour",
          "within an hour",
          "within an hour",
          "within a day",
          "within a day",
          "Not Specified",
          "within a day",
          "within an hour",
          "within an hour",
          "within a few hours",
          "within an hour",
          "within an hour",
          "within an hour",
          "within an hour",
          "Not Specified",
          "within an hour",
          "within an hour",
          "within an hour",
          "within an hour",
          "Not Specified",
          "Not Specified",
          "within a day",
          "within a day",
          "within an hour",
          "within an hour",
          "within an hour",
          "within an hour",
          "within an hour",
          "within a few hours",
          "within a few hours",
          "within an hour",
          "within an hour",
          "within an hour",
          "within a few hours",
          "within a few hours",
          "within an hour",
          "a few days or more",
          "within an hour",
          "within an hour",
          "Not Specified",
          "within an hour",
          "within an hour",
          "Not Specified",
          "Not Specified",
          "within a few hours",
          "Not Specified",
          "within an hour",
          "within an hour",
          "Not Specified",
          "within an hour",
          "within a few hours",
          "within an hour",
          "Not Specified",
          "within an hour",
          "within an hour",
          "within a day",
          "within an hour",
          "Not Specified",
          "within a day",
          "within an hour",
          "within an hour",
          "within an hour",
          "within a day",
          "within an hour",
          "within a few hours",
          "within an hour",
          "within a few hours",
          "within an hour",
          "within an hour",
          "within an hour",
          "within an hour",
          "within a day",
          "within an hour",
          "within an hour",
          "Not Specified",
          "within an hour",
          "within an hour",
          "within an hour",
          "within an hour",
          "within a few hours",
          "a few days or more",
          "within an hour",
          "within a day",
          "within a day",
          "Not Specified",
          "a few days or more",
          "within an hour",
          "Not Specified",
          "Not Specified",
          "within a few hours",
          "within an hour",
          "within a few hours",
          "Not Specified",
          "within an hour",
          "within an hour",
          "within an hour",
          "within an hour",
          "within an hour",
          "within an hour",
          "within a few hours",
          "within a day",
          "within an hour",
          "Not Specified",
          "Not Specified",
          "within an hour",
          "within an hour",
          "within a few hours",
          "within a day",
          "within an hour",
          "within an hour",
          "within an hour",
          "within an hour",
          "within an hour",
          "within a few hours",
          "Not Specified",
          "within a day",
          "within an hour",
          "within a few hours",
          "within a few hours",
          "within a few hours",
          "within an hour",
          "within a day",
          "within a day",
          "within a day",
          "Not Specified",
          "within an hour",
          "within a few hours",
          "within an hour",
          "within a few hours",
          "within a few hours",
          "within an hour",
          "within a few hours",
          "within an hour",
          "within an hour",
          "within an hour",
          "within an hour",
          "within a day",
          "within an hour",
          "Not Specified",
          "Not Specified",
          "within an hour",
          "within an hour",
          "within an hour",
          "within an hour",
          "within a few hours",
          "within an hour",
          "within an hour",
          "within an hour",
          "within an hour",
          "within an hour",
          "within an hour",
          "within an hour",
          "within a day",
          "within an hour",
          "within an hour",
          "within a few hours",
          "within an hour",
          "Not Specified",
          "within an hour",
          "within an hour",
          "within an hour",
          "Not Specified",
          "Not Specified",
          "within an hour",
          "within an hour",
          "within a day",
          "within an hour",
          "within an hour",
          "within a few hours",
          "Not Specified",
          "within a day",
          "within an hour",
          "within an hour",
          "within a few hours",
          "within an hour",
          "within a day",
          "within a few hours",
          "within a few hours",
          "within a few hours",
          "within a few hours",
          "Not Specified",
          "within a few hours",
          "Not Specified",
          "within a few hours",
          "within a day",
          "Not Specified",
          "within an hour",
          "within an hour",
          "within an hour",
          "within an hour",
          "within an hour",
          "within a day",
          "within an hour",
          "within a few hours",
          "Not Specified",
          "within an hour",
          "within a few hours",
          "within a day",
          "within an hour",
          "Not Specified",
          "within an hour",
          "within an hour",
          "within an hour",
          "Not Specified",
          "within an hour",
          "within a few hours",
          "Not Specified",
          "within a day",
          "within an hour",
          "Not Specified",
          "within a day",
          "Not Specified",
          "within a day",
          "Not Specified",
          "within an hour",
          "within an hour",
          "Not Specified",
          "within an hour",
          "within an hour",
          "Not Specified",
          "Not Specified",
          "within an hour",
          "within an hour",
          "a few days or more",
          "Not Specified",
          "within a few hours",
          "within an hour",
          "Not Specified",
          "within a day",
          "within an hour",
          "within an hour",
          "Not Specified",
          "within an hour",
          "within a day",
          "Not Specified",
          "within an hour",
          "Not Specified",
          "within a day",
          "within an hour",
          "Not Specified",
          "within a few hours",
          "within a day",
          "within an hour",
          "within an hour",
          "a few days or more",
          "within an hour",
          "within an hour",
          "within an hour",
          "within an hour",
          "within an hour",
          "within an hour",
          "within a few hours",
          "Not Specified",
          "within a day",
          "within an hour",
          "within an hour",
          "within an hour",
          "Not Specified",
          "within a few hours",
          "within an hour",
          "within an hour",
          "within an hour",
          "within an hour",
          "Not Specified",
          "within a few hours",
          "within an hour",
          "within an hour",
          "within a few hours",
          "Not Specified",
          "within an hour",
          "within an hour",
          "within an hour",
          "within an hour",
          "within an hour",
          "Not Specified",
          "within an hour",
          "Not Specified",
          "within a day",
          "within a few hours",
          "Not Specified",
          "a few days or more",
          "within an hour",
          "Not Specified",
          "Not Specified",
          "within an hour",
          "within an hour",
          "Not Specified",
          "within an hour",
          "within an hour",
          "Not Specified",
          "Not Specified",
          "a few days or more",
          "within a day",
          "within an hour",
          "within an hour",
          "within an hour",
          "within a few hours",
          "Not Specified",
          "within a day",
          "within an hour",
          "within an hour",
          "within a day",
          "Not Specified",
          "within a day",
          "Not Specified",
          "Not Specified",
          "Not Specified",
          "Not Specified",
          "within a day",
          "within a few hours",
          "within a day",
          "within a few hours",
          "within a day",
          "Not Specified",
          "a few days or more",
          "Not Specified",
          "within a few hours",
          "Not Specified",
          "Not Specified",
          "Not Specified",
          "Not Specified",
          "within a few hours",
          "within a few hours",
          "within an hour",
          "within a few hours",
          "within an hour",
          "within a day",
          "within an hour",
          "within an hour",
          "within a few hours",
          "within an hour",
          "Not Specified",
          "within an hour",
          "Not Specified",
          "a few days or more",
          "within an hour",
          "within a few hours",
          "within a few hours",
          "Not Specified",
          "within a few hours",
          "within a day",
          "within an hour",
          "within a day",
          "within an hour",
          "Not Specified",
          "within an hour",
          "within a few hours",
          "within an hour",
          "within an hour",
          "a few days or more",
          "within a few hours",
          "within an hour",
          "within a few hours",
          "within a few hours",
          "Not Specified",
          "within a day",
          "within a day",
          "within an hour",
          "within an hour",
          "within an hour",
          "within a few hours",
          "within a few hours",
          "Not Specified",
          "within an hour",
          "within a day",
          "within an hour",
          "within a day",
          "within an hour",
          "within an hour",
          "within an hour",
          "Not Specified",
          "within an hour",
          "within an hour",
          "Not Specified",
          "Not Specified",
          "Not Specified",
          "within a few hours",
          "within an hour",
          "within a few hours",
          "Not Specified",
          "Not Specified",
          "within an hour",
          "Not Specified",
          "within an hour",
          "within an hour",
          "within a few hours",
          "Not Specified",
          "within a day",
          "within a few hours",
          "Not Specified",
          "within an hour",
          "Not Specified",
          "within an hour",
          "Not Specified",
          "within an hour",
          "within a few hours",
          "within an hour",
          "within a day",
          "within an hour",
          "within an hour",
          "within a few hours",
          "within an hour",
          "within an hour",
          "within a day",
          "within an hour",
          "within a few hours",
          "Not Specified",
          "within an hour",
          "within a few hours",
          "Not Specified",
          "within a day",
          "within an hour",
          "within a day",
          "within an hour",
          "Not Specified",
          "a few days or more",
          "within an hour",
          "within a few hours",
          "within an hour",
          "within an hour",
          "within a few hours",
          "within a few hours",
          "Not Specified",
          "Not Specified",
          "within a day",
          "within a few hours",
          "Not Specified",
          "Not Specified",
          "Not Specified",
          "within a few hours",
          "within an hour",
          "Not Specified",
          "within an hour",
          "within an hour",
          "within an hour",
          "within a few hours",
          "within an hour",
          "Not Specified",
          "Not Specified",
          "Not Specified",
          "within an hour",
          "within a few hours",
          "within a few hours",
          "within an hour",
          "within an hour",
          "within an hour",
          "within an hour",
          "within a day",
          "within a few hours",
          "within an hour",
          "within a few hours",
          "Not Specified",
          "Not Specified",
          "within a few hours",
          "within an hour",
          "within an hour",
          "within an hour",
          "within a few hours",
          "within a few hours",
          "within a few hours",
          "within an hour",
          "within a few hours",
          "within a few hours",
          "within an hour",
          "Not Specified",
          "within an hour",
          "within a day",
          "a few days or more",
          "Not Specified",
          "within a day",
          "within an hour",
          "within an hour",
          "within an hour",
          "Not Specified",
          "within a few hours",
          "within an hour",
          "Not Specified",
          "within a day",
          "within an hour",
          "within an hour",
          "a few days or more",
          "within a few hours",
          "within a day",
          "within an hour",
          "within a few hours",
          "within an hour",
          "within an hour",
          "within a day",
          "within an hour",
          "within a few hours",
          "Not Specified",
          "within an hour",
          "Not Specified",
          "within an hour",
          "Not Specified",
          "Not Specified",
          "within a few hours",
          "Not Specified",
          "within an hour",
          "within an hour",
          "within an hour",
          "within a few hours",
          "Not Specified",
          "within an hour",
          "within an hour",
          "a few days or more",
          "within an hour",
          "within a day",
          "within a day",
          "Not Specified",
          "within a day",
          "Not Specified",
          "Not Specified",
          "within a few hours",
          "Not Specified",
          "within a day",
          "within an hour",
          "Not Specified",
          "within an hour",
          "within a few hours",
          "within an hour",
          "within a few hours",
          "within a few hours",
          "within an hour",
          "Not Specified",
          "Not Specified",
          "Not Specified",
          "Not Specified",
          "Not Specified",
          "Not Specified",
          "Not Specified",
          "Not Specified",
          "within an hour",
          "within an hour",
          "Not Specified",
          "within a few hours",
          "within a few hours",
          "within a few hours",
          "within a day",
          "Not Specified",
          "within an hour",
          "within a few hours",
          "within an hour",
          "Not Specified",
          "within an hour",
          "within a day",
          "Not Specified",
          "Not Specified",
          "within an hour",
          "within a day",
          "within an hour",
          "Not Specified",
          "Not Specified",
          "Not Specified",
          "within a day",
          "within a day",
          "Not Specified",
          "within an hour",
          "Not Specified",
          "within an hour",
          "Not Specified",
          "within an hour",
          "within a few hours",
          "within an hour",
          "Not Specified",
          "Not Specified",
          "Not Specified",
          "Not Specified",
          "within a day",
          "Not Specified",
          "within a few hours",
          "Not Specified",
          "within a day",
          "Not Specified",
          "within an hour",
          "within a day",
          "within a day",
          "within an hour",
          "a few days or more",
          "within a few hours",
          "within an hour",
          "within a few hours",
          "within an hour",
          "within an hour",
          "within an hour",
          "within a few hours",
          "within a day",
          "Not Specified",
          "within a few hours",
          "within an hour",
          "Not Specified",
          "Not Specified",
          "within a few hours",
          "Not Specified",
          "within an hour",
          "within an hour",
          "Not Specified",
          "within an hour",
          "within an hour",
          "within a day",
          "Not Specified",
          "within an hour",
          "within a few hours",
          "Not Specified",
          "within an hour",
          "Not Specified",
          "within an hour",
          "a few days or more",
          "within a few hours",
          "within an hour",
          "within a few hours",
          "within an hour",
          "within a few hours",
          "within an hour",
          "within an hour",
          "within an hour",
          "within an hour",
          "within an hour",
          "within an hour",
          "within an hour",
          "within a day",
          "a few days or more",
          "Not Specified",
          "Not Specified",
          "Not Specified",
          "Not Specified",
          "within a day",
          "within a few hours",
          "within a few hours",
          "within an hour",
          "within an hour",
          "Not Specified",
          "within a day",
          "Not Specified",
          "within a day",
          "within an hour",
          "within an hour",
          "a few days or more",
          "Not Specified",
          "within a few hours",
          "within an hour",
          "within an hour",
          "within an hour",
          "within an hour",
          "Not Specified",
          "within a few hours",
          "Not Specified",
          "within an hour",
          "within an hour",
          "within an hour",
          "within a few hours",
          "within an hour",
          "within an hour",
          "within an hour",
          "within an hour",
          "Not Specified",
          "within a few hours",
          "Not Specified",
          "Not Specified",
          "Not Specified",
          "within a day",
          "within an hour",
          "within an hour",
          "within an hour",
          "within an hour",
          "within a few hours",
          "Not Specified",
          "Not Specified",
          "within an hour",
          "Not Specified",
          "within an hour",
          "Not Specified",
          "within an hour",
          "a few days or more",
          "within an hour",
          "Not Specified",
          "Not Specified",
          "Not Specified",
          "within an hour",
          "within an hour",
          "within an hour",
          "within a few hours",
          "within an hour",
          "within an hour",
          "within an hour",
          "Not Specified",
          "Not Specified",
          "within an hour",
          "within an hour",
          "Not Specified",
          "within an hour",
          "within an hour",
          "within an hour",
          "Not Specified",
          "within a day",
          "within an hour",
          "Not Specified",
          "within an hour",
          "within an hour",
          "within a few hours",
          "Not Specified",
          "within an hour",
          "Not Specified",
          "within a day",
          "Not Specified",
          "Not Specified",
          "Not Specified",
          "within an hour",
          "within a few hours",
          "within a few hours",
          "Not Specified",
          "within a few hours",
          "Not Specified",
          "within a day",
          "within an hour",
          "within a few hours",
          "Not Specified",
          "Not Specified",
          "Not Specified",
          "within an hour",
          "Not Specified",
          "within an hour",
          "within a day",
          "Not Specified",
          "Not Specified",
          "within an hour",
          "within an hour",
          "within a day",
          "within an hour",
          "within an hour",
          "within an hour",
          "within an hour",
          "Not Specified",
          "Not Specified",
          "within an hour",
          "Not Specified",
          "Not Specified",
          "within a day",
          "within an hour",
          "Not Specified",
          "within an hour",
          "Not Specified",
          "Not Specified",
          "within an hour",
          "Not Specified",
          "within an hour",
          "within a few hours",
          "Not Specified",
          "within an hour",
          "within a few hours",
          "within an hour",
          "a few days or more",
          "within a few hours",
          "within a day",
          "within a few hours",
          "Not Specified",
          "Not Specified",
          "Not Specified",
          "within a few hours",
          "Not Specified",
          "within a few hours",
          "within an hour",
          "within an hour",
          "within an hour",
          "within an hour",
          "Not Specified",
          "within a day",
          "Not Specified",
          "Not Specified",
          "a few days or more",
          "within an hour",
          "within an hour",
          "Not Specified",
          "within an hour",
          "within an hour",
          "Not Specified",
          "within an hour",
          "within an hour",
          "within an hour",
          "Not Specified",
          "Not Specified",
          "within an hour",
          "Not Specified",
          "within an hour",
          "Not Specified",
          "Not Specified",
          "within an hour",
          "Not Specified",
          "Not Specified",
          "within a day",
          "within an hour",
          "Not Specified",
          "within a few hours",
          "Not Specified",
          "Not Specified",
          "within an hour",
          "within an hour",
          "within an hour",
          "Not Specified",
          "Not Specified",
          "within an hour",
          "within a day",
          "within an hour",
          "within a day",
          "within an hour",
          "within an hour",
          "Not Specified",
          "Not Specified",
          "Not Specified",
          "within an hour",
          "Not Specified",
          "within an hour",
          "within an hour",
          "within an hour",
          "Not Specified",
          "within a day",
          "within an hour",
          "within an hour",
          "within an hour",
          "within an hour",
          "within an hour",
          "within a day",
          "Not Specified",
          "within a day",
          "Not Specified",
          "within an hour",
          "Not Specified",
          "within an hour",
          "Not Specified",
          "Not Specified",
          "Not Specified",
          "Not Specified",
          "Not Specified",
          "within a few hours",
          "within a few hours",
          "Not Specified",
          "within a few hours",
          "Not Specified",
          "within an hour",
          "within a day",
          "within an hour",
          "within an hour",
          "Not Specified",
          "within a day",
          "Not Specified",
          "Not Specified",
          "within an hour",
          "within an hour",
          "Not Specified",
          "within an hour",
          "within a day",
          "within a day",
          "within an hour",
          "within an hour",
          "Not Specified",
          "within a few hours",
          "Not Specified",
          "Not Specified",
          "within an hour",
          "within a few hours",
          "within an hour",
          "within a day",
          "a few days or more",
          "within an hour",
          "within an hour",
          "within a few hours",
          "within an hour",
          "Not Specified",
          "a few days or more",
          "Not Specified",
          "within an hour",
          "a few days or more",
          "within an hour",
          "Not Specified",
          "within an hour",
          "within an hour",
          "within an hour",
          "within a day",
          "Not Specified",
          "within a few hours",
          "Not Specified",
          "within an hour",
          "Not Specified",
          "Not Specified",
          "within an hour",
          "Not Specified",
          "within a few hours",
          "Not Specified",
          "Not Specified",
          "within an hour",
          "within an hour",
          "within an hour",
          "within an hour",
          "Not Specified",
          "within an hour",
          "Not Specified",
          "within a few hours",
          "within an hour",
          "within a day",
          "within a day",
          "Not Specified",
          "Not Specified",
          "within a day",
          "within an hour",
          "within an hour",
          "within a few hours",
          "within an hour",
          "within an hour",
          "within an hour",
          "Not Specified",
          "Not Specified",
          "Not Specified",
          "within a few hours",
          "Not Specified",
          "within a few hours",
          "within an hour",
          "within a few hours",
          "within a day",
          "within an hour",
          "within an hour",
          "within an hour",
          "within a few hours",
          "within a few hours",
          "within a few hours",
          "within an hour",
          "within a few hours",
          "within an hour",
          "within an hour",
          "a few days or more",
          "within an hour",
          "within an hour",
          "within a few hours",
          "within an hour",
          "within an hour",
          "Not Specified",
          "within an hour",
          "within an hour",
          "within an hour",
          "within a few hours",
          "Not Specified",
          "within an hour",
          "within an hour",
          "Not Specified",
          "within a day",
          "within a few hours",
          "within an hour",
          "within an hour",
          "within a day",
          "Not Specified",
          "within a few hours",
          "within an hour",
          "within an hour",
          "Not Specified",
          "within an hour",
          "within a day",
          "Not Specified",
          "within an hour",
          "within an hour",
          "Not Specified",
          "within an hour",
          "within an hour",
          "within a day",
          "within a day",
          "Not Specified",
          "a few days or more",
          "within a day",
          "Not Specified",
          "within an hour",
          "within a day",
          "within an hour",
          "within an hour",
          "within an hour",
          "within a day",
          "within a few hours",
          "within an hour",
          "within a few hours",
          "within a few hours",
          "within a few hours",
          "within an hour",
          "within a few hours",
          "Not Specified",
          "Not Specified",
          "within a few hours",
          "within an hour",
          "within a few hours",
          "within an hour",
          "within a day",
          "within a day",
          "Not Specified",
          "within an hour",
          "within a day",
          "within an hour",
          "within an hour",
          "within a few hours",
          "within an hour",
          "within a few hours",
          "within a day",
          "within an hour",
          "within a day",
          "within a day",
          "within an hour",
          "Not Specified",
          "within a few hours",
          "within an hour",
          "Not Specified",
          "within an hour",
          "within an hour",
          "within an hour",
          "within an hour",
          "within an hour",
          "within a few hours",
          "within an hour",
          "Not Specified",
          "within a day",
          "Not Specified",
          "within an hour",
          "within an hour",
          "within an hour",
          "within a few hours",
          "within a day",
          "within an hour",
          "within an hour",
          "within an hour",
          "within an hour",
          "within an hour",
          "within an hour",
          "within an hour",
          "within an hour",
          "Not Specified",
          "within an hour",
          "Not Specified",
          "within a few hours",
          "within a few hours",
          "within an hour",
          "within an hour",
          "Not Specified",
          "within an hour",
          "Not Specified",
          "within a few hours",
          "within an hour",
          "within an hour",
          "within a few hours",
          "within an hour",
          "within an hour",
          "Not Specified",
          "within a few hours",
          "within an hour",
          "Not Specified",
          "Not Specified",
          "Not Specified",
          "within an hour",
          "within a few hours",
          "Not Specified",
          "within a few hours",
          "within an hour",
          "within an hour",
          "within an hour",
          "within a day",
          "within an hour",
          "Not Specified",
          "within a day",
          "within an hour",
          "within a few hours",
          "within a few hours",
          "Not Specified",
          "within a few hours",
          "within an hour",
          "within an hour",
          "within an hour",
          "Not Specified",
          "Not Specified",
          "within an hour",
          "within an hour",
          "within a few hours",
          "Not Specified",
          "within a day",
          "Not Specified",
          "within a few hours",
          "within an hour",
          "within an hour",
          "within an hour",
          "within a day",
          "within an hour",
          "Not Specified",
          "within an hour",
          "Not Specified",
          "Not Specified",
          "within a few hours",
          "within an hour",
          "within a few hours",
          "a few days or more",
          "within an hour",
          "Not Specified",
          "Not Specified",
          "within an hour",
          "within an hour",
          "Not Specified",
          "within an hour",
          "within a day",
          "within an hour",
          "within a day",
          "a few days or more",
          "Not Specified",
          "within a few hours",
          "within an hour",
          "within a day",
          "within a few hours",
          "within a day",
          "within an hour",
          "Not Specified",
          "within an hour",
          "Not Specified",
          "within a few hours",
          "within an hour",
          "within an hour",
          "Not Specified",
          "within a day",
          "within an hour",
          "Not Specified",
          "Not Specified",
          "within an hour",
          "Not Specified",
          "Not Specified",
          "Not Specified",
          "within an hour",
          "a few days or more",
          "Not Specified",
          "Not Specified",
          "within a day",
          "Not Specified",
          "within an hour",
          "Not Specified",
          "within a day",
          "within an hour",
          "within an hour",
          "Not Specified",
          "within an hour",
          "within an hour",
          "within a few hours",
          "Not Specified",
          "within an hour",
          "Not Specified",
          "Not Specified",
          "within an hour",
          "within an hour",
          "within a few hours",
          "within a few hours",
          "within an hour",
          "Not Specified",
          "within a day",
          "Not Specified",
          "Not Specified",
          "Not Specified",
          "Not Specified",
          "Not Specified",
          "Not Specified",
          "within a few hours",
          "within a few hours",
          "within an hour",
          "within an hour",
          "within an hour",
          "within an hour",
          "within an hour",
          "within a few hours",
          "Not Specified",
          "Not Specified",
          "within a few hours",
          "Not Specified",
          "within an hour",
          "within an hour",
          "within an hour",
          "within a few hours",
          "within an hour",
          "within a few hours",
          "Not Specified",
          "within a few hours",
          "within a few hours",
          "Not Specified",
          "within an hour",
          "Not Specified",
          "Not Specified",
          "within a day",
          "within an hour",
          "within an hour",
          "within an hour",
          "within an hour"
         ],
         "legendgroup": "",
         "name": "",
         "showlegend": true,
         "type": "pie",
         "values": [
          699,
          121,
          40,
          145,
          135,
          40,
          43,
          933,
          317,
          181,
          140,
          275,
          838,
          250,
          361,
          181,
          858,
          50,
          40,
          150,
          701,
          119,
          527,
          997,
          250,
          50,
          205,
          149,
          185,
          58,
          80,
          46,
          135,
          966,
          45,
          499,
          185,
          380,
          264,
          30,
          115,
          330,
          400,
          34,
          298,
          220,
          798,
          1999,
          36,
          180,
          746,
          64,
          71,
          117,
          858,
          95,
          487,
          933,
          175,
          212,
          105,
          144,
          795,
          395,
          185,
          31,
          80,
          55,
          20,
          35,
          112,
          80,
          399,
          100,
          120,
          149,
          31,
          701,
          298,
          351,
          29,
          999,
          72,
          325,
          30,
          37,
          298,
          101,
          137,
          85,
          101,
          801,
          264,
          269,
          139,
          100,
          112,
          353,
          229,
          80,
          138,
          135,
          50,
          2499,
          997,
          351,
          933,
          997,
          45,
          1999,
          169,
          479,
          100,
          351,
          60,
          125,
          3726,
          385,
          105,
          85,
          129,
          417,
          125,
          90,
          65,
          40,
          58,
          15,
          685,
          451,
          211,
          149,
          187,
          89,
          2748,
          125,
          60,
          134,
          1484,
          172,
          500,
          53,
          746,
          1703,
          1146,
          40,
          250,
          128,
          597,
          447,
          189,
          47,
          105,
          91,
          99,
          90,
          110,
          447,
          325,
          169,
          119,
          400,
          47,
          91,
          189,
          21,
          40,
          359,
          209,
          298,
          200,
          59,
          100,
          110,
          306,
          130,
          239,
          227,
          35,
          35,
          65,
          400,
          298,
          90,
          200,
          84,
          1000,
          40,
          80,
          463,
          130,
          351,
          518,
          190,
          761,
          353,
          60,
          1000,
          90,
          125,
          188,
          109,
          161,
          350,
          933,
          60,
          246,
          506,
          148,
          75,
          70,
          25,
          633,
          200,
          125,
          225,
          548,
          895,
          85,
          64,
          65,
          135,
          80,
          40,
          25,
          234,
          35,
          90,
          95,
          179,
          31,
          125,
          793,
          105,
          60,
          461,
          79,
          34,
          100,
          348,
          125,
          55,
          250,
          283,
          550,
          499,
          65,
          60,
          133,
          30,
          55,
          112,
          267,
          903,
          150,
          100,
          359,
          903,
          250,
          55,
          40,
          79,
          142,
          48,
          52,
          100,
          60,
          124,
          42,
          150,
          139,
          3499,
          1492,
          298,
          38,
          424,
          1000,
          502,
          53,
          171,
          269,
          120,
          151,
          345,
          548,
          38,
          85,
          75,
          85,
          108,
          209,
          650,
          150,
          317,
          135,
          131,
          155,
          2499,
          399,
          75,
          399,
          240,
          250,
          165,
          306,
          30,
          68,
          502,
          65,
          115,
          58,
          242,
          158,
          90,
          50,
          314,
          125,
          47,
          79,
          691,
          599,
          65,
          87,
          246,
          90,
          99,
          95,
          45,
          564,
          3301,
          40,
          1600,
          70,
          239,
          351,
          132,
          225,
          1201,
          139,
          385,
          746,
          80,
          199,
          280,
          42,
          65,
          55,
          127,
          135,
          255,
          70,
          49,
          322,
          148,
          80,
          174,
          49,
          475,
          1303,
          264,
          3544,
          595,
          399,
          239,
          30,
          351,
          75,
          560,
          250,
          110,
          85,
          45,
          90,
          90,
          70,
          317,
          115,
          160,
          42,
          220,
          48,
          951,
          369,
          200,
          231,
          527,
          30,
          61,
          679,
          5595,
          200,
          70,
          69,
          50,
          36,
          221,
          80,
          56,
          311,
          264,
          125,
          200,
          85,
          70,
          351,
          150,
          350,
          94,
          165,
          60,
          630,
          205,
          322,
          90,
          595,
          559,
          1701,
          101,
          125,
          125,
          97,
          150,
          171,
          349,
          287,
          112,
          221,
          90,
          589,
          650,
          35,
          250,
          42,
          81,
          100,
          2201,
          701,
          1000,
          84,
          112,
          30,
          67,
          502,
          50,
          999,
          149,
          82,
          59,
          105,
          88,
          25,
          30,
          245,
          36,
          80,
          195,
          119,
          140,
          500,
          119,
          597,
          448,
          84,
          39,
          60,
          298,
          799,
          81,
          420,
          560,
          324,
          139,
          53,
          179,
          35,
          198,
          35,
          2496,
          35,
          269,
          75,
          299,
          50,
          165,
          50,
          148,
          55,
          60,
          168,
          1099,
          100,
          45,
          805,
          299,
          65,
          208,
          18,
          2802,
          351,
          150,
          129,
          78,
          34,
          142,
          1529,
          300,
          75,
          597,
          369,
          209,
          55,
          58,
          277,
          130,
          78,
          121,
          195,
          150,
          142,
          135,
          240,
          569,
          63,
          578,
          249,
          121,
          120,
          264,
          416,
          32,
          400,
          150,
          139,
          765,
          125,
          502,
          20,
          50,
          604,
          73,
          45,
          97,
          300,
          152,
          90,
          933,
          90,
          243,
          295,
          99,
          80,
          1044,
          200,
          370,
          25,
          125,
          130,
          65,
          63,
          1865,
          988,
          149,
          101,
          158,
          95,
          172,
          150,
          385,
          261,
          597,
          225,
          149,
          230,
          375,
          373,
          55,
          84,
          199,
          205,
          373,
          70,
          1306,
          1119,
          63,
          102,
          33,
          451,
          50,
          40,
          181,
          116,
          142,
          75,
          199,
          201,
          701,
          149,
          90,
          188,
          254,
          90,
          139,
          60,
          145,
          75,
          142,
          151,
          267,
          38,
          848,
          118,
          17,
          40,
          425,
          2238,
          1000,
          125,
          1751,
          104,
          60,
          62,
          14,
          103,
          317,
          90,
          699,
          175,
          60,
          245,
          591,
          5595,
          100,
          161,
          177,
          1865,
          116,
          45,
          560,
          338,
          119,
          148,
          125,
          67,
          785,
          125,
          40,
          550,
          550,
          250,
          49,
          65,
          351,
          25,
          100,
          30,
          100,
          89,
          50,
          45,
          164,
          500,
          196,
          1350,
          42,
          35,
          100,
          60,
          123,
          130,
          60,
          26,
          35,
          150,
          60,
          95,
          112,
          120,
          550,
          53,
          84,
          447,
          68,
          149,
          159,
          250,
          153,
          125,
          132,
          220,
          290,
          110,
          84,
          45,
          35,
          80,
          40,
          199,
          500,
          300,
          100,
          73,
          298,
          181,
          60,
          46,
          100,
          185,
          557,
          211,
          114,
          80,
          100,
          596,
          1213,
          450,
          215,
          35,
          518,
          119,
          486,
          899,
          50,
          400,
          746,
          54,
          447,
          259,
          140,
          800,
          86,
          451,
          250,
          215,
          119,
          11190,
          320,
          257,
          601,
          25,
          1000,
          185,
          420,
          48,
          145,
          60,
          99,
          60,
          45,
          129,
          538,
          220,
          22,
          475,
          55,
          70,
          190,
          38,
          109,
          799,
          230,
          305,
          148,
          375,
          230,
          69,
          200,
          249,
          528,
          369,
          35,
          351,
          125,
          63,
          100,
          449,
          130,
          400,
          39,
          135,
          89,
          76,
          229,
          150,
          38,
          24,
          29,
          120,
          50,
          131,
          471,
          154,
          595,
          109,
          90,
          200,
          275,
          38,
          369,
          110,
          51,
          79,
          35,
          40,
          40,
          330,
          70,
          149,
          148,
          1186,
          100,
          75,
          249,
          179,
          157,
          250,
          74,
          1160,
          634,
          385,
          40,
          140,
          330,
          32,
          350,
          149,
          27,
          63,
          90,
          121,
          179,
          280,
          150,
          47,
          81,
          149,
          935,
          110,
          298,
          100,
          298,
          38,
          38,
          75,
          295,
          75,
          65,
          20,
          261,
          80,
          400,
          80,
          85,
          275,
          200,
          329,
          149,
          98,
          261,
          184,
          798,
          33,
          75,
          24,
          179,
          114,
          74,
          50,
          250,
          300,
          64,
          201,
          749,
          9,
          390,
          11681,
          125,
          1105,
          148,
          70,
          125,
          125,
          89,
          40,
          500,
          40,
          299,
          250,
          171,
          145,
          100,
          312,
          399,
          50,
          590,
          250,
          259,
          50,
          1055,
          90,
          131,
          75,
          218,
          249,
          42,
          322,
          50,
          85,
          500,
          130,
          195,
          180,
          265,
          199,
          100,
          689,
          459,
          25,
          94,
          190,
          151,
          1201,
          125,
          116,
          18,
          115,
          142,
          100,
          67,
          950,
          60,
          310,
          30,
          32,
          38,
          50,
          201,
          150,
          44,
          463,
          179,
          40,
          25,
          573,
          150,
          276,
          142,
          60,
          101,
          35,
          22,
          55,
          250,
          100,
          596,
          130,
          62,
          31,
          200,
          200,
          115,
          298,
          99,
          170,
          50,
          100,
          85,
          71,
          350,
          138,
          143,
          100,
          140,
          15,
          55,
          18,
          172,
          15,
          429,
          801,
          228,
          450,
          305,
          43,
          81,
          997,
          130,
          80,
          88,
          132,
          115,
          23,
          110,
          1374,
          75,
          85,
          78,
          137,
          350,
          46,
          200,
          115,
          1499,
          58,
          350,
          599,
          95,
          200,
          132,
          70,
          240,
          127,
          65,
          42,
          100,
          269,
          101,
          181,
          1562,
          79,
          79,
          50,
          100,
          60,
          40,
          248,
          150,
          90,
          95,
          280,
          198,
          440,
          175,
          30,
          209,
          175,
          225,
          169,
          45,
          100,
          189,
          65,
          298,
          65,
          35,
          134,
          171,
          65,
          361,
          190,
          75,
          101,
          351,
          95,
          80,
          295,
          55,
          2000,
          319,
          225,
          88,
          70,
          399,
          39,
          110,
          119,
          264,
          50,
          300,
          171,
          135,
          39,
          380,
          95,
          45,
          999,
          39,
          109,
          85,
          175,
          87,
          49,
          93,
          55,
          200,
          60,
          48,
          90,
          100,
          80,
          68,
          169,
          75,
          161,
          82,
          300,
          79,
          220,
          675,
          50,
          175,
          1303,
          119,
          85,
          60,
          135,
          81,
          320,
          59,
          69,
          100,
          135,
          148,
          36,
          50,
          189,
          500,
          149,
          50,
          1000,
          298,
          90,
          95,
          129,
          75,
          1500,
          548,
          129,
          179,
          199,
          121,
          55,
          69,
          45,
          200,
          500,
          1200,
          275,
          119,
          194,
          26,
          40,
          30,
          98,
          151,
          100,
          1397,
          150,
          43,
          296,
          100,
          110,
          27,
          179,
          118,
          90,
          84,
          161,
          200,
          150,
          110,
          200,
          175,
          652,
          260,
          573,
          151,
          527,
          1100,
          99,
          110,
          33,
          179,
          181,
          290,
          159,
          50,
          100,
          60,
          129,
          399,
          230,
          120,
          100,
          1660,
          70,
          86,
          85,
          60,
          150,
          50,
          74,
          250,
          242,
          793,
          149,
          353,
          330,
          722,
          149,
          169,
          210,
          90,
          30,
          60,
          18,
          101,
          242,
          347,
          45,
          200,
          801,
          75,
          148,
          50,
          73,
          100,
          402,
          225,
          226,
          50,
          85,
          301,
          30,
          298,
          129,
          38,
          1201,
          85,
          353,
          88,
          108,
          714,
          250,
          100,
          350,
          70,
          440,
          98,
          200,
          50,
          58,
          130,
          139,
          125,
          47,
          74,
          251,
          39,
          701,
          161,
          50,
          189,
          119,
          495,
          40,
          316,
          2496,
          203,
          125,
          169,
          65,
          500,
          100,
          99,
          146,
          361,
          58,
          50,
          70,
          310,
          350,
          85,
          85,
          500,
          298,
          51,
          30,
          314,
          280,
          314,
          801,
          589,
          502,
          120,
          70,
          101,
          109,
          100,
          69,
          92,
          554,
          200,
          185,
          61,
          60,
          85,
          229,
          174,
          60,
          250,
          268,
          71,
          215,
          79,
          692,
          264,
          179,
          50,
          40,
          422,
          348,
          69,
          659,
          159,
          249,
          55,
          50,
          236,
          59,
          70,
          19,
          70,
          100,
          140,
          436,
          1746,
          100,
          120,
          149,
          60,
          63,
          350,
          120,
          142,
          85,
          79,
          60,
          179,
          149,
          149,
          185,
          295,
          80,
          285,
          53,
          699,
          30,
          652,
          105,
          151,
          1000,
          30,
          85,
          261,
          250,
          70,
          125,
          449,
          120,
          59,
          494,
          58,
          95,
          179,
          280,
          377,
          150,
          70,
          150,
          35,
          180,
          108,
          49,
          21,
          100,
          260,
          25,
          981,
          90,
          90,
          130,
          175,
          110,
          439,
          251,
          635,
          442,
          60,
          30,
          50,
          699,
          85,
          75,
          115,
          100,
          555,
          60,
          50,
          754,
          50,
          35,
          70,
          103,
          500,
          60,
          109,
          20,
          699,
          75,
          475,
          39,
          1484,
          134,
          166,
          50,
          70,
          200,
          620,
          60,
          130,
          695,
          31,
          70,
          213,
          46,
          179,
          45,
          100,
          99,
          101,
          93,
          75,
          135,
          105,
          149,
          160,
          997,
          469,
          314,
          58,
          85,
          269,
          60,
          300,
          45,
          172,
          269,
          50,
          181,
          75,
          199,
          80,
          44,
          200,
          60,
          125,
          119,
          45,
          140,
          500,
          119,
          90,
          179,
          353,
          190,
          31,
          95,
          400,
          129,
          20,
          181,
          175,
          148,
          15,
          100,
          60,
          97,
          165,
          36,
          99,
          85,
          60,
          45,
          19,
          65,
          47,
          71,
          450,
          90,
          188,
          1999,
          27,
          280,
          501,
          40,
          68,
          100,
          53,
          50,
          40,
          75,
          55,
          761,
          70,
          765,
          129,
          260,
          55,
          161,
          338,
          53,
          21,
          89,
          81,
          125,
          52,
          196,
          314,
          15,
          699,
          200,
          110,
          447,
          14,
          99,
          80,
          131,
          601,
          224,
          151,
          100,
          150,
          64,
          380,
          1397,
          447,
          110,
          160,
          237,
          75,
          200,
          105,
          350,
          111,
          250,
          551,
          23,
          299,
          50,
          300,
          95,
          95,
          110,
          69,
          84,
          75,
          239,
          301,
          94,
          250,
          63,
          200,
          60,
          68,
          110,
          145,
          31,
          48,
          60,
          83,
          50,
          25,
          77,
          197,
          86,
          53,
          141,
          30,
          316,
          300,
          168,
          170,
          115,
          90,
          160,
          50,
          60,
          51,
          170,
          80,
          848,
          343,
          353,
          40,
          315,
          600,
          100,
          100,
          75,
          196,
          85,
          180,
          35,
          848,
          55,
          291,
          211,
          92,
          400,
          63,
          156,
          311,
          70,
          350,
          13,
          105,
          395,
          99,
          321,
          1499,
          75,
          50,
          47,
          65,
          85,
          26,
          200,
          129,
          2002,
          70,
          38,
          30,
          581,
          754,
          75,
          269,
          101,
          30,
          60,
          107,
          129,
          53,
          55,
          43,
          100,
          89,
          80,
          59,
          86,
          200,
          34,
          34,
          23,
          125,
          170,
          500,
          60,
          142,
          78,
          106,
          377,
          274,
          73,
          119,
          120,
          250,
          999,
          500,
          447,
          60,
          348,
          169,
          98,
          25,
          135,
          95,
          50,
          801,
          130,
          95,
          589,
          47,
          221,
          119,
          135,
          70,
          79,
          149,
          121,
          159,
          26,
          801,
          29,
          65,
          49,
          256,
          100,
          60,
          68,
          74,
          155,
          550,
          590,
          34,
          25,
          30,
          25,
          80,
          189,
          37,
          250,
          417,
          70,
          300,
          148,
          75,
          589,
          94,
          110,
          99,
          20,
          649,
          399,
          210,
          502,
          168,
          60,
          40,
          395,
          150,
          85,
          65,
          179,
          29,
          54,
          30,
          89,
          595,
          120,
          85,
          45,
          50,
          72,
          38,
          32,
          96,
          70,
          100,
          195,
          35,
          110,
          60,
          400,
          100,
          157,
          22,
          140,
          328,
          228,
          343,
          30,
          35,
          35,
          99,
          94,
          119,
          50,
          140,
          683,
          142,
          60,
          75,
          50,
          120,
          325,
          65,
          53,
          60,
          46,
          125,
          99,
          139,
          140,
          35,
          1248,
          264,
          60,
          25,
          25,
          1499,
          81,
          196,
          30,
          30,
          70,
          195,
          46,
          290,
          997,
          55,
          15,
          32,
          600,
          40,
          58,
          225,
          298,
          17,
          85,
          113,
          114,
          100,
          55,
          60,
          195,
          38,
          54,
          60,
          47,
          58,
          353,
          280,
          850,
          350,
          40,
          66,
          119,
          751,
          14,
          46,
          58,
          80,
          50,
          72,
          60,
          550,
          70,
          84,
          150,
          149,
          39,
          447,
          50,
          148,
          86,
          90,
          165,
          100,
          173,
          300,
          25,
          71,
          60,
          125,
          120,
          77,
          100,
          903,
          181,
          189,
          45,
          40,
          50,
          19,
          150,
          129,
          41,
          754,
          151,
          170,
          1250,
          419,
          74,
          65,
          100,
          130,
          115,
          85,
          211,
          597,
          761,
          70,
          50,
          145,
          194,
          105,
          45,
          129,
          48,
          115,
          351,
          597,
          85,
          67,
          181,
          80,
          30,
          35,
          119,
          499,
          119,
          26,
          81,
          44,
          299,
          550,
          495,
          110,
          65,
          80,
          70,
          502,
          70,
          46,
          180,
          43,
          604,
          48,
          38,
          125,
          321,
          188,
          229,
          30,
          85,
          69,
          50,
          149,
          35,
          79,
          191,
          50,
          40,
          32,
          754,
          120,
          35,
          53,
          75,
          1119,
          75,
          90,
          80,
          312,
          355,
          59,
          6002,
          20,
          219,
          251,
          115,
          871,
          79,
          50,
          60,
          80,
          158,
          60,
          247,
          90,
          110,
          310,
          110,
          86,
          185,
          67,
          45,
          105,
          1492,
          111,
          140,
          89,
          68,
          300,
          106,
          74,
          200,
          17,
          2999,
          25,
          40,
          360,
          69,
          55,
          1389,
          205,
          48842,
          55,
          30,
          699,
          64,
          60,
          68,
          164,
          50,
          66,
          475,
          65,
          175,
          301,
          448,
          58,
          127,
          619,
          203,
          848,
          325,
          27,
          60,
          85,
          139,
          148,
          17,
          10,
          29,
          250,
          70,
          227,
          82,
          250,
          145,
          98,
          99,
          65,
          201,
          250,
          119,
          231,
          131,
          65,
          125,
          30,
          250,
          159,
          218,
          146,
          232,
          32,
          2450,
          53,
          78,
          67,
          85,
          30,
          32,
          180,
          71,
          62,
          47,
          26,
          145,
          120,
          1107,
          38,
          108,
          99,
          136,
          45,
          70,
          400,
          116,
          359,
          879,
          235,
          510,
          25,
          50,
          240,
          118,
          298,
          55,
          459,
          78,
          4745,
          74,
          99,
          42,
          298,
          471,
          15,
          798,
          132,
          100,
          221,
          75,
          320,
          1701,
          322,
          298,
          70,
          42,
          175,
          52,
          90,
          74,
          283,
          60,
          60,
          2661,
          196,
          90,
          245,
          1999,
          201,
          119,
          25,
          79,
          1303,
          150,
          280,
          160,
          50,
          133,
          150,
          35,
          181,
          306,
          181,
          50,
          353,
          45,
          49,
          243,
          60,
          25,
          70,
          135,
          1000,
          264,
          301,
          30,
          298,
          25,
          149,
          24,
          100,
          60,
          258,
          119,
          801,
          49,
          93,
          351,
          121,
          39,
          168,
          30,
          251,
          400,
          25,
          199,
          70,
          20,
          1865,
          151,
          90,
          60,
          145,
          296,
          125,
          212,
          178,
          652,
          85,
          298,
          75,
          118,
          55,
          121,
          70,
          169,
          97,
          541,
          776,
          68,
          59,
          90,
          29,
          74,
          50,
          405,
          149,
          75,
          20,
          1178,
          63,
          119,
          59,
          40,
          60,
          60,
          90,
          204,
          348,
          345,
          171,
          290,
          1295,
          93,
          89,
          777,
          158,
          40,
          60,
          499,
          90,
          195,
          60,
          270,
          33,
          79,
          320,
          849,
          180,
          24,
          175,
          25,
          699,
          100,
          90,
          308,
          75,
          139,
          997,
          90,
          98,
          340,
          81,
          60,
          255,
          139,
          47,
          75,
          2292,
          97,
          597,
          65,
          479,
          107,
          58,
          1100,
          351,
          82,
          130,
          145,
          127,
          50,
          750,
          864,
          190,
          125,
          15,
          90,
          230,
          181,
          59,
          175,
          87,
          343,
          85,
          48,
          171,
          424,
          801,
          633,
          45,
          325,
          100,
          125,
          20,
          259,
          1099,
          211,
          75,
          90,
          201,
          145,
          119,
          35,
          31,
          1201,
          68,
          250,
          39,
          139,
          220,
          140,
          2611,
          121,
          60,
          40,
          30,
          105,
          160,
          369,
          21,
          100,
          161,
          589,
          903,
          597,
          67,
          22,
          70,
          42,
          179,
          189,
          322,
          142,
          690,
          74,
          351,
          201,
          419,
          801,
          51,
          179,
          199,
          70,
          850,
          50,
          399,
          114,
          119,
          228,
          119,
          120,
          500,
          100,
          97,
          125,
          300,
          220,
          108,
          50,
          53,
          42,
          31,
          47,
          85,
          156,
          151,
          53,
          243,
          58,
          140,
          243,
          200,
          86,
          470,
          95,
          140,
          63,
          35,
          97,
          48,
          5502,
          754,
          45,
          161,
          75,
          35,
          100,
          95,
          848,
          230,
          119,
          90,
          80,
          25,
          1248,
          60,
          67,
          70,
          298,
          31,
          90,
          59,
          50,
          1321,
          200,
          101,
          50,
          64,
          200,
          60,
          149,
          109,
          120,
          23,
          754,
          58,
          181,
          70,
          48,
          997,
          81,
          130,
          72,
          75,
          526,
          95,
          119,
          151,
          63,
          105,
          35,
          60,
          200,
          597,
          500,
          99,
          70,
          250,
          353,
          50,
          264,
          246,
          145,
          90,
          65,
          600,
          60,
          101,
          691,
          101,
          105,
          75,
          30,
          47,
          348,
          132,
          903,
          60,
          612,
          70,
          40,
          177,
          179,
          597,
          320,
          82,
          119,
          150,
          196,
          385,
          159,
          109,
          800,
          129,
          75,
          10001,
          393,
          114,
          903,
          15,
          80,
          502,
          29,
          501,
          29,
          671,
          40,
          109,
          150,
          119,
          903,
          80,
          35,
          98,
          67,
          210,
          89,
          100,
          33,
          95,
          2356,
          40,
          135,
          400,
          597,
          63,
          165,
          251,
          65,
          35,
          146,
          149,
          56,
          70,
          250,
          350,
          120,
          178,
          250,
          142,
          80,
          45,
          85,
          85,
          34,
          30,
          75,
          4498,
          500,
          150,
          291,
          60,
          70,
          632,
          298,
          460,
          46,
          85,
          42,
          1499,
          997,
          315,
          128,
          180,
          701,
          40,
          560,
          385,
          90,
          392,
          95,
          201,
          90,
          50,
          451,
          400,
          220,
          216,
          80,
          221,
          138,
          16,
          400,
          90,
          3730,
          38,
          534,
          848,
          100,
          34,
          399,
          180,
          121,
          966,
          573,
          250,
          1802,
          385,
          200,
          175,
          95,
          440,
          74,
          49,
          597,
          15,
          142,
          201,
          100,
          699,
          55,
          65,
          1201,
          25,
          32,
          150,
          283,
          150,
          1994,
          45,
          101,
          240,
          903,
          16,
          50,
          85,
          190,
          37,
          269,
          40,
          110,
          422,
          848,
          250,
          32,
          45,
          200,
          119,
          149,
          85,
          322,
          56,
          1201,
          65,
          20,
          63,
          1515,
          70,
          198,
          220,
          118,
          2974,
          110,
          25,
          89,
          393,
          246,
          70,
          69,
          75,
          1444,
          150,
          601,
          65,
          377,
          777,
          50,
          41,
          151,
          90,
          100,
          377,
          250,
          50,
          142,
          35,
          264,
          55,
          518,
          28,
          70,
          425,
          15,
          101,
          41,
          70,
          22,
          57,
          45,
          316,
          82,
          48,
          70,
          1146,
          68,
          43,
          509,
          95,
          50,
          21,
          81,
          64,
          83,
          175,
          45,
          108,
          100,
          45,
          110,
          188,
          295,
          60,
          98,
          80,
          100,
          55,
          699,
          79,
          78,
          801,
          199,
          550,
          60,
          2000,
          100,
          148,
          99,
          115,
          166,
          127,
          59,
          200,
          148,
          235,
          399,
          15,
          33,
          148,
          104,
          950,
          76,
          298,
          161,
          64,
          190,
          50,
          120,
          298,
          101,
          548,
          750,
          451,
          259,
          60,
          30,
          1680,
          80,
          150,
          110,
          500,
          84,
          109,
          86,
          70,
          85,
          60,
          90,
          60,
          99,
          18,
          75,
          79,
          833,
          125,
          50,
          45,
          628,
          221,
          1200,
          501,
          115,
          99,
          200,
          219,
          99,
          64,
          284,
          68,
          53,
          40,
          159,
          259,
          80,
          169,
          40,
          55,
          200,
          44,
          170,
          75,
          65,
          95,
          424,
          47,
          150,
          50,
          201,
          50,
          56,
          44,
          48,
          20,
          40,
          400,
          66,
          295,
          1978,
          502,
          85,
          856,
          110,
          85,
          46,
          151,
          500,
          1287,
          35,
          950,
          754,
          47,
          90,
          101,
          50,
          65,
          42,
          150,
          148,
          453,
          45,
          542,
          119,
          145,
          1083,
          67,
          47,
          58,
          848,
          159,
          79,
          295,
          180,
          68,
          42,
          50,
          17,
          75,
          71,
          295,
          7203,
          989,
          150,
          60,
          23,
          200,
          85,
          35,
          105,
          127,
          25,
          301,
          70,
          55,
          45,
          159,
          72,
          654,
          160,
          1303,
          424,
          75,
          151,
          59,
          135,
          29,
          157,
          55,
          12,
          24,
          200,
          103,
          151,
          20,
          903,
          89,
          23,
          353,
          95,
          100,
          100,
          150,
          786,
          25,
          17,
          50,
          1900,
          161,
          168,
          120,
          417,
          283,
          100,
          1055,
          200,
          179,
          58,
          68,
          191,
          761,
          290,
          45,
          338,
          199,
          4828,
          60,
          40,
          16,
          101,
          447,
          50,
          150,
          60,
          290,
          180,
          211,
          120,
          683,
          597,
          55,
          675,
          80,
          165,
          201,
          295,
          55,
          53,
          110,
          70,
          489,
          94,
          227,
          63,
          50,
          749,
          322,
          70,
          250,
          69,
          130,
          1178,
          699,
          264,
          187,
          600,
          79,
          90,
          148,
          24,
          71,
          206,
          50,
          353,
          300,
          91,
          49,
          35,
          50,
          70,
          81,
          80,
          35,
          55,
          793,
          228,
          526,
          80,
          298,
          99,
          351,
          151,
          85,
          110,
          250,
          65,
          65,
          300,
          597,
          90,
          90,
          20,
          149,
          115,
          285,
          69,
          200,
          160,
          450,
          142,
          35,
          190,
          40,
          259,
          50,
          59,
          950,
          65,
          683,
          246,
          353,
          129,
          63,
          800,
          95,
          3399,
          377,
          30,
          100,
          228,
          75,
          112,
          46,
          301,
          119,
          55,
          165,
          100,
          53,
          50,
          285,
          612,
          119,
          174,
          46,
          30,
          150,
          102,
          15,
          668,
          120,
          369,
          725,
          265,
          248,
          390,
          108,
          401,
          643,
          46,
          95,
          196,
          23,
          45,
          301,
          298,
          211,
          39,
          80,
          50,
          163,
          60,
          400,
          39,
          60,
          150,
          30,
          149,
          110,
          628,
          64,
          65,
          299,
          132,
          105,
          169,
          64,
          32,
          58,
          299,
          369,
          101,
          65,
          548,
          447,
          60,
          325,
          451,
          60,
          110,
          118,
          35,
          1601,
          130,
          100,
          691,
          1021,
          201,
          222,
          129,
          295,
          75,
          142,
          222,
          79,
          350,
          70,
          220,
          97,
          70,
          35,
          41,
          28,
          502,
          298,
          55,
          115,
          90,
          40,
          49,
          280,
          80,
          149,
          299,
          181,
          129,
          140,
          135,
          90,
          300,
          455,
          100,
          283,
          232,
          27,
          41,
          182,
          108,
          22,
          84,
          35,
          160,
          142,
          801,
          195,
          70,
          334,
          32,
          400,
          80,
          283,
          36,
          174,
          225,
          121,
          25,
          96,
          250,
          55,
          120,
          49,
          31,
          71,
          90,
          159,
          85,
          25,
          338,
          222,
          58,
          596,
          178,
          70,
          110,
          903,
          169,
          70,
          248,
          300,
          55,
          180,
          283,
          149,
          63,
          81,
          60,
          361,
          45,
          310,
          53,
          39,
          158,
          220,
          100,
          305,
          195,
          79,
          85,
          79,
          110,
          179,
          307,
          65,
          179,
          267,
          58,
          88,
          14,
          93,
          139,
          115,
          139,
          754,
          130,
          22,
          105,
          40,
          472,
          204,
          100,
          27,
          121,
          40,
          228,
          997,
          69,
          699,
          159,
          675,
          199,
          500,
          80,
          50,
          89,
          37,
          169,
          120,
          35,
          522,
          46,
          59,
          56,
          35,
          251,
          145,
          36,
          798,
          70,
          72,
          40,
          45,
          65,
          61,
          264,
          137,
          776,
          36,
          479,
          55,
          46,
          85,
          13,
          138,
          55,
          249,
          100,
          90,
          120,
          85,
          70,
          132,
          15,
          119,
          55,
          38,
          188,
          60,
          195,
          158,
          99,
          75,
          59,
          620,
          439,
          1719,
          46,
          34,
          79,
          237,
          16,
          64,
          251,
          25,
          56,
          28,
          500,
          130,
          250,
          80,
          380,
          81,
          70,
          105,
          49,
          90,
          46,
          188,
          127,
          130,
          30,
          95,
          85,
          141,
          385,
          169,
          216,
          399,
          283,
          90,
          447,
          700,
          279,
          600,
          38,
          424,
          74,
          447,
          200,
          50,
          2007,
          70,
          45,
          80,
          89,
          69,
          769,
          331,
          148,
          228,
          45,
          35,
          135,
          29,
          68,
          228,
          41,
          95,
          1586,
          22,
          110,
          295,
          1287,
          60,
          79,
          200,
          90,
          90,
          80,
          179,
          160,
          90,
          199,
          33,
          49,
          31,
          39,
          40,
          290,
          212,
          129,
          174,
          791,
          55,
          50,
          101,
          200,
          68,
          538,
          129,
          158,
          215,
          50,
          81,
          145,
          85,
          127,
          30,
          70,
          50,
          81,
          649,
          78,
          406,
          80,
          139,
          997,
          269,
          667,
          211,
          225,
          50,
          88,
          78,
          88,
          25,
          115,
          35,
          166,
          289,
          211,
          39,
          60,
          160,
          48,
          150,
          526,
          70,
          201,
          1055,
          60,
          250,
          447,
          20,
          550,
          420,
          1201,
          283,
          101,
          163,
          496,
          70,
          145,
          80,
          600,
          81,
          45,
          249,
          35,
          671,
          50,
          211,
          597,
          39,
          42,
          78,
          105,
          47,
          295,
          401,
          100,
          130,
          63,
          125,
          2999,
          231,
          60,
          81,
          364,
          2060,
          35,
          4103,
          248,
          700,
          322,
          19,
          127,
          66,
          179,
          55,
          35,
          290,
          470,
          46,
          425,
          11681,
          45,
          105,
          149,
          848,
          264,
          148,
          100,
          179,
          879,
          58,
          237,
          70,
          220,
          500,
          248,
          85,
          350,
          175,
          170,
          80,
          4761,
          801,
          70,
          46,
          95,
          24,
          120,
          63,
          240,
          557,
          69,
          1186,
          110,
          79,
          408,
          135,
          250,
          100,
          413,
          35,
          59,
          232,
          290,
          52,
          69,
          179,
          95,
          142,
          100,
          110,
          99,
          244,
          250,
          148,
          331,
          64,
          798,
          245,
          20,
          248,
          30,
          833,
          141,
          571,
          30,
          109,
          69,
          95,
          64,
          69,
          81,
          30,
          17,
          151,
          353,
          918,
          879,
          120,
          60,
          699,
          20,
          40,
          74,
          20,
          79,
          142,
          79,
          80,
          250,
          749,
          120,
          299,
          395,
          290,
          135,
          250,
          55,
          55,
          801,
          35,
          300,
          500,
          180,
          140,
          159,
          179,
          17,
          13,
          212,
          255,
          200,
          212,
          295,
          132,
          148,
          110,
          761,
          87,
          220,
          148,
          40,
          75,
          40,
          148,
          229,
          109,
          25,
          148,
          95,
          248,
          359,
          652,
          1550,
          151,
          195,
          502,
          148,
          750,
          118,
          45,
          40,
          148,
          85,
          1947,
          75,
          200,
          75,
          150,
          52,
          200,
          185,
          2979,
          89,
          149,
          1170,
          701,
          50,
          259,
          80,
          39,
          15,
          70,
          60,
          400,
          20,
          359,
          295,
          179,
          111,
          400,
          98,
          832,
          160,
          30,
          1201,
          90,
          119,
          51,
          50,
          95,
          654,
          65,
          385,
          70,
          542,
          292,
          79,
          127,
          79,
          121,
          35,
          295,
          95,
          80,
          50,
          79,
          1119,
          264,
          49,
          148,
          70,
          105,
          81,
          53,
          548,
          90,
          211,
          95,
          195,
          533,
          100,
          343,
          84,
          99,
          597,
          150,
          129,
          90,
          24,
          301,
          1201,
          250,
          170,
          248,
          39,
          200,
          253,
          70,
          1306,
          120,
          298,
          32,
          121,
          174,
          258,
          438,
          296,
          34,
          40,
          120,
          85,
          60,
          79,
          95,
          359,
          158,
          93,
          280,
          41,
          2002,
          132,
          951,
          43,
          37,
          45,
          306,
          393,
          44,
          220,
          879,
          52,
          72,
          15,
          99,
          153,
          130,
          369,
          1999,
          40,
          58,
          121,
          601,
          163,
          70,
          643,
          80,
          502,
          50,
          301,
          601,
          30,
          119,
          249,
          659,
          191,
          100,
          46,
          211,
          270,
          150,
          25,
          119,
          85,
          954,
          45,
          232,
          60,
          119,
          237,
          301,
          800,
          80,
          997,
          40,
          60,
          22,
          190,
          55,
          369,
          2999,
          125,
          37,
          80,
          173,
          75,
          40,
          79,
          169,
          60,
          63,
          101,
          200,
          824,
          28,
          428,
          502,
          32,
          500,
          137,
          19,
          701,
          1865,
          174,
          369,
          70,
          53,
          101,
          89,
          1240,
          100,
          47,
          80,
          1100,
          557,
          298,
          174,
          120,
          78,
          604,
          150,
          100,
          20,
          250,
          250,
          85,
          902,
          21,
          120,
          34,
          150,
          264,
          328,
          86,
          338,
          1963,
          400,
          518,
          100,
          50,
          149,
          400,
          219,
          250,
          160,
          39,
          179,
          79,
          316,
          43,
          418,
          500,
          534,
          199,
          239,
          174,
          35,
          997,
          63,
          1201,
          200,
          30,
          76,
          644,
          40,
          36,
          150,
          395,
          130,
          79,
          345,
          401,
          754,
          169,
          150,
          700,
          101,
          81,
          75,
          90,
          149,
          80,
          95,
          683,
          250,
          70,
          64,
          100,
          140,
          110,
          179,
          70,
          130,
          158,
          60,
          738,
          538,
          133,
          243,
          250,
          698,
          142,
          100,
          2999,
          53,
          82,
          148,
          150,
          50,
          80,
          121,
          464,
          447,
          220,
          1287,
          149,
          50,
          20,
          119,
          597,
          1500,
          67,
          40,
          295,
          41,
          17,
          210,
          93,
          597,
          51,
          25,
          45,
          129,
          111,
          1382,
          79,
          129,
          1499,
          59,
          200,
          2700,
          100,
          581,
          239,
          55,
          10001,
          161,
          35,
          200,
          350,
          25,
          502,
          119,
          108,
          699,
          997,
          981,
          60,
          1060,
          148,
          39,
          85,
          69,
          119,
          90,
          127,
          500,
          90,
          216,
          267,
          500,
          90,
          400,
          400,
          95,
          1601,
          30,
          3000,
          500,
          515,
          42,
          501,
          200,
          509,
          40,
          400,
          128,
          745,
          115,
          160,
          228,
          74,
          554,
          298,
          70,
          369,
          1853,
          25,
          170,
          92,
          316,
          160,
          237,
          350,
          447,
          281,
          250,
          520,
          515,
          440,
          353,
          298,
          81,
          298,
          35,
          80,
          109,
          80,
          150,
          359,
          45,
          385,
          30,
          35,
          550,
          500,
          163,
          265,
          90,
          220,
          175,
          119,
          140,
          23,
          575,
          100,
          179,
          326,
          353,
          100,
          501,
          80,
          250,
          70,
          1201,
          189,
          227,
          139,
          171,
          200,
          200,
          99,
          500,
          330,
          251,
          154,
          55,
          89,
          210,
          351,
          60,
          140,
          553,
          39,
          1192,
          161,
          90,
          1123,
          40,
          250,
          16,
          301,
          70,
          791,
          58,
          40,
          74,
          400,
          53,
          25,
          80,
          196,
          359,
          74,
          81,
          111,
          1798,
          237,
          160,
          200,
          38,
          60,
          251,
          393,
          139,
          201,
          60,
          350,
          20,
          298,
          199,
          224,
          151,
          55,
          76,
          50,
          30,
          105,
          475,
          1201,
          79,
          60,
          63,
          447,
          132,
          60,
          1201,
          121,
          46,
          416,
          261,
          85,
          981,
          151,
          125,
          72,
          258,
          45,
          58,
          127,
          527,
          150,
          79,
          55,
          148,
          298,
          447,
          64,
          221,
          459,
          30,
          28,
          46,
          150,
          111,
          60,
          397,
          174,
          675,
          76,
          10,
          257,
          151,
          891,
          142,
          201,
          518,
          75,
          168,
          60,
          70,
          45,
          100,
          1201,
          79,
          14,
          109,
          148,
          25,
          560,
          38,
          550,
          479,
          69,
          35,
          195,
          27,
          89,
          45,
          221,
          157,
          60,
          58,
          283,
          66,
          283,
          1698,
          180,
          148,
          200,
          316,
          65,
          361,
          262,
          50,
          33,
          479,
          10,
          164,
          115,
          300,
          279,
          56,
          683,
          283,
          266,
          427,
          392,
          30,
          300,
          447,
          75,
          100,
          801,
          35,
          950,
          58,
          81,
          502,
          1751,
          341,
          160,
          500,
          105,
          886,
          145,
          67,
          526,
          243,
          848,
          200,
          42,
          120,
          95,
          150,
          75,
          35,
          261,
          80,
          70,
          68,
          637,
          199,
          933,
          298,
          145,
          211,
          50,
          200,
          100,
          2496,
          75,
          40,
          121,
          353,
          32,
          401,
          161,
          59,
          80,
          299,
          149,
          385,
          903,
          50,
          16,
          450,
          290,
          180,
          475,
          127,
          55,
          179,
          138,
          70,
          25,
          23,
          1999,
          127,
          581,
          142,
          879,
          1201,
          119,
          502,
          174,
          157,
          423,
          39,
          600,
          129,
          100,
          165,
          37,
          597,
          754,
          746,
          60,
          149,
          35,
          125,
          56,
          274,
          3544,
          392,
          25,
          769,
          353,
          798,
          287,
          80,
          848,
          197,
          502,
          60,
          627,
          2378,
          50,
          95,
          168,
          85,
          350,
          209,
          295,
          70,
          75,
          69,
          89,
          65,
          160,
          28,
          55,
          181,
          150,
          70,
          65,
          210,
          206,
          124,
          221,
          101,
          121,
          301,
          601,
          211,
          620,
          601,
          26,
          120,
          50,
          23,
          1005,
          45,
          131,
          108,
          267,
          57,
          100,
          251,
          70,
          443,
          150,
          16,
          237,
          149,
          90,
          173,
          534,
          78,
          119,
          50,
          39,
          78,
          209,
          35,
          230,
          120,
          57,
          597,
          89,
          25,
          475,
          30,
          75,
          85,
          132,
          65,
          172,
          451,
          78,
          120,
          1295,
          30,
          31,
          158,
          167,
          20,
          89,
          447,
          400,
          2002,
          361,
          150,
          416,
          620,
          79,
          151,
          175,
          45,
          127,
          18,
          500,
          28,
          316,
          149,
          95,
          250,
          35,
          801,
          35,
          199,
          150,
          150,
          49,
          60,
          80,
          269,
          165,
          70,
          129,
          298,
          160,
          300,
          101,
          28,
          151,
          188,
          399,
          474,
          500,
          1052,
          601,
          169,
          200,
          201,
          43,
          267,
          1499,
          801,
          65,
          316,
          518,
          832,
          424,
          149,
          173,
          79,
          714,
          466,
          250,
          1119,
          447,
          79,
          89,
          2301,
          55,
          601,
          60,
          172,
          510,
          221,
          400,
          24,
          243,
          127,
          80,
          101,
          447,
          110,
          550,
          112,
          421,
          200,
          163,
          1201,
          112,
          85,
          58,
          90,
          100,
          248,
          287,
          179,
          243,
          997,
          100,
          150,
          40,
          432,
          353,
          536,
          237,
          269,
          74,
          80,
          751,
          99,
          57,
          59,
          164,
          18,
          269,
          440,
          448,
          54,
          75,
          50,
          601,
          150,
          51,
          230,
          879,
          37,
          125,
          149,
          2300,
          225,
          440,
          550,
          160,
          175,
          3250,
          44,
          52,
          100,
          50,
          400,
          96,
          511,
          78,
          127,
          169,
          45,
          25,
          98,
          250,
          230,
          15,
          699,
          298,
          51,
          150,
          43,
          250,
          121,
          130,
          37,
          205,
          119,
          399,
          85,
          833,
          237,
          399,
          248,
          75,
          90,
          71,
          447,
          597,
          42,
          50,
          148,
          55,
          101,
          80,
          777,
          46,
          2083,
          1190,
          168,
          125,
          117,
          60,
          78,
          39,
          200,
          40,
          148,
          298,
          200,
          40,
          240,
          120,
          1217,
          127,
          99,
          227,
          261,
          299,
          148,
          46,
          250,
          50,
          79,
          1399,
          399,
          200,
          100,
          70,
          77,
          699,
          295,
          64,
          280,
          1192,
          30,
          60,
          250,
          120,
          115,
          75,
          150,
          110,
          239,
          142,
          2636,
          140,
          801,
          95,
          295,
          1178,
          64,
          101,
          550,
          220,
          295,
          300,
          377,
          105,
          299,
          135,
          131,
          623,
          887,
          250,
          45,
          55,
          50,
          84,
          97,
          47,
          70,
          215,
          120,
          99,
          83,
          534,
          235,
          237,
          60,
          128,
          124,
          230,
          90,
          71,
          274,
          170,
          77,
          210,
          172,
          353,
          400,
          599,
          295,
          185,
          627,
          500,
          373,
          280,
          145,
          150,
          1201,
          99,
          50,
          46,
          129,
          1319,
          35,
          190,
          149,
          90,
          200,
          200,
          110,
          100,
          85,
          351,
          105,
          242,
          550,
          85,
          40,
          145,
          45,
          95,
          149,
          649,
          903,
          101,
          117,
          151,
          80,
          280,
          95,
          93,
          140,
          60,
          3253,
          35,
          30,
          290,
          298,
          903,
          100,
          385,
          380,
          194,
          249,
          264,
          761,
          100,
          100,
          50,
          185,
          201,
          58,
          871,
          86,
          200,
          148,
          283,
          453,
          250,
          48,
          25,
          145,
          129,
          101,
          195,
          97,
          121,
          336,
          261,
          487,
          140,
          139,
          42,
          70,
          209,
          25,
          96,
          53,
          60,
          75,
          99,
          95,
          131,
          23,
          198,
          578,
          119,
          78,
          174,
          100,
          211,
          62,
          280,
          254,
          61,
          1529,
          127,
          153,
          130,
          80,
          145,
          75,
          75,
          55,
          175,
          110,
          801,
          75,
          75,
          705,
          601,
          500,
          216,
          502,
          165,
          60,
          125,
          250,
          119,
          175,
          90,
          185,
          384,
          576,
          525,
          75,
          150,
          119,
          127,
          177,
          206,
          72,
          200,
          65,
          100,
          135,
          189,
          300,
          30,
          240,
          151,
          156,
          187,
          591,
          250,
          75,
          1000,
          67,
          754,
          29,
          30,
          147,
          101,
          55,
          30,
          50,
          81,
          58,
          350,
          138,
          300,
          121,
          169,
          136,
          290,
          1382,
          395,
          101,
          151,
          50,
          201,
          115,
          129,
          39,
          199,
          353,
          550,
          385,
          70,
          68,
          181,
          100,
          97,
          100,
          359,
          100,
          149,
          243,
          120,
          260,
          100,
          149,
          75,
          101,
          250,
          84,
          89,
          100,
          70,
          120,
          185,
          259,
          500,
          175,
          26,
          114,
          96,
          21,
          85,
          125,
          500,
          45,
          395,
          66,
          200,
          124,
          159,
          143,
          115,
          751,
          100,
          129,
          100,
          115,
          395,
          198,
          251,
          85,
          200,
          40,
          60,
          32,
          130,
          341,
          7002,
          65,
          97,
          749,
          179,
          198,
          95,
          210,
          849,
          58,
          39,
          70,
          115,
          55,
          230,
          55,
          80,
          190,
          295,
          85,
          99,
          1313,
          105,
          269,
          54,
          55,
          98,
          150,
          150,
          350,
          47,
          65,
          95,
          229,
          130,
          70,
          35,
          165,
          42,
          45,
          480,
          45,
          35,
          150,
          33,
          451,
          95,
          121,
          95,
          64,
          68,
          99,
          55,
          301,
          46,
          75,
          500,
          125,
          53,
          295,
          27,
          160,
          80,
          80,
          90,
          265,
          300,
          746,
          50,
          45,
          50,
          132,
          74,
          100,
          148,
          90,
          395,
          105,
          68,
          45,
          652,
          145,
          63,
          115,
          23,
          834,
          63,
          179,
          891,
          142,
          13,
          801,
          105,
          175,
          60,
          685,
          43,
          93,
          201,
          69,
          97,
          35,
          221,
          238,
          179,
          200,
          121,
          400,
          699,
          150,
          809,
          58,
          175,
          347,
          35,
          35,
          101,
          105,
          169,
          37,
          79,
          44,
          540,
          84,
          120,
          48,
          228,
          350,
          63,
          82,
          138,
          35,
          298,
          654,
          80,
          155,
          245,
          56,
          717,
          801,
          135,
          417,
          300,
          1162,
          200,
          121,
          40,
          85,
          99,
          295,
          99,
          115,
          40,
          79,
          15,
          110,
          69,
          25,
          40,
          140,
          401,
          120,
          105,
          66,
          165,
          60,
          999,
          59,
          27,
          148,
          1170,
          80,
          158,
          101,
          100,
          28,
          196,
          75,
          316,
          100,
          90,
          54,
          65,
          999,
          60,
          110,
          596,
          101,
          485,
          46,
          125,
          226,
          190,
          86,
          125,
          80,
          200,
          550,
          50,
          70,
          285,
          160,
          1052,
          237,
          506,
          155,
          90,
          89,
          55,
          377,
          300,
          139,
          82,
          101,
          105,
          380,
          140,
          95,
          75,
          169,
          158,
          345,
          69,
          160,
          343,
          150,
          997,
          48,
          424,
          1891,
          153,
          199,
          105,
          150,
          68,
          69,
          895,
          145,
          129,
          60,
          1201,
          85,
          343,
          212,
          180,
          40,
          359,
          80,
          130,
          100,
          125,
          60,
          627,
          295,
          90,
          55,
          45,
          87,
          746,
          125,
          60,
          40,
          125,
          87,
          35,
          70,
          139,
          495,
          150,
          237,
          50,
          1192,
          90,
          1680,
          125,
          300,
          100,
          495,
          87,
          157,
          95,
          60,
          30,
          107,
          99,
          300,
          148,
          283,
          129,
          148,
          50,
          60,
          90,
          67,
          115,
          353,
          142,
          399,
          701,
          178,
          55,
          125,
          360,
          60,
          150,
          240,
          105,
          420,
          50,
          90,
          75,
          48,
          85,
          150,
          100,
          80,
          221,
          64,
          90,
          298,
          300,
          190,
          70,
          188,
          581,
          60,
          125,
          65,
          50,
          95,
          78,
          174,
          400,
          699,
          139,
          55,
          225,
          170,
          95,
          50,
          300,
          55,
          69,
          118,
          181,
          1000,
          312,
          190,
          149,
          262,
          54,
          81,
          314,
          482,
          248,
          283,
          251,
          132,
          143,
          185,
          190,
          1790,
          495,
          100,
          157,
          40,
          280,
          113,
          250,
          64,
          270,
          109,
          127,
          138,
          120,
          28,
          527,
          430,
          538,
          251,
          40,
          275,
          330,
          195,
          121,
          130,
          43,
          375,
          119,
          135,
          560,
          502,
          71,
          200,
          785,
          800,
          40,
          1782,
          105,
          99,
          188,
          850,
          155,
          137,
          142,
          78,
          890,
          565,
          20,
          169,
          179,
          148,
          17,
          81,
          134,
          109,
          157,
          25,
          55,
          75,
          100,
          200,
          68,
          399,
          311,
          25,
          250,
          500,
          60,
          350,
          91,
          79,
          109,
          30,
          110,
          101,
          100,
          695,
          68,
          200,
          220,
          336,
          322,
          68,
          45,
          1499,
          51,
          98,
          280,
          55,
          45,
          495,
          195,
          190,
          848,
          86,
          175,
          50,
          112,
          175,
          298,
          196,
          58,
          175,
          69,
          111,
          192,
          41,
          140,
          400,
          100,
          158,
          44,
          58,
          119,
          225,
          190,
          155,
          113,
          155,
          247,
          105,
          380,
          45,
          120,
          12,
          95,
          90,
          125,
          195,
          1701,
          149,
          65,
          60,
          150,
          179,
          416,
          174,
          109,
          109,
          222,
          101,
          48,
          115,
          55,
          256,
          189,
          125,
          298,
          90,
          115,
          237,
          115,
          260,
          40,
          250,
          200,
          55,
          181,
          95,
          950,
          175,
          525,
          199,
          32,
          203,
          190,
          60,
          295,
          80,
          1099,
          142,
          649,
          1170,
          50,
          85,
          131,
          70,
          105,
          90,
          754,
          327,
          190,
          243,
          119,
          283,
          87,
          1175,
          95,
          1162,
          62,
          139,
          350,
          300,
          801,
          269,
          151,
          165,
          125,
          60,
          351,
          424,
          40,
          149,
          399,
          85,
          899,
          195,
          2999,
          80,
          250,
          55,
          158,
          150,
          101,
          903,
          39,
          120,
          161,
          40,
          119,
          50,
          107,
          269,
          526,
          196,
          299,
          75,
          70,
          30,
          49,
          98,
          198,
          47,
          175,
          387,
          589,
          130,
          298,
          351,
          68,
          251,
          185,
          119,
          777,
          200,
          74,
          131,
          121,
          375,
          351,
          78,
          65,
          159,
          90,
          129,
          151,
          1146,
          450,
          459,
          201,
          90,
          110,
          299,
          64,
          100,
          159,
          121,
          75,
          125,
          32,
          350,
          259,
          125,
          50,
          425,
          90,
          180,
          400,
          129,
          101,
          99,
          99,
          133,
          15,
          60,
          500,
          751,
          701,
          250,
          1052,
          322,
          300,
          220,
          108,
          227,
          500,
          97,
          101,
          89,
          501,
          58,
          750,
          60,
          400,
          101,
          220,
          41,
          160
         ]
        }
       ],
       "layout": {
        "height": 500,
        "legend": {
         "tracegroupgap": 0
        },
        "piecolorway": [
         "rgb(77,0,75)",
         "rgb(129,15,124)",
         "rgb(136,65,157)",
         "rgb(140,107,177)",
         "rgb(140,150,198)",
         "rgb(158,188,218)",
         "rgb(191,211,230)",
         "rgb(224,236,244)",
         "rgb(247,252,253)"
        ],
        "template": {
         "data": {
          "bar": [
           {
            "error_x": {
             "color": "#2a3f5f"
            },
            "error_y": {
             "color": "#2a3f5f"
            },
            "marker": {
             "line": {
              "color": "#E5ECF6",
              "width": 0.5
             },
             "pattern": {
              "fillmode": "overlay",
              "size": 10,
              "solidity": 0.2
             }
            },
            "type": "bar"
           }
          ],
          "barpolar": [
           {
            "marker": {
             "line": {
              "color": "#E5ECF6",
              "width": 0.5
             },
             "pattern": {
              "fillmode": "overlay",
              "size": 10,
              "solidity": 0.2
             }
            },
            "type": "barpolar"
           }
          ],
          "carpet": [
           {
            "aaxis": {
             "endlinecolor": "#2a3f5f",
             "gridcolor": "white",
             "linecolor": "white",
             "minorgridcolor": "white",
             "startlinecolor": "#2a3f5f"
            },
            "baxis": {
             "endlinecolor": "#2a3f5f",
             "gridcolor": "white",
             "linecolor": "white",
             "minorgridcolor": "white",
             "startlinecolor": "#2a3f5f"
            },
            "type": "carpet"
           }
          ],
          "choropleth": [
           {
            "colorbar": {
             "outlinewidth": 0,
             "ticks": ""
            },
            "type": "choropleth"
           }
          ],
          "contour": [
           {
            "colorbar": {
             "outlinewidth": 0,
             "ticks": ""
            },
            "colorscale": [
             [
              0,
              "#0d0887"
             ],
             [
              0.1111111111111111,
              "#46039f"
             ],
             [
              0.2222222222222222,
              "#7201a8"
             ],
             [
              0.3333333333333333,
              "#9c179e"
             ],
             [
              0.4444444444444444,
              "#bd3786"
             ],
             [
              0.5555555555555556,
              "#d8576b"
             ],
             [
              0.6666666666666666,
              "#ed7953"
             ],
             [
              0.7777777777777778,
              "#fb9f3a"
             ],
             [
              0.8888888888888888,
              "#fdca26"
             ],
             [
              1,
              "#f0f921"
             ]
            ],
            "type": "contour"
           }
          ],
          "contourcarpet": [
           {
            "colorbar": {
             "outlinewidth": 0,
             "ticks": ""
            },
            "type": "contourcarpet"
           }
          ],
          "heatmap": [
           {
            "colorbar": {
             "outlinewidth": 0,
             "ticks": ""
            },
            "colorscale": [
             [
              0,
              "#0d0887"
             ],
             [
              0.1111111111111111,
              "#46039f"
             ],
             [
              0.2222222222222222,
              "#7201a8"
             ],
             [
              0.3333333333333333,
              "#9c179e"
             ],
             [
              0.4444444444444444,
              "#bd3786"
             ],
             [
              0.5555555555555556,
              "#d8576b"
             ],
             [
              0.6666666666666666,
              "#ed7953"
             ],
             [
              0.7777777777777778,
              "#fb9f3a"
             ],
             [
              0.8888888888888888,
              "#fdca26"
             ],
             [
              1,
              "#f0f921"
             ]
            ],
            "type": "heatmap"
           }
          ],
          "heatmapgl": [
           {
            "colorbar": {
             "outlinewidth": 0,
             "ticks": ""
            },
            "colorscale": [
             [
              0,
              "#0d0887"
             ],
             [
              0.1111111111111111,
              "#46039f"
             ],
             [
              0.2222222222222222,
              "#7201a8"
             ],
             [
              0.3333333333333333,
              "#9c179e"
             ],
             [
              0.4444444444444444,
              "#bd3786"
             ],
             [
              0.5555555555555556,
              "#d8576b"
             ],
             [
              0.6666666666666666,
              "#ed7953"
             ],
             [
              0.7777777777777778,
              "#fb9f3a"
             ],
             [
              0.8888888888888888,
              "#fdca26"
             ],
             [
              1,
              "#f0f921"
             ]
            ],
            "type": "heatmapgl"
           }
          ],
          "histogram": [
           {
            "marker": {
             "pattern": {
              "fillmode": "overlay",
              "size": 10,
              "solidity": 0.2
             }
            },
            "type": "histogram"
           }
          ],
          "histogram2d": [
           {
            "colorbar": {
             "outlinewidth": 0,
             "ticks": ""
            },
            "colorscale": [
             [
              0,
              "#0d0887"
             ],
             [
              0.1111111111111111,
              "#46039f"
             ],
             [
              0.2222222222222222,
              "#7201a8"
             ],
             [
              0.3333333333333333,
              "#9c179e"
             ],
             [
              0.4444444444444444,
              "#bd3786"
             ],
             [
              0.5555555555555556,
              "#d8576b"
             ],
             [
              0.6666666666666666,
              "#ed7953"
             ],
             [
              0.7777777777777778,
              "#fb9f3a"
             ],
             [
              0.8888888888888888,
              "#fdca26"
             ],
             [
              1,
              "#f0f921"
             ]
            ],
            "type": "histogram2d"
           }
          ],
          "histogram2dcontour": [
           {
            "colorbar": {
             "outlinewidth": 0,
             "ticks": ""
            },
            "colorscale": [
             [
              0,
              "#0d0887"
             ],
             [
              0.1111111111111111,
              "#46039f"
             ],
             [
              0.2222222222222222,
              "#7201a8"
             ],
             [
              0.3333333333333333,
              "#9c179e"
             ],
             [
              0.4444444444444444,
              "#bd3786"
             ],
             [
              0.5555555555555556,
              "#d8576b"
             ],
             [
              0.6666666666666666,
              "#ed7953"
             ],
             [
              0.7777777777777778,
              "#fb9f3a"
             ],
             [
              0.8888888888888888,
              "#fdca26"
             ],
             [
              1,
              "#f0f921"
             ]
            ],
            "type": "histogram2dcontour"
           }
          ],
          "mesh3d": [
           {
            "colorbar": {
             "outlinewidth": 0,
             "ticks": ""
            },
            "type": "mesh3d"
           }
          ],
          "parcoords": [
           {
            "line": {
             "colorbar": {
              "outlinewidth": 0,
              "ticks": ""
             }
            },
            "type": "parcoords"
           }
          ],
          "pie": [
           {
            "automargin": true,
            "type": "pie"
           }
          ],
          "scatter": [
           {
            "fillpattern": {
             "fillmode": "overlay",
             "size": 10,
             "solidity": 0.2
            },
            "type": "scatter"
           }
          ],
          "scatter3d": [
           {
            "line": {
             "colorbar": {
              "outlinewidth": 0,
              "ticks": ""
             }
            },
            "marker": {
             "colorbar": {
              "outlinewidth": 0,
              "ticks": ""
             }
            },
            "type": "scatter3d"
           }
          ],
          "scattercarpet": [
           {
            "marker": {
             "colorbar": {
              "outlinewidth": 0,
              "ticks": ""
             }
            },
            "type": "scattercarpet"
           }
          ],
          "scattergeo": [
           {
            "marker": {
             "colorbar": {
              "outlinewidth": 0,
              "ticks": ""
             }
            },
            "type": "scattergeo"
           }
          ],
          "scattergl": [
           {
            "marker": {
             "colorbar": {
              "outlinewidth": 0,
              "ticks": ""
             }
            },
            "type": "scattergl"
           }
          ],
          "scattermapbox": [
           {
            "marker": {
             "colorbar": {
              "outlinewidth": 0,
              "ticks": ""
             }
            },
            "type": "scattermapbox"
           }
          ],
          "scatterpolar": [
           {
            "marker": {
             "colorbar": {
              "outlinewidth": 0,
              "ticks": ""
             }
            },
            "type": "scatterpolar"
           }
          ],
          "scatterpolargl": [
           {
            "marker": {
             "colorbar": {
              "outlinewidth": 0,
              "ticks": ""
             }
            },
            "type": "scatterpolargl"
           }
          ],
          "scatterternary": [
           {
            "marker": {
             "colorbar": {
              "outlinewidth": 0,
              "ticks": ""
             }
            },
            "type": "scatterternary"
           }
          ],
          "surface": [
           {
            "colorbar": {
             "outlinewidth": 0,
             "ticks": ""
            },
            "colorscale": [
             [
              0,
              "#0d0887"
             ],
             [
              0.1111111111111111,
              "#46039f"
             ],
             [
              0.2222222222222222,
              "#7201a8"
             ],
             [
              0.3333333333333333,
              "#9c179e"
             ],
             [
              0.4444444444444444,
              "#bd3786"
             ],
             [
              0.5555555555555556,
              "#d8576b"
             ],
             [
              0.6666666666666666,
              "#ed7953"
             ],
             [
              0.7777777777777778,
              "#fb9f3a"
             ],
             [
              0.8888888888888888,
              "#fdca26"
             ],
             [
              1,
              "#f0f921"
             ]
            ],
            "type": "surface"
           }
          ],
          "table": [
           {
            "cells": {
             "fill": {
              "color": "#EBF0F8"
             },
             "line": {
              "color": "white"
             }
            },
            "header": {
             "fill": {
              "color": "#C8D4E3"
             },
             "line": {
              "color": "white"
             }
            },
            "type": "table"
           }
          ]
         },
         "layout": {
          "annotationdefaults": {
           "arrowcolor": "#2a3f5f",
           "arrowhead": 0,
           "arrowwidth": 1
          },
          "autotypenumbers": "strict",
          "coloraxis": {
           "colorbar": {
            "outlinewidth": 0,
            "ticks": ""
           }
          },
          "colorscale": {
           "diverging": [
            [
             0,
             "#8e0152"
            ],
            [
             0.1,
             "#c51b7d"
            ],
            [
             0.2,
             "#de77ae"
            ],
            [
             0.3,
             "#f1b6da"
            ],
            [
             0.4,
             "#fde0ef"
            ],
            [
             0.5,
             "#f7f7f7"
            ],
            [
             0.6,
             "#e6f5d0"
            ],
            [
             0.7,
             "#b8e186"
            ],
            [
             0.8,
             "#7fbc41"
            ],
            [
             0.9,
             "#4d9221"
            ],
            [
             1,
             "#276419"
            ]
           ],
           "sequential": [
            [
             0,
             "#0d0887"
            ],
            [
             0.1111111111111111,
             "#46039f"
            ],
            [
             0.2222222222222222,
             "#7201a8"
            ],
            [
             0.3333333333333333,
             "#9c179e"
            ],
            [
             0.4444444444444444,
             "#bd3786"
            ],
            [
             0.5555555555555556,
             "#d8576b"
            ],
            [
             0.6666666666666666,
             "#ed7953"
            ],
            [
             0.7777777777777778,
             "#fb9f3a"
            ],
            [
             0.8888888888888888,
             "#fdca26"
            ],
            [
             1,
             "#f0f921"
            ]
           ],
           "sequentialminus": [
            [
             0,
             "#0d0887"
            ],
            [
             0.1111111111111111,
             "#46039f"
            ],
            [
             0.2222222222222222,
             "#7201a8"
            ],
            [
             0.3333333333333333,
             "#9c179e"
            ],
            [
             0.4444444444444444,
             "#bd3786"
            ],
            [
             0.5555555555555556,
             "#d8576b"
            ],
            [
             0.6666666666666666,
             "#ed7953"
            ],
            [
             0.7777777777777778,
             "#fb9f3a"
            ],
            [
             0.8888888888888888,
             "#fdca26"
            ],
            [
             1,
             "#f0f921"
            ]
           ]
          },
          "colorway": [
           "#636efa",
           "#EF553B",
           "#00cc96",
           "#ab63fa",
           "#FFA15A",
           "#19d3f3",
           "#FF6692",
           "#B6E880",
           "#FF97FF",
           "#FECB52"
          ],
          "font": {
           "color": "#2a3f5f"
          },
          "geo": {
           "bgcolor": "white",
           "lakecolor": "white",
           "landcolor": "#E5ECF6",
           "showlakes": true,
           "showland": true,
           "subunitcolor": "white"
          },
          "hoverlabel": {
           "align": "left"
          },
          "hovermode": "closest",
          "mapbox": {
           "style": "light"
          },
          "paper_bgcolor": "white",
          "plot_bgcolor": "#E5ECF6",
          "polar": {
           "angularaxis": {
            "gridcolor": "white",
            "linecolor": "white",
            "ticks": ""
           },
           "bgcolor": "#E5ECF6",
           "radialaxis": {
            "gridcolor": "white",
            "linecolor": "white",
            "ticks": ""
           }
          },
          "scene": {
           "xaxis": {
            "backgroundcolor": "#E5ECF6",
            "gridcolor": "white",
            "gridwidth": 2,
            "linecolor": "white",
            "showbackground": true,
            "ticks": "",
            "zerolinecolor": "white"
           },
           "yaxis": {
            "backgroundcolor": "#E5ECF6",
            "gridcolor": "white",
            "gridwidth": 2,
            "linecolor": "white",
            "showbackground": true,
            "ticks": "",
            "zerolinecolor": "white"
           },
           "zaxis": {
            "backgroundcolor": "#E5ECF6",
            "gridcolor": "white",
            "gridwidth": 2,
            "linecolor": "white",
            "showbackground": true,
            "ticks": "",
            "zerolinecolor": "white"
           }
          },
          "shapedefaults": {
           "line": {
            "color": "#2a3f5f"
           }
          },
          "ternary": {
           "aaxis": {
            "gridcolor": "white",
            "linecolor": "white",
            "ticks": ""
           },
           "baxis": {
            "gridcolor": "white",
            "linecolor": "white",
            "ticks": ""
           },
           "bgcolor": "#E5ECF6",
           "caxis": {
            "gridcolor": "white",
            "linecolor": "white",
            "ticks": ""
           }
          },
          "title": {
           "x": 0.05
          },
          "xaxis": {
           "automargin": true,
           "gridcolor": "white",
           "linecolor": "white",
           "ticks": "",
           "title": {
            "standoff": 15
           },
           "zerolinecolor": "white",
           "zerolinewidth": 2
          },
          "yaxis": {
           "automargin": true,
           "gridcolor": "white",
           "linecolor": "white",
           "ticks": "",
           "title": {
            "standoff": 15
           },
           "zerolinecolor": "white",
           "zerolinewidth": 2
          }
         }
        },
        "title": {
         "text": "PRICE DIFFERENCE BASED ON HOST RESPONSE TIME"
        },
        "width": 600
       }
      }
     },
     "metadata": {},
     "output_type": "display_data"
    }
   ],
   "source": [
    "fig_pi= px.pie(df2, values=\"price\", names= \"host_response_time\",\n",
    "hover_data=[\"bedrooms\"],\n",
    "color_discrete_sequence=px.colors.sequential.BuPu_r,\n",
    "title=\"PRICE DIFFERENCE BASED ON HOST RESPONSE TIME\",\n",
    "width= 600, height= 500)\n",
    "fig_pi"
   ]
  },
  {
   "cell_type": "code",
   "execution_count": 10,
   "metadata": {},
   "outputs": [
    {
     "data": {
      "application/vnd.plotly.v1+json": {
       "config": {
        "plotlyServerURL": "https://plot.ly"
       },
       "data": [
        {
         "alignmentgroup": "True",
         "customdata": [
          [
           8428
          ],
          [
           25111
          ],
          [
           6481
          ],
          [
           468
          ],
          [
           5275
          ],
          [
           42919
          ],
          [
           4589
          ],
          [
           15963
          ],
          [
           17375
          ]
         ],
         "hovertemplate": "variable=cleaning_fee<br>country_code=%{x}<br>value=%{y}<br>extra_people=%{customdata[0]}<extra></extra>",
         "legendgroup": "cleaning_fee",
         "marker": {
          "color": "rgb(255,0,0)",
          "pattern": {
           "shape": ""
          }
         },
         "name": "cleaning_fee",
         "offsetgroup": "cleaning_fee",
         "orientation": "v",
         "showlegend": true,
         "textposition": "auto",
         "type": "bar",
         "x": [
          "AU",
          "BR",
          "CA",
          "CN",
          "ES",
          "HK",
          "PT",
          "TR",
          "US"
         ],
         "xaxis": "x",
         "y": [
          55476.91666667,
          83273.666666617,
          40875.95000006,
          1405.75,
          33358.16666667,
          89217.58333358,
          18645.583333217,
          58063.816666563,
          140033.06666659
         ],
         "yaxis": "y"
        },
        {
         "alignmentgroup": "True",
         "customdata": [
          [
           8428
          ],
          [
           25111
          ],
          [
           6481
          ],
          [
           468
          ],
          [
           5275
          ],
          [
           42919
          ],
          [
           4589
          ],
          [
           15963
          ],
          [
           17375
          ]
         ],
         "hovertemplate": "variable=bedrooms<br>country_code=%{x}<br>value=%{y}<br>extra_people=%{customdata[0]}<extra></extra>",
         "legendgroup": "bedrooms",
         "marker": {
          "color": "rgb(255,111,0)",
          "pattern": {
           "shape": ""
          }
         },
         "name": "bedrooms",
         "offsetgroup": "bedrooms",
         "orientation": "v",
         "showlegend": true,
         "textposition": "auto",
         "type": "bar",
         "x": [
          "AU",
          "BR",
          "CA",
          "CN",
          "ES",
          "HK",
          "PT",
          "TR",
          "US"
         ],
         "xaxis": "x",
         "y": [
          952,
          965,
          920,
          19,
          984,
          644,
          850,
          893,
          1616
         ],
         "yaxis": "y"
        },
        {
         "alignmentgroup": "True",
         "customdata": [
          [
           8428
          ],
          [
           25111
          ],
          [
           6481
          ],
          [
           468
          ],
          [
           5275
          ],
          [
           42919
          ],
          [
           4589
          ],
          [
           15963
          ],
          [
           17375
          ]
         ],
         "hovertemplate": "variable=beds<br>country_code=%{x}<br>value=%{y}<br>extra_people=%{customdata[0]}<extra></extra>",
         "legendgroup": "beds",
         "marker": {
          "color": "rgb(255,234,0)",
          "pattern": {
           "shape": ""
          }
         },
         "name": "beds",
         "offsetgroup": "beds",
         "orientation": "v",
         "showlegend": true,
         "textposition": "auto",
         "type": "bar",
         "x": [
          "AU",
          "BR",
          "CA",
          "CN",
          "ES",
          "HK",
          "PT",
          "TR",
          "US"
         ],
         "xaxis": "x",
         "y": [
          1231,
          1521,
          1213,
          29,
          1477,
          1044,
          1334,
          1305,
          2347
         ],
         "yaxis": "y"
        }
       ],
       "layout": {
        "barmode": "group",
        "legend": {
         "title": {
          "text": "variable"
         },
         "tracegroupgap": 0
        },
        "template": {
         "data": {
          "bar": [
           {
            "error_x": {
             "color": "#2a3f5f"
            },
            "error_y": {
             "color": "#2a3f5f"
            },
            "marker": {
             "line": {
              "color": "#E5ECF6",
              "width": 0.5
             },
             "pattern": {
              "fillmode": "overlay",
              "size": 10,
              "solidity": 0.2
             }
            },
            "type": "bar"
           }
          ],
          "barpolar": [
           {
            "marker": {
             "line": {
              "color": "#E5ECF6",
              "width": 0.5
             },
             "pattern": {
              "fillmode": "overlay",
              "size": 10,
              "solidity": 0.2
             }
            },
            "type": "barpolar"
           }
          ],
          "carpet": [
           {
            "aaxis": {
             "endlinecolor": "#2a3f5f",
             "gridcolor": "white",
             "linecolor": "white",
             "minorgridcolor": "white",
             "startlinecolor": "#2a3f5f"
            },
            "baxis": {
             "endlinecolor": "#2a3f5f",
             "gridcolor": "white",
             "linecolor": "white",
             "minorgridcolor": "white",
             "startlinecolor": "#2a3f5f"
            },
            "type": "carpet"
           }
          ],
          "choropleth": [
           {
            "colorbar": {
             "outlinewidth": 0,
             "ticks": ""
            },
            "type": "choropleth"
           }
          ],
          "contour": [
           {
            "colorbar": {
             "outlinewidth": 0,
             "ticks": ""
            },
            "colorscale": [
             [
              0,
              "#0d0887"
             ],
             [
              0.1111111111111111,
              "#46039f"
             ],
             [
              0.2222222222222222,
              "#7201a8"
             ],
             [
              0.3333333333333333,
              "#9c179e"
             ],
             [
              0.4444444444444444,
              "#bd3786"
             ],
             [
              0.5555555555555556,
              "#d8576b"
             ],
             [
              0.6666666666666666,
              "#ed7953"
             ],
             [
              0.7777777777777778,
              "#fb9f3a"
             ],
             [
              0.8888888888888888,
              "#fdca26"
             ],
             [
              1,
              "#f0f921"
             ]
            ],
            "type": "contour"
           }
          ],
          "contourcarpet": [
           {
            "colorbar": {
             "outlinewidth": 0,
             "ticks": ""
            },
            "type": "contourcarpet"
           }
          ],
          "heatmap": [
           {
            "colorbar": {
             "outlinewidth": 0,
             "ticks": ""
            },
            "colorscale": [
             [
              0,
              "#0d0887"
             ],
             [
              0.1111111111111111,
              "#46039f"
             ],
             [
              0.2222222222222222,
              "#7201a8"
             ],
             [
              0.3333333333333333,
              "#9c179e"
             ],
             [
              0.4444444444444444,
              "#bd3786"
             ],
             [
              0.5555555555555556,
              "#d8576b"
             ],
             [
              0.6666666666666666,
              "#ed7953"
             ],
             [
              0.7777777777777778,
              "#fb9f3a"
             ],
             [
              0.8888888888888888,
              "#fdca26"
             ],
             [
              1,
              "#f0f921"
             ]
            ],
            "type": "heatmap"
           }
          ],
          "heatmapgl": [
           {
            "colorbar": {
             "outlinewidth": 0,
             "ticks": ""
            },
            "colorscale": [
             [
              0,
              "#0d0887"
             ],
             [
              0.1111111111111111,
              "#46039f"
             ],
             [
              0.2222222222222222,
              "#7201a8"
             ],
             [
              0.3333333333333333,
              "#9c179e"
             ],
             [
              0.4444444444444444,
              "#bd3786"
             ],
             [
              0.5555555555555556,
              "#d8576b"
             ],
             [
              0.6666666666666666,
              "#ed7953"
             ],
             [
              0.7777777777777778,
              "#fb9f3a"
             ],
             [
              0.8888888888888888,
              "#fdca26"
             ],
             [
              1,
              "#f0f921"
             ]
            ],
            "type": "heatmapgl"
           }
          ],
          "histogram": [
           {
            "marker": {
             "pattern": {
              "fillmode": "overlay",
              "size": 10,
              "solidity": 0.2
             }
            },
            "type": "histogram"
           }
          ],
          "histogram2d": [
           {
            "colorbar": {
             "outlinewidth": 0,
             "ticks": ""
            },
            "colorscale": [
             [
              0,
              "#0d0887"
             ],
             [
              0.1111111111111111,
              "#46039f"
             ],
             [
              0.2222222222222222,
              "#7201a8"
             ],
             [
              0.3333333333333333,
              "#9c179e"
             ],
             [
              0.4444444444444444,
              "#bd3786"
             ],
             [
              0.5555555555555556,
              "#d8576b"
             ],
             [
              0.6666666666666666,
              "#ed7953"
             ],
             [
              0.7777777777777778,
              "#fb9f3a"
             ],
             [
              0.8888888888888888,
              "#fdca26"
             ],
             [
              1,
              "#f0f921"
             ]
            ],
            "type": "histogram2d"
           }
          ],
          "histogram2dcontour": [
           {
            "colorbar": {
             "outlinewidth": 0,
             "ticks": ""
            },
            "colorscale": [
             [
              0,
              "#0d0887"
             ],
             [
              0.1111111111111111,
              "#46039f"
             ],
             [
              0.2222222222222222,
              "#7201a8"
             ],
             [
              0.3333333333333333,
              "#9c179e"
             ],
             [
              0.4444444444444444,
              "#bd3786"
             ],
             [
              0.5555555555555556,
              "#d8576b"
             ],
             [
              0.6666666666666666,
              "#ed7953"
             ],
             [
              0.7777777777777778,
              "#fb9f3a"
             ],
             [
              0.8888888888888888,
              "#fdca26"
             ],
             [
              1,
              "#f0f921"
             ]
            ],
            "type": "histogram2dcontour"
           }
          ],
          "mesh3d": [
           {
            "colorbar": {
             "outlinewidth": 0,
             "ticks": ""
            },
            "type": "mesh3d"
           }
          ],
          "parcoords": [
           {
            "line": {
             "colorbar": {
              "outlinewidth": 0,
              "ticks": ""
             }
            },
            "type": "parcoords"
           }
          ],
          "pie": [
           {
            "automargin": true,
            "type": "pie"
           }
          ],
          "scatter": [
           {
            "fillpattern": {
             "fillmode": "overlay",
             "size": 10,
             "solidity": 0.2
            },
            "type": "scatter"
           }
          ],
          "scatter3d": [
           {
            "line": {
             "colorbar": {
              "outlinewidth": 0,
              "ticks": ""
             }
            },
            "marker": {
             "colorbar": {
              "outlinewidth": 0,
              "ticks": ""
             }
            },
            "type": "scatter3d"
           }
          ],
          "scattercarpet": [
           {
            "marker": {
             "colorbar": {
              "outlinewidth": 0,
              "ticks": ""
             }
            },
            "type": "scattercarpet"
           }
          ],
          "scattergeo": [
           {
            "marker": {
             "colorbar": {
              "outlinewidth": 0,
              "ticks": ""
             }
            },
            "type": "scattergeo"
           }
          ],
          "scattergl": [
           {
            "marker": {
             "colorbar": {
              "outlinewidth": 0,
              "ticks": ""
             }
            },
            "type": "scattergl"
           }
          ],
          "scattermapbox": [
           {
            "marker": {
             "colorbar": {
              "outlinewidth": 0,
              "ticks": ""
             }
            },
            "type": "scattermapbox"
           }
          ],
          "scatterpolar": [
           {
            "marker": {
             "colorbar": {
              "outlinewidth": 0,
              "ticks": ""
             }
            },
            "type": "scatterpolar"
           }
          ],
          "scatterpolargl": [
           {
            "marker": {
             "colorbar": {
              "outlinewidth": 0,
              "ticks": ""
             }
            },
            "type": "scatterpolargl"
           }
          ],
          "scatterternary": [
           {
            "marker": {
             "colorbar": {
              "outlinewidth": 0,
              "ticks": ""
             }
            },
            "type": "scatterternary"
           }
          ],
          "surface": [
           {
            "colorbar": {
             "outlinewidth": 0,
             "ticks": ""
            },
            "colorscale": [
             [
              0,
              "#0d0887"
             ],
             [
              0.1111111111111111,
              "#46039f"
             ],
             [
              0.2222222222222222,
              "#7201a8"
             ],
             [
              0.3333333333333333,
              "#9c179e"
             ],
             [
              0.4444444444444444,
              "#bd3786"
             ],
             [
              0.5555555555555556,
              "#d8576b"
             ],
             [
              0.6666666666666666,
              "#ed7953"
             ],
             [
              0.7777777777777778,
              "#fb9f3a"
             ],
             [
              0.8888888888888888,
              "#fdca26"
             ],
             [
              1,
              "#f0f921"
             ]
            ],
            "type": "surface"
           }
          ],
          "table": [
           {
            "cells": {
             "fill": {
              "color": "#EBF0F8"
             },
             "line": {
              "color": "white"
             }
            },
            "header": {
             "fill": {
              "color": "#C8D4E3"
             },
             "line": {
              "color": "white"
             }
            },
            "type": "table"
           }
          ]
         },
         "layout": {
          "annotationdefaults": {
           "arrowcolor": "#2a3f5f",
           "arrowhead": 0,
           "arrowwidth": 1
          },
          "autotypenumbers": "strict",
          "coloraxis": {
           "colorbar": {
            "outlinewidth": 0,
            "ticks": ""
           }
          },
          "colorscale": {
           "diverging": [
            [
             0,
             "#8e0152"
            ],
            [
             0.1,
             "#c51b7d"
            ],
            [
             0.2,
             "#de77ae"
            ],
            [
             0.3,
             "#f1b6da"
            ],
            [
             0.4,
             "#fde0ef"
            ],
            [
             0.5,
             "#f7f7f7"
            ],
            [
             0.6,
             "#e6f5d0"
            ],
            [
             0.7,
             "#b8e186"
            ],
            [
             0.8,
             "#7fbc41"
            ],
            [
             0.9,
             "#4d9221"
            ],
            [
             1,
             "#276419"
            ]
           ],
           "sequential": [
            [
             0,
             "#0d0887"
            ],
            [
             0.1111111111111111,
             "#46039f"
            ],
            [
             0.2222222222222222,
             "#7201a8"
            ],
            [
             0.3333333333333333,
             "#9c179e"
            ],
            [
             0.4444444444444444,
             "#bd3786"
            ],
            [
             0.5555555555555556,
             "#d8576b"
            ],
            [
             0.6666666666666666,
             "#ed7953"
            ],
            [
             0.7777777777777778,
             "#fb9f3a"
            ],
            [
             0.8888888888888888,
             "#fdca26"
            ],
            [
             1,
             "#f0f921"
            ]
           ],
           "sequentialminus": [
            [
             0,
             "#0d0887"
            ],
            [
             0.1111111111111111,
             "#46039f"
            ],
            [
             0.2222222222222222,
             "#7201a8"
            ],
            [
             0.3333333333333333,
             "#9c179e"
            ],
            [
             0.4444444444444444,
             "#bd3786"
            ],
            [
             0.5555555555555556,
             "#d8576b"
            ],
            [
             0.6666666666666666,
             "#ed7953"
            ],
            [
             0.7777777777777778,
             "#fb9f3a"
            ],
            [
             0.8888888888888888,
             "#fdca26"
            ],
            [
             1,
             "#f0f921"
            ]
           ]
          },
          "colorway": [
           "#636efa",
           "#EF553B",
           "#00cc96",
           "#ab63fa",
           "#FFA15A",
           "#19d3f3",
           "#FF6692",
           "#B6E880",
           "#FF97FF",
           "#FECB52"
          ],
          "font": {
           "color": "#2a3f5f"
          },
          "geo": {
           "bgcolor": "white",
           "lakecolor": "white",
           "landcolor": "#E5ECF6",
           "showlakes": true,
           "showland": true,
           "subunitcolor": "white"
          },
          "hoverlabel": {
           "align": "left"
          },
          "hovermode": "closest",
          "mapbox": {
           "style": "light"
          },
          "paper_bgcolor": "white",
          "plot_bgcolor": "#E5ECF6",
          "polar": {
           "angularaxis": {
            "gridcolor": "white",
            "linecolor": "white",
            "ticks": ""
           },
           "bgcolor": "#E5ECF6",
           "radialaxis": {
            "gridcolor": "white",
            "linecolor": "white",
            "ticks": ""
           }
          },
          "scene": {
           "xaxis": {
            "backgroundcolor": "#E5ECF6",
            "gridcolor": "white",
            "gridwidth": 2,
            "linecolor": "white",
            "showbackground": true,
            "ticks": "",
            "zerolinecolor": "white"
           },
           "yaxis": {
            "backgroundcolor": "#E5ECF6",
            "gridcolor": "white",
            "gridwidth": 2,
            "linecolor": "white",
            "showbackground": true,
            "ticks": "",
            "zerolinecolor": "white"
           },
           "zaxis": {
            "backgroundcolor": "#E5ECF6",
            "gridcolor": "white",
            "gridwidth": 2,
            "linecolor": "white",
            "showbackground": true,
            "ticks": "",
            "zerolinecolor": "white"
           }
          },
          "shapedefaults": {
           "line": {
            "color": "#2a3f5f"
           }
          },
          "ternary": {
           "aaxis": {
            "gridcolor": "white",
            "linecolor": "white",
            "ticks": ""
           },
           "baxis": {
            "gridcolor": "white",
            "linecolor": "white",
            "ticks": ""
           },
           "bgcolor": "#E5ECF6",
           "caxis": {
            "gridcolor": "white",
            "linecolor": "white",
            "ticks": ""
           }
          },
          "title": {
           "x": 0.05
          },
          "xaxis": {
           "automargin": true,
           "gridcolor": "white",
           "linecolor": "white",
           "ticks": "",
           "title": {
            "standoff": 15
           },
           "zerolinecolor": "white",
           "zerolinewidth": 2
          },
          "yaxis": {
           "automargin": true,
           "gridcolor": "white",
           "linecolor": "white",
           "ticks": "",
           "title": {
            "standoff": 15
           },
           "zerolinecolor": "white",
           "zerolinewidth": 2
          }
         }
        },
        "title": {
         "text": "ACCOMMODATES"
        },
        "width": 1000,
        "xaxis": {
         "anchor": "y",
         "domain": [
          0,
          1
         ],
         "title": {
          "text": "country_code"
         }
        },
        "yaxis": {
         "anchor": "x",
         "domain": [
          0,
          1
         ],
         "title": {
          "text": "value"
         }
        }
       }
      }
     },
     "metadata": {},
     "output_type": "display_data"
    }
   ],
   "source": [
    "df_val_sel_gr= pd.DataFrame(df2.groupby(\"country_code\")[[\"cleaning_fee\",\"bedrooms\",\"beds\",\"extra_people\"]].sum())\n",
    "df_val_sel_gr.reset_index(inplace= True)\n",
    "\n",
    "fig_1= px.bar(df_val_sel_gr, x=\"country_code\", y= [\"cleaning_fee\",\"bedrooms\",\"beds\"], title=\"ACCOMMODATES\",\n",
    "hover_data= \"extra_people\", barmode='group', color_discrete_sequence=px.colors.sequential.Rainbow_r,width=1000)\n",
    "fig_1"
   ]
  },
  {
   "cell_type": "code",
   "execution_count": 12,
   "metadata": {},
   "outputs": [
    {
     "data": {
      "application/vnd.plotly.v1+json": {
       "config": {
        "plotlyServerURL": "https://plot.ly"
       },
       "data": [
        {
         "branchvalues": "total",
         "domain": {
          "x": [
           0,
           1
          ],
          "y": [
           0,
           1
          ]
         },
         "hovertemplate": "labels=%{label}<br>availability_30=%{value}<br>parent=%{parent}<br>id=%{id}<extra></extra>",
         "ids": [
          "Entire home/apt/Airbed/No",
          "Private room/Couch/No",
          "Shared room/Couch/No",
          "Entire home/apt/Futon/No",
          "Private room/Futon/No",
          "Shared room/Futon/No",
          "Entire home/apt/Pull-out Sofa/No",
          "Private room/Pull-out Sofa/No",
          "Entire home/apt/Real Bed/No",
          "Private room/Real Bed/No",
          "Shared room/Real Bed/No",
          "Entire home/apt/Airbed/Yes",
          "Private room/Airbed/Yes",
          "Entire home/apt/Couch/Yes",
          "Private room/Couch/Yes",
          "Shared room/Couch/Yes",
          "Entire home/apt/Futon/Yes",
          "Private room/Futon/Yes",
          "Entire home/apt/Pull-out Sofa/Yes",
          "Private room/Pull-out Sofa/Yes",
          "Shared room/Pull-out Sofa/Yes",
          "Entire home/apt/Real Bed/Yes",
          "Private room/Real Bed/Yes",
          "Shared room/Real Bed/Yes",
          "Entire home/apt/Airbed",
          "Private room/Airbed",
          "Entire home/apt/Couch",
          "Private room/Couch",
          "Shared room/Couch",
          "Entire home/apt/Futon",
          "Private room/Futon",
          "Shared room/Futon",
          "Entire home/apt/Pull-out Sofa",
          "Private room/Pull-out Sofa",
          "Shared room/Pull-out Sofa",
          "Entire home/apt/Real Bed",
          "Private room/Real Bed",
          "Shared room/Real Bed",
          "Entire home/apt",
          "Private room",
          "Shared room"
         ],
         "labels": [
          "No",
          "No",
          "No",
          "No",
          "No",
          "No",
          "No",
          "No",
          "No",
          "No",
          "No",
          "Yes",
          "Yes",
          "Yes",
          "Yes",
          "Yes",
          "Yes",
          "Yes",
          "Yes",
          "Yes",
          "Yes",
          "Yes",
          "Yes",
          "Yes",
          "Airbed",
          "Airbed",
          "Couch",
          "Couch",
          "Couch",
          "Futon",
          "Futon",
          "Futon",
          "Pull-out Sofa",
          "Pull-out Sofa",
          "Pull-out Sofa",
          "Real Bed",
          "Real Bed",
          "Real Bed",
          "Entire home/apt",
          "Private room",
          "Shared room"
         ],
         "name": "",
         "parents": [
          "Entire home/apt/Airbed",
          "Private room/Couch",
          "Shared room/Couch",
          "Entire home/apt/Futon",
          "Private room/Futon",
          "Shared room/Futon",
          "Entire home/apt/Pull-out Sofa",
          "Private room/Pull-out Sofa",
          "Entire home/apt/Real Bed",
          "Private room/Real Bed",
          "Shared room/Real Bed",
          "Entire home/apt/Airbed",
          "Private room/Airbed",
          "Entire home/apt/Couch",
          "Private room/Couch",
          "Shared room/Couch",
          "Entire home/apt/Futon",
          "Private room/Futon",
          "Entire home/apt/Pull-out Sofa",
          "Private room/Pull-out Sofa",
          "Shared room/Pull-out Sofa",
          "Entire home/apt/Real Bed",
          "Private room/Real Bed",
          "Shared room/Real Bed",
          "Entire home/apt",
          "Private room",
          "Entire home/apt",
          "Private room",
          "Shared room",
          "Entire home/apt",
          "Private room",
          "Shared room",
          "Entire home/apt",
          "Private room",
          "Shared room",
          "Entire home/apt",
          "Private room",
          "Shared room",
          "",
          "",
          ""
         ],
         "type": "sunburst",
         "values": [
          0,
          27,
          0,
          0,
          30,
          30,
          32,
          33,
          13046,
          12680,
          701,
          2,
          0,
          0,
          0,
          0,
          22,
          22,
          86,
          70,
          59,
          23553,
          14443,
          803,
          2,
          0,
          0,
          27,
          0,
          22,
          52,
          30,
          118,
          103,
          59,
          36599,
          27123,
          1504,
          36741,
          27305,
          1593
         ]
        }
       ],
       "layout": {
        "height": 500,
        "legend": {
         "tracegroupgap": 0
        },
        "sunburstcolorway": [
         "rgb(235, 74, 64)",
         "rgb(239, 106, 76)",
         "rgb(242, 133, 93)",
         "rgb(245, 158, 114)",
         "rgb(248, 181, 139)",
         "rgb(250, 203, 166)",
         "rgb(253, 224, 197)"
        ],
        "template": {
         "data": {
          "bar": [
           {
            "error_x": {
             "color": "#2a3f5f"
            },
            "error_y": {
             "color": "#2a3f5f"
            },
            "marker": {
             "line": {
              "color": "#E5ECF6",
              "width": 0.5
             },
             "pattern": {
              "fillmode": "overlay",
              "size": 10,
              "solidity": 0.2
             }
            },
            "type": "bar"
           }
          ],
          "barpolar": [
           {
            "marker": {
             "line": {
              "color": "#E5ECF6",
              "width": 0.5
             },
             "pattern": {
              "fillmode": "overlay",
              "size": 10,
              "solidity": 0.2
             }
            },
            "type": "barpolar"
           }
          ],
          "carpet": [
           {
            "aaxis": {
             "endlinecolor": "#2a3f5f",
             "gridcolor": "white",
             "linecolor": "white",
             "minorgridcolor": "white",
             "startlinecolor": "#2a3f5f"
            },
            "baxis": {
             "endlinecolor": "#2a3f5f",
             "gridcolor": "white",
             "linecolor": "white",
             "minorgridcolor": "white",
             "startlinecolor": "#2a3f5f"
            },
            "type": "carpet"
           }
          ],
          "choropleth": [
           {
            "colorbar": {
             "outlinewidth": 0,
             "ticks": ""
            },
            "type": "choropleth"
           }
          ],
          "contour": [
           {
            "colorbar": {
             "outlinewidth": 0,
             "ticks": ""
            },
            "colorscale": [
             [
              0,
              "#0d0887"
             ],
             [
              0.1111111111111111,
              "#46039f"
             ],
             [
              0.2222222222222222,
              "#7201a8"
             ],
             [
              0.3333333333333333,
              "#9c179e"
             ],
             [
              0.4444444444444444,
              "#bd3786"
             ],
             [
              0.5555555555555556,
              "#d8576b"
             ],
             [
              0.6666666666666666,
              "#ed7953"
             ],
             [
              0.7777777777777778,
              "#fb9f3a"
             ],
             [
              0.8888888888888888,
              "#fdca26"
             ],
             [
              1,
              "#f0f921"
             ]
            ],
            "type": "contour"
           }
          ],
          "contourcarpet": [
           {
            "colorbar": {
             "outlinewidth": 0,
             "ticks": ""
            },
            "type": "contourcarpet"
           }
          ],
          "heatmap": [
           {
            "colorbar": {
             "outlinewidth": 0,
             "ticks": ""
            },
            "colorscale": [
             [
              0,
              "#0d0887"
             ],
             [
              0.1111111111111111,
              "#46039f"
             ],
             [
              0.2222222222222222,
              "#7201a8"
             ],
             [
              0.3333333333333333,
              "#9c179e"
             ],
             [
              0.4444444444444444,
              "#bd3786"
             ],
             [
              0.5555555555555556,
              "#d8576b"
             ],
             [
              0.6666666666666666,
              "#ed7953"
             ],
             [
              0.7777777777777778,
              "#fb9f3a"
             ],
             [
              0.8888888888888888,
              "#fdca26"
             ],
             [
              1,
              "#f0f921"
             ]
            ],
            "type": "heatmap"
           }
          ],
          "heatmapgl": [
           {
            "colorbar": {
             "outlinewidth": 0,
             "ticks": ""
            },
            "colorscale": [
             [
              0,
              "#0d0887"
             ],
             [
              0.1111111111111111,
              "#46039f"
             ],
             [
              0.2222222222222222,
              "#7201a8"
             ],
             [
              0.3333333333333333,
              "#9c179e"
             ],
             [
              0.4444444444444444,
              "#bd3786"
             ],
             [
              0.5555555555555556,
              "#d8576b"
             ],
             [
              0.6666666666666666,
              "#ed7953"
             ],
             [
              0.7777777777777778,
              "#fb9f3a"
             ],
             [
              0.8888888888888888,
              "#fdca26"
             ],
             [
              1,
              "#f0f921"
             ]
            ],
            "type": "heatmapgl"
           }
          ],
          "histogram": [
           {
            "marker": {
             "pattern": {
              "fillmode": "overlay",
              "size": 10,
              "solidity": 0.2
             }
            },
            "type": "histogram"
           }
          ],
          "histogram2d": [
           {
            "colorbar": {
             "outlinewidth": 0,
             "ticks": ""
            },
            "colorscale": [
             [
              0,
              "#0d0887"
             ],
             [
              0.1111111111111111,
              "#46039f"
             ],
             [
              0.2222222222222222,
              "#7201a8"
             ],
             [
              0.3333333333333333,
              "#9c179e"
             ],
             [
              0.4444444444444444,
              "#bd3786"
             ],
             [
              0.5555555555555556,
              "#d8576b"
             ],
             [
              0.6666666666666666,
              "#ed7953"
             ],
             [
              0.7777777777777778,
              "#fb9f3a"
             ],
             [
              0.8888888888888888,
              "#fdca26"
             ],
             [
              1,
              "#f0f921"
             ]
            ],
            "type": "histogram2d"
           }
          ],
          "histogram2dcontour": [
           {
            "colorbar": {
             "outlinewidth": 0,
             "ticks": ""
            },
            "colorscale": [
             [
              0,
              "#0d0887"
             ],
             [
              0.1111111111111111,
              "#46039f"
             ],
             [
              0.2222222222222222,
              "#7201a8"
             ],
             [
              0.3333333333333333,
              "#9c179e"
             ],
             [
              0.4444444444444444,
              "#bd3786"
             ],
             [
              0.5555555555555556,
              "#d8576b"
             ],
             [
              0.6666666666666666,
              "#ed7953"
             ],
             [
              0.7777777777777778,
              "#fb9f3a"
             ],
             [
              0.8888888888888888,
              "#fdca26"
             ],
             [
              1,
              "#f0f921"
             ]
            ],
            "type": "histogram2dcontour"
           }
          ],
          "mesh3d": [
           {
            "colorbar": {
             "outlinewidth": 0,
             "ticks": ""
            },
            "type": "mesh3d"
           }
          ],
          "parcoords": [
           {
            "line": {
             "colorbar": {
              "outlinewidth": 0,
              "ticks": ""
             }
            },
            "type": "parcoords"
           }
          ],
          "pie": [
           {
            "automargin": true,
            "type": "pie"
           }
          ],
          "scatter": [
           {
            "fillpattern": {
             "fillmode": "overlay",
             "size": 10,
             "solidity": 0.2
            },
            "type": "scatter"
           }
          ],
          "scatter3d": [
           {
            "line": {
             "colorbar": {
              "outlinewidth": 0,
              "ticks": ""
             }
            },
            "marker": {
             "colorbar": {
              "outlinewidth": 0,
              "ticks": ""
             }
            },
            "type": "scatter3d"
           }
          ],
          "scattercarpet": [
           {
            "marker": {
             "colorbar": {
              "outlinewidth": 0,
              "ticks": ""
             }
            },
            "type": "scattercarpet"
           }
          ],
          "scattergeo": [
           {
            "marker": {
             "colorbar": {
              "outlinewidth": 0,
              "ticks": ""
             }
            },
            "type": "scattergeo"
           }
          ],
          "scattergl": [
           {
            "marker": {
             "colorbar": {
              "outlinewidth": 0,
              "ticks": ""
             }
            },
            "type": "scattergl"
           }
          ],
          "scattermapbox": [
           {
            "marker": {
             "colorbar": {
              "outlinewidth": 0,
              "ticks": ""
             }
            },
            "type": "scattermapbox"
           }
          ],
          "scatterpolar": [
           {
            "marker": {
             "colorbar": {
              "outlinewidth": 0,
              "ticks": ""
             }
            },
            "type": "scatterpolar"
           }
          ],
          "scatterpolargl": [
           {
            "marker": {
             "colorbar": {
              "outlinewidth": 0,
              "ticks": ""
             }
            },
            "type": "scatterpolargl"
           }
          ],
          "scatterternary": [
           {
            "marker": {
             "colorbar": {
              "outlinewidth": 0,
              "ticks": ""
             }
            },
            "type": "scatterternary"
           }
          ],
          "surface": [
           {
            "colorbar": {
             "outlinewidth": 0,
             "ticks": ""
            },
            "colorscale": [
             [
              0,
              "#0d0887"
             ],
             [
              0.1111111111111111,
              "#46039f"
             ],
             [
              0.2222222222222222,
              "#7201a8"
             ],
             [
              0.3333333333333333,
              "#9c179e"
             ],
             [
              0.4444444444444444,
              "#bd3786"
             ],
             [
              0.5555555555555556,
              "#d8576b"
             ],
             [
              0.6666666666666666,
              "#ed7953"
             ],
             [
              0.7777777777777778,
              "#fb9f3a"
             ],
             [
              0.8888888888888888,
              "#fdca26"
             ],
             [
              1,
              "#f0f921"
             ]
            ],
            "type": "surface"
           }
          ],
          "table": [
           {
            "cells": {
             "fill": {
              "color": "#EBF0F8"
             },
             "line": {
              "color": "white"
             }
            },
            "header": {
             "fill": {
              "color": "#C8D4E3"
             },
             "line": {
              "color": "white"
             }
            },
            "type": "table"
           }
          ]
         },
         "layout": {
          "annotationdefaults": {
           "arrowcolor": "#2a3f5f",
           "arrowhead": 0,
           "arrowwidth": 1
          },
          "autotypenumbers": "strict",
          "coloraxis": {
           "colorbar": {
            "outlinewidth": 0,
            "ticks": ""
           }
          },
          "colorscale": {
           "diverging": [
            [
             0,
             "#8e0152"
            ],
            [
             0.1,
             "#c51b7d"
            ],
            [
             0.2,
             "#de77ae"
            ],
            [
             0.3,
             "#f1b6da"
            ],
            [
             0.4,
             "#fde0ef"
            ],
            [
             0.5,
             "#f7f7f7"
            ],
            [
             0.6,
             "#e6f5d0"
            ],
            [
             0.7,
             "#b8e186"
            ],
            [
             0.8,
             "#7fbc41"
            ],
            [
             0.9,
             "#4d9221"
            ],
            [
             1,
             "#276419"
            ]
           ],
           "sequential": [
            [
             0,
             "#0d0887"
            ],
            [
             0.1111111111111111,
             "#46039f"
            ],
            [
             0.2222222222222222,
             "#7201a8"
            ],
            [
             0.3333333333333333,
             "#9c179e"
            ],
            [
             0.4444444444444444,
             "#bd3786"
            ],
            [
             0.5555555555555556,
             "#d8576b"
            ],
            [
             0.6666666666666666,
             "#ed7953"
            ],
            [
             0.7777777777777778,
             "#fb9f3a"
            ],
            [
             0.8888888888888888,
             "#fdca26"
            ],
            [
             1,
             "#f0f921"
            ]
           ],
           "sequentialminus": [
            [
             0,
             "#0d0887"
            ],
            [
             0.1111111111111111,
             "#46039f"
            ],
            [
             0.2222222222222222,
             "#7201a8"
            ],
            [
             0.3333333333333333,
             "#9c179e"
            ],
            [
             0.4444444444444444,
             "#bd3786"
            ],
            [
             0.5555555555555556,
             "#d8576b"
            ],
            [
             0.6666666666666666,
             "#ed7953"
            ],
            [
             0.7777777777777778,
             "#fb9f3a"
            ],
            [
             0.8888888888888888,
             "#fdca26"
            ],
            [
             1,
             "#f0f921"
            ]
           ]
          },
          "colorway": [
           "#636efa",
           "#EF553B",
           "#00cc96",
           "#ab63fa",
           "#FFA15A",
           "#19d3f3",
           "#FF6692",
           "#B6E880",
           "#FF97FF",
           "#FECB52"
          ],
          "font": {
           "color": "#2a3f5f"
          },
          "geo": {
           "bgcolor": "white",
           "lakecolor": "white",
           "landcolor": "#E5ECF6",
           "showlakes": true,
           "showland": true,
           "subunitcolor": "white"
          },
          "hoverlabel": {
           "align": "left"
          },
          "hovermode": "closest",
          "mapbox": {
           "style": "light"
          },
          "paper_bgcolor": "white",
          "plot_bgcolor": "#E5ECF6",
          "polar": {
           "angularaxis": {
            "gridcolor": "white",
            "linecolor": "white",
            "ticks": ""
           },
           "bgcolor": "#E5ECF6",
           "radialaxis": {
            "gridcolor": "white",
            "linecolor": "white",
            "ticks": ""
           }
          },
          "scene": {
           "xaxis": {
            "backgroundcolor": "#E5ECF6",
            "gridcolor": "white",
            "gridwidth": 2,
            "linecolor": "white",
            "showbackground": true,
            "ticks": "",
            "zerolinecolor": "white"
           },
           "yaxis": {
            "backgroundcolor": "#E5ECF6",
            "gridcolor": "white",
            "gridwidth": 2,
            "linecolor": "white",
            "showbackground": true,
            "ticks": "",
            "zerolinecolor": "white"
           },
           "zaxis": {
            "backgroundcolor": "#E5ECF6",
            "gridcolor": "white",
            "gridwidth": 2,
            "linecolor": "white",
            "showbackground": true,
            "ticks": "",
            "zerolinecolor": "white"
           }
          },
          "shapedefaults": {
           "line": {
            "color": "#2a3f5f"
           }
          },
          "ternary": {
           "aaxis": {
            "gridcolor": "white",
            "linecolor": "white",
            "ticks": ""
           },
           "baxis": {
            "gridcolor": "white",
            "linecolor": "white",
            "ticks": ""
           },
           "bgcolor": "#E5ECF6",
           "caxis": {
            "gridcolor": "white",
            "linecolor": "white",
            "ticks": ""
           }
          },
          "title": {
           "x": 0.05
          },
          "xaxis": {
           "automargin": true,
           "gridcolor": "white",
           "linecolor": "white",
           "ticks": "",
           "title": {
            "standoff": 15
           },
           "zerolinecolor": "white",
           "zerolinewidth": 2
          },
          "yaxis": {
           "automargin": true,
           "gridcolor": "white",
           "linecolor": "white",
           "ticks": "",
           "title": {
            "standoff": 15
           },
           "zerolinecolor": "white",
           "zerolinewidth": 2
          }
         }
        },
        "title": {
         "text": "Availability_30"
        },
        "width": 600
       }
      }
     },
     "metadata": {},
     "output_type": "display_data"
    }
   ],
   "source": [
    "df_a_sunb_30= px.sunburst(df2, path=[\"room_type\",\"bed_type\",\"is_location_exact\"], values=\"availability_30\",width=600,height=500,title=\"Availability_30\",color_discrete_sequence=px.colors.sequential.Peach_r)\n",
    "df_a_sunb_30"
   ]
  }
 ],
 "metadata": {
  "kernelspec": {
   "display_name": "Python 3",
   "language": "python",
   "name": "python3"
  },
  "language_info": {
   "codemirror_mode": {
    "name": "ipython",
    "version": 3
   },
   "file_extension": ".py",
   "mimetype": "text/x-python",
   "name": "python",
   "nbconvert_exporter": "python",
   "pygments_lexer": "ipython3",
   "version": "3.12.2"
  }
 },
 "nbformat": 4,
 "nbformat_minor": 2
}
